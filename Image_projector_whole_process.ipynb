{
 "cells": [
  {
   "cell_type": "code",
   "execution_count": 25,
   "metadata": {
    "scrolled": true
   },
   "outputs": [
    {
     "name": "stdout",
     "output_type": "stream",
     "text": [
      "File 2 Loading networks from \"network-snapshot-003400.pkl\"...\n",
      "Elapsed: 61.7 s\n",
      "File 2 Loading networks from \"network-snapshot-003400.pkl\"...\n",
      "Elapsed: 61.2 s\n",
      "File 2 Loading networks from \"network-snapshot-003400.pkl\"...\n",
      "Elapsed: 61.9 s\n",
      "File 2 Loading networks from \"network-snapshot-003400.pkl\"...\n",
      "Elapsed: 60.9 s\n",
      "File 2 Loading networks from \"network-snapshot-003400.pkl\"...\n",
      "Elapsed: 60.9 s\n"
     ]
    },
    {
     "data": {
      "application/vnd.jupyter.widget-view+json": {
       "model_id": "f01a815d873445878a3a4dd991139144",
       "version_major": 2,
       "version_minor": 0
      },
      "text/plain": [
       "HBox(children=(VBox(children=(Output(), Output())), VBox(children=(HBox(children=(FloatSlider(value=0.0, max=5…"
      ]
     },
     "metadata": {},
     "output_type": "display_data"
    }
   ],
   "source": [
    "import os\n",
    "import sys\n",
    "import dnnlib\n",
    "from dnnlib import tflib \n",
    "import random\n",
    "from pathlib import Path\n",
    "from PIL import Image\n",
    "import pickle\n",
    "import numpy as np\n",
    "import torch\n",
    "import ipywidgets as widgets\n",
    "from IPython.display import display\n",
    "from tqdm import tqdm\n",
    "from ipywidgets import interact\n",
    "from ipywidgets import HBox, VBox\n",
    "import matplotlib.pyplot as plt\n",
    "import projector\n",
    "import warnings\n",
    "import csv\n",
    "\n",
    "warnings.filterwarnings(action='ignore')\n",
    "\n",
    "\n",
    "def load_model(pklfilename):\n",
    "    path = pklfilename\n",
    "    with open(path, 'rb') as f:\n",
    "        Gs = pickle.load(f)['G_ema'].cuda() # torch.nn.Module\n",
    "\n",
    "    noise_vars = {name: buf for (name, buf) in Gs.synthesis.named_buffers() if 'noise_const' in name}\n",
    "    Gs_kwargs = dnnlib.util.EasyDict()\n",
    "    Gs_kwargs.output_transform = dict(func=tflib.convert_images_to_uint8, nchw_to_nhwc=True)\n",
    "    Gs_kwargs.randomize_noise = False\n",
    "\n",
    "    return Gs, noise_vars, Gs_kwargs\n",
    "\n",
    "def calculate_latent_vectors(Gs, noise_vars, seeds):\n",
    "    sum_avg = 0\n",
    "    n = len(seeds)\n",
    "    alpha = 1 / n\n",
    "    for i in range(n):\n",
    "        img, latent_code = generate_image_random(Gs, noise_vars, seeds[i])\n",
    "        avg = latent_code * alpha\n",
    "        sum_avg += avg\n",
    "\n",
    "    averaged_code = sum_avg\n",
    "\n",
    "    return averaged_code\n",
    "\n",
    "def generate_average_image(rndnumbers, adj, pklfilename):\n",
    "    Gs, noise_vars, Gs_kwargs = load_model(pklfilename)\n",
    "    adj_folder = adj + '/'\n",
    "    seeds = []\n",
    "#     list_filename = os.listdir(adj_folder)\n",
    "#     seeds = []\n",
    "#     for file in list_filename:\n",
    "#         if (file.count(\".png\") == 1):\n",
    "#             randval = file.split('.')[0]\n",
    "#             if(randval.isalpha()==False):\n",
    "#                 seeds.append(int(randval))\n",
    "    for rndnumber in rndnumbers:\n",
    "        if rndnumber is not '':\n",
    "            seeds.append(int(rndnumber))\n",
    "\n",
    "    averaged_code = calculate_latent_vectors(Gs, noise_vars, seeds)\n",
    "    c = None\n",
    "    image_avg = Gs(averaged_code, c)\n",
    "    img = (image_avg.permute(0, 2, 3, 1) * 127.5 + 128).clamp(0, 255).to(torch.uint8)\n",
    "    Image.fromarray(img[0].cpu().numpy(), 'RGB').save('chair_image/' + adj_folder + adj + '.png')\n",
    "\n",
    "def generate_image_random(Gs, noise_vars, rand_seed):\n",
    "    \n",
    "    z = torch.from_numpy(np.random.RandomState(rand_seed).randn(1, Gs.z_dim)).to(device)\n",
    "    c = None # category\n",
    "    images = Gs(z, c)\n",
    "    # img = (modern_interpolate_img.permute(0, 2, 3, 1) * 127.5 + 128).clamp(0, 255).to(torch.uint8)\n",
    "    # Image.fromarray(img[0].cpu().numpy(), 'RGB').save('out/modern/average_modern.png')\n",
    "    return images, z\n",
    "    \n",
    "def generate_image_from_projected_latents(latent_vector):\n",
    "    image = Gs.synthesis(latent_vector)    \n",
    "    image = (image.permute(0, 2, 3, 1) * 127.5 + 128).clamp(0, 255).to(torch.uint8)\n",
    "    image = Image.fromarray(image[0].cpu().numpy(), 'RGB')\n",
    "    return image\n",
    "\n",
    "def get_concat_h(im1, im2):\n",
    "    dst = Image.new('RGB', (im1.width + im2.width, im1.height))\n",
    "    dst.paste(im1, (0, 0))\n",
    "    dst.paste(im2, (im1.width, 0))\n",
    "    return dst\n",
    "\n",
    "def apply_latent_controls(self):\n",
    "    image_outputs = controller.children[0]\n",
    "    feature_sliders = controller.children[1]\n",
    "    \n",
    "    slider_hboxes = feature_sliders.children[:-2]\n",
    "    latent_movements = [x.children[0].value for x in slider_hboxes]\n",
    "\n",
    "    all_w1 = torch.tensor(latent_code1, device=device)\n",
    "    w_avg = ws_image_to_use\n",
    "    modified_latent_code = w_avg + ((all_w1 - w_avg) * ((latent_movements[0])/100))\n",
    "    \n",
    "    for x in range(1, len(latent_code_list)):\n",
    "        all_wx = torch.tensor(latent_code_list[x], device=device)    \n",
    "        w_avg = ws_image_to_use\n",
    "        modified_latent_code += ((all_wx - w_avg) * ((latent_movements[x])/100))\n",
    "    \n",
    "    latent_img = generate_image_from_projected_latents(modified_latent_code)\n",
    "    latent_img_output = image_outputs.children[1]\n",
    "    \n",
    "    with latent_img_output:\n",
    "        latent_img_output.clear_output()\n",
    "        display(latent_img)\n",
    "\n",
    "def reset_latent_controls(self):\n",
    "    image_outputs = controller.children[0]\n",
    "    feature_sliders = controller.children[1]\n",
    "    \n",
    "    slider_hboxes = feature_sliders.children[:-2]\n",
    "    for x in slider_hboxes:\n",
    "        x.children[0].value = 0\n",
    "        \n",
    "    latent_img_output = image_outputs.children[1]\n",
    "    with latent_img_output:\n",
    "        latent_img_output.clear_output()\n",
    "        display(image_to_use)\n",
    "\n",
    "def create_interactive_latent_controller():\n",
    "    orig_img_output = widgets.Output()\n",
    "    with orig_img_output:\n",
    "        orig_img_output.clear_output()\n",
    "        display(image_to_use)\n",
    "\n",
    "    latent_img_output = widgets.Output()\n",
    "\n",
    "    with latent_img_output:\n",
    "        latent_img_output.clear_output()\n",
    "        display(image_to_use)\n",
    "\n",
    "    image_outputs = widgets.VBox([orig_img_output, latent_img_output])\n",
    "\n",
    "    # collapse-hide\n",
    "    generate_button = widgets.Button(description='Generate', layout=widgets.Layout(width='50%', height='30%'))\n",
    "    generate_button.on_click(apply_latent_controls)\n",
    "\n",
    "    reset_button = widgets.Button(description='Reset Controls', layout=widgets.Layout(width='50%', height='30%'))\n",
    "    reset_button.on_click(reset_latent_controls)\n",
    "\n",
    "    feature_sliders = []\n",
    "    for feature in latent_controls:\n",
    "        label = widgets.Label(feature)\n",
    "        slider = widgets.FloatSlider(min=-50, max=50)\n",
    "        feature_sliders.append(widgets.HBox([slider, label]))\n",
    "    feature_sliders.append(generate_button)\n",
    "    feature_sliders.append(reset_button)\n",
    "    feature_sliders = widgets.VBox(feature_sliders)\n",
    "\n",
    "    return widgets.HBox([image_outputs, feature_sliders])\n",
    "\n",
    "device = torch.device('cuda')\n",
    "################ Input - Start ####################\n",
    "# path='C:/PythonWorkspace/stylegan2-ada-pytorch-main/out/chair/'\n",
    "path = ''\n",
    "pklfilename = 'network-snapshot-003400.pkl'\n",
    "csvfilename = 'mapping_result.csv'\n",
    "results_size = 64\n",
    "ref_size=64\n",
    "adj = []\n",
    "rndnumbers = []\n",
    "f = open(csvfilename, 'r', encoding='utf-8-sig')\n",
    "rdr = csv.reader(f)\n",
    "for line in rdr:\n",
    "    adj.append(line[0])\n",
    "    rndnumbers.append(line[1:])\n",
    "        \n",
    "# adj = ['딱딱한', '심플한', '모던한', '폭신한', '앤틱한']\n",
    "################ Input - End####################\n",
    "Gs, noise_vars, Gs_kwargs = load_model(pklfilename)\n",
    "# Latent space 평균 이미지 생성\n",
    "z_samples = np.random.RandomState(123).randn(1000, Gs.z_dim)\n",
    "w_samples = Gs.mapping(torch.from_numpy(z_samples).to(device), None)\n",
    "w_samples = w_samples[:, :1, :].cpu().numpy().astype(np.float32) \n",
    "w_avg = np.mean(w_samples, axis=0, keepdims=True)\n",
    "w_std = (np.sum((w_samples - w_avg) ** 2) / 10000) ** 0.5\n",
    "w_opt = torch.tensor(w_avg, dtype=torch.float32, device=device, requires_grad=True)\n",
    "\n",
    "for step in range(1000):\n",
    "    # Learning rate schedule.\n",
    "    t = step / 1000\n",
    "    w_noise_scale = w_std * 0.05 * max(0.0, 1.0 - t / 0.75) ** 2\n",
    "\n",
    "w_noise = torch.randn_like(w_opt) * w_noise_scale\n",
    "ws_image_to_use = (w_opt + w_noise).repeat([1, Gs.mapping.num_ws, 1])\n",
    "synth_images = Gs.synthesis(ws_image_to_use, noise_mode='const')\n",
    "image_to_use = (synth_images.permute(0, 2, 3, 1) * 127.5 + 128).clamp(0, 255).to(torch.uint8)\n",
    "image_to_use = Image.fromarray(image_to_use[0].cpu().numpy(), 'RGB')\n",
    "\n",
    "# 각 adj 평균 이미지 생성\n",
    "for i in range(len(adj)):\n",
    "    if not os.path.exists('chair_image/' + adj[i]):\n",
    "        os.makedirs('chair_image/' + str(adj[i]))\n",
    "    generate_average_image(rndnumbers[i], adj[i], pklfilename)\n",
    "\n",
    "# 각 adj npz파일 생성\n",
    "for i in range(len(adj)):\n",
    "    projector.run_projection(pklfilename, 'chair_image/' + adj[i] + '/' + adj[i] +'.png',\n",
    "                            'chair_image/' + adj[i] + '/', False, 303, 1000)\n",
    "\n",
    "targetName = 'projected_w.npz'\n",
    "\n",
    "latent_code1 = np.load('chair_image/' + adj[0] + '/' + targetName)['w']\n",
    "latent_code2 = np.load('chair_image/' + adj[1] + '/' + targetName)['w']\n",
    "latent_code3 = np.load('chair_image/' + adj[2] + '/' + targetName)['w']\n",
    "latent_code4 = np.load('chair_image/' + adj[3] + '/' + targetName)['w']\n",
    "latent_code5 = np.load('chair_image/' + adj[4] + '/' + targetName)['w']\n",
    "\n",
    "\n",
    "latent_controls = [adj[0], adj[1], adj[2], adj[3], adj[4]]\n",
    "latent_code_list = [latent_code1, latent_code2, latent_code3, latent_code4, latent_code5]\n",
    "\n",
    "\n",
    "controller = create_interactive_latent_controller()\n",
    "controller\n",
    "\n"
   ]
  },
  {
   "cell_type": "code",
   "execution_count": null,
   "metadata": {},
   "outputs": [],
   "source": []
  },
  {
   "cell_type": "code",
   "execution_count": null,
   "metadata": {},
   "outputs": [],
   "source": []
  },
  {
   "cell_type": "code",
   "execution_count": null,
   "metadata": {},
   "outputs": [],
   "source": []
  },
  {
   "cell_type": "code",
   "execution_count": null,
   "metadata": {},
   "outputs": [],
   "source": []
  }
 ],
 "metadata": {
  "kernelspec": {
   "display_name": "venv_py37_210829",
   "language": "python",
   "name": "venv_py37_210829"
  },
  "language_info": {
   "codemirror_mode": {
    "name": "ipython",
    "version": 3
   },
   "file_extension": ".py",
   "mimetype": "text/x-python",
   "name": "python",
   "nbconvert_exporter": "python",
   "pygments_lexer": "ipython3",
   "version": "3.7.11"
  },
  "widgets": {
   "application/vnd.jupyter.widget-state+json": {
    "state": {
     "003a40cb4f7d416bad3b109a57bfb46c": {
      "model_module": "@jupyter-widgets/base",
      "model_module_version": "1.2.0",
      "model_name": "LayoutModel",
      "state": {
       "height": "30%",
       "width": "75%"
      }
     },
     "00bb72bc56e9461bafeabcc8fc266715": {
      "model_module": "@jupyter-widgets/controls",
      "model_module_version": "1.5.0",
      "model_name": "FloatSliderModel",
      "state": {
       "layout": "IPY_MODEL_6f61427377aa4c7c953fd543fcbe948c",
       "max": 50,
       "min": -50,
       "step": 0.1,
       "style": "IPY_MODEL_66485e43461b451fbf53381afb417c9a"
      }
     },
     "00fa2928ac124570aa44bb9ce764a139": {
      "model_module": "@jupyter-widgets/controls",
      "model_module_version": "1.5.0",
      "model_name": "DescriptionStyleModel",
      "state": {
       "description_width": ""
      }
     },
     "0106055bf0404ce3855bd23a4f28cf91": {
      "model_module": "@jupyter-widgets/output",
      "model_module_version": "1.0.0",
      "model_name": "OutputModel",
      "state": {
       "layout": "IPY_MODEL_eeaa82ef10e948db8a91ab3ee0928543",
       "outputs": [
        {
         "data": {
          "text/plain": "'C:/PythonWorkspace/stylegan2-ada-pytorch-main/out/seed0929.png'"
         },
         "metadata": {},
         "output_type": "display_data"
        }
       ]
      }
     },
     "01195991a29344dca0dd51327c353a3d": {
      "model_module": "@jupyter-widgets/base",
      "model_module_version": "1.2.0",
      "model_name": "LayoutModel",
      "state": {
       "height": "30%",
       "width": "75%"
      }
     },
     "0129a64c95db42288dcc8ab2e8822a77": {
      "model_module": "@jupyter-widgets/controls",
      "model_module_version": "1.5.0",
      "model_name": "ButtonStyleModel",
      "state": {}
     },
     "01c165dd5b9240659a1753b584f8a780": {
      "model_module": "@jupyter-widgets/output",
      "model_module_version": "1.0.0",
      "model_name": "OutputModel",
      "state": {
       "layout": "IPY_MODEL_4285e16043904cc89bd2099b11d8d455",
       "outputs": [
        {
         "data": {
          "text/plain": "'C:/PythonWorkspace/stylegan2-ada-pytorch-main/out/seed0929.png'"
         },
         "metadata": {},
         "output_type": "display_data"
        }
       ]
      }
     },
     "01d3bf3da7614cd78aaa78deed5fd8e4": {
      "model_module": "@jupyter-widgets/controls",
      "model_module_version": "1.5.0",
      "model_name": "FloatSliderModel",
      "state": {
       "layout": "IPY_MODEL_5973f86ea53c46769cb363f40e4e7b37",
       "max": 50,
       "min": -50,
       "step": 0.1,
       "style": "IPY_MODEL_72e726b949794a72a283e94b2ae09bf3"
      }
     },
     "01d426b8ea95424980b2e4f6b7421492": {
      "model_module": "@jupyter-widgets/output",
      "model_module_version": "1.0.0",
      "model_name": "OutputModel",
      "state": {
       "layout": "IPY_MODEL_12209a1b1e934de0a44f25dbd0977367",
       "outputs": [
        {
         "data": {
          "text/plain": "'C:/PythonWorkspace/stylegan2-ada-pytorch-main/out/seed0929.png'"
         },
         "metadata": {},
         "output_type": "display_data"
        }
       ]
      }
     },
     "01f28c2a955d400281b8ae834062c72a": {
      "model_module": "@jupyter-widgets/controls",
      "model_module_version": "1.5.0",
      "model_name": "SliderStyleModel",
      "state": {
       "description_width": ""
      }
     },
     "02166a6ae888452590adaeda0a44b3db": {
      "model_module": "@jupyter-widgets/base",
      "model_module_version": "1.2.0",
      "model_name": "LayoutModel",
      "state": {}
     },
     "02479f4b6bc3488daf54782b1a801004": {
      "model_module": "@jupyter-widgets/base",
      "model_module_version": "1.2.0",
      "model_name": "LayoutModel",
      "state": {}
     },
     "027c825eb9284f78ade951bf6e899ad1": {
      "model_module": "@jupyter-widgets/base",
      "model_module_version": "1.2.0",
      "model_name": "LayoutModel",
      "state": {}
     },
     "0285bdf3b2db47b2a61daa77e47acee1": {
      "model_module": "@jupyter-widgets/base",
      "model_module_version": "1.2.0",
      "model_name": "LayoutModel",
      "state": {}
     },
     "0299acf7e1bc47b1ae7ce7f0cb5dca2d": {
      "model_module": "@jupyter-widgets/base",
      "model_module_version": "1.2.0",
      "model_name": "LayoutModel",
      "state": {}
     },
     "029a1e083a1d4970b1f7b984d58f9053": {
      "model_module": "@jupyter-widgets/controls",
      "model_module_version": "1.5.0",
      "model_name": "ButtonModel",
      "state": {
       "description": "Generate",
       "layout": "IPY_MODEL_6d49f69ddd324427b06465df6bf6c94c",
       "style": "IPY_MODEL_476134bceb9d4228bd6d790125f52091"
      }
     },
     "029fded4da124401ba5a9ff24b15da36": {
      "model_module": "@jupyter-widgets/controls",
      "model_module_version": "1.5.0",
      "model_name": "ButtonStyleModel",
      "state": {}
     },
     "02b92453952e4caba692dcc65fda7444": {
      "model_module": "@jupyter-widgets/controls",
      "model_module_version": "1.5.0",
      "model_name": "VBoxModel",
      "state": {
       "children": [
        "IPY_MODEL_6d94405c6e234758ac85cbd52fe140c9",
        "IPY_MODEL_6dd32e780c9b40328883dacd37c95538"
       ],
       "layout": "IPY_MODEL_082ff677e7044f57a40bf49763d58464"
      }
     },
     "02c3636309914cf3b9f7ac3797dcbac2": {
      "model_module": "@jupyter-widgets/controls",
      "model_module_version": "1.5.0",
      "model_name": "ButtonModel",
      "state": {
       "description": "Generate",
       "layout": "IPY_MODEL_d8a635127987431f85db3a0e904bfff1",
       "style": "IPY_MODEL_5ba45d5b3dae4446b5612dd831c62858"
      }
     },
     "0330813d0946419da93d0684b79b3948": {
      "model_module": "@jupyter-widgets/base",
      "model_module_version": "1.2.0",
      "model_name": "LayoutModel",
      "state": {}
     },
     "03401a149ad2459b95c7af51453f376f": {
      "model_module": "@jupyter-widgets/controls",
      "model_module_version": "1.5.0",
      "model_name": "FloatSliderModel",
      "state": {
       "layout": "IPY_MODEL_cef811ffbc854e04b2bc6decfafcf562",
       "max": 50,
       "min": -50,
       "step": 0.1,
       "style": "IPY_MODEL_b5cd12960228438582dfb0d6d11c4915"
      }
     },
     "0340a30d397840d993d0c27dd7c0e0af": {
      "model_module": "@jupyter-widgets/controls",
      "model_module_version": "1.5.0",
      "model_name": "SliderStyleModel",
      "state": {
       "description_width": ""
      }
     },
     "034f583adc784f6e9bfdcf88a3545055": {
      "model_module": "@jupyter-widgets/controls",
      "model_module_version": "1.5.0",
      "model_name": "ButtonModel",
      "state": {
       "description": "Generate",
       "layout": "IPY_MODEL_01195991a29344dca0dd51327c353a3d",
       "style": "IPY_MODEL_6de8276d422145be93237e7270f847e2"
      }
     },
     "0389a463c6754ee2b69d1c36e71a2008": {
      "model_module": "@jupyter-widgets/base",
      "model_module_version": "1.2.0",
      "model_name": "LayoutModel",
      "state": {}
     },
     "03b13414afd449da98dd05011c2eedb5": {
      "model_module": "@jupyter-widgets/output",
      "model_module_version": "1.0.0",
      "model_name": "OutputModel",
      "state": {
       "layout": "IPY_MODEL_8cdc803ac5434bcc9c658f3ce098bac1",
       "outputs": [
        {
         "data": {
          "text/plain": "'C:/PythonWorkspace/stylegan2-ada-pytorch-main/out/seed0929.png'"
         },
         "metadata": {},
         "output_type": "display_data"
        }
       ]
      }
     },
     "0414328dc0674f1c8e2baf9086e1d0c3": {
      "model_module": "@jupyter-widgets/base",
      "model_module_version": "1.2.0",
      "model_name": "LayoutModel",
      "state": {}
     },
     "0439aadef2644454b9a9c955a04f3f3a": {
      "model_module": "@jupyter-widgets/base",
      "model_module_version": "1.2.0",
      "model_name": "LayoutModel",
      "state": {}
     },
     "049cf7e60e904c4ba77af1640b5466ff": {
      "model_module": "@jupyter-widgets/base",
      "model_module_version": "1.2.0",
      "model_name": "LayoutModel",
      "state": {}
     },
     "04b3f401f41f42a081619484ed5c4857": {
      "model_module": "@jupyter-widgets/base",
      "model_module_version": "1.2.0",
      "model_name": "LayoutModel",
      "state": {
       "height": "30%",
       "width": "75%"
      }
     },
     "052c3cff463941dbabcf8f4c864f706a": {
      "model_module": "@jupyter-widgets/controls",
      "model_module_version": "1.5.0",
      "model_name": "ButtonStyleModel",
      "state": {}
     },
     "05392f266eab4f719b4ccbe9fd0d829b": {
      "model_module": "@jupyter-widgets/base",
      "model_module_version": "1.2.0",
      "model_name": "LayoutModel",
      "state": {
       "height": "30%",
       "width": "75%"
      }
     },
     "055c14be742f4ad68b114d55f90ae125": {
      "model_module": "@jupyter-widgets/controls",
      "model_module_version": "1.5.0",
      "model_name": "ButtonStyleModel",
      "state": {}
     },
     "056d25b49c8d47f6ab17a7a078ccaab9": {
      "model_module": "@jupyter-widgets/base",
      "model_module_version": "1.2.0",
      "model_name": "LayoutModel",
      "state": {}
     },
     "062a25e71cd649ef84d5f9da1dd4d51b": {
      "model_module": "@jupyter-widgets/output",
      "model_module_version": "1.0.0",
      "model_name": "OutputModel",
      "state": {
       "layout": "IPY_MODEL_de06cedee2ff4700ad6e26a9bc0e0e77",
       "outputs": [
        {
         "data": {
          "text/plain": "'C:/PythonWorkspace/stylegan2-ada-pytorch-main/out/seed0929.png'"
         },
         "metadata": {},
         "output_type": "display_data"
        }
       ]
      }
     },
     "0647ff5501464fb090e1465a9d14f2e1": {
      "model_module": "@jupyter-widgets/controls",
      "model_module_version": "1.5.0",
      "model_name": "SliderStyleModel",
      "state": {
       "description_width": ""
      }
     },
     "0676ddac6ece4b17a6e484fcb33c5f6a": {
      "model_module": "@jupyter-widgets/base",
      "model_module_version": "1.2.0",
      "model_name": "LayoutModel",
      "state": {}
     },
     "067aa925340e4906966d4854006f0450": {
      "model_module": "@jupyter-widgets/output",
      "model_module_version": "1.0.0",
      "model_name": "OutputModel",
      "state": {
       "layout": "IPY_MODEL_e0db84ee7791428cb8f62d67ffe1d79c",
       "outputs": [
        {
         "data": {
          "text/plain": "'C:/PythonWorkspace/stylegan2-ada-pytorch-main/out/seed0929.png'"
         },
         "metadata": {},
         "output_type": "display_data"
        }
       ]
      }
     },
     "06cf86d1c9d5495798c6d783e46a78a7": {
      "model_module": "@jupyter-widgets/base",
      "model_module_version": "1.2.0",
      "model_name": "LayoutModel",
      "state": {}
     },
     "06dd504df4164d979ea09f064d69f81d": {
      "model_module": "@jupyter-widgets/controls",
      "model_module_version": "1.5.0",
      "model_name": "ButtonStyleModel",
      "state": {}
     },
     "06e37f6dfb054e26b4014656d2aea2a6": {
      "model_module": "@jupyter-widgets/controls",
      "model_module_version": "1.5.0",
      "model_name": "ButtonModel",
      "state": {
       "description": "Reset Latent Controls",
       "layout": "IPY_MODEL_d51e35b5867f4f1a9d69408e8689ce98",
       "style": "IPY_MODEL_029fded4da124401ba5a9ff24b15da36"
      }
     },
     "06fb73c9fa7e47e2ba5bef5f22ae63f2": {
      "model_module": "@jupyter-widgets/base",
      "model_module_version": "1.2.0",
      "model_name": "LayoutModel",
      "state": {}
     },
     "070c9d6a9f9842d98b63bed1f3cef4c9": {
      "model_module": "@jupyter-widgets/output",
      "model_module_version": "1.0.0",
      "model_name": "OutputModel",
      "state": {
       "layout": "IPY_MODEL_81e60aaaeb13497ba9fbf81b37c54f19",
       "outputs": [
        {
         "data": {
          "text/plain": "'C:/PythonWorkspace/stylegan2-ada-pytorch-main/out/seed0929.png'"
         },
         "metadata": {},
         "output_type": "display_data"
        }
       ]
      }
     },
     "0725ce3e2a7242d68c721a89ae16ebf3": {
      "model_module": "@jupyter-widgets/base",
      "model_module_version": "1.2.0",
      "model_name": "LayoutModel",
      "state": {}
     },
     "0728e30f8b484a5b931ed08b9d904c47": {
      "model_module": "@jupyter-widgets/output",
      "model_module_version": "1.0.0",
      "model_name": "OutputModel",
      "state": {
       "layout": "IPY_MODEL_dc400169c4f547f1b318d2543e7f85a1",
       "outputs": [
        {
         "data": {
          "text/plain": "'C:/PythonWorkspace/stylegan2-ada-pytorch-main/out/seed0929.png'"
         },
         "metadata": {},
         "output_type": "display_data"
        }
       ]
      }
     },
     "07c020baec75497aa750ba3320643cfc": {
      "model_module": "@jupyter-widgets/controls",
      "model_module_version": "1.5.0",
      "model_name": "HBoxModel",
      "state": {
       "children": [
        "IPY_MODEL_93c1a69233e54c67be921c008f2aa784",
        "IPY_MODEL_a508300f770c4580a5b4d070ecb0247e"
       ],
       "layout": "IPY_MODEL_9d9375fa5ab74068833b7ace51534648"
      }
     },
     "07e3ebbc3114497d881bfff26fc45fd9": {
      "model_module": "@jupyter-widgets/controls",
      "model_module_version": "1.5.0",
      "model_name": "SliderStyleModel",
      "state": {
       "description_width": ""
      }
     },
     "07eff225b1544c8abcf5039220936ac6": {
      "model_module": "@jupyter-widgets/controls",
      "model_module_version": "1.5.0",
      "model_name": "FloatSliderModel",
      "state": {
       "layout": "IPY_MODEL_ccf74f3d4edd4b8486b96b747228f86d",
       "max": 50,
       "min": -50,
       "step": 0.1,
       "style": "IPY_MODEL_c080897003fe4cab86b4dc7d5ac0a0ff"
      }
     },
     "082ff677e7044f57a40bf49763d58464": {
      "model_module": "@jupyter-widgets/base",
      "model_module_version": "1.2.0",
      "model_name": "LayoutModel",
      "state": {}
     },
     "0852d56b626948eebc0e3f3c4f7bb561": {
      "model_module": "@jupyter-widgets/controls",
      "model_module_version": "1.5.0",
      "model_name": "VBoxModel",
      "state": {
       "children": [
        "IPY_MODEL_947d388f2c084cbb8490f58d9244b4f6",
        "IPY_MODEL_0b6e3039499649c6a7e991530551ae99",
        "IPY_MODEL_8513a06d477b4e95b86c84cac679e234",
        "IPY_MODEL_9e6b9cd43a8248d4abe51a8c97a42c22"
       ],
       "layout": "IPY_MODEL_a49d22a5519841f2b3199d740dc6ae6e"
      }
     },
     "08bd5963a9bc4dd9ade813f5d686818c": {
      "model_module": "@jupyter-widgets/base",
      "model_module_version": "1.2.0",
      "model_name": "LayoutModel",
      "state": {}
     },
     "08cdd64027b84020b69b18aeb96585e1": {
      "model_module": "@jupyter-widgets/output",
      "model_module_version": "1.0.0",
      "model_name": "OutputModel",
      "state": {
       "layout": "IPY_MODEL_88e1c5c971f845ceb2c60ac9494dbd3c",
       "outputs": [
        {
         "data": {
          "text/plain": "'C:/PythonWorkspace/stylegan2-ada-pytorch-main/out/seed0929.png'"
         },
         "metadata": {},
         "output_type": "display_data"
        }
       ]
      }
     },
     "08f02d39123f468890afb825f3b3d278": {
      "model_module": "@jupyter-widgets/controls",
      "model_module_version": "1.5.0",
      "model_name": "DescriptionStyleModel",
      "state": {
       "description_width": ""
      }
     },
     "0941bda8dd214fa797e9101eaf9b0c8c": {
      "model_module": "@jupyter-widgets/base",
      "model_module_version": "1.2.0",
      "model_name": "LayoutModel",
      "state": {}
     },
     "0945cb183a6f4e3bbbd3650cdf7dce9e": {
      "model_module": "@jupyter-widgets/controls",
      "model_module_version": "1.5.0",
      "model_name": "ButtonModel",
      "state": {
       "description": "Reset Latent Controls",
       "layout": "IPY_MODEL_e2a5b7995b3047128fea999f9f71594a",
       "style": "IPY_MODEL_7ad5cc6c22114469acb96bfb208921e4"
      }
     },
     "098414f2a7ed4bc9932831539ac1f20d": {
      "model_module": "@jupyter-widgets/base",
      "model_module_version": "1.2.0",
      "model_name": "LayoutModel",
      "state": {}
     },
     "098c73e070cf4b48ad9c8e252867fcb9": {
      "model_module": "@jupyter-widgets/base",
      "model_module_version": "1.2.0",
      "model_name": "LayoutModel",
      "state": {}
     },
     "09bf03b4d5a448a59df8d947b1a445cc": {
      "model_module": "@jupyter-widgets/base",
      "model_module_version": "1.2.0",
      "model_name": "LayoutModel",
      "state": {}
     },
     "09c4dd8e381c4320a9a868bc466b003f": {
      "model_module": "@jupyter-widgets/controls",
      "model_module_version": "1.5.0",
      "model_name": "VBoxModel",
      "state": {
       "children": [
        "IPY_MODEL_fb833e4525dc412d91dc29045a7b30e5",
        "IPY_MODEL_b2152e45de364abf9d124dbc736f3ba9"
       ],
       "layout": "IPY_MODEL_beb75066dac74323982c261be70e1749"
      }
     },
     "09de1d519314424dbc01dd0f06db4117": {
      "model_module": "@jupyter-widgets/base",
      "model_module_version": "1.2.0",
      "model_name": "LayoutModel",
      "state": {}
     },
     "0ad622e2bca0484b89b122e65c2eece1": {
      "model_module": "@jupyter-widgets/base",
      "model_module_version": "1.2.0",
      "model_name": "LayoutModel",
      "state": {
       "height": "10%",
       "width": "75%"
      }
     },
     "0b15013e42ae42d78b0e0dda48605f4a": {
      "model_module": "@jupyter-widgets/controls",
      "model_module_version": "1.5.0",
      "model_name": "VBoxModel",
      "state": {
       "children": [
        "IPY_MODEL_d0d2b2a96aa9401eaaf2b7eab6b2a27d",
        "IPY_MODEL_8745a9b2802d423ca8941d7053226f54",
        "IPY_MODEL_59a1adfadaae4ac6b0d578e763363a2f",
        "IPY_MODEL_24ed7acf2e6340b99448e2730cc4b1df"
       ],
       "layout": "IPY_MODEL_a1aa9e38a00744dd9055427a63742c77"
      }
     },
     "0b6a748fbc894a649039b1e55996c461": {
      "model_module": "@jupyter-widgets/output",
      "model_module_version": "1.0.0",
      "model_name": "OutputModel",
      "state": {
       "layout": "IPY_MODEL_c6c6786e01ff4a4493f2b3ac498fbeab",
       "outputs": [
        {
         "data": {
          "text/plain": "'C:/PythonWorkspace/stylegan2-ada-pytorch-main/out/seed0929.png'"
         },
         "metadata": {},
         "output_type": "display_data"
        }
       ]
      }
     },
     "0b6e3039499649c6a7e991530551ae99": {
      "model_module": "@jupyter-widgets/controls",
      "model_module_version": "1.5.0",
      "model_name": "HBoxModel",
      "state": {
       "children": [
        "IPY_MODEL_c50d62467bcc455c908e9ae037d94838",
        "IPY_MODEL_1df3fb7e69d9460d8889f7d6f940be30"
       ],
       "layout": "IPY_MODEL_26d43e56572942cb99248b4ba9f83206"
      }
     },
     "0baa2c8f9ef34d26ba791bcfb7cf0bb3": {
      "model_module": "@jupyter-widgets/base",
      "model_module_version": "1.2.0",
      "model_name": "LayoutModel",
      "state": {}
     },
     "0bccae177d3942bbae5c65fa93254dbd": {
      "model_module": "@jupyter-widgets/controls",
      "model_module_version": "1.5.0",
      "model_name": "VBoxModel",
      "state": {
       "children": [
        "IPY_MODEL_d2595c0f36c342e0b920f018630ce25a",
        "IPY_MODEL_c5cf6f50ee324756b63d5ee17a4f1a4b"
       ],
       "layout": "IPY_MODEL_934fe126a4ee49e28669f2f582f6ffcb"
      }
     },
     "0c30ff6b61544bed9fb9ab53fd2830fc": {
      "model_module": "@jupyter-widgets/output",
      "model_module_version": "1.0.0",
      "model_name": "OutputModel",
      "state": {
       "layout": "IPY_MODEL_5d835631e3c94d5eb5b4a58f381a0a7e",
       "outputs": [
        {
         "data": {
          "text/plain": "'C:/PythonWorkspace/stylegan2-ada-pytorch-main/out/seed0929.png'"
         },
         "metadata": {},
         "output_type": "display_data"
        }
       ]
      }
     },
     "0c66376219d14a98a5d906f8c926d027": {
      "model_module": "@jupyter-widgets/output",
      "model_module_version": "1.0.0",
      "model_name": "OutputModel",
      "state": {
       "layout": "IPY_MODEL_8611028486ab4849b67f2aaf249492ea",
       "outputs": [
        {
         "data": {
          "text/plain": "'C:/PythonWorkspace/stylegan2-ada-pytorch-main/out/seed0929.png'"
         },
         "metadata": {},
         "output_type": "display_data"
        }
       ]
      }
     },
     "0c6a906285a942a9a189cab8f8bacd10": {
      "model_module": "@jupyter-widgets/output",
      "model_module_version": "1.0.0",
      "model_name": "OutputModel",
      "state": {
       "layout": "IPY_MODEL_c720180abb1045a5a980a504295af299",
       "outputs": [
        {
         "data": {
          "text/plain": "'C:/PythonWorkspace/stylegan2-ada-pytorch-main/out/seed0929.png'"
         },
         "metadata": {},
         "output_type": "display_data"
        }
       ]
      }
     },
     "0cefc411676743fb9b49a55715fa1398": {
      "model_module": "@jupyter-widgets/controls",
      "model_module_version": "1.5.0",
      "model_name": "VBoxModel",
      "state": {
       "children": [
        "IPY_MODEL_4ee8238efc924452a1cf15bd6d97bf0b",
        "IPY_MODEL_4dee39efb4564b50a0da47dadfecabb1"
       ],
       "layout": "IPY_MODEL_f8466d6ee4364443ac5ad09b628931e9"
      }
     },
     "0cfe084a3e944f4980e8458944047546": {
      "model_module": "@jupyter-widgets/base",
      "model_module_version": "1.2.0",
      "model_name": "LayoutModel",
      "state": {}
     },
     "0d5757890ba7451c9b7390a4a33235be": {
      "model_module": "@jupyter-widgets/controls",
      "model_module_version": "1.5.0",
      "model_name": "VBoxModel",
      "state": {
       "children": [
        "IPY_MODEL_974f579ff5464666a47180bf74cb3cfa",
        "IPY_MODEL_07c020baec75497aa750ba3320643cfc",
        "IPY_MODEL_42d3da5c72b74f55b8ffe2dfade395f6",
        "IPY_MODEL_f262bd423ccd4bfab3997b2125e7e1fd"
       ],
       "layout": "IPY_MODEL_83104f686055454d925f40a888d027e5"
      }
     },
     "0da5aaeadcc14d1eb63ebae1fdfca32d": {
      "model_module": "@jupyter-widgets/output",
      "model_module_version": "1.0.0",
      "model_name": "OutputModel",
      "state": {
       "layout": "IPY_MODEL_6baa022341824820a360ae099977877f",
       "outputs": [
        {
         "data": {
          "text/plain": "'C:/PythonWorkspace/stylegan2-ada-pytorch-main/out/seed0929.png'"
         },
         "metadata": {},
         "output_type": "display_data"
        }
       ]
      }
     },
     "0ddcb573d13141ce9c9a02025e00988c": {
      "model_module": "@jupyter-widgets/controls",
      "model_module_version": "1.5.0",
      "model_name": "SliderStyleModel",
      "state": {
       "description_width": ""
      }
     },
     "0de21cdf778244d4998822bda1ad34a7": {
      "model_module": "@jupyter-widgets/controls",
      "model_module_version": "1.5.0",
      "model_name": "DescriptionStyleModel",
      "state": {
       "description_width": ""
      }
     },
     "0de796a451f34c7aba6ecf98cc82c8fe": {
      "model_module": "@jupyter-widgets/controls",
      "model_module_version": "1.5.0",
      "model_name": "HBoxModel",
      "state": {
       "children": [
        "IPY_MODEL_1ad615e8441048538f9596f014b54281",
        "IPY_MODEL_62b825d681334f57811a391f1d697f24"
       ],
       "layout": "IPY_MODEL_5f8b5ac915dd4ebabfe726d18f867f55"
      }
     },
     "0e4ebeddd0fd4b239da583a8612ce17a": {
      "model_module": "@jupyter-widgets/controls",
      "model_module_version": "1.5.0",
      "model_name": "SliderStyleModel",
      "state": {
       "description_width": ""
      }
     },
     "0e58e4f23f7547c7815a9cae990a9e2e": {
      "model_module": "@jupyter-widgets/controls",
      "model_module_version": "1.5.0",
      "model_name": "LabelModel",
      "state": {
       "layout": "IPY_MODEL_0676ddac6ece4b17a6e484fcb33c5f6a",
       "style": "IPY_MODEL_3c6610f77192415fb296aed2463bcf88",
       "value": "C:\\PythonWorkspace\\stylegan2-ada-pytorch-main\\out\\modern_projected_w.npz"
      }
     },
     "0ebdb2e38545466abd17804e82a224bc": {
      "model_module": "@jupyter-widgets/controls",
      "model_module_version": "1.5.0",
      "model_name": "FloatSliderModel",
      "state": {
       "layout": "IPY_MODEL_1351b560089c4397a707c17734cab28e",
       "max": 50,
       "min": -50,
       "step": 0.1,
       "style": "IPY_MODEL_01f28c2a955d400281b8ae834062c72a"
      }
     },
     "0ed1c3a4ed3c45afae08daa538bb508f": {
      "model_module": "@jupyter-widgets/controls",
      "model_module_version": "1.5.0",
      "model_name": "FloatSliderModel",
      "state": {
       "layout": "IPY_MODEL_3ebfdb318e774f6689cba2a8c78bf7ec",
       "max": 50,
       "min": -50,
       "step": 0.1,
       "style": "IPY_MODEL_71f5ad4e34d34e15be009d886269986a"
      }
     },
     "0ed79ee9520a4a199bbff6ab820e9c78": {
      "model_module": "@jupyter-widgets/controls",
      "model_module_version": "1.5.0",
      "model_name": "HBoxModel",
      "state": {
       "children": [
        "IPY_MODEL_206ad4ed30d64ff3aa0953228df3aefc",
        "IPY_MODEL_321d57ab5db441b58b5ca31515187c94"
       ],
       "layout": "IPY_MODEL_b8c674770f024340843f756abd8fdca6"
      }
     },
     "0ef4dc87d6da4550beb32df1673b00f0": {
      "model_module": "@jupyter-widgets/controls",
      "model_module_version": "1.5.0",
      "model_name": "ButtonStyleModel",
      "state": {}
     },
     "0f0cec05d1db4de694a8c39324550381": {
      "model_module": "@jupyter-widgets/base",
      "model_module_version": "1.2.0",
      "model_name": "LayoutModel",
      "state": {}
     },
     "0f15ed91bd5648c4a90df4060854433d": {
      "model_module": "@jupyter-widgets/output",
      "model_module_version": "1.0.0",
      "model_name": "OutputModel",
      "state": {
       "layout": "IPY_MODEL_840aeb767bba4e3cb898ecaf44591605",
       "outputs": [
        {
         "data": {
          "text/plain": "'C:/PythonWorkspace/stylegan2-ada-pytorch-main/out/seed0929.png'"
         },
         "metadata": {},
         "output_type": "display_data"
        }
       ]
      }
     },
     "0f1c825ca21a45cf8f707cf04c61b52b": {
      "model_module": "@jupyter-widgets/controls",
      "model_module_version": "1.5.0",
      "model_name": "DescriptionStyleModel",
      "state": {
       "description_width": ""
      }
     },
     "0f43766bf7324e668c93c8efadaf9e24": {
      "model_module": "@jupyter-widgets/base",
      "model_module_version": "1.2.0",
      "model_name": "LayoutModel",
      "state": {}
     },
     "0fbddc925b964f4294b02f281da49392": {
      "model_module": "@jupyter-widgets/controls",
      "model_module_version": "1.5.0",
      "model_name": "HBoxModel",
      "state": {
       "children": [
        "IPY_MODEL_d817e703d5cf4e43b29931530d73a6ac",
        "IPY_MODEL_59d6b4a2c12b488d856a564d763718e2"
       ],
       "layout": "IPY_MODEL_2f4c4fb05e524ec19057441e9436c206"
      }
     },
     "0fee6c67107e4659b5aa91cd25d572be": {
      "model_module": "@jupyter-widgets/base",
      "model_module_version": "1.2.0",
      "model_name": "LayoutModel",
      "state": {
       "height": "100%",
       "width": "75%"
      }
     },
     "10032e5a0bd6421198d1589563e0c250": {
      "model_module": "@jupyter-widgets/controls",
      "model_module_version": "1.5.0",
      "model_name": "ButtonStyleModel",
      "state": {}
     },
     "100d100d9d604cf881b9f7d525ad871c": {
      "model_module": "@jupyter-widgets/base",
      "model_module_version": "1.2.0",
      "model_name": "LayoutModel",
      "state": {}
     },
     "1011224ccfd64825aeb062eba3ceefd7": {
      "model_module": "@jupyter-widgets/controls",
      "model_module_version": "1.5.0",
      "model_name": "ButtonStyleModel",
      "state": {}
     },
     "106d02216860480dbffb8981b67c4618": {
      "model_module": "@jupyter-widgets/output",
      "model_module_version": "1.0.0",
      "model_name": "OutputModel",
      "state": {
       "layout": "IPY_MODEL_b4d842fdb0e7484db4ac521d7cf97a09",
       "outputs": [
        {
         "data": {
          "text/plain": "'C:/PythonWorkspace/stylegan2-ada-pytorch-main/out/seed0929.png'"
         },
         "metadata": {},
         "output_type": "display_data"
        }
       ]
      }
     },
     "108e2461222c4eaa9b5e0c0aa7971f30": {
      "model_module": "@jupyter-widgets/controls",
      "model_module_version": "1.5.0",
      "model_name": "ButtonStyleModel",
      "state": {}
     },
     "10bbb401a1ec4ad598b371584292fa80": {
      "model_module": "@jupyter-widgets/controls",
      "model_module_version": "1.5.0",
      "model_name": "DescriptionStyleModel",
      "state": {
       "description_width": ""
      }
     },
     "1110d35cd8f84fc3baedc472eb8e3921": {
      "model_module": "@jupyter-widgets/base",
      "model_module_version": "1.2.0",
      "model_name": "LayoutModel",
      "state": {}
     },
     "11a617ff21b1448cb893fd32ae28b7fc": {
      "model_module": "@jupyter-widgets/base",
      "model_module_version": "1.2.0",
      "model_name": "LayoutModel",
      "state": {
       "height": "30%",
       "width": "75%"
      }
     },
     "11f8dcd5a198443185b290577f5d9d85": {
      "model_module": "@jupyter-widgets/controls",
      "model_module_version": "1.5.0",
      "model_name": "DescriptionStyleModel",
      "state": {
       "description_width": ""
      }
     },
     "120716fb19344e20af150617c12ef528": {
      "model_module": "@jupyter-widgets/base",
      "model_module_version": "1.2.0",
      "model_name": "LayoutModel",
      "state": {}
     },
     "12209a1b1e934de0a44f25dbd0977367": {
      "model_module": "@jupyter-widgets/base",
      "model_module_version": "1.2.0",
      "model_name": "LayoutModel",
      "state": {}
     },
     "122d21161bb14650842d32babbd91c7a": {
      "model_module": "@jupyter-widgets/controls",
      "model_module_version": "1.5.0",
      "model_name": "LabelModel",
      "state": {
       "layout": "IPY_MODEL_b9c5d7a38bdc4d07933f3b867452c7c6",
       "style": "IPY_MODEL_2991017ea6f84f13a3879f2252ad55ed",
       "value": "C:\\PythonWorkspace\\stylegan2-ada-pytorch-main\\out\\antique_projected_w"
      }
     },
     "1236fb24d1ca4ac497a64bec348e8870": {
      "model_module": "@jupyter-widgets/output",
      "model_module_version": "1.0.0",
      "model_name": "OutputModel",
      "state": {
       "layout": "IPY_MODEL_5c6552cc21ec42f8b6a96867326227c4",
       "outputs": [
        {
         "data": {
          "text/plain": "'C:/PythonWorkspace/stylegan2-ada-pytorch-main/out/seed0929.png'"
         },
         "metadata": {},
         "output_type": "display_data"
        }
       ]
      }
     },
     "125a4292ede549ce9b5448b95aa297b7": {
      "model_module": "@jupyter-widgets/controls",
      "model_module_version": "1.5.0",
      "model_name": "VBoxModel",
      "state": {
       "children": [
        "IPY_MODEL_a952ca2f48534a6aad756ad188e67c4f",
        "IPY_MODEL_2d86c60b395d414586cc17dca7c2173e",
        "IPY_MODEL_eb0d235db3c041a7b2494a3f51300262",
        "IPY_MODEL_1bc53c12a6d2417c9a244744a9307418"
       ],
       "layout": "IPY_MODEL_40a0853e016542129121b1b9acf36c3a"
      }
     },
     "126facd1adb54a9fa1cc3cc65c5af07c": {
      "model_module": "@jupyter-widgets/controls",
      "model_module_version": "1.5.0",
      "model_name": "HBoxModel",
      "state": {
       "children": [
        "IPY_MODEL_ed83eab8c28540dba97ac081f8eec936",
        "IPY_MODEL_cc95c85ce4054c1aa245fbf47c5d2bc5"
       ],
       "layout": "IPY_MODEL_94b2e3f9f2834c899f5ce4b6121f2024"
      }
     },
     "1285c338ca8e4b8ab901d273418a1133": {
      "model_module": "@jupyter-widgets/controls",
      "model_module_version": "1.5.0",
      "model_name": "ButtonModel",
      "state": {
       "description": "Generate",
       "layout": "IPY_MODEL_11a617ff21b1448cb893fd32ae28b7fc",
       "style": "IPY_MODEL_219140b6597841d5b53d0b1b2d49e2aa"
      }
     },
     "12957545879f4b28946f6401173a8781": {
      "model_module": "@jupyter-widgets/controls",
      "model_module_version": "1.5.0",
      "model_name": "ButtonModel",
      "state": {
       "description": "Generate",
       "layout": "IPY_MODEL_cafcedf056c448ccb5638e1947e6646e",
       "style": "IPY_MODEL_771ab762dd70436791268df21145498d"
      }
     },
     "129d2d96b3a5447dbb162b19343c42bf": {
      "model_module": "@jupyter-widgets/controls",
      "model_module_version": "1.5.0",
      "model_name": "SliderStyleModel",
      "state": {
       "description_width": ""
      }
     },
     "12cc3b5299694746a939bceba95ab912": {
      "model_module": "@jupyter-widgets/controls",
      "model_module_version": "1.5.0",
      "model_name": "VBoxModel",
      "state": {
       "children": [
        "IPY_MODEL_f8c84891c5564655834afdce22f3367f",
        "IPY_MODEL_7a15f35e744342cbbd2f5c1aeba57374"
       ],
       "layout": "IPY_MODEL_37b74142d9c54f4cb19323ca9460291e"
      }
     },
     "1319b42e88eb43a8a11f45b38511f80e": {
      "model_module": "@jupyter-widgets/base",
      "model_module_version": "1.2.0",
      "model_name": "LayoutModel",
      "state": {}
     },
     "1351b560089c4397a707c17734cab28e": {
      "model_module": "@jupyter-widgets/base",
      "model_module_version": "1.2.0",
      "model_name": "LayoutModel",
      "state": {}
     },
     "141b91454e8641aa9b740dca0a2a560e": {
      "model_module": "@jupyter-widgets/controls",
      "model_module_version": "1.5.0",
      "model_name": "ButtonStyleModel",
      "state": {}
     },
     "142197eee83b4d0fab4fd1f60c77c9cf": {
      "model_module": "@jupyter-widgets/controls",
      "model_module_version": "1.5.0",
      "model_name": "VBoxModel",
      "state": {
       "children": [
        "IPY_MODEL_08cdd64027b84020b69b18aeb96585e1",
        "IPY_MODEL_44aceb1e115542ecbe2f25f03c053510"
       ],
       "layout": "IPY_MODEL_349b5f2ec349496d8426f959a8ba9dc2"
      }
     },
     "14b30af8892a4b48be7477ad7697189f": {
      "model_module": "@jupyter-widgets/base",
      "model_module_version": "1.2.0",
      "model_name": "LayoutModel",
      "state": {
       "height": "30%",
       "width": "75%"
      }
     },
     "14d74f0bc435433591fd8efd4ce4ff44": {
      "model_module": "@jupyter-widgets/controls",
      "model_module_version": "1.5.0",
      "model_name": "ButtonModel",
      "state": {
       "description": "Generate",
       "layout": "IPY_MODEL_4b705d3a3ef54add9ecb137c6e3692e3",
       "style": "IPY_MODEL_b64a6bbc5faa4e23bcfa99da1cf6d427"
      }
     },
     "14d8cfe9c1f54961b4192a3a3de35433": {
      "model_module": "@jupyter-widgets/controls",
      "model_module_version": "1.5.0",
      "model_name": "ButtonModel",
      "state": {
       "description": "Generate",
       "layout": "IPY_MODEL_985e4205d0d9442e84bb488f5a6e297a",
       "style": "IPY_MODEL_5ea2f125f42a4ef2a31a55a7311819ad"
      }
     },
     "14dc50573ace476695d484e5423f363d": {
      "model_module": "@jupyter-widgets/base",
      "model_module_version": "1.2.0",
      "model_name": "LayoutModel",
      "state": {}
     },
     "14f1df4e834e4140b9918cd7cc6030f9": {
      "model_module": "@jupyter-widgets/output",
      "model_module_version": "1.0.0",
      "model_name": "OutputModel",
      "state": {
       "layout": "IPY_MODEL_06fb73c9fa7e47e2ba5bef5f22ae63f2",
       "outputs": [
        {
         "data": {
          "text/plain": "'C:/PythonWorkspace/stylegan2-ada-pytorch-main/out/seed0929.png'"
         },
         "metadata": {},
         "output_type": "display_data"
        }
       ]
      }
     },
     "14fedb5fb18e4a489ee8053ad010d128": {
      "model_module": "@jupyter-widgets/controls",
      "model_module_version": "1.5.0",
      "model_name": "SliderStyleModel",
      "state": {
       "description_width": ""
      }
     },
     "1530b1c1cccd4961800cf62ac34681f3": {
      "model_module": "@jupyter-widgets/controls",
      "model_module_version": "1.5.0",
      "model_name": "LabelModel",
      "state": {
       "layout": "IPY_MODEL_6f775999287742de87d71efd9c2e83c3",
       "style": "IPY_MODEL_78a32362c9414e39966fbda94af2a4e6",
       "value": "stylegan2-ada-pytorch-main"
      }
     },
     "1569eb688a1e4ffd8b42e94c351da322": {
      "model_module": "@jupyter-widgets/base",
      "model_module_version": "1.2.0",
      "model_name": "LayoutModel",
      "state": {
       "height": "30%",
       "width": "75%"
      }
     },
     "157b444ae6db40a6ac8e5db0547cf72c": {
      "model_module": "@jupyter-widgets/controls",
      "model_module_version": "1.5.0",
      "model_name": "ButtonModel",
      "state": {
       "description": "Reset Latent Controls",
       "layout": "IPY_MODEL_e1cffabc91fa4f0b8a09b133ef902329",
       "style": "IPY_MODEL_b413b941f3254264854a22c216ca01b3"
      }
     },
     "15a82b0516ee4a0fb4fd6fe074895d16": {
      "model_module": "@jupyter-widgets/controls",
      "model_module_version": "1.5.0",
      "model_name": "ButtonStyleModel",
      "state": {}
     },
     "15c01e0ebb20465e94b3894f97ba96b2": {
      "model_module": "@jupyter-widgets/base",
      "model_module_version": "1.2.0",
      "model_name": "LayoutModel",
      "state": {}
     },
     "1603cdc693c148e1a131b18247875bb2": {
      "model_module": "@jupyter-widgets/controls",
      "model_module_version": "1.5.0",
      "model_name": "ButtonModel",
      "state": {
       "description": "Reset Latent Controls",
       "layout": "IPY_MODEL_662e7b01cc26405ea7d46fad50974c06",
       "style": "IPY_MODEL_d7f1bc8c748849299757f79bba6d057e"
      }
     },
     "1650e0cf3af443ccb4e067d80d232fb5": {
      "model_module": "@jupyter-widgets/controls",
      "model_module_version": "1.5.0",
      "model_name": "HBoxModel",
      "state": {
       "children": [
        "IPY_MODEL_614a01cb9b7a4312bade88796efc0ea9",
        "IPY_MODEL_0e58e4f23f7547c7815a9cae990a9e2e"
       ],
       "layout": "IPY_MODEL_87ad618ca78642b995e78191539f3720"
      }
     },
     "168c2c0b3b2946d6a78da1e08ffa705f": {
      "model_module": "@jupyter-widgets/controls",
      "model_module_version": "1.5.0",
      "model_name": "ButtonStyleModel",
      "state": {}
     },
     "16f3164b473a43cba43e924e9a68b803": {
      "model_module": "@jupyter-widgets/base",
      "model_module_version": "1.2.0",
      "model_name": "LayoutModel",
      "state": {
       "height": "30%",
       "width": "75%"
      }
     },
     "1700c45ecee7401baea05c080bbe5f6f": {
      "model_module": "@jupyter-widgets/base",
      "model_module_version": "1.2.0",
      "model_name": "LayoutModel",
      "state": {}
     },
     "1737c3f09259424b9cb9a9bb88a89e02": {
      "model_module": "@jupyter-widgets/base",
      "model_module_version": "1.2.0",
      "model_name": "LayoutModel",
      "state": {}
     },
     "173dad032f0943259cc7222a5e5d608d": {
      "model_module": "@jupyter-widgets/base",
      "model_module_version": "1.2.0",
      "model_name": "LayoutModel",
      "state": {}
     },
     "174e3306572f4710a159c3c41eb02c71": {
      "model_module": "@jupyter-widgets/base",
      "model_module_version": "1.2.0",
      "model_name": "LayoutModel",
      "state": {}
     },
     "17a5cd096f774a8f962eaa6f61924c87": {
      "model_module": "@jupyter-widgets/base",
      "model_module_version": "1.2.0",
      "model_name": "LayoutModel",
      "state": {}
     },
     "17ccd497135a400a9eda554ca61b1de4": {
      "model_module": "@jupyter-widgets/output",
      "model_module_version": "1.0.0",
      "model_name": "OutputModel",
      "state": {
       "layout": "IPY_MODEL_4330a59a2a8546ed9e6682ba83ce2da2",
       "outputs": [
        {
         "data": {
          "text/plain": "'C:/PythonWorkspace/stylegan2-ada-pytorch-main/out/seed0929.png'"
         },
         "metadata": {},
         "output_type": "display_data"
        }
       ]
      }
     },
     "181d567361704d11a462fbe1ad7d5849": {
      "model_module": "@jupyter-widgets/base",
      "model_module_version": "1.2.0",
      "model_name": "LayoutModel",
      "state": {}
     },
     "1842864a7acc49f7bf3841ef19e11d2b": {
      "model_module": "@jupyter-widgets/controls",
      "model_module_version": "1.5.0",
      "model_name": "ButtonModel",
      "state": {
       "description": "Generate",
       "layout": "IPY_MODEL_93be3c8120dc45868ce8e6981f3d2536",
       "style": "IPY_MODEL_99a8d8d74ffd4f639f47a0daf5da19fc"
      }
     },
     "1870d7227428416e89ce33745623a885": {
      "model_module": "@jupyter-widgets/output",
      "model_module_version": "1.0.0",
      "model_name": "OutputModel",
      "state": {
       "layout": "IPY_MODEL_e8b195d99c174151bf6ace62d5479433",
       "outputs": [
        {
         "data": {
          "text/plain": "'C:/PythonWorkspace/stylegan2-ada-pytorch-main/out/seed0929.png'"
         },
         "metadata": {},
         "output_type": "display_data"
        }
       ]
      }
     },
     "18d13188ee3f41dd94443945dfc9249c": {
      "model_module": "@jupyter-widgets/controls",
      "model_module_version": "1.5.0",
      "model_name": "VBoxModel",
      "state": {
       "children": [
        "IPY_MODEL_2343ce678b954771b6d81907bb1656da",
        "IPY_MODEL_328e8f902bd4449d82d56687f3024bd4"
       ],
       "layout": "IPY_MODEL_c4938ece17a745a894f2e13016630985"
      }
     },
     "1916a19ac9a94d70baa628d01b0c4092": {
      "model_module": "@jupyter-widgets/controls",
      "model_module_version": "1.5.0",
      "model_name": "ButtonModel",
      "state": {
       "description": "Reset Latent Controls",
       "layout": "IPY_MODEL_0fee6c67107e4659b5aa91cd25d572be",
       "style": "IPY_MODEL_b2f3407f79604b1cad233c26f6113510"
      }
     },
     "197f2181857a489c82f81f92087d7aff": {
      "model_module": "@jupyter-widgets/controls",
      "model_module_version": "1.5.0",
      "model_name": "ButtonModel",
      "state": {
       "description": "Generate",
       "layout": "IPY_MODEL_faac4d603ee34538944ff37bc5d767ef",
       "style": "IPY_MODEL_f2f753526382420d900dda4b297cdddd"
      }
     },
     "197f69743f424b769ce195f2d3a946c0": {
      "model_module": "@jupyter-widgets/controls",
      "model_module_version": "1.5.0",
      "model_name": "ButtonModel",
      "state": {
       "description": "Generate",
       "layout": "IPY_MODEL_70874e5732fd46be84847fec3c7952a7",
       "style": "IPY_MODEL_5f1f23f8f4ea4c3c972aa6ab075a4cae"
      }
     },
     "1994401c001d40ec8b05bf02c7754b2f": {
      "model_module": "@jupyter-widgets/base",
      "model_module_version": "1.2.0",
      "model_name": "LayoutModel",
      "state": {}
     },
     "19a439f42a0f47f3a1c7cc5ef2a54bf4": {
      "model_module": "@jupyter-widgets/base",
      "model_module_version": "1.2.0",
      "model_name": "LayoutModel",
      "state": {}
     },
     "19dde12113504f88ae926f087fb061f4": {
      "model_module": "@jupyter-widgets/controls",
      "model_module_version": "1.5.0",
      "model_name": "HBoxModel",
      "state": {
       "children": [
        "IPY_MODEL_a841bcbedad7430d8f525b06d3a59517",
        "IPY_MODEL_5132cc151eab4085aab802a089390aaa"
       ],
       "layout": "IPY_MODEL_49df5a2de30942e8b3fa6ea41777f8ec"
      }
     },
     "19e2c807c5234ed19449096e0d7238e1": {
      "model_module": "@jupyter-widgets/controls",
      "model_module_version": "1.5.0",
      "model_name": "ButtonStyleModel",
      "state": {}
     },
     "1a057ca755604074a9d4f1d523e5dae7": {
      "model_module": "@jupyter-widgets/controls",
      "model_module_version": "1.5.0",
      "model_name": "HBoxModel",
      "state": {
       "children": [
        "IPY_MODEL_0cefc411676743fb9b49a55715fa1398",
        "IPY_MODEL_3f9171cd59224c26a773151f4d08b827"
       ],
       "layout": "IPY_MODEL_027c825eb9284f78ade951bf6e899ad1"
      }
     },
     "1a1e21a08a574543b2fe942cc9afcb50": {
      "model_module": "@jupyter-widgets/base",
      "model_module_version": "1.2.0",
      "model_name": "LayoutModel",
      "state": {}
     },
     "1a84f42468dd40418e35d632658ceff8": {
      "model_module": "@jupyter-widgets/base",
      "model_module_version": "1.2.0",
      "model_name": "LayoutModel",
      "state": {
       "height": "30%",
       "width": "75%"
      }
     },
     "1aab1245f3ae46358339869525e16e35": {
      "model_module": "@jupyter-widgets/base",
      "model_module_version": "1.2.0",
      "model_name": "LayoutModel",
      "state": {}
     },
     "1acc6eb339e3469080ea85e47ce68cb6": {
      "model_module": "@jupyter-widgets/controls",
      "model_module_version": "1.5.0",
      "model_name": "LabelModel",
      "state": {
       "layout": "IPY_MODEL_7ce574eda9de46d9b499d070f8dfbbf0",
       "style": "IPY_MODEL_27a4bbed6aa74a15b2c1a1751d9492a4"
      }
     },
     "1ad5d90ea5c4457a992806b85d4a0198": {
      "model_module": "@jupyter-widgets/controls",
      "model_module_version": "1.5.0",
      "model_name": "VBoxModel",
      "state": {
       "children": [
        "IPY_MODEL_bac1467a51a44b36972301615264a652",
        "IPY_MODEL_576f43a177f74622b8e41ff44a052b43"
       ],
       "layout": "IPY_MODEL_c5aa4fdae4cf4861901126de7f6095c9"
      }
     },
     "1ad615e8441048538f9596f014b54281": {
      "model_module": "@jupyter-widgets/controls",
      "model_module_version": "1.5.0",
      "model_name": "FloatSliderModel",
      "state": {
       "layout": "IPY_MODEL_2ac63f00fce54c809a7c7ed100f5fcc3",
       "max": 50,
       "min": -50,
       "step": 0.1,
       "style": "IPY_MODEL_efe28603b99f4362bf4a60dda67938bf"
      }
     },
     "1ae15857024348a09699bc3977c3da3c": {
      "model_module": "@jupyter-widgets/output",
      "model_module_version": "1.0.0",
      "model_name": "OutputModel",
      "state": {
       "layout": "IPY_MODEL_ba364ca75271439fbfdb130f84be00d9",
       "outputs": [
        {
         "data": {
          "text/plain": "'C:/PythonWorkspace/stylegan2-ada-pytorch-main/out/seed0929.png'"
         },
         "metadata": {},
         "output_type": "display_data"
        }
       ]
      }
     },
     "1b11837bd0e14f76bfa05190c87cec4c": {
      "model_module": "@jupyter-widgets/controls",
      "model_module_version": "1.5.0",
      "model_name": "DescriptionStyleModel",
      "state": {
       "description_width": ""
      }
     },
     "1b12ff03144f4058996d4decf4dda6fc": {
      "model_module": "@jupyter-widgets/base",
      "model_module_version": "1.2.0",
      "model_name": "LayoutModel",
      "state": {}
     },
     "1b4cc288fbf1490386a858d53c307099": {
      "model_module": "@jupyter-widgets/controls",
      "model_module_version": "1.5.0",
      "model_name": "SliderStyleModel",
      "state": {
       "description_width": ""
      }
     },
     "1b4ea396249b4bd38939fe9846a1fdc4": {
      "model_module": "@jupyter-widgets/controls",
      "model_module_version": "1.5.0",
      "model_name": "ButtonStyleModel",
      "state": {}
     },
     "1bc53c12a6d2417c9a244744a9307418": {
      "model_module": "@jupyter-widgets/controls",
      "model_module_version": "1.5.0",
      "model_name": "ButtonModel",
      "state": {
       "description": "Reset Latent Controls",
       "layout": "IPY_MODEL_2ba272a8734d4278b12280a7a42fe558",
       "style": "IPY_MODEL_215a23979418478d973e5227d2f404af"
      }
     },
     "1c147f407d6f4928aca227038c5ab544": {
      "model_module": "@jupyter-widgets/base",
      "model_module_version": "1.2.0",
      "model_name": "LayoutModel",
      "state": {}
     },
     "1c1557a68c4e40fea4239d532207cf29": {
      "model_module": "@jupyter-widgets/controls",
      "model_module_version": "1.5.0",
      "model_name": "DescriptionStyleModel",
      "state": {
       "description_width": ""
      }
     },
     "1c987b581c8a4430a07ec5390e2cdff7": {
      "model_module": "@jupyter-widgets/base",
      "model_module_version": "1.2.0",
      "model_name": "LayoutModel",
      "state": {}
     },
     "1ca573fc84814ca99c016bbde1c2a3e4": {
      "model_module": "@jupyter-widgets/controls",
      "model_module_version": "1.5.0",
      "model_name": "FloatSliderModel",
      "state": {
       "layout": "IPY_MODEL_c0bfc74e0ab4493eaf5d98d2a90b2831",
       "max": 50,
       "min": -50,
       "step": 0.1,
       "style": "IPY_MODEL_7539b05869874e95ba75d240b88ed025"
      }
     },
     "1cb04d300678436cbabb65ce3066cc19": {
      "model_module": "@jupyter-widgets/controls",
      "model_module_version": "1.5.0",
      "model_name": "VBoxModel",
      "state": {
       "children": [
        "IPY_MODEL_b0e9ea87fb43444d9ae2763ad7eb03f1",
        "IPY_MODEL_2d6bb3853f9f472a993462d1274ef3f0"
       ],
       "layout": "IPY_MODEL_f33d7b6274ba4c2897b1171e1cfc2417"
      }
     },
     "1ce37a7291044f88aeed4f861e1bcd49": {
      "model_module": "@jupyter-widgets/base",
      "model_module_version": "1.2.0",
      "model_name": "LayoutModel",
      "state": {}
     },
     "1d34c39f255046b1965edaeb978331fc": {
      "model_module": "@jupyter-widgets/controls",
      "model_module_version": "1.5.0",
      "model_name": "VBoxModel",
      "state": {
       "children": [
        "IPY_MODEL_568a176e323144b5a8357bc5f01dee89",
        "IPY_MODEL_75dc4460b4334030bcd9b8d7e4744d57"
       ],
       "layout": "IPY_MODEL_6c57d3be95a1446a8abdbec44ed19fde"
      }
     },
     "1df3fb7e69d9460d8889f7d6f940be30": {
      "model_module": "@jupyter-widgets/controls",
      "model_module_version": "1.5.0",
      "model_name": "LabelModel",
      "state": {
       "layout": "IPY_MODEL_7c304631d38447b392771ad2c728ca9c",
       "style": "IPY_MODEL_4f645d579bdf40b088fd95271b260aa5",
       "value": "C:"
      }
     },
     "1e0238c40c604378b23126a37a31e9de": {
      "model_module": "@jupyter-widgets/base",
      "model_module_version": "1.2.0",
      "model_name": "LayoutModel",
      "state": {}
     },
     "1e242596c7034980b3cd01ec7620f59f": {
      "model_module": "@jupyter-widgets/controls",
      "model_module_version": "1.5.0",
      "model_name": "ButtonStyleModel",
      "state": {}
     },
     "1e7b66ba72854d1ebe6bfae9b0b16812": {
      "model_module": "@jupyter-widgets/output",
      "model_module_version": "1.0.0",
      "model_name": "OutputModel",
      "state": {
       "layout": "IPY_MODEL_91caa9c6b9b94027b2bfa94fee297e08",
       "outputs": [
        {
         "data": {
          "text/plain": "'C:/PythonWorkspace/stylegan2-ada-pytorch-main/out/seed0929.png'"
         },
         "metadata": {},
         "output_type": "display_data"
        }
       ]
      }
     },
     "1e805eaebc21400fb88a3905a274cae1": {
      "model_module": "@jupyter-widgets/output",
      "model_module_version": "1.0.0",
      "model_name": "OutputModel",
      "state": {
       "layout": "IPY_MODEL_4174ed8c18804f3499c0070cb061baf2",
       "outputs": [
        {
         "data": {
          "text/plain": "'C:/PythonWorkspace/stylegan2-ada-pytorch-main/out/seed0929.png'"
         },
         "metadata": {},
         "output_type": "display_data"
        }
       ]
      }
     },
     "1e9d2e3c883f41d298e24050d82d2231": {
      "model_module": "@jupyter-widgets/base",
      "model_module_version": "1.2.0",
      "model_name": "LayoutModel",
      "state": {}
     },
     "1eed7d3c270249ac9668e5618456e904": {
      "model_module": "@jupyter-widgets/output",
      "model_module_version": "1.0.0",
      "model_name": "OutputModel",
      "state": {
       "layout": "IPY_MODEL_31d9c422cc8e4b37976417cea290628c",
       "outputs": [
        {
         "data": {
          "text/plain": "'C:/PythonWorkspace/stylegan2-ada-pytorch-main/out/seed0929.png'"
         },
         "metadata": {},
         "output_type": "display_data"
        }
       ]
      }
     },
     "1f159129abfe429c84bad21048014e6a": {
      "model_module": "@jupyter-widgets/controls",
      "model_module_version": "1.5.0",
      "model_name": "VBoxModel",
      "state": {
       "children": [
        "IPY_MODEL_5700c9a4a69b4c74b1ccbe8bb8aba063",
        "IPY_MODEL_a04f2923564842d3a4429ea6df27bf97",
        "IPY_MODEL_4f3644925d8947b4b5515314e34f8526",
        "IPY_MODEL_06e37f6dfb054e26b4014656d2aea2a6"
       ],
       "layout": "IPY_MODEL_3b9069c4b9a04b0bb46c1b57407f7702"
      }
     },
     "1f779e5505354543adebf0aa9f61b42d": {
      "model_module": "@jupyter-widgets/base",
      "model_module_version": "1.2.0",
      "model_name": "LayoutModel",
      "state": {}
     },
     "1fbc8dd5ded140ab92a37c2d70434852": {
      "model_module": "@jupyter-widgets/base",
      "model_module_version": "1.2.0",
      "model_name": "LayoutModel",
      "state": {}
     },
     "1fdcc3204c4d43808d82f00b951c7ca9": {
      "model_module": "@jupyter-widgets/controls",
      "model_module_version": "1.5.0",
      "model_name": "SliderStyleModel",
      "state": {
       "description_width": ""
      }
     },
     "1fde7f8bb7364229a3f77fa80efcf610": {
      "model_module": "@jupyter-widgets/controls",
      "model_module_version": "1.5.0",
      "model_name": "FloatSliderModel",
      "state": {
       "layout": "IPY_MODEL_f678002af13a4d6c8b3c02a99ce46fc9",
       "max": 50,
       "min": -50,
       "step": 0.1,
       "style": "IPY_MODEL_64c81e7c1f564218a753a601f39611e2"
      }
     },
     "1ff94e207f3e4d7b93c20aaf84b2c331": {
      "model_module": "@jupyter-widgets/controls",
      "model_module_version": "1.5.0",
      "model_name": "ButtonStyleModel",
      "state": {}
     },
     "205f3fad49ff409bade316342e943964": {
      "model_module": "@jupyter-widgets/base",
      "model_module_version": "1.2.0",
      "model_name": "LayoutModel",
      "state": {}
     },
     "206ad4ed30d64ff3aa0953228df3aefc": {
      "model_module": "@jupyter-widgets/controls",
      "model_module_version": "1.5.0",
      "model_name": "VBoxModel",
      "state": {
       "children": [
        "IPY_MODEL_88414eb19a8f47b7b29180c1545096bd",
        "IPY_MODEL_d6ec7e79daad4a5c97db016f2231b7e4"
       ],
       "layout": "IPY_MODEL_c54cbaf5bc6c40f0857d455380909a15"
      }
     },
     "208ec003feb743ecab856f3cf250da8b": {
      "model_module": "@jupyter-widgets/controls",
      "model_module_version": "1.5.0",
      "model_name": "FloatSliderModel",
      "state": {
       "layout": "IPY_MODEL_d8cc15db36c840fea81b67f1e97051dd",
       "max": 50,
       "min": -50,
       "step": 0.1,
       "style": "IPY_MODEL_9ac4cde4a8cb49eeba63fad03c25e4b7"
      }
     },
     "20d2930feba04465a48d977fd65205c7": {
      "model_module": "@jupyter-widgets/controls",
      "model_module_version": "1.5.0",
      "model_name": "SliderStyleModel",
      "state": {
       "description_width": ""
      }
     },
     "20e1ceb8aa2b48b0961d4f9a4999c746": {
      "model_module": "@jupyter-widgets/base",
      "model_module_version": "1.2.0",
      "model_name": "LayoutModel",
      "state": {}
     },
     "2107fa7525a640268b6bb5d1fab2f1ad": {
      "model_module": "@jupyter-widgets/controls",
      "model_module_version": "1.5.0",
      "model_name": "SliderStyleModel",
      "state": {
       "description_width": ""
      }
     },
     "212f0d2249994a0ca8e823ebb7463323": {
      "model_module": "@jupyter-widgets/controls",
      "model_module_version": "1.5.0",
      "model_name": "VBoxModel",
      "state": {
       "children": [
        "IPY_MODEL_2e352226c4d641f1ac5757377df4693d",
        "IPY_MODEL_9b9d441de2214638a3964303355ae296"
       ],
       "layout": "IPY_MODEL_fc007b3bb88d44de8b2760cb19431fdb"
      }
     },
     "2154850433584bdc8967b475ac0d8d5d": {
      "model_module": "@jupyter-widgets/base",
      "model_module_version": "1.2.0",
      "model_name": "LayoutModel",
      "state": {}
     },
     "215a23979418478d973e5227d2f404af": {
      "model_module": "@jupyter-widgets/controls",
      "model_module_version": "1.5.0",
      "model_name": "ButtonStyleModel",
      "state": {}
     },
     "216dc6ea49834d93aa275e746ff7d600": {
      "model_module": "@jupyter-widgets/controls",
      "model_module_version": "1.5.0",
      "model_name": "FloatSliderModel",
      "state": {
       "layout": "IPY_MODEL_c4fea468457040ce93829c7fbf16f967",
       "max": 50,
       "min": -50,
       "step": 0.1,
       "style": "IPY_MODEL_14fedb5fb18e4a489ee8053ad010d128"
      }
     },
     "218e968be0614e2d8c3567537f3180b0": {
      "model_module": "@jupyter-widgets/controls",
      "model_module_version": "1.5.0",
      "model_name": "ButtonModel",
      "state": {
       "description": "Generate",
       "layout": "IPY_MODEL_d49822a1c42240d5965792ace514f4d5",
       "style": "IPY_MODEL_c81b030ac0114240959a4f69869adc47"
      }
     },
     "219140b6597841d5b53d0b1b2d49e2aa": {
      "model_module": "@jupyter-widgets/controls",
      "model_module_version": "1.5.0",
      "model_name": "ButtonStyleModel",
      "state": {}
     },
     "21c303f21bcb4e61bba7543714efcabf": {
      "model_module": "@jupyter-widgets/output",
      "model_module_version": "1.0.0",
      "model_name": "OutputModel",
      "state": {
       "layout": "IPY_MODEL_ccc7cbd6e37c4a2c9fbd042e03a11db6",
       "outputs": [
        {
         "data": {
          "text/plain": "'C:/PythonWorkspace/stylegan2-ada-pytorch-main/out/seed0929.png'"
         },
         "metadata": {},
         "output_type": "display_data"
        }
       ]
      }
     },
     "22263a84e58a475f95c324b564628c0c": {
      "model_module": "@jupyter-widgets/output",
      "model_module_version": "1.0.0",
      "model_name": "OutputModel",
      "state": {
       "layout": "IPY_MODEL_ae26f31fc29043ca8575d740e8836b3c",
       "outputs": [
        {
         "data": {
          "text/plain": "'C:/PythonWorkspace/stylegan2-ada-pytorch-main/out/seed0929.png'"
         },
         "metadata": {},
         "output_type": "display_data"
        }
       ]
      }
     },
     "222b948e9ef049abb7e5f4aac9d28ced": {
      "model_module": "@jupyter-widgets/output",
      "model_module_version": "1.0.0",
      "model_name": "OutputModel",
      "state": {
       "layout": "IPY_MODEL_895a8f2d60d14fd784305a7a57575789",
       "outputs": [
        {
         "data": {
          "text/plain": "'C:/PythonWorkspace/stylegan2-ada-pytorch-main/out/seed0929.png'"
         },
         "metadata": {},
         "output_type": "display_data"
        }
       ]
      }
     },
     "223a763add9444919599404e587313f7": {
      "model_module": "@jupyter-widgets/output",
      "model_module_version": "1.0.0",
      "model_name": "OutputModel",
      "state": {
       "layout": "IPY_MODEL_db7711653a0e41698406e8e0f1719a89",
       "outputs": [
        {
         "data": {
          "text/plain": "'C:/PythonWorkspace/stylegan2-ada-pytorch-main/out/seed0929.png'"
         },
         "metadata": {},
         "output_type": "display_data"
        }
       ]
      }
     },
     "22e326fcc636460997cc31534efad081": {
      "model_module": "@jupyter-widgets/controls",
      "model_module_version": "1.5.0",
      "model_name": "ButtonModel",
      "state": {
       "description": "Generate",
       "layout": "IPY_MODEL_c6abeda573a148a78ee5fd68686be050",
       "style": "IPY_MODEL_0129a64c95db42288dcc8ab2e8822a77"
      }
     },
     "2316f3a0735842768c51393a40537212": {
      "model_module": "@jupyter-widgets/controls",
      "model_module_version": "1.5.0",
      "model_name": "ButtonStyleModel",
      "state": {}
     },
     "2343ce678b954771b6d81907bb1656da": {
      "model_module": "@jupyter-widgets/output",
      "model_module_version": "1.0.0",
      "model_name": "OutputModel",
      "state": {
       "layout": "IPY_MODEL_5ef05d9ac13b4e7098f1d9ecd0fccda9",
       "outputs": [
        {
         "data": {
          "text/plain": "'C:/PythonWorkspace/stylegan2-ada-pytorch-main/out/seed0929.png'"
         },
         "metadata": {},
         "output_type": "display_data"
        }
       ]
      }
     },
     "237664d1f6c54f9cbc800722d7077fe1": {
      "model_module": "@jupyter-widgets/base",
      "model_module_version": "1.2.0",
      "model_name": "LayoutModel",
      "state": {}
     },
     "24198e33afce41b5ad4e0805606e2080": {
      "model_module": "@jupyter-widgets/controls",
      "model_module_version": "1.5.0",
      "model_name": "VBoxModel",
      "state": {
       "children": [
        "IPY_MODEL_f91fae9564af4f888646f30af52ed384",
        "IPY_MODEL_fc4de4b1a0ae4d8095a3b643dfdca17c",
        "IPY_MODEL_6b9d6622e5c44173b96d85301d61f106",
        "IPY_MODEL_fc2ca4683fea434980234bd556449db7"
       ],
       "layout": "IPY_MODEL_44905ba1d3f846c9acf27a8d65615524"
      }
     },
     "24b15660491b42ffa26e21b2ef37038e": {
      "model_module": "@jupyter-widgets/base",
      "model_module_version": "1.2.0",
      "model_name": "LayoutModel",
      "state": {
       "height": "30%",
       "width": "75%"
      }
     },
     "24d4abda623a4b45a164e1f78dcd0ee6": {
      "model_module": "@jupyter-widgets/controls",
      "model_module_version": "1.5.0",
      "model_name": "ButtonModel",
      "state": {
       "description": "Generate",
       "layout": "IPY_MODEL_63a7fa3f6a1f4768bbcaf629ffc8793c",
       "style": "IPY_MODEL_849923de9037404aa1afd8403aef4740"
      }
     },
     "24ed7acf2e6340b99448e2730cc4b1df": {
      "model_module": "@jupyter-widgets/controls",
      "model_module_version": "1.5.0",
      "model_name": "ButtonModel",
      "state": {
       "description": "Reset Latent Controls",
       "layout": "IPY_MODEL_79fa1a4a7edf477ea68a085fc3d6ecbd",
       "style": "IPY_MODEL_b458e27bf19547dd81d2f38a977d01fc"
      }
     },
     "2591e9ddb9894cee9c931632385b1628": {
      "model_module": "@jupyter-widgets/output",
      "model_module_version": "1.0.0",
      "model_name": "OutputModel",
      "state": {
       "layout": "IPY_MODEL_0cfe084a3e944f4980e8458944047546",
       "outputs": [
        {
         "data": {
          "text/plain": "'C:/PythonWorkspace/stylegan2-ada-pytorch-main/out/seed0929.png'"
         },
         "metadata": {},
         "output_type": "display_data"
        }
       ]
      }
     },
     "25d427a07cf14ca5857fd9ce666d1315": {
      "model_module": "@jupyter-widgets/controls",
      "model_module_version": "1.5.0",
      "model_name": "ButtonModel",
      "state": {
       "description": "Generate",
       "layout": "IPY_MODEL_c535770cedc645e79094af568d138858",
       "style": "IPY_MODEL_e9067497945748f0b99614aceb2a47e0"
      }
     },
     "25def6e51f5f4620a9c84e338dc6ac23": {
      "model_module": "@jupyter-widgets/base",
      "model_module_version": "1.2.0",
      "model_name": "LayoutModel",
      "state": {
       "height": "10%",
       "width": "75%"
      }
     },
     "25fb285fc6234cd78a3c1a788dbf33f9": {
      "model_module": "@jupyter-widgets/base",
      "model_module_version": "1.2.0",
      "model_name": "LayoutModel",
      "state": {
       "height": "30%",
       "width": "75%"
      }
     },
     "265afe9d9aa24e479de9a7b8e0ed3c04": {
      "model_module": "@jupyter-widgets/output",
      "model_module_version": "1.0.0",
      "model_name": "OutputModel",
      "state": {
       "layout": "IPY_MODEL_ed2346c08c2c444299d3360165c693e3",
       "outputs": [
        {
         "data": {
          "text/plain": "'C:/PythonWorkspace/stylegan2-ada-pytorch-main/out/seed0929.png'"
         },
         "metadata": {},
         "output_type": "display_data"
        }
       ]
      }
     },
     "265cd244264e48079d900b9f6f560075": {
      "model_module": "@jupyter-widgets/controls",
      "model_module_version": "1.5.0",
      "model_name": "FloatSliderModel",
      "state": {
       "layout": "IPY_MODEL_2e8add6131ba448bbce415be3e7570f0",
       "max": 50,
       "min": -50,
       "step": 0.1,
       "style": "IPY_MODEL_8a48d7e2ed9e43aca8e6db867dddd3c5"
      }
     },
     "267b699664ec40fc88843daaa659407d": {
      "model_module": "@jupyter-widgets/base",
      "model_module_version": "1.2.0",
      "model_name": "LayoutModel",
      "state": {}
     },
     "268b56d8df1a4bcd86fa2c1b29bf460a": {
      "model_module": "@jupyter-widgets/base",
      "model_module_version": "1.2.0",
      "model_name": "LayoutModel",
      "state": {}
     },
     "26c467ba6f4c48a181f943e42d787122": {
      "model_module": "@jupyter-widgets/base",
      "model_module_version": "1.2.0",
      "model_name": "LayoutModel",
      "state": {
       "height": "30%",
       "width": "75%"
      }
     },
     "26cc312e49a44cf2bb68bb4f1663c1b2": {
      "model_module": "@jupyter-widgets/controls",
      "model_module_version": "1.5.0",
      "model_name": "LabelModel",
      "state": {
       "layout": "IPY_MODEL_e75cd47d965c40c0be1c80fecaedb87c",
       "style": "IPY_MODEL_cea8dc5f85744c92b76201867107a8ee"
      }
     },
     "26d43e56572942cb99248b4ba9f83206": {
      "model_module": "@jupyter-widgets/base",
      "model_module_version": "1.2.0",
      "model_name": "LayoutModel",
      "state": {}
     },
     "26edb8e8269b4ac380a55a5305ccb7f9": {
      "model_module": "@jupyter-widgets/controls",
      "model_module_version": "1.5.0",
      "model_name": "HBoxModel",
      "state": {
       "children": [
        "IPY_MODEL_33b11afb12474afbad478dd9a5c81340",
        "IPY_MODEL_43c16d0155bd4d57bce46f115e1000cb"
       ],
       "layout": "IPY_MODEL_cd602a7b7562486aa2147ca015dcc1c8"
      }
     },
     "271e79421339490c80c3379539b7442f": {
      "model_module": "@jupyter-widgets/controls",
      "model_module_version": "1.5.0",
      "model_name": "ButtonStyleModel",
      "state": {}
     },
     "2731b06d599f42f387f733f23c4a0395": {
      "model_module": "@jupyter-widgets/base",
      "model_module_version": "1.2.0",
      "model_name": "LayoutModel",
      "state": {}
     },
     "2769c32320144f7687a31f716597c7d9": {
      "model_module": "@jupyter-widgets/output",
      "model_module_version": "1.0.0",
      "model_name": "OutputModel",
      "state": {
       "layout": "IPY_MODEL_c2403b13800a47fe99db5f34c7760a45",
       "outputs": [
        {
         "data": {
          "text/plain": "'C:/PythonWorkspace/stylegan2-ada-pytorch-main/out/seed0929.png'"
         },
         "metadata": {},
         "output_type": "display_data"
        }
       ]
      }
     },
     "27a4bbed6aa74a15b2c1a1751d9492a4": {
      "model_module": "@jupyter-widgets/controls",
      "model_module_version": "1.5.0",
      "model_name": "DescriptionStyleModel",
      "state": {
       "description_width": ""
      }
     },
     "27ba935801b9491d95d0756f378a3492": {
      "model_module": "@jupyter-widgets/controls",
      "model_module_version": "1.5.0",
      "model_name": "VBoxModel",
      "state": {
       "children": [
        "IPY_MODEL_6a49ef3edffb49beac71a954e478a292",
        "IPY_MODEL_4960d5a925a64713bd7d3d75990fd0a5"
       ],
       "layout": "IPY_MODEL_14dc50573ace476695d484e5423f363d"
      }
     },
     "27d414c6ec764c24826ace2b367646e3": {
      "model_module": "@jupyter-widgets/base",
      "model_module_version": "1.2.0",
      "model_name": "LayoutModel",
      "state": {}
     },
     "27d5b75701934fee8c092ea5a3e4bef9": {
      "model_module": "@jupyter-widgets/base",
      "model_module_version": "1.2.0",
      "model_name": "LayoutModel",
      "state": {}
     },
     "27dcea99da5e4b21b83df1c7e28855bc": {
      "model_module": "@jupyter-widgets/base",
      "model_module_version": "1.2.0",
      "model_name": "LayoutModel",
      "state": {}
     },
     "27fec7858e2244d4ab00c0e9dab90e09": {
      "model_module": "@jupyter-widgets/base",
      "model_module_version": "1.2.0",
      "model_name": "LayoutModel",
      "state": {}
     },
     "2823e94f205f4669abc077c2c05685cf": {
      "model_module": "@jupyter-widgets/controls",
      "model_module_version": "1.5.0",
      "model_name": "FloatSliderModel",
      "state": {
       "layout": "IPY_MODEL_40a4563b88814a089e28623e744ba500",
       "max": 50,
       "min": -50,
       "step": 0.1,
       "style": "IPY_MODEL_8b8035cdb6894c1198f0cc262c251abb",
       "value": 20.9
      }
     },
     "283f40bb673c46078269cf82f0eae3ab": {
      "model_module": "@jupyter-widgets/base",
      "model_module_version": "1.2.0",
      "model_name": "LayoutModel",
      "state": {}
     },
     "2877444704404b9fbc0505d0035933d3": {
      "model_module": "@jupyter-widgets/base",
      "model_module_version": "1.2.0",
      "model_name": "LayoutModel",
      "state": {}
     },
     "28b072a57cac4d7c9199aa0ebbe75e26": {
      "model_module": "@jupyter-widgets/base",
      "model_module_version": "1.2.0",
      "model_name": "LayoutModel",
      "state": {}
     },
     "28c6245b6c814f80b220330f19e1f113": {
      "model_module": "@jupyter-widgets/controls",
      "model_module_version": "1.5.0",
      "model_name": "VBoxModel",
      "state": {
       "children": [
        "IPY_MODEL_c864065f2c62418b8f9c107e4c8a0d36",
        "IPY_MODEL_d22d74fc14af45a5b06c9f1e50814e6d",
        "IPY_MODEL_6cbd2ba93c8340ad9fa4d565e25bd8a4",
        "IPY_MODEL_e1b18111dd4042a688e406913d15d213"
       ],
       "layout": "IPY_MODEL_d8e6f64812734925b7722f9f06231aeb"
      }
     },
     "29278af70b2f489f9e78f423b384c530": {
      "model_module": "@jupyter-widgets/base",
      "model_module_version": "1.2.0",
      "model_name": "LayoutModel",
      "state": {}
     },
     "292fc48e946a4dbaaed714d52acd9c5e": {
      "model_module": "@jupyter-widgets/controls",
      "model_module_version": "1.5.0",
      "model_name": "VBoxModel",
      "state": {
       "children": [
        "IPY_MODEL_76fa0e318ace40bc87d9ab583b37b6a6",
        "IPY_MODEL_cbc358e7f391465eade353d81313d3e4"
       ],
       "layout": "IPY_MODEL_1319b42e88eb43a8a11f45b38511f80e"
      }
     },
     "294fd8f43f704c16a1f6b15950837040": {
      "model_module": "@jupyter-widgets/base",
      "model_module_version": "1.2.0",
      "model_name": "LayoutModel",
      "state": {}
     },
     "2984ee2091ee4862a095dc6296dc7a11": {
      "model_module": "@jupyter-widgets/output",
      "model_module_version": "1.0.0",
      "model_name": "OutputModel",
      "state": {
       "layout": "IPY_MODEL_9220f506a18449be89e63596b3ff81a8"
      }
     },
     "2991017ea6f84f13a3879f2252ad55ed": {
      "model_module": "@jupyter-widgets/controls",
      "model_module_version": "1.5.0",
      "model_name": "DescriptionStyleModel",
      "state": {
       "description_width": ""
      }
     },
     "29af78e65ea040ba80e142dd3cca2f90": {
      "model_module": "@jupyter-widgets/output",
      "model_module_version": "1.0.0",
      "model_name": "OutputModel",
      "state": {
       "layout": "IPY_MODEL_d936dfd9623143e88903eb0006b96a09",
       "outputs": [
        {
         "data": {
          "text/plain": "'C:/PythonWorkspace/stylegan2-ada-pytorch-main/out/seed0929.png'"
         },
         "metadata": {},
         "output_type": "display_data"
        }
       ]
      }
     },
     "2a35ed9b4b6e461493304a8d59b1dc7f": {
      "model_module": "@jupyter-widgets/controls",
      "model_module_version": "1.5.0",
      "model_name": "LabelModel",
      "state": {
       "layout": "IPY_MODEL_a9262b8b8729472185faf17aa0f47472",
       "style": "IPY_MODEL_458cdeb6966444e1a418b148d256480d"
      }
     },
     "2ac63f00fce54c809a7c7ed100f5fcc3": {
      "model_module": "@jupyter-widgets/base",
      "model_module_version": "1.2.0",
      "model_name": "LayoutModel",
      "state": {}
     },
     "2afec1d742ae467e95e0fe11f72a8944": {
      "model_module": "@jupyter-widgets/controls",
      "model_module_version": "1.5.0",
      "model_name": "ButtonModel",
      "state": {
       "description": "Generate",
       "layout": "IPY_MODEL_d4fe34e5554d446da45e80483464f2fa",
       "style": "IPY_MODEL_c30ff5cd17fd4e4fa3fa5394f489c39a"
      }
     },
     "2b0ba40368f94f22af70fc1d02f79719": {
      "model_module": "@jupyter-widgets/base",
      "model_module_version": "1.2.0",
      "model_name": "LayoutModel",
      "state": {
       "height": "30%",
       "width": "75%"
      }
     },
     "2b0e742b5fa141c297c274226c43e391": {
      "model_module": "@jupyter-widgets/controls",
      "model_module_version": "1.5.0",
      "model_name": "ButtonModel",
      "state": {
       "description": "Generate",
       "layout": "IPY_MODEL_a44a843ae34c400ca862078dc13642d7",
       "style": "IPY_MODEL_ceeaaf3016d445b1972d0da48505542c"
      }
     },
     "2b1429c438f645ea85dac051dc01ff19": {
      "model_module": "@jupyter-widgets/base",
      "model_module_version": "1.2.0",
      "model_name": "LayoutModel",
      "state": {}
     },
     "2b7b087ffd3741139e2689d536cc3cfb": {
      "model_module": "@jupyter-widgets/controls",
      "model_module_version": "1.5.0",
      "model_name": "VBoxModel",
      "state": {
       "children": [
        "IPY_MODEL_a1ad4b26cd5a4ef09b77f86dc3a7efee",
        "IPY_MODEL_cdc2e2118002421bbfc86711c23d07cb"
       ],
       "layout": "IPY_MODEL_29278af70b2f489f9e78f423b384c530"
      }
     },
     "2b88e04dd400428dbe50a12e2518587d": {
      "model_module": "@jupyter-widgets/controls",
      "model_module_version": "1.5.0",
      "model_name": "VBoxModel",
      "state": {
       "children": [
        "IPY_MODEL_f57a37c789ab4e54ba58e02ce35ae57b",
        "IPY_MODEL_1236fb24d1ca4ac497a64bec348e8870"
       ],
       "layout": "IPY_MODEL_27d414c6ec764c24826ace2b367646e3"
      }
     },
     "2ba272a8734d4278b12280a7a42fe558": {
      "model_module": "@jupyter-widgets/base",
      "model_module_version": "1.2.0",
      "model_name": "LayoutModel",
      "state": {
       "height": "30%",
       "width": "75%"
      }
     },
     "2ba699743f824134aaa210d1ede5867b": {
      "model_module": "@jupyter-widgets/controls",
      "model_module_version": "1.5.0",
      "model_name": "ButtonStyleModel",
      "state": {}
     },
     "2c08b8325daf42e1a11850c50e66592a": {
      "model_module": "@jupyter-widgets/controls",
      "model_module_version": "1.5.0",
      "model_name": "VBoxModel",
      "state": {
       "children": [
        "IPY_MODEL_106d02216860480dbffb8981b67c4618",
        "IPY_MODEL_8a953845c5ed4fec8f3eb885a0de7e4b"
       ],
       "layout": "IPY_MODEL_7a638fed63ca41df9891d740b9257184"
      }
     },
     "2c34cd7481354ab39382725429a1611c": {
      "model_module": "@jupyter-widgets/controls",
      "model_module_version": "1.5.0",
      "model_name": "ButtonStyleModel",
      "state": {}
     },
     "2c5f115e5b9e4de6864f69d02c1ffa1b": {
      "model_module": "@jupyter-widgets/output",
      "model_module_version": "1.0.0",
      "model_name": "OutputModel",
      "state": {
       "layout": "IPY_MODEL_315fcf928cd14d9081550f88aa48dd9b",
       "outputs": [
        {
         "data": {
          "text/plain": "'C:/PythonWorkspace/stylegan2-ada-pytorch-main/out/seed0929.png'"
         },
         "metadata": {},
         "output_type": "display_data"
        }
       ]
      }
     },
     "2c8675af963a492797de6f9b0e3278d2": {
      "model_module": "@jupyter-widgets/output",
      "model_module_version": "1.0.0",
      "model_name": "OutputModel",
      "state": {
       "layout": "IPY_MODEL_36f89a28e03146ad8d31e58606424d2a",
       "outputs": [
        {
         "data": {
          "text/plain": "'C:/PythonWorkspace/stylegan2-ada-pytorch-main/out/seed0929.png'"
         },
         "metadata": {},
         "output_type": "display_data"
        }
       ]
      }
     },
     "2d20e33b2f954ee7958bbe8abc6415fb": {
      "model_module": "@jupyter-widgets/controls",
      "model_module_version": "1.5.0",
      "model_name": "ButtonStyleModel",
      "state": {}
     },
     "2d6bb3853f9f472a993462d1274ef3f0": {
      "model_module": "@jupyter-widgets/output",
      "model_module_version": "1.0.0",
      "model_name": "OutputModel",
      "state": {
       "layout": "IPY_MODEL_267b699664ec40fc88843daaa659407d",
       "outputs": [
        {
         "data": {
          "text/plain": "'C:/PythonWorkspace/stylegan2-ada-pytorch-main/out/seed0929.png'"
         },
         "metadata": {},
         "output_type": "display_data"
        }
       ]
      }
     },
     "2d86c60b395d414586cc17dca7c2173e": {
      "model_module": "@jupyter-widgets/controls",
      "model_module_version": "1.5.0",
      "model_name": "HBoxModel",
      "state": {
       "children": [
        "IPY_MODEL_4daf42bc16304a379a1ddcc4c1249c49",
        "IPY_MODEL_4ad7ee1d858247dd971c5ea67e488031"
       ],
       "layout": "IPY_MODEL_f37538d87254404582e4648edb349557"
      }
     },
     "2d990c5767584555b884534abe589f42": {
      "model_module": "@jupyter-widgets/controls",
      "model_module_version": "1.5.0",
      "model_name": "SliderStyleModel",
      "state": {
       "description_width": ""
      }
     },
     "2d9c176ee0fb402ba9faa7ce24ab56cd": {
      "model_module": "@jupyter-widgets/controls",
      "model_module_version": "1.5.0",
      "model_name": "LabelModel",
      "state": {
       "layout": "IPY_MODEL_d031f749b002484298d4dbc0ebee57d0",
       "style": "IPY_MODEL_429bca33918749c5ba8a2028b4a3de7f",
       "value": "antique_projected_w"
      }
     },
     "2daf88f919a24597a9e531b3d31f234c": {
      "model_module": "@jupyter-widgets/base",
      "model_module_version": "1.2.0",
      "model_name": "LayoutModel",
      "state": {}
     },
     "2e0fa785c00b4c64a4a51260b1cbe74a": {
      "model_module": "@jupyter-widgets/controls",
      "model_module_version": "1.5.0",
      "model_name": "ButtonModel",
      "state": {
       "description": "Generate",
       "layout": "IPY_MODEL_5fd5c28a7c0745f8ad426cdba8b3008c",
       "style": "IPY_MODEL_fd35c311bcfc466eafb71b51a34f0a61"
      }
     },
     "2e352226c4d641f1ac5757377df4693d": {
      "model_module": "@jupyter-widgets/output",
      "model_module_version": "1.0.0",
      "model_name": "OutputModel",
      "state": {
       "layout": "IPY_MODEL_d86f834ee71d4e9595f896449dc8628b",
       "outputs": [
        {
         "data": {
          "image/png": "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\n",
          "text/plain": "<PIL.Image.Image image mode=RGB size=64x64 at 0x16982A4E780>"
         },
         "metadata": {},
         "output_type": "display_data"
        }
       ]
      }
     },
     "2e541ca48dcd4980815462a9610f6ece": {
      "model_module": "@jupyter-widgets/controls",
      "model_module_version": "1.5.0",
      "model_name": "ButtonStyleModel",
      "state": {}
     },
     "2e8add6131ba448bbce415be3e7570f0": {
      "model_module": "@jupyter-widgets/base",
      "model_module_version": "1.2.0",
      "model_name": "LayoutModel",
      "state": {}
     },
     "2f29409ff98e4f22a3557e95e5237214": {
      "model_module": "@jupyter-widgets/controls",
      "model_module_version": "1.5.0",
      "model_name": "DescriptionStyleModel",
      "state": {
       "description_width": ""
      }
     },
     "2f4bec3f4f8347bfaa0efe85fccbbac1": {
      "model_module": "@jupyter-widgets/base",
      "model_module_version": "1.2.0",
      "model_name": "LayoutModel",
      "state": {}
     },
     "2f4c4fb05e524ec19057441e9436c206": {
      "model_module": "@jupyter-widgets/base",
      "model_module_version": "1.2.0",
      "model_name": "LayoutModel",
      "state": {}
     },
     "2f63abf652d641c8afd3f9d10bc44fe0": {
      "model_module": "@jupyter-widgets/controls",
      "model_module_version": "1.5.0",
      "model_name": "HBoxModel",
      "state": {
       "children": [
        "IPY_MODEL_5c2e7b6c8f8b48eeaa89014cffd10309",
        "IPY_MODEL_0852d56b626948eebc0e3f3c4f7bb561"
       ],
       "layout": "IPY_MODEL_e6d565a3f0d9472db34ceb8c7cd38ca1"
      }
     },
     "2fe54eff03a640bd8ddf6f93a211a076": {
      "model_module": "@jupyter-widgets/base",
      "model_module_version": "1.2.0",
      "model_name": "LayoutModel",
      "state": {}
     },
     "301c21742bea434fb81a3c868ff77c6f": {
      "model_module": "@jupyter-widgets/base",
      "model_module_version": "1.2.0",
      "model_name": "LayoutModel",
      "state": {}
     },
     "309508ce42d245d5aae216e5b31561b8": {
      "model_module": "@jupyter-widgets/output",
      "model_module_version": "1.0.0",
      "model_name": "OutputModel",
      "state": {
       "layout": "IPY_MODEL_fd81885f2a384390876a1a18d277486a",
       "outputs": [
        {
         "data": {
          "text/plain": "'C:/PythonWorkspace/stylegan2-ada-pytorch-main/out/seed0929.png'"
         },
         "metadata": {},
         "output_type": "display_data"
        }
       ]
      }
     },
     "30adfc04bdff4137b16b2aa88135b45e": {
      "model_module": "@jupyter-widgets/base",
      "model_module_version": "1.2.0",
      "model_name": "LayoutModel",
      "state": {}
     },
     "30dae4cac8bd4eb69c8a4c18c7737704": {
      "model_module": "@jupyter-widgets/output",
      "model_module_version": "1.0.0",
      "model_name": "OutputModel",
      "state": {
       "layout": "IPY_MODEL_f73b4353d4d044ae8ae6aa7e01e50d40",
       "outputs": [
        {
         "data": {
          "text/plain": "'C:/PythonWorkspace/stylegan2-ada-pytorch-main/out/seed0929.png'"
         },
         "metadata": {},
         "output_type": "display_data"
        }
       ]
      }
     },
     "31233d6a7d3a4fadac125db4aca62773": {
      "model_module": "@jupyter-widgets/controls",
      "model_module_version": "1.5.0",
      "model_name": "LabelModel",
      "state": {
       "layout": "IPY_MODEL_27fec7858e2244d4ab00c0e9dab90e09",
       "style": "IPY_MODEL_a897feba9e86490ebfeb61536d2a8111"
      }
     },
     "3140a856060547ba95031aadbddb39bd": {
      "model_module": "@jupyter-widgets/controls",
      "model_module_version": "1.5.0",
      "model_name": "HBoxModel",
      "state": {
       "children": [
        "IPY_MODEL_d8e34449fe8040b7a10a923bdfd8f9f3",
        "IPY_MODEL_dac63a7f44704130a39548795a3da4f8"
       ],
       "layout": "IPY_MODEL_a3e10e27f32749ce92fd58827b21d2f3"
      }
     },
     "315fcf928cd14d9081550f88aa48dd9b": {
      "model_module": "@jupyter-widgets/base",
      "model_module_version": "1.2.0",
      "model_name": "LayoutModel",
      "state": {}
     },
     "3183471529184f5cab746b1b89b09579": {
      "model_module": "@jupyter-widgets/output",
      "model_module_version": "1.0.0",
      "model_name": "OutputModel",
      "state": {
       "layout": "IPY_MODEL_09bf03b4d5a448a59df8d947b1a445cc",
       "outputs": [
        {
         "data": {
          "text/plain": "'C:/PythonWorkspace/stylegan2-ada-pytorch-main/out/seed0929.png'"
         },
         "metadata": {},
         "output_type": "display_data"
        }
       ]
      }
     },
     "31b126eb6d284794a6810e31768485a2": {
      "model_module": "@jupyter-widgets/base",
      "model_module_version": "1.2.0",
      "model_name": "LayoutModel",
      "state": {}
     },
     "31b4bbceebaa4aa3b5142dbb90f77f82": {
      "model_module": "@jupyter-widgets/base",
      "model_module_version": "1.2.0",
      "model_name": "LayoutModel",
      "state": {}
     },
     "31d9c422cc8e4b37976417cea290628c": {
      "model_module": "@jupyter-widgets/base",
      "model_module_version": "1.2.0",
      "model_name": "LayoutModel",
      "state": {}
     },
     "320c4923cc154d8c8ec4700b257fddd4": {
      "model_module": "@jupyter-widgets/controls",
      "model_module_version": "1.5.0",
      "model_name": "HBoxModel",
      "state": {
       "children": [
        "IPY_MODEL_216dc6ea49834d93aa275e746ff7d600",
        "IPY_MODEL_122d21161bb14650842d32babbd91c7a"
       ],
       "layout": "IPY_MODEL_7c427f3cb3954874b9dfacfa3e9b6c7b"
      }
     },
     "321d57ab5db441b58b5ca31515187c94": {
      "model_module": "@jupyter-widgets/controls",
      "model_module_version": "1.5.0",
      "model_name": "VBoxModel",
      "state": {
       "children": [
        "IPY_MODEL_e90176811ae7453187ed870fe5b8cf8f",
        "IPY_MODEL_7d6877eb5b314337acbd2127580be98e",
        "IPY_MODEL_62ac0bd346e14326a07df5cc3917af3b",
        "IPY_MODEL_ce552fb5aa11486d85575a62bec98c3a"
       ],
       "layout": "IPY_MODEL_8e4915c20ab748f2ae39480829e069e8"
      }
     },
     "323f36ca93974b3aaf9e48193d1d531e": {
      "model_module": "@jupyter-widgets/base",
      "model_module_version": "1.2.0",
      "model_name": "LayoutModel",
      "state": {}
     },
     "328e8f902bd4449d82d56687f3024bd4": {
      "model_module": "@jupyter-widgets/output",
      "model_module_version": "1.0.0",
      "model_name": "OutputModel",
      "state": {
       "layout": "IPY_MODEL_8f9fdd8d96624447bef309b9a8036d1f",
       "outputs": [
        {
         "data": {
          "text/plain": "'C:/PythonWorkspace/stylegan2-ada-pytorch-main/out/seed0929.png'"
         },
         "metadata": {},
         "output_type": "display_data"
        }
       ]
      }
     },
     "33321b204c214692ad0e95385f28caf9": {
      "model_module": "@jupyter-widgets/controls",
      "model_module_version": "1.5.0",
      "model_name": "ButtonModel",
      "state": {
       "description": "Reset Latent Controls",
       "layout": "IPY_MODEL_76c26aced55944a2a9305c312a2bca21",
       "style": "IPY_MODEL_633d2479cb5549e69667b718ccbedf94"
      }
     },
     "333b1b383501404b9690c0bf23a5528d": {
      "model_module": "@jupyter-widgets/controls",
      "model_module_version": "1.5.0",
      "model_name": "SliderStyleModel",
      "state": {
       "description_width": ""
      }
     },
     "33b11afb12474afbad478dd9a5c81340": {
      "model_module": "@jupyter-widgets/controls",
      "model_module_version": "1.5.0",
      "model_name": "FloatSliderModel",
      "state": {
       "layout": "IPY_MODEL_27dcea99da5e4b21b83df1c7e28855bc",
       "max": 50,
       "min": -50,
       "step": 0.1,
       "style": "IPY_MODEL_92e6adbe1bfb4c3b92eab9e2cf70cc89"
      }
     },
     "341fcf9562f74ddbaaf65f33d53d1016": {
      "model_module": "@jupyter-widgets/controls",
      "model_module_version": "1.5.0",
      "model_name": "VBoxModel",
      "state": {
       "children": [
        "IPY_MODEL_3183471529184f5cab746b1b89b09579",
        "IPY_MODEL_22263a84e58a475f95c324b564628c0c"
       ],
       "layout": "IPY_MODEL_1c147f407d6f4928aca227038c5ab544"
      }
     },
     "342099721446403da24b94d0e62ed6d4": {
      "model_module": "@jupyter-widgets/base",
      "model_module_version": "1.2.0",
      "model_name": "LayoutModel",
      "state": {}
     },
     "3439a3100a8942808202dc94958f4605": {
      "model_module": "@jupyter-widgets/controls",
      "model_module_version": "1.5.0",
      "model_name": "ButtonModel",
      "state": {
       "description": "Generate",
       "layout": "IPY_MODEL_b3c9a78d4f1c40659f32a4227af050f4",
       "style": "IPY_MODEL_a20ab59e8e714e77840efba4e5b66435"
      }
     },
     "3447a0c597c14abdb8a933c82a53085b": {
      "model_module": "@jupyter-widgets/controls",
      "model_module_version": "1.5.0",
      "model_name": "ButtonModel",
      "state": {
       "description": "Generate",
       "layout": "IPY_MODEL_1569eb688a1e4ffd8b42e94c351da322",
       "style": "IPY_MODEL_141b91454e8641aa9b740dca0a2a560e"
      }
     },
     "349b5f2ec349496d8426f959a8ba9dc2": {
      "model_module": "@jupyter-widgets/base",
      "model_module_version": "1.2.0",
      "model_name": "LayoutModel",
      "state": {}
     },
     "351591e51eeb4584b31193bb95f70dcb": {
      "model_module": "@jupyter-widgets/base",
      "model_module_version": "1.2.0",
      "model_name": "LayoutModel",
      "state": {}
     },
     "3557ce7fe188446392cb68aed80833ce": {
      "model_module": "@jupyter-widgets/base",
      "model_module_version": "1.2.0",
      "model_name": "LayoutModel",
      "state": {}
     },
     "35689fe52c7345d28c07d2998e4da8f2": {
      "model_module": "@jupyter-widgets/base",
      "model_module_version": "1.2.0",
      "model_name": "LayoutModel",
      "state": {}
     },
     "3584a88b08484d049f47608f9e87a189": {
      "model_module": "@jupyter-widgets/controls",
      "model_module_version": "1.5.0",
      "model_name": "ButtonStyleModel",
      "state": {}
     },
     "3592267921e04f6b882606df98dd1f98": {
      "model_module": "@jupyter-widgets/controls",
      "model_module_version": "1.5.0",
      "model_name": "DescriptionStyleModel",
      "state": {
       "description_width": ""
      }
     },
     "35e5c8598429447396c2f9fc8cc5e34d": {
      "model_module": "@jupyter-widgets/output",
      "model_module_version": "1.0.0",
      "model_name": "OutputModel",
      "state": {
       "layout": "IPY_MODEL_cc5eb08aa69d41959aa58c445621756b",
       "outputs": [
        {
         "data": {
          "text/plain": "'C:/PythonWorkspace/stylegan2-ada-pytorch-main/out/seed0929.png'"
         },
         "metadata": {},
         "output_type": "display_data"
        }
       ]
      }
     },
     "35fd535cf4314b7dbb6fade4b935cc6f": {
      "model_module": "@jupyter-widgets/controls",
      "model_module_version": "1.5.0",
      "model_name": "FloatSliderModel",
      "state": {
       "layout": "IPY_MODEL_a7d252382d684c46b742c4193c17b8e5",
       "max": 50,
       "min": -50,
       "step": 0.1,
       "style": "IPY_MODEL_42dec8d3c38c4b60bfcc990c06b3c403"
      }
     },
     "365b20453693416da3fb1e6dfb8d9946": {
      "model_module": "@jupyter-widgets/base",
      "model_module_version": "1.2.0",
      "model_name": "LayoutModel",
      "state": {}
     },
     "36d297ed557f477da1adc7d12ee4c63f": {
      "model_module": "@jupyter-widgets/output",
      "model_module_version": "1.0.0",
      "model_name": "OutputModel",
      "state": {
       "layout": "IPY_MODEL_b9c8a7a6afe2472a80cdac9825f0b253",
       "outputs": [
        {
         "data": {
          "text/plain": "'C:/PythonWorkspace/stylegan2-ada-pytorch-main/out/seed0929.png'"
         },
         "metadata": {},
         "output_type": "display_data"
        }
       ]
      }
     },
     "36f89a28e03146ad8d31e58606424d2a": {
      "model_module": "@jupyter-widgets/base",
      "model_module_version": "1.2.0",
      "model_name": "LayoutModel",
      "state": {}
     },
     "3733b7467b454a00a867237074cd50f4": {
      "model_module": "@jupyter-widgets/output",
      "model_module_version": "1.0.0",
      "model_name": "OutputModel",
      "state": {
       "layout": "IPY_MODEL_aeaed5d192c049dc8d06e030f4f8a32e",
       "outputs": [
        {
         "data": {
          "text/plain": "'C:/PythonWorkspace/stylegan2-ada-pytorch-main/out/seed0929.png'"
         },
         "metadata": {},
         "output_type": "display_data"
        }
       ]
      }
     },
     "37aa4cf9062f42af9792176cd9e6d9ba": {
      "model_module": "@jupyter-widgets/base",
      "model_module_version": "1.2.0",
      "model_name": "LayoutModel",
      "state": {}
     },
     "37ace6daede1479db5407eca002018bb": {
      "model_module": "@jupyter-widgets/controls",
      "model_module_version": "1.5.0",
      "model_name": "ButtonStyleModel",
      "state": {}
     },
     "37b74142d9c54f4cb19323ca9460291e": {
      "model_module": "@jupyter-widgets/base",
      "model_module_version": "1.2.0",
      "model_name": "LayoutModel",
      "state": {}
     },
     "37d71261c2c1419d8d2e85a2d5cdb13a": {
      "model_module": "@jupyter-widgets/base",
      "model_module_version": "1.2.0",
      "model_name": "LayoutModel",
      "state": {}
     },
     "37e1deded4084f0d88fffb97befbc833": {
      "model_module": "@jupyter-widgets/controls",
      "model_module_version": "1.5.0",
      "model_name": "ButtonModel",
      "state": {
       "description": "Generate",
       "layout": "IPY_MODEL_ad02b793f56d4612baa4248aa1b743f9",
       "style": "IPY_MODEL_c3bc84fc58074f95a7f66573a3e4733f"
      }
     },
     "3806844b15e64da4bba28477652eb168": {
      "model_module": "@jupyter-widgets/controls",
      "model_module_version": "1.5.0",
      "model_name": "VBoxModel",
      "state": {
       "children": [
        "IPY_MODEL_2c8675af963a492797de6f9b0e3278d2",
        "IPY_MODEL_eb089b90cd3644d4bb0dd7384ad70bca"
       ],
       "layout": "IPY_MODEL_3e0f6da283d44903ae59b0f3875d9891"
      }
     },
     "38157bae13bc41e78d80c5abbac2f328": {
      "model_module": "@jupyter-widgets/base",
      "model_module_version": "1.2.0",
      "model_name": "LayoutModel",
      "state": {}
     },
     "388e008c83fb49d48a92905f31deedd6": {
      "model_module": "@jupyter-widgets/controls",
      "model_module_version": "1.5.0",
      "model_name": "SliderStyleModel",
      "state": {
       "description_width": ""
      }
     },
     "38decb5639e741a1948e27430fc95298": {
      "model_module": "@jupyter-widgets/controls",
      "model_module_version": "1.5.0",
      "model_name": "HBoxModel",
      "state": {
       "children": [
        "IPY_MODEL_9f78ae1647e449bf82bd4ccd07124781",
        "IPY_MODEL_b4fa5ffb09c246e4ae96d355e27251af"
       ],
       "layout": "IPY_MODEL_71def442e7684520ba5ccdaf184cf88a"
      }
     },
     "38e03e14d07948388bb3b2d5560dcde6": {
      "model_module": "@jupyter-widgets/base",
      "model_module_version": "1.2.0",
      "model_name": "LayoutModel",
      "state": {}
     },
     "38ff1224d0954eaba44bfc0f967c4672": {
      "model_module": "@jupyter-widgets/base",
      "model_module_version": "1.2.0",
      "model_name": "LayoutModel",
      "state": {
       "height": "10%",
       "width": "75%"
      }
     },
     "3a05951c97a64760b6cec407ed6197c7": {
      "model_module": "@jupyter-widgets/controls",
      "model_module_version": "1.5.0",
      "model_name": "VBoxModel",
      "state": {
       "children": [
        "IPY_MODEL_62792f6d322b4af1b500568767b4ea02",
        "IPY_MODEL_3a364d23b6324507b173a9f678e93fcb"
       ],
       "layout": "IPY_MODEL_930a3a5426b14cd3ace765cc3dede580"
      }
     },
     "3a364d23b6324507b173a9f678e93fcb": {
      "model_module": "@jupyter-widgets/output",
      "model_module_version": "1.0.0",
      "model_name": "OutputModel",
      "state": {
       "layout": "IPY_MODEL_c3801cf10c914873a5bcb2d502e8d613",
       "outputs": [
        {
         "data": {
          "text/plain": "tensor([[[[251, 251, 252],\n          [253, 253, 253],\n          [251, 251, 251],\n          ...,\n          [253, 254, 254],\n          [251, 252, 252],\n          [242, 242, 241]],\n\n         [[247, 247, 248],\n          [253, 253, 252],\n          [249, 249, 248],\n          ...,\n          [249, 250, 248],\n          [250, 250, 249],\n          [250, 251, 250]],\n\n         [[251, 251, 252],\n          [250, 250, 249],\n          [251, 250, 250],\n          ...,\n          [250, 251, 250],\n          [250, 250, 249],\n          [250, 251, 250]],\n\n         ...,\n\n         [[252, 252, 252],\n          [251, 250, 251],\n          [250, 250, 250],\n          ...,\n          [250, 249, 249],\n          [250, 250, 250],\n          [251, 251, 252]],\n\n         [[253, 253, 253],\n          [250, 249, 250],\n          [252, 252, 252],\n          ...,\n          [249, 249, 249],\n          [249, 248, 249],\n          [251, 252, 252]],\n\n         [[254, 254, 254],\n          [255, 254, 255],\n          [255, 255, 255],\n          ...,\n          [250, 250, 250],\n          [251, 251, 251],\n          [249, 249, 249]]]], device='cuda:0', dtype=torch.uint8)"
         },
         "metadata": {},
         "output_type": "display_data"
        }
       ]
      }
     },
     "3a5bdd291bf84c86a6bc1c7f145c609e": {
      "model_module": "@jupyter-widgets/base",
      "model_module_version": "1.2.0",
      "model_name": "LayoutModel",
      "state": {}
     },
     "3aa0d533463a461cabe015dce61d4023": {
      "model_module": "@jupyter-widgets/controls",
      "model_module_version": "1.5.0",
      "model_name": "SliderStyleModel",
      "state": {
       "description_width": ""
      }
     },
     "3aa3fb0cbd8c4a719f02790136f9e541": {
      "model_module": "@jupyter-widgets/base",
      "model_module_version": "1.2.0",
      "model_name": "LayoutModel",
      "state": {
       "height": "30%",
       "width": "75%"
      }
     },
     "3af5f0afcf2f496eb135c97e7afa8d35": {
      "model_module": "@jupyter-widgets/output",
      "model_module_version": "1.0.0",
      "model_name": "OutputModel",
      "state": {
       "layout": "IPY_MODEL_cce9d7a3e2204f04892736bd07147365",
       "outputs": [
        {
         "data": {
          "text/plain": "'C:/PythonWorkspace/stylegan2-ada-pytorch-main/out/seed0929.png'"
         },
         "metadata": {},
         "output_type": "display_data"
        }
       ]
      }
     },
     "3b24f028df8f439f9138ea74827d3c27": {
      "model_module": "@jupyter-widgets/base",
      "model_module_version": "1.2.0",
      "model_name": "LayoutModel",
      "state": {}
     },
     "3b3953de3ea546a0b5b5d532491799f7": {
      "model_module": "@jupyter-widgets/base",
      "model_module_version": "1.2.0",
      "model_name": "LayoutModel",
      "state": {}
     },
     "3b6431c3c11b45b6a5fd23e7a70e0606": {
      "model_module": "@jupyter-widgets/base",
      "model_module_version": "1.2.0",
      "model_name": "LayoutModel",
      "state": {}
     },
     "3b9069c4b9a04b0bb46c1b57407f7702": {
      "model_module": "@jupyter-widgets/base",
      "model_module_version": "1.2.0",
      "model_name": "LayoutModel",
      "state": {}
     },
     "3b9b66f7aecf4cbeae249d5858090f6f": {
      "model_module": "@jupyter-widgets/output",
      "model_module_version": "1.0.0",
      "model_name": "OutputModel",
      "state": {
       "layout": "IPY_MODEL_dfe82c351e904728b7cb8a57e645bae3",
       "outputs": [
        {
         "data": {
          "text/plain": "'C:/PythonWorkspace/stylegan2-ada-pytorch-main/out/seed0929.png'"
         },
         "metadata": {},
         "output_type": "display_data"
        }
       ]
      }
     },
     "3ba00a1a8b944a6883857c43b49e1703": {
      "model_module": "@jupyter-widgets/controls",
      "model_module_version": "1.5.0",
      "model_name": "LabelModel",
      "state": {
       "layout": "IPY_MODEL_d85d1e8b2b2643f087cfbc08cc2589dc",
       "style": "IPY_MODEL_964066ed9b8649fd84a1c0862f8fc11a",
       "value": "modern_projected"
      }
     },
     "3bb0121f24ea40e3846d508d8a8bb2e0": {
      "model_module": "@jupyter-widgets/controls",
      "model_module_version": "1.5.0",
      "model_name": "SliderStyleModel",
      "state": {
       "description_width": ""
      }
     },
     "3bb67482add34d5a9898e23293c28057": {
      "model_module": "@jupyter-widgets/controls",
      "model_module_version": "1.5.0",
      "model_name": "LabelModel",
      "state": {
       "layout": "IPY_MODEL_a17c063c9e38427589e2d66a056cfbaa",
       "style": "IPY_MODEL_8a92fae204524b43b75ceda752b42018",
       "value": "C:/PythonWorkspace/stylegan2-ada-pytorch-main/"
      }
     },
     "3bd9cd1751254ee5a0e12369797d9615": {
      "model_module": "@jupyter-widgets/controls",
      "model_module_version": "1.5.0",
      "model_name": "LabelModel",
      "state": {
       "layout": "IPY_MODEL_6850074bc7d545f6a977d1b2f3c6be64",
       "style": "IPY_MODEL_ef05880565f644b9a4712073eee23efa",
       "value": "modern_projected_w"
      }
     },
     "3be072defa4b4770a84edbd3092e83a3": {
      "model_module": "@jupyter-widgets/controls",
      "model_module_version": "1.5.0",
      "model_name": "ButtonModel",
      "state": {
       "description": "Generate",
       "layout": "IPY_MODEL_9fbeee6b469f45bd9a175c0923e32141",
       "style": "IPY_MODEL_adf6a85a6f334a26b93e7fdb2250bce9"
      }
     },
     "3be59289f68749c5a70ee0781e27089c": {
      "model_module": "@jupyter-widgets/base",
      "model_module_version": "1.2.0",
      "model_name": "LayoutModel",
      "state": {}
     },
     "3bf06f495e244c31b88fed1f17807ab2": {
      "model_module": "@jupyter-widgets/base",
      "model_module_version": "1.2.0",
      "model_name": "LayoutModel",
      "state": {}
     },
     "3c11f9c860d3459e81facecfdfa22e72": {
      "model_module": "@jupyter-widgets/controls",
      "model_module_version": "1.5.0",
      "model_name": "SliderStyleModel",
      "state": {
       "description_width": ""
      }
     },
     "3c2241e34446471e9414b589401495f1": {
      "model_module": "@jupyter-widgets/controls",
      "model_module_version": "1.5.0",
      "model_name": "FloatSliderModel",
      "state": {
       "layout": "IPY_MODEL_365b20453693416da3fb1e6dfb8d9946",
       "max": 50,
       "min": -50,
       "step": 0.1,
       "style": "IPY_MODEL_d11d1b4813914e3d965eb9a88ab7d47c",
       "value": 31.2
      }
     },
     "3c3e49b8565f42c491b00e90da16d9da": {
      "model_module": "@jupyter-widgets/controls",
      "model_module_version": "1.5.0",
      "model_name": "FloatSliderModel",
      "state": {
       "layout": "IPY_MODEL_ed5ab8c551244d578bd8a754ec73da41",
       "max": 50,
       "min": -50,
       "step": 0.1,
       "style": "IPY_MODEL_0647ff5501464fb090e1465a9d14f2e1"
      }
     },
     "3c6610f77192415fb296aed2463bcf88": {
      "model_module": "@jupyter-widgets/controls",
      "model_module_version": "1.5.0",
      "model_name": "DescriptionStyleModel",
      "state": {
       "description_width": ""
      }
     },
     "3c7bdcd18526497daf886d96308e67f6": {
      "model_module": "@jupyter-widgets/controls",
      "model_module_version": "1.5.0",
      "model_name": "HBoxModel",
      "state": {
       "children": [
        "IPY_MODEL_a731120a69524da09d6f7bf7abf1a0f8",
        "IPY_MODEL_eec581e442ac4a18b6d6645d56fb8690"
       ],
       "layout": "IPY_MODEL_06cf86d1c9d5495798c6d783e46a78a7"
      }
     },
     "3cb9ebd07e1747b285d7fd4b29e359b2": {
      "model_module": "@jupyter-widgets/controls",
      "model_module_version": "1.5.0",
      "model_name": "ButtonModel",
      "state": {
       "description": "Reset Latent Controls",
       "layout": "IPY_MODEL_6c1b8e1c84934b9393d45c0e0867a3e7",
       "style": "IPY_MODEL_9388a27038b24f34a63bb6f39b64a013"
      }
     },
     "3d37d0da5d0b4f5baf4d9e4455d3ae2c": {
      "model_module": "@jupyter-widgets/base",
      "model_module_version": "1.2.0",
      "model_name": "LayoutModel",
      "state": {}
     },
     "3d72852b52f243e39e7c5de04d649c07": {
      "model_module": "@jupyter-widgets/base",
      "model_module_version": "1.2.0",
      "model_name": "LayoutModel",
      "state": {}
     },
     "3d8d55f990af4cc3b1a09d4c49418480": {
      "model_module": "@jupyter-widgets/output",
      "model_module_version": "1.0.0",
      "model_name": "OutputModel",
      "state": {
       "layout": "IPY_MODEL_72cb9496660647ca816594e9777bce70",
       "outputs": [
        {
         "data": {
          "text/plain": "'C:/PythonWorkspace/stylegan2-ada-pytorch-main/out/seed0929.png'"
         },
         "metadata": {},
         "output_type": "display_data"
        }
       ]
      }
     },
     "3e0f6da283d44903ae59b0f3875d9891": {
      "model_module": "@jupyter-widgets/base",
      "model_module_version": "1.2.0",
      "model_name": "LayoutModel",
      "state": {}
     },
     "3e25ed3f937d4d4ba821fcba4ccbea6c": {
      "model_module": "@jupyter-widgets/base",
      "model_module_version": "1.2.0",
      "model_name": "LayoutModel",
      "state": {}
     },
     "3e2c501004ed4b858b2e9f7312312a99": {
      "model_module": "@jupyter-widgets/controls",
      "model_module_version": "1.5.0",
      "model_name": "ButtonStyleModel",
      "state": {}
     },
     "3e785e2a31cd46adaebcdc3cfc5df693": {
      "model_module": "@jupyter-widgets/controls",
      "model_module_version": "1.5.0",
      "model_name": "ButtonModel",
      "state": {
       "description": "Reset Latent Controls",
       "layout": "IPY_MODEL_624c1354696a476c953516b06dbb7f57",
       "style": "IPY_MODEL_2e541ca48dcd4980815462a9610f6ece"
      }
     },
     "3e8d6f705a554fed88b30f89dbf14935": {
      "model_module": "@jupyter-widgets/output",
      "model_module_version": "1.0.0",
      "model_name": "OutputModel",
      "state": {
       "layout": "IPY_MODEL_8a3076e2903b41708b6c7df5fa537092",
       "outputs": [
        {
         "data": {
          "text/plain": "'C:/PythonWorkspace/stylegan2-ada-pytorch-main/out/seed0929.png'"
         },
         "metadata": {},
         "output_type": "display_data"
        }
       ]
      }
     },
     "3e96d17a9fc34f21b13c75f787a9ae56": {
      "model_module": "@jupyter-widgets/controls",
      "model_module_version": "1.5.0",
      "model_name": "FloatSliderModel",
      "state": {
       "layout": "IPY_MODEL_5c1363e3e87243b8ad2c6b070a1e0403",
       "max": 50,
       "min": -50,
       "step": 0.1,
       "style": "IPY_MODEL_2107fa7525a640268b6bb5d1fab2f1ad"
      }
     },
     "3ebfdb318e774f6689cba2a8c78bf7ec": {
      "model_module": "@jupyter-widgets/base",
      "model_module_version": "1.2.0",
      "model_name": "LayoutModel",
      "state": {}
     },
     "3efd640a51c64378abcdaa82ebd2b50c": {
      "model_module": "@jupyter-widgets/controls",
      "model_module_version": "1.5.0",
      "model_name": "ButtonStyleModel",
      "state": {}
     },
     "3f0779ed077b42b0933bcf641779934b": {
      "model_module": "@jupyter-widgets/controls",
      "model_module_version": "1.5.0",
      "model_name": "HBoxModel",
      "state": {
       "children": [
        "IPY_MODEL_419b32a11f3f44f8a76dc8b8f4543c9b",
        "IPY_MODEL_d1c916ffd125479aaa5da8df9fbc64bb"
       ],
       "layout": "IPY_MODEL_0285bdf3b2db47b2a61daa77e47acee1"
      }
     },
     "3f9171cd59224c26a773151f4d08b827": {
      "model_module": "@jupyter-widgets/controls",
      "model_module_version": "1.5.0",
      "model_name": "VBoxModel",
      "state": {
       "children": [
        "IPY_MODEL_bdc46c1a942b44e08270ae4b221b0ce1",
        "IPY_MODEL_3f0779ed077b42b0933bcf641779934b",
        "IPY_MODEL_f3a2d896f76844f7a7eb92bb0b7343c0",
        "IPY_MODEL_9d807305fa41438f8a18bd84032b3a55"
       ],
       "layout": "IPY_MODEL_1aab1245f3ae46358339869525e16e35"
      }
     },
     "3fdb418678f64dee9dac018ad1b4cd8e": {
      "model_module": "@jupyter-widgets/base",
      "model_module_version": "1.2.0",
      "model_name": "LayoutModel",
      "state": {}
     },
     "3ff04dea23054c1396ad62a5a111b036": {
      "model_module": "@jupyter-widgets/controls",
      "model_module_version": "1.5.0",
      "model_name": "ButtonStyleModel",
      "state": {}
     },
     "40406b27c56e4f898de1ec1ba8c4b433": {
      "model_module": "@jupyter-widgets/base",
      "model_module_version": "1.2.0",
      "model_name": "LayoutModel",
      "state": {}
     },
     "409251c6aa8541a9a684c416c3de6a17": {
      "model_module": "@jupyter-widgets/controls",
      "model_module_version": "1.5.0",
      "model_name": "VBoxModel",
      "state": {
       "children": [
        "IPY_MODEL_57aae31503764e71b83c64a21cc713fc",
        "IPY_MODEL_b3434c702f894a8f849a24d88b8ac39b"
       ],
       "layout": "IPY_MODEL_e6884225b5294fc0982c0ebcfebc87fb"
      }
     },
     "40a0853e016542129121b1b9acf36c3a": {
      "model_module": "@jupyter-widgets/base",
      "model_module_version": "1.2.0",
      "model_name": "LayoutModel",
      "state": {}
     },
     "40a4563b88814a089e28623e744ba500": {
      "model_module": "@jupyter-widgets/base",
      "model_module_version": "1.2.0",
      "model_name": "LayoutModel",
      "state": {}
     },
     "40affe89842a4837a1083b246553f056": {
      "model_module": "@jupyter-widgets/base",
      "model_module_version": "1.2.0",
      "model_name": "LayoutModel",
      "state": {
       "height": "30%",
       "width": "75%"
      }
     },
     "40c78ca824574c4492c51e4ae5b8d4e9": {
      "model_module": "@jupyter-widgets/base",
      "model_module_version": "1.2.0",
      "model_name": "LayoutModel",
      "state": {}
     },
     "40cfb57d49494c20b51e4b940c4c7b6e": {
      "model_module": "@jupyter-widgets/controls",
      "model_module_version": "1.5.0",
      "model_name": "FloatSliderModel",
      "state": {
       "layout": "IPY_MODEL_31b126eb6d284794a6810e31768485a2",
       "max": 50,
       "min": -50,
       "step": 0.1,
       "style": "IPY_MODEL_07e3ebbc3114497d881bfff26fc45fd9"
      }
     },
     "40cfd71056a5420b957790bcb57673f6": {
      "model_module": "@jupyter-widgets/base",
      "model_module_version": "1.2.0",
      "model_name": "LayoutModel",
      "state": {}
     },
     "40e7726461f942b9a3e3699d59c2bc8d": {
      "model_module": "@jupyter-widgets/controls",
      "model_module_version": "1.5.0",
      "model_name": "LabelModel",
      "state": {
       "layout": "IPY_MODEL_7e673d5d9e1341b1a85fc4d78909606b",
       "style": "IPY_MODEL_10bbb401a1ec4ad598b371584292fa80",
       "value": "modern_projected"
      }
     },
     "410ddfeba67445d5936fa9f209936ca0": {
      "model_module": "@jupyter-widgets/base",
      "model_module_version": "1.2.0",
      "model_name": "LayoutModel",
      "state": {}
     },
     "415c2bbcc4d343dcb76e594e9e80b300": {
      "model_module": "@jupyter-widgets/controls",
      "model_module_version": "1.5.0",
      "model_name": "ButtonStyleModel",
      "state": {}
     },
     "4160fde63e824ebdb093366ce8003886": {
      "model_module": "@jupyter-widgets/controls",
      "model_module_version": "1.5.0",
      "model_name": "HBoxModel",
      "state": {
       "children": [
        "IPY_MODEL_89b0831706b749faa36201fe67435c7e",
        "IPY_MODEL_dbe49a0a1f7d40aeb7e276cfa38525e3"
       ],
       "layout": "IPY_MODEL_9505a13b8fd84149873aa8f592fa3a43"
      }
     },
     "4174ed8c18804f3499c0070cb061baf2": {
      "model_module": "@jupyter-widgets/base",
      "model_module_version": "1.2.0",
      "model_name": "LayoutModel",
      "state": {}
     },
     "419b32a11f3f44f8a76dc8b8f4543c9b": {
      "model_module": "@jupyter-widgets/controls",
      "model_module_version": "1.5.0",
      "model_name": "FloatSliderModel",
      "state": {
       "layout": "IPY_MODEL_9416a92fa59949bba72f90065c8dfaa7",
       "max": 50,
       "min": -50,
       "step": 0.1,
       "style": "IPY_MODEL_388e008c83fb49d48a92905f31deedd6"
      }
     },
     "41aa7179f66e4dd8ae23eab4f331e18c": {
      "model_module": "@jupyter-widgets/base",
      "model_module_version": "1.2.0",
      "model_name": "LayoutModel",
      "state": {}
     },
     "41d2aea1689a44608d94544acf38f8f9": {
      "model_module": "@jupyter-widgets/base",
      "model_module_version": "1.2.0",
      "model_name": "LayoutModel",
      "state": {}
     },
     "424773cfa0724eae8e3b077038b3a4a1": {
      "model_module": "@jupyter-widgets/controls",
      "model_module_version": "1.5.0",
      "model_name": "ButtonModel",
      "state": {
       "description": "Generate",
       "layout": "IPY_MODEL_8d3789039d7b4e17869fb5897d7f75b4",
       "style": "IPY_MODEL_3efd640a51c64378abcdaa82ebd2b50c"
      }
     },
     "427832c2f17e4718b4aa094ca6b207a0": {
      "model_module": "@jupyter-widgets/output",
      "model_module_version": "1.0.0",
      "model_name": "OutputModel",
      "state": {
       "layout": "IPY_MODEL_a405ce0b1b7f421986fdb5f88a7e64e7",
       "outputs": [
        {
         "data": {
          "text/plain": "'C:/PythonWorkspace/stylegan2-ada-pytorch-main/out/seed0929.png'"
         },
         "metadata": {},
         "output_type": "display_data"
        }
       ]
      }
     },
     "4285e16043904cc89bd2099b11d8d455": {
      "model_module": "@jupyter-widgets/base",
      "model_module_version": "1.2.0",
      "model_name": "LayoutModel",
      "state": {}
     },
     "429bca33918749c5ba8a2028b4a3de7f": {
      "model_module": "@jupyter-widgets/controls",
      "model_module_version": "1.5.0",
      "model_name": "DescriptionStyleModel",
      "state": {
       "description_width": ""
      }
     },
     "42d3da5c72b74f55b8ffe2dfade395f6": {
      "model_module": "@jupyter-widgets/controls",
      "model_module_version": "1.5.0",
      "model_name": "ButtonModel",
      "state": {
       "description": "Generate",
       "layout": "IPY_MODEL_ca34256b785d48ee848fadc5b773c4a6",
       "style": "IPY_MODEL_88cfff56e4c74f169c82a659359b37ea"
      }
     },
     "42d6016eb8c046468111b1df68eabb4b": {
      "model_module": "@jupyter-widgets/base",
      "model_module_version": "1.2.0",
      "model_name": "LayoutModel",
      "state": {}
     },
     "42dec8d3c38c4b60bfcc990c06b3c403": {
      "model_module": "@jupyter-widgets/controls",
      "model_module_version": "1.5.0",
      "model_name": "SliderStyleModel",
      "state": {
       "description_width": ""
      }
     },
     "430667c0e3c34c4894b865830f52c238": {
      "model_module": "@jupyter-widgets/controls",
      "model_module_version": "1.5.0",
      "model_name": "HBoxModel",
      "state": {
       "children": [
        "IPY_MODEL_2b88e04dd400428dbe50a12e2518587d",
        "IPY_MODEL_80fee306f95e4066877df3c37038a635"
       ],
       "layout": "IPY_MODEL_41aa7179f66e4dd8ae23eab4f331e18c"
      }
     },
     "4330a59a2a8546ed9e6682ba83ce2da2": {
      "model_module": "@jupyter-widgets/base",
      "model_module_version": "1.2.0",
      "model_name": "LayoutModel",
      "state": {}
     },
     "4337d15b3666411b991bc4445c783757": {
      "model_module": "@jupyter-widgets/controls",
      "model_module_version": "1.5.0",
      "model_name": "VBoxModel",
      "state": {
       "children": [
        "IPY_MODEL_54d2d5e664cd440cbad08eecbd7db456",
        "IPY_MODEL_d4fab2077c614c3b93f0c07f2a82fe70"
       ],
       "layout": "IPY_MODEL_92baf1b09d7d48e084d54e38d23815e7"
      }
     },
     "43c16d0155bd4d57bce46f115e1000cb": {
      "model_module": "@jupyter-widgets/controls",
      "model_module_version": "1.5.0",
      "model_name": "LabelModel",
      "state": {
       "layout": "IPY_MODEL_a0c86a1ec8b74a40a7e4242df2ff923a",
       "style": "IPY_MODEL_b9237cc512c947cd98dcd17b9f2bb7dc",
       "value": "C:\\PythonWorkspace\\stylegan2-ada-pytorch-main\\out\\modern_projected_w.npz"
      }
     },
     "43d48eced26748a29f48965b599e0edc": {
      "model_module": "@jupyter-widgets/controls",
      "model_module_version": "1.5.0",
      "model_name": "VBoxModel",
      "state": {
       "children": [
        "IPY_MODEL_4160fde63e824ebdb093366ce8003886",
        "IPY_MODEL_1650e0cf3af443ccb4e067d80d232fb5",
        "IPY_MODEL_bd34c3faaffb42e59758cc242e2cea08",
        "IPY_MODEL_fa1d8dc1779a4f0698f54e2f7ab33450"
       ],
       "layout": "IPY_MODEL_3be59289f68749c5a70ee0781e27089c"
      }
     },
     "43e17ebed7514481b59b9de5d179d865": {
      "model_module": "@jupyter-widgets/controls",
      "model_module_version": "1.5.0",
      "model_name": "ButtonStyleModel",
      "state": {}
     },
     "43f0705169d54251b088c85ff412b4ba": {
      "model_module": "@jupyter-widgets/base",
      "model_module_version": "1.2.0",
      "model_name": "LayoutModel",
      "state": {}
     },
     "442cc000ea294763a8aa92bcceeca5c0": {
      "model_module": "@jupyter-widgets/output",
      "model_module_version": "1.0.0",
      "model_name": "OutputModel",
      "state": {
       "layout": "IPY_MODEL_a5250c65fca545c19750a54545a82e7a",
       "outputs": [
        {
         "data": {
          "text/plain": "'C:/PythonWorkspace/stylegan2-ada-pytorch-main/out/seed0929.png'"
         },
         "metadata": {},
         "output_type": "display_data"
        }
       ]
      }
     },
     "44756fb6a8d34fbfbd4f4208375600ac": {
      "model_module": "@jupyter-widgets/output",
      "model_module_version": "1.0.0",
      "model_name": "OutputModel",
      "state": {
       "layout": "IPY_MODEL_1994401c001d40ec8b05bf02c7754b2f",
       "outputs": [
        {
         "data": {
          "text/plain": "'C:/PythonWorkspace/stylegan2-ada-pytorch-main/out/seed0929.png'"
         },
         "metadata": {},
         "output_type": "display_data"
        }
       ]
      }
     },
     "44905ba1d3f846c9acf27a8d65615524": {
      "model_module": "@jupyter-widgets/base",
      "model_module_version": "1.2.0",
      "model_name": "LayoutModel",
      "state": {}
     },
     "44939d9e99284a3ebdc61f56d000a846": {
      "model_module": "@jupyter-widgets/base",
      "model_module_version": "1.2.0",
      "model_name": "LayoutModel",
      "state": {}
     },
     "44aceb1e115542ecbe2f25f03c053510": {
      "model_module": "@jupyter-widgets/output",
      "model_module_version": "1.0.0",
      "model_name": "OutputModel",
      "state": {
       "layout": "IPY_MODEL_0f43766bf7324e668c93c8efadaf9e24",
       "outputs": [
        {
         "data": {
          "text/plain": "'C:/PythonWorkspace/stylegan2-ada-pytorch-main/out/seed0929.png'"
         },
         "metadata": {},
         "output_type": "display_data"
        }
       ]
      }
     },
     "44e137ebb0f04d2c897fa02b07d1d90c": {
      "model_module": "@jupyter-widgets/controls",
      "model_module_version": "1.5.0",
      "model_name": "ButtonModel",
      "state": {
       "description": "Generate",
       "layout": "IPY_MODEL_ef86d689d0754a0b970e8c7c421f2d12",
       "style": "IPY_MODEL_052c3cff463941dbabcf8f4c864f706a"
      }
     },
     "4523a4274a644f4f9f35acbf7379d525": {
      "model_module": "@jupyter-widgets/base",
      "model_module_version": "1.2.0",
      "model_name": "LayoutModel",
      "state": {}
     },
     "4525614e366e4b58b118dbc94157a4ba": {
      "model_module": "@jupyter-widgets/base",
      "model_module_version": "1.2.0",
      "model_name": "LayoutModel",
      "state": {
       "height": "30%",
       "width": "75%"
      }
     },
     "4526094f83b049b1b449c0f15d058da4": {
      "model_module": "@jupyter-widgets/controls",
      "model_module_version": "1.5.0",
      "model_name": "FloatSliderModel",
      "state": {
       "layout": "IPY_MODEL_d2068bb7a1cc4281af9aade8819fdbc0",
       "max": 50,
       "min": -50,
       "step": 0.1,
       "style": "IPY_MODEL_20d2930feba04465a48d977fd65205c7"
      }
     },
     "452b73b030d347afbb862bfabf5d8f9c": {
      "model_module": "@jupyter-widgets/base",
      "model_module_version": "1.2.0",
      "model_name": "LayoutModel",
      "state": {
       "height": "30%",
       "width": "75%"
      }
     },
     "458cdeb6966444e1a418b148d256480d": {
      "model_module": "@jupyter-widgets/controls",
      "model_module_version": "1.5.0",
      "model_name": "DescriptionStyleModel",
      "state": {
       "description_width": ""
      }
     },
     "45b4a57d336342f9bba50408e72432a1": {
      "model_module": "@jupyter-widgets/controls",
      "model_module_version": "1.5.0",
      "model_name": "ButtonModel",
      "state": {
       "description": "Reset Latent Controls",
       "layout": "IPY_MODEL_cf7638de03e54f2aa8fe9d31f71a4c45",
       "style": "IPY_MODEL_2d20e33b2f954ee7958bbe8abc6415fb"
      }
     },
     "4600db9d8abf4b70905d516b30bb5f59": {
      "model_module": "@jupyter-widgets/controls",
      "model_module_version": "1.5.0",
      "model_name": "LabelModel",
      "state": {
       "layout": "IPY_MODEL_eb4eff0964ad4e22b6857f49fdef6e45",
       "style": "IPY_MODEL_69d97aa63ad2429f8fd42a925d45d0ed",
       "value": "C:/PythonWorkspace/stylegan2-ada-pytorch-main/"
      }
     },
     "46edd9f4427d468aa4090c5486008ef8": {
      "model_module": "@jupyter-widgets/output",
      "model_module_version": "1.0.0",
      "model_name": "OutputModel",
      "state": {
       "layout": "IPY_MODEL_38157bae13bc41e78d80c5abbac2f328",
       "outputs": [
        {
         "data": {
          "text/plain": "'C:/PythonWorkspace/stylegan2-ada-pytorch-main/out/seed0929.png'"
         },
         "metadata": {},
         "output_type": "display_data"
        }
       ]
      }
     },
     "46ee73c421104c28a558a6e24a30c509": {
      "model_module": "@jupyter-widgets/base",
      "model_module_version": "1.2.0",
      "model_name": "LayoutModel",
      "state": {}
     },
     "4704eeb9b34d4b9c9fd2ba1951c7cd04": {
      "model_module": "@jupyter-widgets/base",
      "model_module_version": "1.2.0",
      "model_name": "LayoutModel",
      "state": {}
     },
     "470a416fcfc54064852c4c813c00ce00": {
      "model_module": "@jupyter-widgets/base",
      "model_module_version": "1.2.0",
      "model_name": "LayoutModel",
      "state": {}
     },
     "476134bceb9d4228bd6d790125f52091": {
      "model_module": "@jupyter-widgets/controls",
      "model_module_version": "1.5.0",
      "model_name": "ButtonStyleModel",
      "state": {}
     },
     "4783f2449288462bba2ff681a0e7be91": {
      "model_module": "@jupyter-widgets/controls",
      "model_module_version": "1.5.0",
      "model_name": "HBoxModel",
      "state": {
       "children": [
        "IPY_MODEL_35fd535cf4314b7dbb6fade4b935cc6f",
        "IPY_MODEL_fe8a03a402ab4e4d84c75001a27e5abf"
       ],
       "layout": "IPY_MODEL_20e1ceb8aa2b48b0961d4f9a4999c746"
      }
     },
     "47f534a8eb46410596ccc307ba3e66ef": {
      "model_module": "@jupyter-widgets/base",
      "model_module_version": "1.2.0",
      "model_name": "LayoutModel",
      "state": {}
     },
     "4881dd9bf5ac418db8bedeb013bd5332": {
      "model_module": "@jupyter-widgets/base",
      "model_module_version": "1.2.0",
      "model_name": "LayoutModel",
      "state": {}
     },
     "48a4ebcef985447983cb000164850a84": {
      "model_module": "@jupyter-widgets/base",
      "model_module_version": "1.2.0",
      "model_name": "LayoutModel",
      "state": {}
     },
     "48c84211f9df42be8f934962fa982b59": {
      "model_module": "@jupyter-widgets/base",
      "model_module_version": "1.2.0",
      "model_name": "LayoutModel",
      "state": {}
     },
     "48ee0e9e945c4d79ac737bdd6ecf55b9": {
      "model_module": "@jupyter-widgets/controls",
      "model_module_version": "1.5.0",
      "model_name": "ButtonStyleModel",
      "state": {}
     },
     "495a066db24046189a89a8e7e3966207": {
      "model_module": "@jupyter-widgets/controls",
      "model_module_version": "1.5.0",
      "model_name": "ButtonStyleModel",
      "state": {}
     },
     "4960d5a925a64713bd7d3d75990fd0a5": {
      "model_module": "@jupyter-widgets/output",
      "model_module_version": "1.0.0",
      "model_name": "OutputModel",
      "state": {
       "layout": "IPY_MODEL_b4c6c9e1091147b897d318c32ee08f83",
       "outputs": [
        {
         "data": {
          "text/plain": "'C:/PythonWorkspace/stylegan2-ada-pytorch-main/out/seed0929.png'"
         },
         "metadata": {},
         "output_type": "display_data"
        }
       ]
      }
     },
     "4968cf9f3d5d4cfbbfff7f832c943ac1": {
      "model_module": "@jupyter-widgets/base",
      "model_module_version": "1.2.0",
      "model_name": "LayoutModel",
      "state": {}
     },
     "497945aef6fc422b85011ff5425173c6": {
      "model_module": "@jupyter-widgets/controls",
      "model_module_version": "1.5.0",
      "model_name": "FloatSliderModel",
      "state": {
       "layout": "IPY_MODEL_0389a463c6754ee2b69d1c36e71a2008",
       "max": 50,
       "min": -50,
       "step": 0.1,
       "style": "IPY_MODEL_e6d5be807fc0451b81af6d210344da23"
      }
     },
     "497f394f484640d99633824ca653396c": {
      "model_module": "@jupyter-widgets/controls",
      "model_module_version": "1.5.0",
      "model_name": "DescriptionStyleModel",
      "state": {
       "description_width": ""
      }
     },
     "49b9de148ca94cd38b872fc389f150d2": {
      "model_module": "@jupyter-widgets/base",
      "model_module_version": "1.2.0",
      "model_name": "LayoutModel",
      "state": {
       "height": "30%",
       "width": "75%"
      }
     },
     "49bdaf721e0e45a78c683558a9e20e09": {
      "model_module": "@jupyter-widgets/base",
      "model_module_version": "1.2.0",
      "model_name": "LayoutModel",
      "state": {
       "height": "30%",
       "width": "75%"
      }
     },
     "49cf1b355de04237bb9ab89ac4cc8994": {
      "model_module": "@jupyter-widgets/controls",
      "model_module_version": "1.5.0",
      "model_name": "VBoxModel",
      "state": {
       "children": [
        "IPY_MODEL_f586d6c319454f569f45694e609b9a58",
        "IPY_MODEL_778d54ec942648ddb7fddb67c453cfb0",
        "IPY_MODEL_4f8f5dc590234cc1aff552f591378c3e",
        "IPY_MODEL_9b0b03b575744fa3b4033ff6859b6a80"
       ],
       "layout": "IPY_MODEL_e0624cbf006746ad9433da85dd7d44d8"
      }
     },
     "49d5de63e4bb4f10858586eeebc5969b": {
      "model_module": "@jupyter-widgets/controls",
      "model_module_version": "1.5.0",
      "model_name": "VBoxModel",
      "state": {
       "children": [
        "IPY_MODEL_9f953fe74997438581f4535f0b97c65b",
        "IPY_MODEL_ed391e85ba5f4a0395b4d67fe0c57486",
        "IPY_MODEL_22e326fcc636460997cc31534efad081",
        "IPY_MODEL_72a380efd3234ddc8e243ba6ff75169a"
       ],
       "layout": "IPY_MODEL_d2368fedf5974d56b93042d058315aad"
      }
     },
     "49dd9f1e751b4b0091ddea7ab670adca": {
      "model_module": "@jupyter-widgets/controls",
      "model_module_version": "1.5.0",
      "model_name": "VBoxModel",
      "state": {
       "children": [
        "IPY_MODEL_0de796a451f34c7aba6ecf98cc82c8fe",
        "IPY_MODEL_cb0f76b0f31a424baee66201a0ac07c3",
        "IPY_MODEL_f9e7cf7fd57d44408a1d59017929b399",
        "IPY_MODEL_537c94b6910241b5a729adc9b05d626e"
       ],
       "layout": "IPY_MODEL_ef2cf4628ee8480c9aec1330d59123e0"
      }
     },
     "49ded845c6dc4cdbbbc8dae8d6af495c": {
      "model_module": "@jupyter-widgets/base",
      "model_module_version": "1.2.0",
      "model_name": "LayoutModel",
      "state": {
       "height": "30%",
       "width": "75%"
      }
     },
     "49df5a2de30942e8b3fa6ea41777f8ec": {
      "model_module": "@jupyter-widgets/base",
      "model_module_version": "1.2.0",
      "model_name": "LayoutModel",
      "state": {}
     },
     "4a057359c50f43a6a9f71e8e4932828d": {
      "model_module": "@jupyter-widgets/controls",
      "model_module_version": "1.5.0",
      "model_name": "VBoxModel",
      "state": {
       "children": [
        "IPY_MODEL_612e24c065a445d88e08cc88f092f3b7",
        "IPY_MODEL_84b35d66fd404142bce659d09a971cfe"
       ],
       "layout": "IPY_MODEL_0f0cec05d1db4de694a8c39324550381"
      }
     },
     "4a23c45e43ac4110ab08d6bb08ed1d58": {
      "model_module": "@jupyter-widgets/base",
      "model_module_version": "1.2.0",
      "model_name": "LayoutModel",
      "state": {}
     },
     "4a54567e1694450ea481a0da8f514459": {
      "model_module": "@jupyter-widgets/controls",
      "model_module_version": "1.5.0",
      "model_name": "ButtonModel",
      "state": {
       "description": "Generate",
       "layout": "IPY_MODEL_5413bae205d8457f8136cd962bf265e6",
       "style": "IPY_MODEL_f6838714ba284206af38cdc7cf14ea8f"
      }
     },
     "4ad7ee1d858247dd971c5ea67e488031": {
      "model_module": "@jupyter-widgets/controls",
      "model_module_version": "1.5.0",
      "model_name": "LabelModel",
      "state": {
       "layout": "IPY_MODEL_46ee73c421104c28a558a6e24a30c509",
       "style": "IPY_MODEL_1c1557a68c4e40fea4239d532207cf29",
       "value": "stylegan2-ada-pytorch-main"
      }
     },
     "4b0a99000d53446490e769fc13e3f2b1": {
      "model_module": "@jupyter-widgets/base",
      "model_module_version": "1.2.0",
      "model_name": "LayoutModel",
      "state": {
       "height": "30%",
       "width": "75%"
      }
     },
     "4b705d3a3ef54add9ecb137c6e3692e3": {
      "model_module": "@jupyter-widgets/base",
      "model_module_version": "1.2.0",
      "model_name": "LayoutModel",
      "state": {
       "height": "30%",
       "width": "75%"
      }
     },
     "4b7fa97283c549588acd745782fb89b6": {
      "model_module": "@jupyter-widgets/base",
      "model_module_version": "1.2.0",
      "model_name": "LayoutModel",
      "state": {}
     },
     "4bc5d7ad36fc43d78dcc9f1e3fd3dfb4": {
      "model_module": "@jupyter-widgets/controls",
      "model_module_version": "1.5.0",
      "model_name": "LabelModel",
      "state": {
       "layout": "IPY_MODEL_c7cc73e55ec94205a6067d887f4a1305",
       "style": "IPY_MODEL_d26549ab102847588269a703e1671cbc",
       "value": "C:/PythonWorkspace/stylegan2-ada-pytorch-main/"
      }
     },
     "4c34d701f75246e8a46fa1649cf45660": {
      "model_module": "@jupyter-widgets/controls",
      "model_module_version": "1.5.0",
      "model_name": "VBoxModel",
      "state": {
       "children": [
        "IPY_MODEL_2591e9ddb9894cee9c931632385b1628",
        "IPY_MODEL_aeb3357f2f114c7a8a41d45579cfe8bd"
       ],
       "layout": "IPY_MODEL_d91d9a51727241d9aad54da84be0f02c"
      }
     },
     "4c918545f23541808a0e10d9212a5cb4": {
      "model_module": "@jupyter-widgets/controls",
      "model_module_version": "1.5.0",
      "model_name": "ButtonModel",
      "state": {
       "description": "Generate",
       "layout": "IPY_MODEL_49ded845c6dc4cdbbbc8dae8d6af495c",
       "style": "IPY_MODEL_7904a6cb04c14435823120874e4f0c25"
      }
     },
     "4d3c9a4f3af34768b29c605b138364c0": {
      "model_module": "@jupyter-widgets/base",
      "model_module_version": "1.2.0",
      "model_name": "LayoutModel",
      "state": {
       "height": "30%",
       "width": "75%"
      }
     },
     "4daf42bc16304a379a1ddcc4c1249c49": {
      "model_module": "@jupyter-widgets/controls",
      "model_module_version": "1.5.0",
      "model_name": "FloatSliderModel",
      "state": {
       "layout": "IPY_MODEL_3b6431c3c11b45b6a5fd23e7a70e0606",
       "max": 50,
       "min": -50,
       "step": 0.1,
       "style": "IPY_MODEL_d642ab0275d54f4391ee382ed8cafd5b"
      }
     },
     "4dee39efb4564b50a0da47dadfecabb1": {
      "model_module": "@jupyter-widgets/output",
      "model_module_version": "1.0.0",
      "model_name": "OutputModel",
      "state": {
       "layout": "IPY_MODEL_120716fb19344e20af150617c12ef528",
       "outputs": [
        {
         "data": {
          "image/png": "iVBORw0KGgoAAAANSUhEUgAAAEAAAABACAIAAAAlC+aJAAAbN0lEQVR4nLWaaeylZ3XYzznP8i53/6+z73gZj43HGC/YhgZjA1VjIBGUtFGURqCoSQUKJKEoSpRabapUUZCqkqJ+aNSWpIrSRtRUiQNqgo2DqR2wx57xzNgeezbPzH+7+32XZzmnH/4zxmBjp8r40f1wda/ufc7vfc55zoriim/9zz/95h9/VY3HHUUKCYhIqcgcmR0CISoWL+y01qQURwQQEUAUAAVIMbKIAxARi2hAILKIgNYFwB33f+j+z/4KJA14e5YGo4vZGKuyi7jFJs470FQHR0hOAogYpRKBUliIDYoV1khBoiARAkY2USICaQSAVMQKoCZERKPddDZdX4XxGHoWtHk7AAgAi+lUA7STlCIrgaqqvA8hBBAwSmtUCIiESmtjDBEBCCAiIQIqJEFgACJljQUGQQoArBQpnZnk6FNHRmfPvh2iXwGIYbiy0tRGCygGFHG1A0DnvAhiYBUFARHQAIAPKJflV4DIggKkFCpFIprFkkIWYy0zk0BubApw6uixtxNgMh5evIA+kAAzhxCD9z74iEAKFQOGyJGRwUQxDMQCIhAZQlQCEqOwKIAUiUIwApk1vnYaULEsttrG8/Enn4T+xtsFENfWysFQiYS6EmbnHCEKCIMIADJziMKRQNAF9BEjQ2RkhhAxMgGAMDJrFsUiMdRlpQlTpavJNLc2U7Ry+nT/xRcB+G0BKIZ9rF2qlISQN7I0TQ3pWDlXVbH2SlBijJFJQAsQMwkgixLYtAYloACVCIaIkY3WAJJpnShqZWk5nSwv9MhXzz/7FIT6bQGYDPriPTFLCFmeZ42GUsoozT5uLiQiRYAozAjAMaIACgALMktkiRE39YolhJgYg4ExxsQYoyhR1E2TY08+4S+cfzsOQW+sryqCGEJizHA0Grsqa+QUgmnk0QfvfGRGo0Fi8EEhIiKIICIBKEAQQUURQCERIRFq0lYrdt5xKKdFYJjbsuX8pfULR57bvXU3GHuVAaajoSFSwFmSMHOaZnNLSyZJGLEsSzctHMdIIIAEADESESISoISIIrR5PgBaKUQCEI1ILAEqBNCkirL2k1kK8NQjj+6+573QNkB4NQHK8dSgIvYAMWs2POFkOFLapFneSPOFLb06BGVNZBbm4D0zO1d75wlFYhSOHJgQnfdEKCBV8AaQRDQRiBBC4ADMa+fPuPNn7KE2gLqaAHVVMkeIHBBFUWRm5tr5oqyiiDAIgg8RQBARCYmUgIAAihAAgoAIESEAEiKIUSqEoAmdhOFoHHzQSZK32v3Z9OUTz1176MarKD0A6CrUyirxGEWmvvQiWmmwmrQVECBCRAMIgAIiIoIACAibHwkwgwghKgAUQBACUYlmDqix0ezWlQMkk1mZzI4++cS1990PnTkAumoAqKkOdaKkdt5EYqTKO5UQs4+IgJv6KiDAzIAgAogIIAoJgQEFEUhEAdCmXMxaEyWmjJWxVpRWQrNqaglWzp4ZnDzZe9ftoK4aAEHgRGkShMjooxGQGEOMQaLj6EQqlJnIDKEkrIkqAI/oBYJIiBCDSBBgiBEigw+RGThwKB2VEUZVXopfHZrCWRcunHrphRPHNk1AAORqAOhMJ1hFHYGCKGJhb4g4RiISkSgOiIIwkNJaKa0VEzATEoiQIDKCCKMIc+AY6irULhQFO68B5jtda2yHEmvSWYwLSfLEX/31bR/5CHSW5SqpkU7yFAglAseIUY/6fWUTsolnKb2f1bWLXIcAREprUgoQRUSYAUCAN9/H4AlRYvTeYWQF0sqybqeNqXYcfYzjflFUrtnuTNaHZ598etcHPni1dEhraz2HEALFGL2fTSZVGJJNKh8Hk8moKCKDCCgEQBQE0go37xxFgGCMQRBCJEKtlDV6aWmh22zlaWITY0hhiAZQONNFPQ5BRTny3Sd23ftBuErOQBurI8cogb2LAHVwo7Ig9pOyntZ1c761ffuO1CZWGxERFKWVIqWQAMAHn2eZhGitIUSlFSGmxhhAYAYUAkhT6jSbzgcXuAP43Op6f7AG4xF0OlcHIIq4GIEoxCBaL23d4tdX0SRJs7W71Wp1m2mac4jWGEL03pEirQ0KcGS2pBBVYoFZhCGCEFZFqGJEEQ4+0Xpc1/31DVBqVtWzKN2t28rJBOiqGDAAgA7MTqQKEQUiS9rOm7GTtzqI2ibJtJxaE7xzJIIAIXhAxASCjyKMCKhBOMYYjDGevbUWFXGMiGiUARFjbYhhbXW1MzefaIo+DPuD8+de2XGwCwABQP89AVpzc2WMJgT0LrUJh5D3uq1OTyJkee7WfYyBEJWiGINNLAICC5IYbb33AqCU8t4LYAghxgpEFKKEQCFqQjK60Wq/Y3ExBLZZc6p0EMptAgACoAGCyNmXT1985UJVlERYTAtSlKSpMSZJkzzP2512o9HIG40sy15vObo1Pz92dahcGrlnDdmEtXKohKTTbG1vZNV0Wo4nIQQGiT4gYPAeFbnIErmqnSYVI7vIiMjCElkhKkQjwCEK4trFi4mxjSSX4bTvuZpf2OgP5wAQ4G+ffurf/KsHT544kSZpnuej4bCYFSJirTXG5Fm2Y/uOTqu9vLyl3W23u53e/Nz+A/vfefPNaZpeBti+e3cgqkS01pTn1GiMZ9Pjx05Mp7Prr3nHgT2783aPmCpXRRBkkMikDChEUsEHDaBIaQFEZGaMEZTkaQocKQQUKWNo5K31SytOl9qm0Zjhel9dyQv+5tFvn3r+hbIojNYXLlwAAO9do5Fba8uqKspydXVtcX7xpdOnO92u805pNbcw90u/9Mt33HnHZYC68q1mO89aDR8dqdXh8JXheOoCJtnxM+fHs/La3bta2ioEY2ysawLy3geOgKhIA8tln0pklI4hgLAXQERENErliU2N3X3Tcqz8oD9oJBk1mp12BwDqED/7mc989jOf2Vhbq6rq8b95/MEHH1ybzkoovfeAsGPnznvuuefM6bNVWSqlGqph02TPnj27du38gQo98uhjFy+t75yfbyVpvyxfeOV8qVQdeGFhMTo/Cbw6mgZjfHRojISgUYUYozAAIhEAbmozsECIKKKIUEQrhSIgTD7UZXnqxMn57lzwgQUvlNXqaDwPkOjLcfX84iIAvP/e5D/+wZdfOvXi/MKCsGR59lu/9Zv33nf/WxgxK+2V6k9nK+vrvqr23nzj6bX18y+fpkar02hSmtWRg5IYhCVYpSIDICEgi2zWVwSANzmQAETwcujKICBSFFM3K7I8W91YX1hcrghHPizu3wMAHuC1ta5mt7O8fVlbhQqUVWkju+XWW9/yFqL3f/jDrbl5m+WdubntO7dXzi0sL+at9mAyjojjomBAQGWU1gJKQCGQbIafCCzCLCIK8XKGgBhDJAQRQcTIodVs5ll64MCB7Tu3aWtrgL033bywNA8ABiC8RpTReHDu/GnSLOIi13kjVfat71jq7Nlz3U2HUCuTZt77ajIeDvoH9u8zhKPRKMYwGo3rqmLnjIArylDXdVnOJtPZdFJMp+Vs5qqqKsvgaleVrq5cVfq6Ds6VxSxGrp0r6/r7zxxFZdkmL1y4dPu9H9rcm4FfK6AAF9OJRbTACUIrS9I0eUsADZRv2bXrzLPPBo51VbvCU7edp1prMBq0IonBaqXqUM+mzvvAXHvnfYjC2hgWUcYQEhGxCCIQYMFRYoy+TqwNVdVtdyJVK4PhRul6e/a++33/4PLDAxJgvBKVDob90XCgERKlEMEQGqUAoAZ4Ew4NEDu9OaW1tiYqZSz1pxOXp/O9LgfptJodFoiROGIIwde19yICwtF7BPExSF0BYgzRGBNiIEQOwRpTzKa9Xtdz6E/HRV1Fk1yYjj764X+eLbVf3f6K9AKAVNaq8qrySQOC8zIrURAQ3ryMoQE0ajMpSppMykHfGFX6KhKl7WbWbizN9XhjyMExh7oqi2qmjFGbWa8ijkGYGcCHICKVqwABWCSyc3VRzkAjCjAX3oVJ7fcePPShn/yHbyQGAkCvCvvy1qwOPWU9y0IEqCOkit+0CqABgs7TmuNcnvlEL3Q7S5k9fvZsq9fKsgSA00SD8z7W03LMCK72AFjXtTbG+1h7h0pFZqU1CyNglqaGFCG2mnkjzzUqYQEBnWR51nj4v/4XnF8oWbzzAYUgWFeTdzmpcjC6pTc/Y+i0WpV3W5odGI0A51XyBrkDX8mHNIAWUkikFbWajW1bly6sr0lwo+Gg1WxbTVZRVRX1eFT7GhSJiDam0cxEwFqTcqKMERFjrbWWI6fWaqAsTRGlkaSWjELyzimbMenhU8/0i2JpaZG9L+tZliXO1VKHirnX7tzUm+O8ETkGEB3Cua98Jdu1Cw5db3Zu62zZ+upJMEAECAAWQAPwYrsnPoYYSZuz586353rW2hg9cyREkFiXZZ7lc92288HHIIJAJAIIqLVRWiNikiQgklgLAlYbozQH38oaFlVVljHE1Eg9m3W0aafGTqfR+xbElDABhQg2s6urq9sW50eTWMeo8rSq6qcf/asycNnr6lZn2959h+6+e/HQIeh2yFq64gQ1AGVZM7GJkjiZFoeu3QtWq3OaRRjYWsMgimih10OQ2WyWm0QZG0XSJIUr5RZFClhA2JJhZktECBEAgi9dGYJ3dZGmFmJVFmNttWOOMVSubrQaCapYB1/V0UCxWiqBhW2L43rWaidZyehd5qtwqSoH48eOPpdt33b7hz7Yu+NOyBuQmU0AWNq1PW3miQ8zRZ5l2O8LEgPUzm3GOdpo51wjSTJtUNBoE5hRhEUYRFgEgviglfIhkCLHHgCidxwsxwCEYGFajVGEKQQOwhEI04x8KEhpo5Vu6Yk42zT1tLi4djFJrVSlYdIWTENFE8vhhm13Vk8d//ofXXrPcOPARz+26cc1AGQLi93FxbUTJ22rvfu668zqBW61Trz0wmA0CsK1c9EHyQgRrdbsY6wqIAzBM4KLIXBMbQLCwOydM8bU3hGhcLTeKE0kxBIjBxQhRZEjEZAiUiTChCRBAEEnFq3K2w1xUQtSiCgMGs+unNGsdm/dVUVOUYpqfPKZ7++74zbafw0A6AJCO2/f/uEPfvk7j/fS5Lb3fwA1lqH+3Be+MBsOXYyFcyggRqXtvBqPkUUhRpE6+qiJtViTGm00Kg6BDUSRTrcbvZcQSVA4EgAyaGOAEBWxDwSgUSkiEVEMKKwCKBaoPQlEBK0RRSGLMC92uyqxq8O1RrPdzLLZrMgyIxA2vYfOQZcAN9x2x9L+fW44tHNLu/ftOnf2jGNxLgyGw+ACl2UZvIteG80xoqCAaK0ptV5C0uuGsmIfowQwFGMMBDZNLZKv6qr0yGhAKSEgAqWUUkoQAnOIyCIsFIADA4hwBCJtCIS1MTEGjTa1WRVDq9sOEVg4bzZeeP759ydm03toAUgArjtw6M67fuKpJ5+0zR4sbA8vn2vmLRegKCqDRErXLtaV7xgrChpJNhgMDKlGmq9NBnkSR3Wc+bqMQbQKvu6vz5bbPZWkoEknVgsqJ1x68oQqIiEgRmYRAREUCSCeIijUyiBTYozJDBqVtQ0zc5AELCgdFXjAWeV6W7ZBEYADkNabZVoA+Mmf+oRGnWdNKBx4nq72DQKE6GqnRbwP1qYI2GnPuVlJEVu6wRuu4zWvFwlJHYMyUgVfel9Ni6qs9m3fqbWKoiwqiB4BKQjXnhCBkBQGZEHRxlCiUoVktUZlAhILKAoAPnijjDWJj1yzoNGNZtNoa7oL0JkD1PDamsDuffs++YmPd7YsA/PePftu3LPv6LFja6vryodEcOfy8qgodN7wRBcH/SxLJE9NgqP1qphM55eW0tqWRVmz35h5qT0ZWTt/odNuMfuotUEtKpBAjCFRJkGdKJ1bjUaBIkQCQCJSgkggJIwADFprk2RF7cAaIaVsotM2pOl77rsP0hSYQZG+HEkBKGvnt22FQV82NvprK4YMCK6PJ8sLC1VZr06nJUFik8iFbjdfWbnU6M6tDwdRoxMofZiMpo0096Vf0O2WJFpRIqodEkEdI7MC28i11iSoGAwoCCyRldHASKQUKWEgQlYQOWprFVIdggA6Y1SeS5KorAGtTj4319q799W6mIYrKgRGQX/22F/++fcee2yt37/28GHXSJ86+vSKK9xk3J+MtjSbVZRummmkmGbnBgNrzcZooBMyxBuxrJgm1aTXaO/avXc2HCwvLIp3vioViTaambkWJMUgUZiIAFC8kCJhcMR1DMpoJAVKCyAYUwDkzaYgThB2Xn9Nbe3eG2/acfCg5K1XyysoIg4uh6zP/J+HH//Gw4898q0777rrvfd/cGMyXB+u/cXXH3r8kceg5IQBA9ywZ1s7y7qtJnAkRuGQWG2tGY/HxDAbjAzDvh27NUiqVaeR+7JMtbZKO+/SLIvAQsgEhKSVliiV85gmaA1pBUQxsjamAoja6FYT06y7tLiwc+fWd+xv7dgBy1s2s4NX09Ef2EExHv3Jn/3ZxZdfkkbjf33zG//3xImP/9NP3nnX3ceOHT/y9NHGUtbJG4u9uTtvv/3Q9dcuLS0ONvqrK5c2VlersqjLwlblK2fOrY76vbyxxrWq604jjY61FrGqBp/mSSlRREyScOQIEBUIUbCJ6XYqkRAly3NhmPmw+9prIG8s7t2z+4ZDYCzML4KxlzucAoA/SKY1XIlLy8n4rx951BeTu99z5/pweOnSpd/9t7+7fdvyDddeo1C1mu0kSX7l139t3969McbIvP3a6401aDWwADJo9fCf/o8Hv/gbS4JzO7atne/Xmmtii5IhG8BAkiaJMTaIiKI0y4uy1mmyfe+emTGNZguNabe7ILBl+66FHTvpwAHQGvSVfCby5abIDwfXKHK5zhono3/9m1/884e+llmzsLRsbXJx9RKCnHvxVNPq2TgkBtqNvNfulHWV5rlN02a7lTYa191w/XUHr8tbjT/+6h89/8xzLW23d7uqKlKCuVYjVWQBUqVTbRKtAYBZ8rzhosyquru03N616/aPfKRxy7vAJhAYbAKVgyQFutzCqUAsoHpNDvAjCQ0AAIiA0v/ogQfmO63o3bFjx5548sn5xYXD77x5x+LSi88eu/m2vUu9xfOnz66vrXTyLJRuOhyff/5U2ki//53vMIFOLQu0krzVbBBhWdfz812bpNHXolQAmdWlj4ZZjDHjQb/wIQg+t3LJDvq3/Pw/g6wNAF4BA+gs3YyVpxwS0ilgBNh86dcxXL5GmaPKG43unAP6uV/41MKB65785v/+vd/7d49959vX7L/2ffffTzF+7IGPGKLvfvvbrUbG0a+urr3w4gsrl1YoSVz0jVbz+RdPlXE20orSNNNq17690+EgbeUYQ2L0ZDzyGJmgrMZ15KDV6mRaWRXDdFXJZmg+A0kApyBtQAfcIl3EaJXSkUHRGyaWKCKbfiCGcObUCy+/8MKe3Tv333jTZvpz6cUj//Jznz/+3In9e/Zu27Jl2/Ly0SNHpqMBSozeFUUxnUxCiCZNVldHiDDX63YazVaalP3VXdu39lcvzbc7S0sL0dXa6mI2a3U6keXiykrUOPa+XxS/+GtfvO/jP5st7PAQErAjAALINnMu4QYSAIBnAATE1xfjL9tADPHo0aPf/OY3ECBN0k6nc/iWw4087bTyE0ePPPS1rz36rW+NBoPxaGy1UsLNLIneJ2lSV+WWpcXhYNhutVuNbGOtv7y4tDjXMwrGg8HSwjz7OlR1liXldJpYW05nqbEJmdRYBaos64VtOw7d875b770/X16GdicmRinNHIg0AAQABFE/viG12bETJPzD//yHv//7X5rNpsF7H4LRZnN6oNdpEsBo2C9mk+BcM8usIl8Xe3bvnIxGSZJUxWyu2129cKndyG++8dDB6w9+/aGHlrZsncxG+/fvHw+GviqMMYZQsXSyjHzg0rXSfLE7t3phBZGGZYVpdsO7brvpnvce/IkPQGK1NaAVJK/ellJzlVD2xgCb7z7/uc8//BcP792799LKpbIoI3Oe54PBQESKYoYgiVGGwCgSjopw6/LCDQev31hbi77utTsvnjzpZpVEv215CRXtP3hwceuW5S1bp+MJEPT7G66qpusbXFfVeEzCCBKq2pKhKI2s6Wov3lOWh7xx3cEbPvrAA70bD0EI0O1ADFCU0O5AFNAW6IfM+LJOHX/u+DPPPIOEk9m03Wm3Wi1jzGg06vW63vter2ut0UrNdTsH9u1NrDl39kxVFXPL23/u5z915Km/feb7319Z20iA3nXTO0F8b3npp//xJ29897vL2illIkCaZ0ZrP51okaqYnTvzclkWaxcvnjpx4qWTJ9fGoxDL+WYTKcZ6/NKRJ7781BPI8Mu/+rnunj3QavuiMgzQ6cHrdOkywNr62qWVS5PphBR9+tOf/pmf+SdEFLyv6no6mYxGo+A9ImZ5tjC/kOcZBy/CrUZuFG7buu32W29LlH7i0UddUWR5trxl++F73geoW73OlT6YAKBJegAhE7lm10EABwAf4MIP+qeOHz/2ve898cgjw/EwhGDTDFky0v/+wQevuemmd7zz8PZrr1m0Ws0vvh7gsgoxy5EjT588eXJxcfGuu+9Ok7euql6JYgEAIMz+5A/+w1e+9KU7D98yGA7uuv/+n/3VXwf9Y4ddY/BKmwCsL1/rNQBAOT597Nm/fOhrx777uJ3Nds0vNtLmpbUNp/UnP/Wp2Gofuvd+SJpvfAJEePjw4cOHD8vrGX+MzAAIwuAdBDfZWH3l7FmLpBF8Wd54/fWb81E/bilt+Ir0XthgAgCQ9fbcescv3nrL+rFn/9Pv/M6FV17Zmdm5bYv9ovxv//2rP/0LnxquXOjuuuZH/upHt3mL/vmPfI0ENh0NB8+fOH7+9Om5dis6l4BkRr/JJIdc3phEJLKYK6gMOkJeQ3vhhnf+i9/+7alWK2XhDelGHhQdf/6k0Bs8lL//yIJ0tm3btWMHcOx1WlZTZk233X71BF4Lstna+0Eoj0iEEYABGEAAPIAATSFtv+P6Oz/2sZP9jWOXLp4eDdZd/dzplxu9+f8/AP47DcQgAC3u3qWU0kaXVblz9652pwtwufX0WobXb4YArw4aKYAUQAQaYBmyD/zUJ265976ptRdms/bWre//8AO20Xv99m/cwxFmJKK/60CGKgZ9F5zjmKJhrdNuF2LEN/GfP7KuxJlSuSy1LEColxf3fOGzvzGbjMqqJmPndu59w5++MQC+kbb9+CXjokrn5oazKRBlgFMfmzZ9018A4A+rlxPQiKnlKlCq/Xhm0gSavdRDY/cSFAWgCnWtX3c9/j/jBeMcUN9uygAAAABJRU5ErkJggg==\n",
          "text/plain": "<PIL.Image.Image image mode=RGB size=64x64 at 0x169846482E8>"
         },
         "metadata": {},
         "output_type": "display_data"
        }
       ]
      }
     },
     "4ee13f0cb2304e23a4e7bb73e9ad5177": {
      "model_module": "@jupyter-widgets/controls",
      "model_module_version": "1.5.0",
      "model_name": "VBoxModel",
      "state": {
       "children": [
        "IPY_MODEL_1ae15857024348a09699bc3977c3da3c",
        "IPY_MODEL_03b13414afd449da98dd05011c2eedb5"
       ],
       "layout": "IPY_MODEL_9d44269f79664413b3f922baebe52774"
      }
     },
     "4ee8238efc924452a1cf15bd6d97bf0b": {
      "model_module": "@jupyter-widgets/output",
      "model_module_version": "1.0.0",
      "model_name": "OutputModel",
      "state": {
       "layout": "IPY_MODEL_bf0caf5226ad48c9a4044b9f9ba92b93",
       "outputs": [
        {
         "data": {
          "image/png": "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\n",
          "text/plain": "<PIL.Image.Image image mode=RGB size=64x64 at 0x1698081B7B8>"
         },
         "metadata": {},
         "output_type": "display_data"
        }
       ]
      }
     },
     "4f3644925d8947b4b5515314e34f8526": {
      "model_module": "@jupyter-widgets/controls",
      "model_module_version": "1.5.0",
      "model_name": "ButtonModel",
      "state": {
       "description": "Generate",
       "layout": "IPY_MODEL_16f3164b473a43cba43e924e9a68b803",
       "style": "IPY_MODEL_d53e780c114a403d8ce8d1551f7abe90"
      }
     },
     "4f645d579bdf40b088fd95271b260aa5": {
      "model_module": "@jupyter-widgets/controls",
      "model_module_version": "1.5.0",
      "model_name": "DescriptionStyleModel",
      "state": {
       "description_width": ""
      }
     },
     "4f8f5dc590234cc1aff552f591378c3e": {
      "model_module": "@jupyter-widgets/controls",
      "model_module_version": "1.5.0",
      "model_name": "ButtonModel",
      "state": {
       "description": "Generate",
       "layout": "IPY_MODEL_60c7dad584134afb88e6b5535fc178f2",
       "style": "IPY_MODEL_ff3c4dfaee1e4094864ad77c88ce5e4c"
      }
     },
     "4fdfa70cc7644fa382394fe7c3e0d86a": {
      "model_module": "@jupyter-widgets/base",
      "model_module_version": "1.2.0",
      "model_name": "LayoutModel",
      "state": {}
     },
     "4fe5d5272f65485f8e58850c37765016": {
      "model_module": "@jupyter-widgets/controls",
      "model_module_version": "1.5.0",
      "model_name": "VBoxModel",
      "state": {
       "children": [
        "IPY_MODEL_0da5aaeadcc14d1eb63ebae1fdfca32d",
        "IPY_MODEL_29af78e65ea040ba80e142dd3cca2f90"
       ],
       "layout": "IPY_MODEL_b5542c7d01234ce9af2495cccaae8c7f"
      }
     },
     "50231352eccd438db459b0eebef1e14b": {
      "model_module": "@jupyter-widgets/base",
      "model_module_version": "1.2.0",
      "model_name": "LayoutModel",
      "state": {
       "height": "100%",
       "width": "75%"
      }
     },
     "5098d7d34c0745fb8961781e04971681": {
      "model_module": "@jupyter-widgets/controls",
      "model_module_version": "1.5.0",
      "model_name": "VBoxModel",
      "state": {
       "children": [
        "IPY_MODEL_0f15ed91bd5648c4a90df4060854433d",
        "IPY_MODEL_e15f473f5f7947bc992a1235cef7f391"
       ],
       "layout": "IPY_MODEL_48a4ebcef985447983cb000164850a84"
      }
     },
     "50fdd7156cc64f59b00712006807d99b": {
      "model_module": "@jupyter-widgets/base",
      "model_module_version": "1.2.0",
      "model_name": "LayoutModel",
      "state": {}
     },
     "510dec08bc1d41eb82ea2210c6b3d131": {
      "model_module": "@jupyter-widgets/base",
      "model_module_version": "1.2.0",
      "model_name": "LayoutModel",
      "state": {}
     },
     "5132cc151eab4085aab802a089390aaa": {
      "model_module": "@jupyter-widgets/controls",
      "model_module_version": "1.5.0",
      "model_name": "LabelModel",
      "state": {
       "layout": "IPY_MODEL_f0ac3a4eed5a497082f050dcb4046134",
       "style": "IPY_MODEL_0de21cdf778244d4998822bda1ad34a7",
       "value": "C:\\PythonWorkspace\\stylegan2-ada-pytorch-main\\out\\modern_projected_w.npz"
      }
     },
     "515faedc897341d0a81d28f78a6f5fd0": {
      "model_module": "@jupyter-widgets/controls",
      "model_module_version": "1.5.0",
      "model_name": "VBoxModel",
      "state": {
       "children": [
        "IPY_MODEL_59a339de6e12496682fb5349eb898037",
        "IPY_MODEL_35e5c8598429447396c2f9fc8cc5e34d"
       ],
       "layout": "IPY_MODEL_a887198d4ba74e85a5d2c48b0c009da6"
      }
     },
     "517cbcc45fa64a9098f7ec9000065941": {
      "model_module": "@jupyter-widgets/base",
      "model_module_version": "1.2.0",
      "model_name": "LayoutModel",
      "state": {}
     },
     "518d4c3616224c3dad8660373ca702f4": {
      "model_module": "@jupyter-widgets/base",
      "model_module_version": "1.2.0",
      "model_name": "LayoutModel",
      "state": {
       "height": "30%",
       "width": "75%"
      }
     },
     "51b018c9f8f14e0aad1c8ffea65cb2a1": {
      "model_module": "@jupyter-widgets/base",
      "model_module_version": "1.2.0",
      "model_name": "LayoutModel",
      "state": {
       "height": "10%",
       "width": "75%"
      }
     },
     "51b7452719594e4fb3fb51c50d648b0c": {
      "model_module": "@jupyter-widgets/base",
      "model_module_version": "1.2.0",
      "model_name": "LayoutModel",
      "state": {}
     },
     "51b87de13cc04eafa3c1f3506dbbae50": {
      "model_module": "@jupyter-widgets/output",
      "model_module_version": "1.0.0",
      "model_name": "OutputModel",
      "state": {
       "layout": "IPY_MODEL_7e16a2f4b95844e4aa8848fe4cb3884b",
       "outputs": [
        {
         "data": {
          "text/plain": "'C:/PythonWorkspace/stylegan2-ada-pytorch-main/out/seed0929.png'"
         },
         "metadata": {},
         "output_type": "display_data"
        }
       ]
      }
     },
     "523ec3e7be08426fb758294e949baafa": {
      "model_module": "@jupyter-widgets/base",
      "model_module_version": "1.2.0",
      "model_name": "LayoutModel",
      "state": {}
     },
     "5257f339ca2847f793dcdbf8d15dd84c": {
      "model_module": "@jupyter-widgets/base",
      "model_module_version": "1.2.0",
      "model_name": "LayoutModel",
      "state": {}
     },
     "52bd47e1ef374e62b700fd7c83c930fe": {
      "model_module": "@jupyter-widgets/output",
      "model_module_version": "1.0.0",
      "model_name": "OutputModel",
      "state": {
       "layout": "IPY_MODEL_7b741795b6ba48de930ebfb94c38d70b",
       "outputs": [
        {
         "data": {
          "text/plain": "'C:/PythonWorkspace/stylegan2-ada-pytorch-main/out/seed0929.png'"
         },
         "metadata": {},
         "output_type": "display_data"
        }
       ]
      }
     },
     "52f964236dc64330a30182f8293d64ea": {
      "model_module": "@jupyter-widgets/base",
      "model_module_version": "1.2.0",
      "model_name": "LayoutModel",
      "state": {}
     },
     "5343e287b4e949a8a5ed418fb467632a": {
      "model_module": "@jupyter-widgets/controls",
      "model_module_version": "1.5.0",
      "model_name": "LabelModel",
      "state": {
       "layout": "IPY_MODEL_d7dd94d4d06441be98dfd8423f3c8d11",
       "style": "IPY_MODEL_da0acd2a6ade41188e5df4d52c3fb1d8",
       "value": "C:"
      }
     },
     "534fcd2d67ad4e86a5cbef5768296559": {
      "model_module": "@jupyter-widgets/controls",
      "model_module_version": "1.5.0",
      "model_name": "FloatSliderModel",
      "state": {
       "layout": "IPY_MODEL_8cbaedbc8cc24f04a8b6a023ce3848e0",
       "max": 50,
       "min": -50,
       "step": 0.1,
       "style": "IPY_MODEL_e82290ab61dc4813bbffbedf061ff5b3"
      }
     },
     "53530fa93689450c9c9349c0d64f5694": {
      "model_module": "@jupyter-widgets/base",
      "model_module_version": "1.2.0",
      "model_name": "LayoutModel",
      "state": {}
     },
     "536331b5900d45259c597867c709ba11": {
      "model_module": "@jupyter-widgets/base",
      "model_module_version": "1.2.0",
      "model_name": "LayoutModel",
      "state": {}
     },
     "537c94b6910241b5a729adc9b05d626e": {
      "model_module": "@jupyter-widgets/controls",
      "model_module_version": "1.5.0",
      "model_name": "ButtonModel",
      "state": {
       "description": "Reset Latent Controls",
       "layout": "IPY_MODEL_49bdaf721e0e45a78c683558a9e20e09",
       "style": "IPY_MODEL_06dd504df4164d979ea09f064d69f81d"
      }
     },
     "53873462d9d44fd28d78c6bc0ca07c3a": {
      "model_module": "@jupyter-widgets/controls",
      "model_module_version": "1.5.0",
      "model_name": "ButtonStyleModel",
      "state": {}
     },
     "53a2af5145be4536b9edf8563847ec90": {
      "model_module": "@jupyter-widgets/controls",
      "model_module_version": "1.5.0",
      "model_name": "HBoxModel",
      "state": {
       "children": [
        "IPY_MODEL_3c3e49b8565f42c491b00e90da16d9da",
        "IPY_MODEL_d70c04fefac749fa947ca175aa534bd5"
       ],
       "layout": "IPY_MODEL_8c3726f9e8fd4fcf950b6232e0033081"
      }
     },
     "53cd013695d54c12b3a2c33342e4d49e": {
      "model_module": "@jupyter-widgets/base",
      "model_module_version": "1.2.0",
      "model_name": "LayoutModel",
      "state": {}
     },
     "53eba77bcffe4f8bb414befc60dabe64": {
      "model_module": "@jupyter-widgets/controls",
      "model_module_version": "1.5.0",
      "model_name": "DescriptionStyleModel",
      "state": {
       "description_width": ""
      }
     },
     "53f2743537f644b496136de12d9eb7f6": {
      "model_module": "@jupyter-widgets/output",
      "model_module_version": "1.0.0",
      "model_name": "OutputModel",
      "state": {
       "layout": "IPY_MODEL_7356e0cd7c304386bfd0270c049c6bed",
       "outputs": [
        {
         "data": {
          "text/plain": "'C:/PythonWorkspace/stylegan2-ada-pytorch-main/out/seed0929.png'"
         },
         "metadata": {},
         "output_type": "display_data"
        }
       ]
      }
     },
     "5413bae205d8457f8136cd962bf265e6": {
      "model_module": "@jupyter-widgets/base",
      "model_module_version": "1.2.0",
      "model_name": "LayoutModel",
      "state": {
       "height": "30%",
       "width": "75%"
      }
     },
     "5446b23d44d84013876c50be228b010b": {
      "model_module": "@jupyter-widgets/controls",
      "model_module_version": "1.5.0",
      "model_name": "ButtonStyleModel",
      "state": {}
     },
     "545a123690ab48558fd9b17c09af054f": {
      "model_module": "@jupyter-widgets/base",
      "model_module_version": "1.2.0",
      "model_name": "LayoutModel",
      "state": {
       "height": "30%",
       "width": "75%"
      }
     },
     "548c4ab5b12f40109c88c5b07831018c": {
      "model_module": "@jupyter-widgets/controls",
      "model_module_version": "1.5.0",
      "model_name": "FloatSliderModel",
      "state": {
       "layout": "IPY_MODEL_1700c45ecee7401baea05c080bbe5f6f",
       "max": 50,
       "min": -50,
       "step": 0.1,
       "style": "IPY_MODEL_a3c5072f8dd745c8b6dce2c2bd5c9270"
      }
     },
     "54a87f02c43d44b883eae083524d04c1": {
      "model_module": "@jupyter-widgets/base",
      "model_module_version": "1.2.0",
      "model_name": "LayoutModel",
      "state": {}
     },
     "54acee6f1da1426ab332ef6ebe8e85e4": {
      "model_module": "@jupyter-widgets/base",
      "model_module_version": "1.2.0",
      "model_name": "LayoutModel",
      "state": {
       "height": "30%",
       "width": "75%"
      }
     },
     "54d2d5e664cd440cbad08eecbd7db456": {
      "model_module": "@jupyter-widgets/output",
      "model_module_version": "1.0.0",
      "model_name": "OutputModel",
      "state": {
       "layout": "IPY_MODEL_b92aa4cad5bd419c83a74cb0987ab7a4",
       "outputs": [
        {
         "data": {
          "image/png": "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\n",
          "text/plain": "<PIL.Image.Image image mode=RGB size=64x64 at 0x16984648BA8>"
         },
         "metadata": {},
         "output_type": "display_data"
        }
       ]
      }
     },
     "54d417b619234d3c8a9178126a2abe7c": {
      "model_module": "@jupyter-widgets/controls",
      "model_module_version": "1.5.0",
      "model_name": "ButtonStyleModel",
      "state": {}
     },
     "54fcd6a92d9f4dee81a43d20a1695908": {
      "model_module": "@jupyter-widgets/base",
      "model_module_version": "1.2.0",
      "model_name": "LayoutModel",
      "state": {}
     },
     "553a27ffe2324623b8616770cd7c244b": {
      "model_module": "@jupyter-widgets/output",
      "model_module_version": "1.0.0",
      "model_name": "OutputModel",
      "state": {
       "layout": "IPY_MODEL_e73770c3d7784c25b7d85f7b923eddfe",
       "outputs": [
        {
         "data": {
          "text/plain": "'C:/PythonWorkspace/stylegan2-ada-pytorch-main/out/seed0929.png'"
         },
         "metadata": {},
         "output_type": "display_data"
        }
       ]
      }
     },
     "555f494461284fd0b996c2805b9394ed": {
      "model_module": "@jupyter-widgets/output",
      "model_module_version": "1.0.0",
      "model_name": "OutputModel",
      "state": {
       "layout": "IPY_MODEL_9b3497922ddb43a58e597fef77ac31b1",
       "outputs": [
        {
         "data": {
          "text/plain": "'C:/PythonWorkspace/stylegan2-ada-pytorch-main/out/seed0929.png'"
         },
         "metadata": {},
         "output_type": "display_data"
        }
       ]
      }
     },
     "55f39b2d266743ccb713763d9dbeb335": {
      "model_module": "@jupyter-widgets/controls",
      "model_module_version": "1.5.0",
      "model_name": "ButtonStyleModel",
      "state": {}
     },
     "55f9c4130f0147948314fda20de89760": {
      "model_module": "@jupyter-widgets/base",
      "model_module_version": "1.2.0",
      "model_name": "LayoutModel",
      "state": {
       "height": "30%",
       "width": "75%"
      }
     },
     "561f6eac522d49c785f383205d279040": {
      "model_module": "@jupyter-widgets/base",
      "model_module_version": "1.2.0",
      "model_name": "LayoutModel",
      "state": {}
     },
     "568a176e323144b5a8357bc5f01dee89": {
      "model_module": "@jupyter-widgets/output",
      "model_module_version": "1.0.0",
      "model_name": "OutputModel",
      "state": {
       "layout": "IPY_MODEL_a0fc12a4478744a3afc07e62f1441f9d",
       "outputs": [
        {
         "data": {
          "text/plain": "'C:/PythonWorkspace/stylegan2-ada-pytorch-main/out/seed0929.png'"
         },
         "metadata": {},
         "output_type": "display_data"
        }
       ]
      }
     },
     "5700c9a4a69b4c74b1ccbe8bb8aba063": {
      "model_module": "@jupyter-widgets/controls",
      "model_module_version": "1.5.0",
      "model_name": "HBoxModel",
      "state": {
       "children": [
        "IPY_MODEL_6af88de34a11429f9abbf8146e98259c",
        "IPY_MODEL_4bc5d7ad36fc43d78dcc9f1e3fd3dfb4"
       ],
       "layout": "IPY_MODEL_bd59cd367fd8433b8dfe242abf1f3847"
      }
     },
     "573d4498acda49108bf5e81e94cc54aa": {
      "model_module": "@jupyter-widgets/output",
      "model_module_version": "1.0.0",
      "model_name": "OutputModel",
      "state": {
       "layout": "IPY_MODEL_733507e1c9ca4802b0b48437052344be",
       "outputs": [
        {
         "data": {
          "text/plain": "'C:/PythonWorkspace/stylegan2-ada-pytorch-main/out/seed0929.png'"
         },
         "metadata": {},
         "output_type": "display_data"
        }
       ]
      }
     },
     "576f43a177f74622b8e41ff44a052b43": {
      "model_module": "@jupyter-widgets/output",
      "model_module_version": "1.0.0",
      "model_name": "OutputModel",
      "state": {
       "layout": "IPY_MODEL_c0bbdb8ca4ba4392a21b09dd62f9a4e0",
       "outputs": [
        {
         "data": {
          "text/plain": "'C:/PythonWorkspace/stylegan2-ada-pytorch-main/out/seed0929.png'"
         },
         "metadata": {},
         "output_type": "display_data"
        }
       ]
      }
     },
     "57aae31503764e71b83c64a21cc713fc": {
      "model_module": "@jupyter-widgets/output",
      "model_module_version": "1.0.0",
      "model_name": "OutputModel",
      "state": {
       "layout": "IPY_MODEL_40406b27c56e4f898de1ec1ba8c4b433",
       "outputs": [
        {
         "data": {
          "text/plain": "'C:/PythonWorkspace/stylegan2-ada-pytorch-main/out/seed0929.png'"
         },
         "metadata": {},
         "output_type": "display_data"
        }
       ]
      }
     },
     "580cc0c088014f23b3055042014ca3de": {
      "model_module": "@jupyter-widgets/controls",
      "model_module_version": "1.5.0",
      "model_name": "ButtonStyleModel",
      "state": {}
     },
     "58c96d8a057046c58e75e903174e5734": {
      "model_module": "@jupyter-widgets/base",
      "model_module_version": "1.2.0",
      "model_name": "LayoutModel",
      "state": {}
     },
     "58cbba7432a64d18a00bcfacf44f0376": {
      "model_module": "@jupyter-widgets/controls",
      "model_module_version": "1.5.0",
      "model_name": "ButtonModel",
      "state": {
       "description": "Generate",
       "layout": "IPY_MODEL_99db36ef7ed34c59942b7f803bbc198b",
       "style": "IPY_MODEL_055c14be742f4ad68b114d55f90ae125"
      }
     },
     "58d4b7234c45499a91f02e2b03d0d22b": {
      "model_module": "@jupyter-widgets/base",
      "model_module_version": "1.2.0",
      "model_name": "LayoutModel",
      "state": {}
     },
     "58fd24302aeb44c0b8ab857b89c92ac8": {
      "model_module": "@jupyter-widgets/base",
      "model_module_version": "1.2.0",
      "model_name": "LayoutModel",
      "state": {}
     },
     "591e9c709b1c44b681e1738f44095d68": {
      "model_module": "@jupyter-widgets/controls",
      "model_module_version": "1.5.0",
      "model_name": "FloatSliderModel",
      "state": {
       "layout": "IPY_MODEL_ebf3c2da9ac04314bccd5761e500152b",
       "max": 50,
       "min": -50,
       "step": 0.1,
       "style": "IPY_MODEL_333b1b383501404b9690c0bf23a5528d"
      }
     },
     "592516c686f14556a637cfa042aa1ccb": {
      "model_module": "@jupyter-widgets/output",
      "model_module_version": "1.0.0",
      "model_name": "OutputModel",
      "state": {
       "layout": "IPY_MODEL_7f690ba908b94c94a7271f33016912c7",
       "outputs": [
        {
         "data": {
          "text/plain": "'C:/PythonWorkspace/stylegan2-ada-pytorch-main/out/seed0929.png'"
         },
         "metadata": {},
         "output_type": "display_data"
        }
       ]
      }
     },
     "592bdd1ad92a4706b540ba21b352e0d6": {
      "model_module": "@jupyter-widgets/base",
      "model_module_version": "1.2.0",
      "model_name": "LayoutModel",
      "state": {}
     },
     "593316e4b7ce4bf0bc0eb016bfbc0ce2": {
      "model_module": "@jupyter-widgets/controls",
      "model_module_version": "1.5.0",
      "model_name": "DescriptionStyleModel",
      "state": {
       "description_width": ""
      }
     },
     "5973f86ea53c46769cb363f40e4e7b37": {
      "model_module": "@jupyter-widgets/base",
      "model_module_version": "1.2.0",
      "model_name": "LayoutModel",
      "state": {}
     },
     "59a1adfadaae4ac6b0d578e763363a2f": {
      "model_module": "@jupyter-widgets/controls",
      "model_module_version": "1.5.0",
      "model_name": "ButtonModel",
      "state": {
       "description": "Generate",
       "layout": "IPY_MODEL_e84c542377e84fbc8f790d273508e248",
       "style": "IPY_MODEL_3e2c501004ed4b858b2e9f7312312a99"
      }
     },
     "59a339de6e12496682fb5349eb898037": {
      "model_module": "@jupyter-widgets/output",
      "model_module_version": "1.0.0",
      "model_name": "OutputModel",
      "state": {
       "layout": "IPY_MODEL_d4b2b77006c74df888f4f1ec8f5b3185",
       "outputs": [
        {
         "data": {
          "text/plain": "'C:/PythonWorkspace/stylegan2-ada-pytorch-main/out/seed0929.png'"
         },
         "metadata": {},
         "output_type": "display_data"
        }
       ]
      }
     },
     "59d6b4a2c12b488d856a564d763718e2": {
      "model_module": "@jupyter-widgets/controls",
      "model_module_version": "1.5.0",
      "model_name": "LabelModel",
      "state": {
       "layout": "IPY_MODEL_674c9d7f7621499693a2e75f29548bfa",
       "style": "IPY_MODEL_6202bf950b374d01b3858d87dd032510"
      }
     },
     "5a2835a76b054c01a4ac44a7321fe14a": {
      "model_module": "@jupyter-widgets/output",
      "model_module_version": "1.0.0",
      "model_name": "OutputModel",
      "state": {
       "layout": "IPY_MODEL_5e5e87f942874194a8ad29d8856e022f",
       "outputs": [
        {
         "data": {
          "text/plain": "'C:/PythonWorkspace/stylegan2-ada-pytorch-main/out/seed0929.png'"
         },
         "metadata": {},
         "output_type": "display_data"
        }
       ]
      }
     },
     "5a2f762684c747eaa8c99e63cbc0a12d": {
      "model_module": "@jupyter-widgets/base",
      "model_module_version": "1.2.0",
      "model_name": "LayoutModel",
      "state": {
       "height": "30%",
       "width": "75%"
      }
     },
     "5a37203330584020915f19a09b21fa5a": {
      "model_module": "@jupyter-widgets/base",
      "model_module_version": "1.2.0",
      "model_name": "LayoutModel",
      "state": {}
     },
     "5a64dba7cf6643a4a65aa35a5912f89e": {
      "model_module": "@jupyter-widgets/base",
      "model_module_version": "1.2.0",
      "model_name": "LayoutModel",
      "state": {}
     },
     "5a97adf132174993bc6a944cd84b6e7b": {
      "model_module": "@jupyter-widgets/controls",
      "model_module_version": "1.5.0",
      "model_name": "ButtonModel",
      "state": {
       "description": "Generate",
       "layout": "IPY_MODEL_ecc0c41a203040f48b27eaae952ee5a3",
       "style": "IPY_MODEL_108e2461222c4eaa9b5e0c0aa7971f30"
      }
     },
     "5acaea5accdc4bbd812578062afb12e6": {
      "model_module": "@jupyter-widgets/base",
      "model_module_version": "1.2.0",
      "model_name": "LayoutModel",
      "state": {}
     },
     "5afcfe44f1d04206896e335aafbf7bf3": {
      "model_module": "@jupyter-widgets/controls",
      "model_module_version": "1.5.0",
      "model_name": "ButtonModel",
      "state": {
       "description": "Generate",
       "layout": "IPY_MODEL_0ad622e2bca0484b89b122e65c2eece1",
       "style": "IPY_MODEL_b3661af1e07b4bd28eb66b020082aeac"
      }
     },
     "5b1754cd681e4d0d9a6b7d7121aa1da2": {
      "model_module": "@jupyter-widgets/controls",
      "model_module_version": "1.5.0",
      "model_name": "FloatSliderModel",
      "state": {
       "layout": "IPY_MODEL_dfc2ed1cf87d46b496e7fe4833d00a3c",
       "max": 50,
       "min": -50,
       "step": 0.1,
       "style": "IPY_MODEL_129d2d96b3a5447dbb162b19343c42bf"
      }
     },
     "5b556a92762c4a09b46b2e05018e16c6": {
      "model_module": "@jupyter-widgets/base",
      "model_module_version": "1.2.0",
      "model_name": "LayoutModel",
      "state": {}
     },
     "5b633129eb8246349710ab241ef7163c": {
      "model_module": "@jupyter-widgets/controls",
      "model_module_version": "1.5.0",
      "model_name": "VBoxModel",
      "state": {
       "children": [
        "IPY_MODEL_0728e30f8b484a5b931ed08b9d904c47",
        "IPY_MODEL_3af5f0afcf2f496eb135c97e7afa8d35"
       ],
       "layout": "IPY_MODEL_b9df392e247d4e68890c767ebf88639c"
      }
     },
     "5b8983946f264f7e90ca471a1d94ee7d": {
      "model_module": "@jupyter-widgets/controls",
      "model_module_version": "1.5.0",
      "model_name": "ButtonModel",
      "state": {
       "description": "Generate",
       "layout": "IPY_MODEL_77356cd52af64befb14fa431c4b024a1",
       "style": "IPY_MODEL_6067e9c49e554bc09c4b36faf51c002a"
      }
     },
     "5b8fc468519442499631130a55a1d400": {
      "model_module": "@jupyter-widgets/controls",
      "model_module_version": "1.5.0",
      "model_name": "ButtonStyleModel",
      "state": {}
     },
     "5ba45d5b3dae4446b5612dd831c62858": {
      "model_module": "@jupyter-widgets/controls",
      "model_module_version": "1.5.0",
      "model_name": "ButtonStyleModel",
      "state": {}
     },
     "5bf1d78457e347bbb6becf8accd65eb0": {
      "model_module": "@jupyter-widgets/output",
      "model_module_version": "1.0.0",
      "model_name": "OutputModel",
      "state": {
       "layout": "IPY_MODEL_81fc4322288742cf95ad7c6f7c1f1bc1",
       "outputs": [
        {
         "data": {
          "image/png": "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\n",
          "text/plain": "<PIL.Image.Image image mode=RGB size=64x64 at 0x169846480F0>"
         },
         "metadata": {},
         "output_type": "display_data"
        }
       ]
      }
     },
     "5c1363e3e87243b8ad2c6b070a1e0403": {
      "model_module": "@jupyter-widgets/base",
      "model_module_version": "1.2.0",
      "model_name": "LayoutModel",
      "state": {}
     },
     "5c25981ab94146a19d06a900cd2d4b77": {
      "model_module": "@jupyter-widgets/output",
      "model_module_version": "1.0.0",
      "model_name": "OutputModel",
      "state": {
       "layout": "IPY_MODEL_8a6ac6cb36764895baa20b3558103de9",
       "outputs": [
        {
         "data": {
          "image/png": "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\n",
          "text/plain": "<PIL.Image.Image image mode=RGB size=64x64 at 0x16982A4E588>"
         },
         "metadata": {},
         "output_type": "display_data"
        }
       ]
      }
     },
     "5c2e7b6c8f8b48eeaa89014cffd10309": {
      "model_module": "@jupyter-widgets/controls",
      "model_module_version": "1.5.0",
      "model_name": "VBoxModel",
      "state": {
       "children": [
        "IPY_MODEL_8ad47fd52b3e485b90e88b6a6e0a13bd",
        "IPY_MODEL_907e5699dd4b4a6bb8a7b53dedb9727a"
       ],
       "layout": "IPY_MODEL_cb2476c9141d46f2b858e6b457e1da85"
      }
     },
     "5c6552cc21ec42f8b6a96867326227c4": {
      "model_module": "@jupyter-widgets/base",
      "model_module_version": "1.2.0",
      "model_name": "LayoutModel",
      "state": {}
     },
     "5c7f5fd2234045bb81150424a2215da3": {
      "model_module": "@jupyter-widgets/controls",
      "model_module_version": "1.5.0",
      "model_name": "DescriptionStyleModel",
      "state": {
       "description_width": ""
      }
     },
     "5cbec59783764004b8479ff9d4ae9286": {
      "model_module": "@jupyter-widgets/controls",
      "model_module_version": "1.5.0",
      "model_name": "VBoxModel",
      "state": {
       "children": [
        "IPY_MODEL_73a17e4b72134ff5ac55cd95ba177b7c",
        "IPY_MODEL_573d4498acda49108bf5e81e94cc54aa"
       ],
       "layout": "IPY_MODEL_8cc15f3a22964e04b4a2769bb71b0a0d"
      }
     },
     "5d742d9b25424acfb8efccdb4ae7abd5": {
      "model_module": "@jupyter-widgets/base",
      "model_module_version": "1.2.0",
      "model_name": "LayoutModel",
      "state": {}
     },
     "5d835631e3c94d5eb5b4a58f381a0a7e": {
      "model_module": "@jupyter-widgets/base",
      "model_module_version": "1.2.0",
      "model_name": "LayoutModel",
      "state": {}
     },
     "5d85a02feb074dbd9afec4b68f03efa5": {
      "model_module": "@jupyter-widgets/controls",
      "model_module_version": "1.5.0",
      "model_name": "VBoxModel",
      "state": {
       "children": [
        "IPY_MODEL_677ca62bd30341aa89feabbaaa1eab31",
        "IPY_MODEL_b273e834c6ca45808ad7f8c3fe855b58"
       ],
       "layout": "IPY_MODEL_0941bda8dd214fa797e9101eaf9b0c8c"
      }
     },
     "5debe865c0a840b3a1afc4cd6ee80c78": {
      "model_module": "@jupyter-widgets/base",
      "model_module_version": "1.2.0",
      "model_name": "LayoutModel",
      "state": {}
     },
     "5e4a61435b5c4baa9ad95f4713e72c71": {
      "model_module": "@jupyter-widgets/output",
      "model_module_version": "1.0.0",
      "model_name": "OutputModel",
      "state": {
       "layout": "IPY_MODEL_27d5b75701934fee8c092ea5a3e4bef9",
       "outputs": [
        {
         "data": {
          "text/plain": "'C:/PythonWorkspace/stylegan2-ada-pytorch-main/out/seed0929.png'"
         },
         "metadata": {},
         "output_type": "display_data"
        }
       ]
      }
     },
     "5e5e87f942874194a8ad29d8856e022f": {
      "model_module": "@jupyter-widgets/base",
      "model_module_version": "1.2.0",
      "model_name": "LayoutModel",
      "state": {}
     },
     "5ea2f125f42a4ef2a31a55a7311819ad": {
      "model_module": "@jupyter-widgets/controls",
      "model_module_version": "1.5.0",
      "model_name": "ButtonStyleModel",
      "state": {}
     },
     "5ef05d9ac13b4e7098f1d9ecd0fccda9": {
      "model_module": "@jupyter-widgets/base",
      "model_module_version": "1.2.0",
      "model_name": "LayoutModel",
      "state": {}
     },
     "5f1f23f8f4ea4c3c972aa6ab075a4cae": {
      "model_module": "@jupyter-widgets/controls",
      "model_module_version": "1.5.0",
      "model_name": "ButtonStyleModel",
      "state": {}
     },
     "5f56d581f0e04420b80141f938bfbde1": {
      "model_module": "@jupyter-widgets/controls",
      "model_module_version": "1.5.0",
      "model_name": "VBoxModel",
      "state": {
       "children": [
        "IPY_MODEL_b9169e6ff2084bec961c5dbeaaef4e21",
        "IPY_MODEL_21c303f21bcb4e61bba7543714efcabf"
       ],
       "layout": "IPY_MODEL_e173bd48af2d4ba7a3c1b43dd513f172"
      }
     },
     "5f741ca17cc6494e9e085d82040b070c": {
      "model_module": "@jupyter-widgets/controls",
      "model_module_version": "1.5.0",
      "model_name": "FloatSliderModel",
      "state": {
       "layout": "IPY_MODEL_181d567361704d11a462fbe1ad7d5849",
       "max": 50,
       "min": -50,
       "step": 0.1,
       "style": "IPY_MODEL_3bb0121f24ea40e3846d508d8a8bb2e0"
      }
     },
     "5f8b5ac915dd4ebabfe726d18f867f55": {
      "model_module": "@jupyter-widgets/base",
      "model_module_version": "1.2.0",
      "model_name": "LayoutModel",
      "state": {}
     },
     "5f92f3d65bfd4b259064ca3cf1f53b53": {
      "model_module": "@jupyter-widgets/base",
      "model_module_version": "1.2.0",
      "model_name": "LayoutModel",
      "state": {}
     },
     "5fd5c28a7c0745f8ad426cdba8b3008c": {
      "model_module": "@jupyter-widgets/base",
      "model_module_version": "1.2.0",
      "model_name": "LayoutModel",
      "state": {
       "height": "30%",
       "width": "75%"
      }
     },
     "6067e9c49e554bc09c4b36faf51c002a": {
      "model_module": "@jupyter-widgets/controls",
      "model_module_version": "1.5.0",
      "model_name": "ButtonStyleModel",
      "state": {}
     },
     "6099e2c45aa54b6a8d3af828da6436c3": {
      "model_module": "@jupyter-widgets/controls",
      "model_module_version": "1.5.0",
      "model_name": "HBoxModel",
      "state": {
       "children": [
        "IPY_MODEL_bea5161c46e24b388ae5d9d2d5a229ad",
        "IPY_MODEL_67adbdc823e9418cbacf907a2229470d"
       ],
       "layout": "IPY_MODEL_f2b44244a65e47bbad86ea9c5c48ddbb"
      }
     },
     "60c7dad584134afb88e6b5535fc178f2": {
      "model_module": "@jupyter-widgets/base",
      "model_module_version": "1.2.0",
      "model_name": "LayoutModel",
      "state": {
       "height": "30%",
       "width": "75%"
      }
     },
     "60d5b5e31a4f4d5a98984c2206bc4910": {
      "model_module": "@jupyter-widgets/controls",
      "model_module_version": "1.5.0",
      "model_name": "ButtonModel",
      "state": {
       "description": "Generate",
       "layout": "IPY_MODEL_c02b822479fb444dbabff982fa07bff4",
       "style": "IPY_MODEL_e1d15705c70f4a4eaa91160f792d1bf0"
      }
     },
     "60eb52bed8244936b691fa8ffb218918": {
      "model_module": "@jupyter-widgets/controls",
      "model_module_version": "1.5.0",
      "model_name": "ButtonStyleModel",
      "state": {}
     },
     "60f4bb883f514fbba0cc39ff9dba2d8f": {
      "model_module": "@jupyter-widgets/controls",
      "model_module_version": "1.5.0",
      "model_name": "HBoxModel",
      "state": {
       "children": [
        "IPY_MODEL_212f0d2249994a0ca8e823ebb7463323",
        "IPY_MODEL_24198e33afce41b5ad4e0805606e2080"
       ],
       "layout": "IPY_MODEL_82d8322c8f5e4d2fad0056bae8372477"
      }
     },
     "612e24c065a445d88e08cc88f092f3b7": {
      "model_module": "@jupyter-widgets/output",
      "model_module_version": "1.0.0",
      "model_name": "OutputModel",
      "state": {
       "layout": "IPY_MODEL_80816a6eeff24fafb9bad6c5de2d54ff",
       "outputs": [
        {
         "data": {
          "text/plain": "'C:/PythonWorkspace/stylegan2-ada-pytorch-main/out/seed0929.png'"
         },
         "metadata": {},
         "output_type": "display_data"
        }
       ]
      }
     },
     "614a01cb9b7a4312bade88796efc0ea9": {
      "model_module": "@jupyter-widgets/controls",
      "model_module_version": "1.5.0",
      "model_name": "FloatSliderModel",
      "state": {
       "layout": "IPY_MODEL_0414328dc0674f1c8e2baf9086e1d0c3",
       "max": 50,
       "min": -50,
       "step": 0.1,
       "style": "IPY_MODEL_dbd19a3c3fd349898644d7f2fcf9969a"
      }
     },
     "61d274c88b954fadbcaf9d8b914c279c": {
      "model_module": "@jupyter-widgets/controls",
      "model_module_version": "1.5.0",
      "model_name": "ButtonStyleModel",
      "state": {}
     },
     "62027a025a6640fe974df9c35f8f96be": {
      "model_module": "@jupyter-widgets/controls",
      "model_module_version": "1.5.0",
      "model_name": "ButtonStyleModel",
      "state": {}
     },
     "6202bf950b374d01b3858d87dd032510": {
      "model_module": "@jupyter-widgets/controls",
      "model_module_version": "1.5.0",
      "model_name": "DescriptionStyleModel",
      "state": {
       "description_width": ""
      }
     },
     "624c1354696a476c953516b06dbb7f57": {
      "model_module": "@jupyter-widgets/base",
      "model_module_version": "1.2.0",
      "model_name": "LayoutModel",
      "state": {
       "height": "30%",
       "width": "75%"
      }
     },
     "625ad4f20ab54b48befc4f1a29c7d6cf": {
      "model_module": "@jupyter-widgets/controls",
      "model_module_version": "1.5.0",
      "model_name": "VBoxModel",
      "state": {
       "children": [
        "IPY_MODEL_c5c3fdc2f7104c60bead79424706dc78",
        "IPY_MODEL_1e7b66ba72854d1ebe6bfae9b0b16812"
       ],
       "layout": "IPY_MODEL_8e40cdcfbdf5405291e5daee77e7e18f"
      }
     },
     "62792f6d322b4af1b500568767b4ea02": {
      "model_module": "@jupyter-widgets/output",
      "model_module_version": "1.0.0",
      "model_name": "OutputModel",
      "state": {
       "layout": "IPY_MODEL_31b4bbceebaa4aa3b5142dbb90f77f82",
       "outputs": [
        {
         "data": {
          "text/plain": "tensor([[[[251, 251, 252],\n          [253, 253, 253],\n          [251, 251, 251],\n          ...,\n          [253, 254, 254],\n          [251, 252, 252],\n          [242, 242, 241]],\n\n         [[247, 247, 248],\n          [253, 253, 252],\n          [249, 249, 248],\n          ...,\n          [249, 250, 248],\n          [250, 250, 249],\n          [250, 251, 250]],\n\n         [[251, 251, 252],\n          [250, 250, 249],\n          [251, 250, 250],\n          ...,\n          [250, 251, 250],\n          [250, 250, 249],\n          [250, 251, 250]],\n\n         ...,\n\n         [[252, 252, 252],\n          [251, 250, 251],\n          [250, 250, 250],\n          ...,\n          [250, 249, 249],\n          [250, 250, 250],\n          [251, 251, 252]],\n\n         [[253, 253, 253],\n          [250, 249, 250],\n          [252, 252, 252],\n          ...,\n          [249, 249, 249],\n          [249, 248, 249],\n          [251, 252, 252]],\n\n         [[254, 254, 254],\n          [255, 254, 255],\n          [255, 255, 255],\n          ...,\n          [250, 250, 250],\n          [251, 251, 251],\n          [249, 249, 249]]]], device='cuda:0', dtype=torch.uint8)"
         },
         "metadata": {},
         "output_type": "display_data"
        }
       ]
      }
     },
     "627e03d0d0cd40a4bc1d453c2e8fa466": {
      "model_module": "@jupyter-widgets/base",
      "model_module_version": "1.2.0",
      "model_name": "LayoutModel",
      "state": {
       "height": "30%",
       "width": "75%"
      }
     },
     "62ac0bd346e14326a07df5cc3917af3b": {
      "model_module": "@jupyter-widgets/controls",
      "model_module_version": "1.5.0",
      "model_name": "ButtonModel",
      "state": {
       "description": "Generate",
       "layout": "IPY_MODEL_c87c8f9c395847d688a6582e091a5593",
       "style": "IPY_MODEL_495a066db24046189a89a8e7e3966207"
      }
     },
     "62b825d681334f57811a391f1d697f24": {
      "model_module": "@jupyter-widgets/controls",
      "model_module_version": "1.5.0",
      "model_name": "LabelModel",
      "state": {
       "layout": "IPY_MODEL_5b556a92762c4a09b46b2e05018e16c6",
       "style": "IPY_MODEL_593316e4b7ce4bf0bc0eb016bfbc0ce2",
       "value": "antique_projected"
      }
     },
     "633d2479cb5549e69667b718ccbedf94": {
      "model_module": "@jupyter-widgets/controls",
      "model_module_version": "1.5.0",
      "model_name": "ButtonStyleModel",
      "state": {}
     },
     "6358596c5da141fab862f4f4e50d1af8": {
      "model_module": "@jupyter-widgets/controls",
      "model_module_version": "1.5.0",
      "model_name": "ButtonModel",
      "state": {
       "description": "Generate",
       "layout": "IPY_MODEL_be57027829544b92aaa3fe425f18fde4",
       "style": "IPY_MODEL_2316f3a0735842768c51393a40537212"
      }
     },
     "63884fde2565416c8817ac52db51301e": {
      "model_module": "@jupyter-widgets/base",
      "model_module_version": "1.2.0",
      "model_name": "LayoutModel",
      "state": {}
     },
     "63a7fa3f6a1f4768bbcaf629ffc8793c": {
      "model_module": "@jupyter-widgets/base",
      "model_module_version": "1.2.0",
      "model_name": "LayoutModel",
      "state": {
       "height": "30%",
       "width": "75%"
      }
     },
     "63dfdc94322f49788def807741ad4a40": {
      "model_module": "@jupyter-widgets/base",
      "model_module_version": "1.2.0",
      "model_name": "LayoutModel",
      "state": {}
     },
     "63ecd6af0fb6477e9a147f6cfc79d0dc": {
      "model_module": "@jupyter-widgets/base",
      "model_module_version": "1.2.0",
      "model_name": "LayoutModel",
      "state": {}
     },
     "63ed4ea93f80480da3adf143ad1fba94": {
      "model_module": "@jupyter-widgets/controls",
      "model_module_version": "1.5.0",
      "model_name": "ButtonModel",
      "state": {
       "description": "Generate",
       "layout": "IPY_MODEL_f34bbcc43a5e46e0b1fdca236a544550",
       "style": "IPY_MODEL_5446b23d44d84013876c50be228b010b"
      }
     },
     "63f851f15b9d441ea03d9e818e7981e7": {
      "model_module": "@jupyter-widgets/base",
      "model_module_version": "1.2.0",
      "model_name": "LayoutModel",
      "state": {
       "height": "30%",
       "width": "75%"
      }
     },
     "64215f0ed3b94bb8b1668cf2b604fa9e": {
      "model_module": "@jupyter-widgets/base",
      "model_module_version": "1.2.0",
      "model_name": "LayoutModel",
      "state": {
       "height": "30%",
       "width": "75%"
      }
     },
     "6426e28c896844a9abb797104f172e72": {
      "model_module": "@jupyter-widgets/base",
      "model_module_version": "1.2.0",
      "model_name": "LayoutModel",
      "state": {}
     },
     "646679b79e2c4a47b11dd9c80b5e785f": {
      "model_module": "@jupyter-widgets/controls",
      "model_module_version": "1.5.0",
      "model_name": "ButtonModel",
      "state": {
       "description": "Reset Latent Controls",
       "layout": "IPY_MODEL_fd1fbda708564fb1a3c6ec431d96c5d7",
       "style": "IPY_MODEL_54d417b619234d3c8a9178126a2abe7c"
      }
     },
     "647f5d4491a8463ba32216a0a2207d68": {
      "model_module": "@jupyter-widgets/controls",
      "model_module_version": "1.5.0",
      "model_name": "ButtonModel",
      "state": {
       "description": "Generate",
       "layout": "IPY_MODEL_04b3f401f41f42a081619484ed5c4857",
       "style": "IPY_MODEL_3ff04dea23054c1396ad62a5a111b036"
      }
     },
     "64afd3c80a4548e496194a22fa2295e1": {
      "model_module": "@jupyter-widgets/base",
      "model_module_version": "1.2.0",
      "model_name": "LayoutModel",
      "state": {
       "height": "30%",
       "width": "75%"
      }
     },
     "64c81e7c1f564218a753a601f39611e2": {
      "model_module": "@jupyter-widgets/controls",
      "model_module_version": "1.5.0",
      "model_name": "SliderStyleModel",
      "state": {
       "description_width": ""
      }
     },
     "64d9496c60004afbb787b84f19ad2b80": {
      "model_module": "@jupyter-widgets/base",
      "model_module_version": "1.2.0",
      "model_name": "LayoutModel",
      "state": {}
     },
     "6510895a7a904265b977e2247b998e6f": {
      "model_module": "@jupyter-widgets/controls",
      "model_module_version": "1.5.0",
      "model_name": "ButtonStyleModel",
      "state": {}
     },
     "658364f7205240fabbe470ab5e3b3ba4": {
      "model_module": "@jupyter-widgets/output",
      "model_module_version": "1.0.0",
      "model_name": "OutputModel",
      "state": {
       "layout": "IPY_MODEL_ee0dfc7ab845425e9319a7c9bd0c8839",
       "outputs": [
        {
         "data": {
          "text/plain": "'C:/PythonWorkspace/stylegan2-ada-pytorch-main/out/seed0929.png'"
         },
         "metadata": {},
         "output_type": "display_data"
        }
       ]
      }
     },
     "65e7242441d74f59865c51e858f02521": {
      "model_module": "@jupyter-widgets/base",
      "model_module_version": "1.2.0",
      "model_name": "LayoutModel",
      "state": {}
     },
     "662e7b01cc26405ea7d46fad50974c06": {
      "model_module": "@jupyter-widgets/base",
      "model_module_version": "1.2.0",
      "model_name": "LayoutModel",
      "state": {
       "height": "30%",
       "width": "75%"
      }
     },
     "66485e43461b451fbf53381afb417c9a": {
      "model_module": "@jupyter-widgets/controls",
      "model_module_version": "1.5.0",
      "model_name": "SliderStyleModel",
      "state": {
       "description_width": ""
      }
     },
     "66abaa23e94d44cc8f579e6dd429ad98": {
      "model_module": "@jupyter-widgets/base",
      "model_module_version": "1.2.0",
      "model_name": "LayoutModel",
      "state": {}
     },
     "66ccfb6b82784ab881f92d246ce68f4f": {
      "model_module": "@jupyter-widgets/base",
      "model_module_version": "1.2.0",
      "model_name": "LayoutModel",
      "state": {}
     },
     "674c9d7f7621499693a2e75f29548bfa": {
      "model_module": "@jupyter-widgets/base",
      "model_module_version": "1.2.0",
      "model_name": "LayoutModel",
      "state": {}
     },
     "677ca62bd30341aa89feabbaaa1eab31": {
      "model_module": "@jupyter-widgets/output",
      "model_module_version": "1.0.0",
      "model_name": "OutputModel",
      "state": {
       "layout": "IPY_MODEL_ef249e2c130d4c68a47bf436b1f9f4f6",
       "outputs": [
        {
         "data": {
          "text/plain": "'C:/PythonWorkspace/stylegan2-ada-pytorch-main/out/seed0929.png'"
         },
         "metadata": {},
         "output_type": "display_data"
        }
       ]
      }
     },
     "679df7283e2d4e44b065d65181749fe1": {
      "model_module": "@jupyter-widgets/base",
      "model_module_version": "1.2.0",
      "model_name": "LayoutModel",
      "state": {}
     },
     "67adbdc823e9418cbacf907a2229470d": {
      "model_module": "@jupyter-widgets/controls",
      "model_module_version": "1.5.0",
      "model_name": "VBoxModel",
      "state": {
       "children": [
        "IPY_MODEL_6f66689e4303434f8188f72372be5c5f",
        "IPY_MODEL_0fbddc925b964f4294b02f281da49392",
        "IPY_MODEL_4a54567e1694450ea481a0da8f514459",
        "IPY_MODEL_0945cb183a6f4e3bbbd3650cdf7dce9e"
       ],
       "layout": "IPY_MODEL_51b7452719594e4fb3fb51c50d648b0c"
      }
     },
     "67b1666cd5b948c2919d9d8af6ebef17": {
      "model_module": "@jupyter-widgets/controls",
      "model_module_version": "1.5.0",
      "model_name": "VBoxModel",
      "state": {
       "children": [
        "IPY_MODEL_a7acda5ddc8d4d36a117c046beeb034a",
        "IPY_MODEL_309508ce42d245d5aae216e5b31561b8"
       ],
       "layout": "IPY_MODEL_205f3fad49ff409bade316342e943964"
      }
     },
     "68003e57c52c4c5d88a41a86db684295": {
      "model_module": "@jupyter-widgets/base",
      "model_module_version": "1.2.0",
      "model_name": "LayoutModel",
      "state": {
       "height": "30%",
       "width": "75%"
      }
     },
     "6827e36d36a745f98197d0c06d7130d9": {
      "model_module": "@jupyter-widgets/controls",
      "model_module_version": "1.5.0",
      "model_name": "ButtonStyleModel",
      "state": {}
     },
     "6850074bc7d545f6a977d1b2f3c6be64": {
      "model_module": "@jupyter-widgets/base",
      "model_module_version": "1.2.0",
      "model_name": "LayoutModel",
      "state": {}
     },
     "68c7f153976642d7b418519fa4d511f8": {
      "model_module": "@jupyter-widgets/controls",
      "model_module_version": "1.5.0",
      "model_name": "FloatSliderModel",
      "state": {
       "layout": "IPY_MODEL_1f779e5505354543adebf0aa9f61b42d",
       "max": 50,
       "min": -50,
       "step": 0.1,
       "style": "IPY_MODEL_3aa0d533463a461cabe015dce61d4023"
      }
     },
     "68cb81e6c28041dda391f05ebf00d025": {
      "model_module": "@jupyter-widgets/controls",
      "model_module_version": "1.5.0",
      "model_name": "VBoxModel",
      "state": {
       "children": [
        "IPY_MODEL_17ccd497135a400a9eda554ca61b1de4",
        "IPY_MODEL_d25c60719b4a49a7a3304b9a8dfcdfd3"
       ],
       "layout": "IPY_MODEL_ddb01e77c62746ec82ba8c465d9f3581"
      }
     },
     "68cc19aac87642bfb502ef98424bf297": {
      "model_module": "@jupyter-widgets/controls",
      "model_module_version": "1.5.0",
      "model_name": "VBoxModel",
      "state": {
       "children": [
        "IPY_MODEL_553a27ffe2324623b8616770cd7c244b",
        "IPY_MODEL_1eed7d3c270249ac9668e5618456e904"
       ],
       "layout": "IPY_MODEL_40c78ca824574c4492c51e4ae5b8d4e9"
      }
     },
     "692a5a2d98ff4371aba948aa348d8459": {
      "model_module": "@jupyter-widgets/base",
      "model_module_version": "1.2.0",
      "model_name": "LayoutModel",
      "state": {}
     },
     "698eee7acbcd44978cf23664b6547dc0": {
      "model_module": "@jupyter-widgets/base",
      "model_module_version": "1.2.0",
      "model_name": "LayoutModel",
      "state": {
       "height": "10%",
       "width": "75%"
      }
     },
     "69d97aa63ad2429f8fd42a925d45d0ed": {
      "model_module": "@jupyter-widgets/controls",
      "model_module_version": "1.5.0",
      "model_name": "DescriptionStyleModel",
      "state": {
       "description_width": ""
      }
     },
     "6a2d323e2f2c43bb8fd87dff40368962": {
      "model_module": "@jupyter-widgets/controls",
      "model_module_version": "1.5.0",
      "model_name": "VBoxModel",
      "state": {
       "children": [
        "IPY_MODEL_9df3040f13114a8b8170a60cb56ff586",
        "IPY_MODEL_0c30ff6b61544bed9fb9ab53fd2830fc"
       ],
       "layout": "IPY_MODEL_e9842de22d8943559f146d184365de31"
      }
     },
     "6a2eb7d8f0d748ceaa9ecb7d0a06ef5c": {
      "model_module": "@jupyter-widgets/controls",
      "model_module_version": "1.5.0",
      "model_name": "VBoxModel",
      "state": {
       "children": [
        "IPY_MODEL_79b6fc5d680142aa8536dc9781ff3d20",
        "IPY_MODEL_d58c36beabe84d67afe7924a4f2b4933"
       ],
       "layout": "IPY_MODEL_342099721446403da24b94d0e62ed6d4"
      }
     },
     "6a2f2366bb6d4278ac1e5a8a1cd4a303": {
      "model_module": "@jupyter-widgets/base",
      "model_module_version": "1.2.0",
      "model_name": "LayoutModel",
      "state": {}
     },
     "6a49ef3edffb49beac71a954e478a292": {
      "model_module": "@jupyter-widgets/output",
      "model_module_version": "1.0.0",
      "model_name": "OutputModel",
      "state": {
       "layout": "IPY_MODEL_cbe0b0da30e44324a739a722bbf00b5a",
       "outputs": [
        {
         "data": {
          "text/plain": "'C:/PythonWorkspace/stylegan2-ada-pytorch-main/out/seed0929.png'"
         },
         "metadata": {},
         "output_type": "display_data"
        }
       ]
      }
     },
     "6a9f1cf9dbb54e64bb6bd55fb906739b": {
      "model_module": "@jupyter-widgets/base",
      "model_module_version": "1.2.0",
      "model_name": "LayoutModel",
      "state": {}
     },
     "6ac2e8856b3449d181cdf139ab9f64cb": {
      "model_module": "@jupyter-widgets/base",
      "model_module_version": "1.2.0",
      "model_name": "LayoutModel",
      "state": {}
     },
     "6aee4b47adba44baaa25c9978679c92d": {
      "model_module": "@jupyter-widgets/base",
      "model_module_version": "1.2.0",
      "model_name": "LayoutModel",
      "state": {}
     },
     "6af88de34a11429f9abbf8146e98259c": {
      "model_module": "@jupyter-widgets/controls",
      "model_module_version": "1.5.0",
      "model_name": "FloatSliderModel",
      "state": {
       "layout": "IPY_MODEL_63884fde2565416c8817ac52db51301e",
       "max": 50,
       "min": -50,
       "step": 0.1,
       "style": "IPY_MODEL_0340a30d397840d993d0c27dd7c0e0af"
      }
     },
     "6b89e7f03f2e4b8693a3af91dbf16be8": {
      "model_module": "@jupyter-widgets/base",
      "model_module_version": "1.2.0",
      "model_name": "LayoutModel",
      "state": {}
     },
     "6b9d6622e5c44173b96d85301d61f106": {
      "model_module": "@jupyter-widgets/controls",
      "model_module_version": "1.5.0",
      "model_name": "ButtonModel",
      "state": {
       "description": "Generate",
       "layout": "IPY_MODEL_25fb285fc6234cd78a3c1a788dbf33f9",
       "style": "IPY_MODEL_a9032719a0e04bb097a28065d562c4d2"
      }
     },
     "6baa022341824820a360ae099977877f": {
      "model_module": "@jupyter-widgets/base",
      "model_module_version": "1.2.0",
      "model_name": "LayoutModel",
      "state": {}
     },
     "6bd4f8dd8c8f472fa6185be795dfe7e8": {
      "model_module": "@jupyter-widgets/controls",
      "model_module_version": "1.5.0",
      "model_name": "ButtonStyleModel",
      "state": {}
     },
     "6c1b8e1c84934b9393d45c0e0867a3e7": {
      "model_module": "@jupyter-widgets/base",
      "model_module_version": "1.2.0",
      "model_name": "LayoutModel",
      "state": {
       "height": "30%",
       "width": "75%"
      }
     },
     "6c57d3be95a1446a8abdbec44ed19fde": {
      "model_module": "@jupyter-widgets/base",
      "model_module_version": "1.2.0",
      "model_name": "LayoutModel",
      "state": {}
     },
     "6c6fcb899c3d46a18f565d5d8c5f2e2c": {
      "model_module": "@jupyter-widgets/controls",
      "model_module_version": "1.5.0",
      "model_name": "LabelModel",
      "state": {
       "layout": "IPY_MODEL_be42b41d2704429bb9009076026f0d64",
       "style": "IPY_MODEL_9f66629f6d664e5b9266512f5bc76166"
      }
     },
     "6c8857fdf65245c88d44c1452ae14700": {
      "model_module": "@jupyter-widgets/controls",
      "model_module_version": "1.5.0",
      "model_name": "ButtonModel",
      "state": {
       "description": "Generate",
       "layout": "IPY_MODEL_f6e63f5dde7a415f89e740ddd931b6bb",
       "style": "IPY_MODEL_ae7fc1877886407aaeed23bff3f02bf0"
      }
     },
     "6ca85dcb4eee4a489364216a74d29519": {
      "model_module": "@jupyter-widgets/base",
      "model_module_version": "1.2.0",
      "model_name": "LayoutModel",
      "state": {}
     },
     "6cb29bd5e5d643378b9ab8486548bb0a": {
      "model_module": "@jupyter-widgets/base",
      "model_module_version": "1.2.0",
      "model_name": "LayoutModel",
      "state": {}
     },
     "6cbd2ba93c8340ad9fa4d565e25bd8a4": {
      "model_module": "@jupyter-widgets/controls",
      "model_module_version": "1.5.0",
      "model_name": "ButtonModel",
      "state": {
       "description": "Generate",
       "layout": "IPY_MODEL_9a318ad09dd645528957aa3b20488913",
       "style": "IPY_MODEL_bbbb0df85c33471ca1b95b65b9745ac8"
      }
     },
     "6cf051843c5144a1bf46995e83fd6422": {
      "model_module": "@jupyter-widgets/controls",
      "model_module_version": "1.5.0",
      "model_name": "SliderStyleModel",
      "state": {
       "description_width": ""
      }
     },
     "6d08bed5689f419799bdbf58d1700be0": {
      "model_module": "@jupyter-widgets/output",
      "model_module_version": "1.0.0",
      "model_name": "OutputModel",
      "state": {
       "layout": "IPY_MODEL_0299acf7e1bc47b1ae7ce7f0cb5dca2d",
       "outputs": [
        {
         "data": {
          "text/plain": "'C:/PythonWorkspace/stylegan2-ada-pytorch-main/out/seed0929.png'"
         },
         "metadata": {},
         "output_type": "display_data"
        }
       ]
      }
     },
     "6d0b11d8dd884f7c9c3a410a3416cf63": {
      "model_module": "@jupyter-widgets/controls",
      "model_module_version": "1.5.0",
      "model_name": "ButtonStyleModel",
      "state": {}
     },
     "6d49f69ddd324427b06465df6bf6c94c": {
      "model_module": "@jupyter-widgets/base",
      "model_module_version": "1.2.0",
      "model_name": "LayoutModel",
      "state": {
       "height": "30%",
       "width": "75%"
      }
     },
     "6d94405c6e234758ac85cbd52fe140c9": {
      "model_module": "@jupyter-widgets/output",
      "model_module_version": "1.0.0",
      "model_name": "OutputModel",
      "state": {
       "layout": "IPY_MODEL_ae1f8158087641f79d42d3725151dbdb",
       "outputs": [
        {
         "data": {
          "text/plain": "'C:/PythonWorkspace/stylegan2-ada-pytorch-main/out/seed0929.png'"
         },
         "metadata": {},
         "output_type": "display_data"
        }
       ]
      }
     },
     "6d9fe37ee05b494d9d8c594e47e1c66f": {
      "model_module": "@jupyter-widgets/output",
      "model_module_version": "1.0.0",
      "model_name": "OutputModel",
      "state": {
       "layout": "IPY_MODEL_bc70705ad908464bbc5ec7b8354f4a0d",
       "outputs": [
        {
         "data": {
          "text/plain": "'C:/PythonWorkspace/stylegan2-ada-pytorch-main/out/seed0929.png'"
         },
         "metadata": {},
         "output_type": "display_data"
        }
       ]
      }
     },
     "6db7d5407b0f4f3a8e6a3c867e5e5357": {
      "model_module": "@jupyter-widgets/base",
      "model_module_version": "1.2.0",
      "model_name": "LayoutModel",
      "state": {}
     },
     "6dd32e780c9b40328883dacd37c95538": {
      "model_module": "@jupyter-widgets/output",
      "model_module_version": "1.0.0",
      "model_name": "OutputModel",
      "state": {
       "layout": "IPY_MODEL_1a1e21a08a574543b2fe942cc9afcb50",
       "outputs": [
        {
         "data": {
          "text/plain": "'C:/PythonWorkspace/stylegan2-ada-pytorch-main/out/seed0929.png'"
         },
         "metadata": {},
         "output_type": "display_data"
        }
       ]
      }
     },
     "6dd78d46c6f34f0484c0f6dcaca77a12": {
      "model_module": "@jupyter-widgets/controls",
      "model_module_version": "1.5.0",
      "model_name": "VBoxModel",
      "state": {
       "children": [
        "IPY_MODEL_8fbf7fd1af2a42c9ab2c75970f4ee66b",
        "IPY_MODEL_88a83a5e0e654773aec385feed8c4048"
       ],
       "layout": "IPY_MODEL_049cf7e60e904c4ba77af1640b5466ff"
      }
     },
     "6de8276d422145be93237e7270f847e2": {
      "model_module": "@jupyter-widgets/controls",
      "model_module_version": "1.5.0",
      "model_name": "ButtonStyleModel",
      "state": {}
     },
     "6deebe8cbe1f4b32b1a7ad57fbe89627": {
      "model_module": "@jupyter-widgets/controls",
      "model_module_version": "1.5.0",
      "model_name": "VBoxModel",
      "state": {
       "children": [
        "IPY_MODEL_51b87de13cc04eafa3c1f3506dbbae50",
        "IPY_MODEL_223a763add9444919599404e587313f7"
       ],
       "layout": "IPY_MODEL_8c882ec6441d4b9092b18cffdf9b6f49"
      }
     },
     "6ebaa77319e34341965329c619996ac7": {
      "model_module": "@jupyter-widgets/controls",
      "model_module_version": "1.5.0",
      "model_name": "ButtonModel",
      "state": {
       "description": "Generate",
       "layout": "IPY_MODEL_c8718b757a97494d952edbe4efb1856d",
       "style": "IPY_MODEL_271e79421339490c80c3379539b7442f"
      }
     },
     "6f61427377aa4c7c953fd543fcbe948c": {
      "model_module": "@jupyter-widgets/base",
      "model_module_version": "1.2.0",
      "model_name": "LayoutModel",
      "state": {}
     },
     "6f66689e4303434f8188f72372be5c5f": {
      "model_module": "@jupyter-widgets/controls",
      "model_module_version": "1.5.0",
      "model_name": "HBoxModel",
      "state": {
       "children": [
        "IPY_MODEL_e84186e263c64a9483864c01fe8876a1",
        "IPY_MODEL_bc34e40814f149a5aa1275ccd55c98eb"
       ],
       "layout": "IPY_MODEL_8adca06efbb14f22878ce7a4f65dea13"
      }
     },
     "6f775999287742de87d71efd9c2e83c3": {
      "model_module": "@jupyter-widgets/base",
      "model_module_version": "1.2.0",
      "model_name": "LayoutModel",
      "state": {}
     },
     "6f7b99e2226647049a9f6c3d9a007e97": {
      "model_module": "@jupyter-widgets/controls",
      "model_module_version": "1.5.0",
      "model_name": "VBoxModel",
      "state": {
       "children": [
        "IPY_MODEL_8fdebd1136944e0e80a7a006001fe28c",
        "IPY_MODEL_19dde12113504f88ae926f087fb061f4",
        "IPY_MODEL_acdf45864d394609b58a275fbbc3d39e",
        "IPY_MODEL_33321b204c214692ad0e95385f28caf9"
       ],
       "layout": "IPY_MODEL_66ccfb6b82784ab881f92d246ce68f4f"
      }
     },
     "7034b90f500e4ff3892cdf84616849a8": {
      "model_module": "@jupyter-widgets/base",
      "model_module_version": "1.2.0",
      "model_name": "LayoutModel",
      "state": {}
     },
     "70874e5732fd46be84847fec3c7952a7": {
      "model_module": "@jupyter-widgets/base",
      "model_module_version": "1.2.0",
      "model_name": "LayoutModel",
      "state": {
       "height": "10%",
       "width": "75%"
      }
     },
     "70c851fda90e4244857ee35a5962f52d": {
      "model_module": "@jupyter-widgets/controls",
      "model_module_version": "1.5.0",
      "model_name": "ButtonModel",
      "state": {
       "description": "Generate",
       "layout": "IPY_MODEL_40affe89842a4837a1083b246553f056",
       "style": "IPY_MODEL_bbd984195d024cc1bba8e9bceaf14746"
      }
     },
     "70d9cf274bdc4ddca490e26482d3e286": {
      "model_module": "@jupyter-widgets/controls",
      "model_module_version": "1.5.0",
      "model_name": "SliderStyleModel",
      "state": {
       "description_width": ""
      }
     },
     "7147a4b1cb2f4bd5917a58d0c71ef632": {
      "model_module": "@jupyter-widgets/base",
      "model_module_version": "1.2.0",
      "model_name": "LayoutModel",
      "state": {}
     },
     "71c22bf3b7b64f1cb04348aa8ed04bae": {
      "model_module": "@jupyter-widgets/controls",
      "model_module_version": "1.5.0",
      "model_name": "ButtonModel",
      "state": {
       "description": "Generate",
       "layout": "IPY_MODEL_fbf290e63f5643be863277cdc65b9071",
       "style": "IPY_MODEL_415c2bbcc4d343dcb76e594e9e80b300"
      }
     },
     "71d672eb16e04f3297f746bcae0e8413": {
      "model_module": "@jupyter-widgets/controls",
      "model_module_version": "1.5.0",
      "model_name": "HBoxModel",
      "state": {
       "children": [
        "IPY_MODEL_bf6b937c8c0343eeb7b143c64510d68c",
        "IPY_MODEL_28c6245b6c814f80b220330f19e1f113"
       ],
       "layout": "IPY_MODEL_8fe8168932be4b669873bdb6cdae2393"
      }
     },
     "71def442e7684520ba5ccdaf184cf88a": {
      "model_module": "@jupyter-widgets/base",
      "model_module_version": "1.2.0",
      "model_name": "LayoutModel",
      "state": {}
     },
     "71f5ad4e34d34e15be009d886269986a": {
      "model_module": "@jupyter-widgets/controls",
      "model_module_version": "1.5.0",
      "model_name": "SliderStyleModel",
      "state": {
       "description_width": ""
      }
     },
     "72216b63871b416284ee63c034a70c35": {
      "model_module": "@jupyter-widgets/controls",
      "model_module_version": "1.5.0",
      "model_name": "VBoxModel",
      "state": {
       "children": [
        "IPY_MODEL_f51d6e59b163451fae8379f4ec54428e",
        "IPY_MODEL_36d297ed557f477da1adc7d12ee4c63f"
       ],
       "layout": "IPY_MODEL_100d100d9d604cf881b9f7d525ad871c"
      }
     },
     "72384dfffe3e451aa53e543740424ee3": {
      "model_module": "@jupyter-widgets/controls",
      "model_module_version": "1.5.0",
      "model_name": "ButtonStyleModel",
      "state": {}
     },
     "72a380efd3234ddc8e243ba6ff75169a": {
      "model_module": "@jupyter-widgets/controls",
      "model_module_version": "1.5.0",
      "model_name": "ButtonModel",
      "state": {
       "description": "Reset Latent Controls",
       "layout": "IPY_MODEL_d8b5aac60ca94f96b4a25386705627c0",
       "style": "IPY_MODEL_872b7fa0e7064225aece9ca837c1ff88"
      }
     },
     "72cb9496660647ca816594e9777bce70": {
      "model_module": "@jupyter-widgets/base",
      "model_module_version": "1.2.0",
      "model_name": "LayoutModel",
      "state": {}
     },
     "72cff6bd109f4b098f359e72b07880fe": {
      "model_module": "@jupyter-widgets/base",
      "model_module_version": "1.2.0",
      "model_name": "LayoutModel",
      "state": {}
     },
     "72d05236a0ed468cb4129c7ebd46c47a": {
      "model_module": "@jupyter-widgets/controls",
      "model_module_version": "1.5.0",
      "model_name": "HBoxModel",
      "state": {
       "children": [
        "IPY_MODEL_7c1d02557ba34bb7a125cff2adce8c42",
        "IPY_MODEL_dd4dd815f1744259a3ea3bb82643bc0e"
       ],
       "layout": "IPY_MODEL_9d7a693040a944c3b4bfdbf508ea2bd5"
      }
     },
     "72e726b949794a72a283e94b2ae09bf3": {
      "model_module": "@jupyter-widgets/controls",
      "model_module_version": "1.5.0",
      "model_name": "SliderStyleModel",
      "state": {
       "description_width": ""
      }
     },
     "731699d949ac4ce39c36f38c19d95b38": {
      "model_module": "@jupyter-widgets/controls",
      "model_module_version": "1.5.0",
      "model_name": "ButtonModel",
      "state": {
       "description": "Generate",
       "layout": "IPY_MODEL_d98b5b1636ef43e380909bce8234cdca",
       "style": "IPY_MODEL_b94eedf4334c4d1b946bb4ea9e6bf580"
      }
     },
     "732617e44a6a4f0fb4d09ac06ec17c90": {
      "model_module": "@jupyter-widgets/controls",
      "model_module_version": "1.5.0",
      "model_name": "HBoxModel",
      "state": {
       "children": [
        "IPY_MODEL_a5d9dffbd2bb419e9f66392c45156c51",
        "IPY_MODEL_e79fc0af2fc14e928d0a239363d91bca"
       ],
       "layout": "IPY_MODEL_ae45c8152983437eb40df38db7e651f1"
      }
     },
     "733507e1c9ca4802b0b48437052344be": {
      "model_module": "@jupyter-widgets/base",
      "model_module_version": "1.2.0",
      "model_name": "LayoutModel",
      "state": {}
     },
     "7356e0cd7c304386bfd0270c049c6bed": {
      "model_module": "@jupyter-widgets/base",
      "model_module_version": "1.2.0",
      "model_name": "LayoutModel",
      "state": {}
     },
     "738bdddda87c45fd8a28d5419ae473fb": {
      "model_module": "@jupyter-widgets/controls",
      "model_module_version": "1.5.0",
      "model_name": "ButtonStyleModel",
      "state": {}
     },
     "73a17e4b72134ff5ac55cd95ba177b7c": {
      "model_module": "@jupyter-widgets/output",
      "model_module_version": "1.0.0",
      "model_name": "OutputModel",
      "state": {
       "layout": "IPY_MODEL_2877444704404b9fbc0505d0035933d3",
       "outputs": [
        {
         "data": {
          "text/plain": "'C:/PythonWorkspace/stylegan2-ada-pytorch-main/out/seed0929.png'"
         },
         "metadata": {},
         "output_type": "display_data"
        }
       ]
      }
     },
     "73e2e1d7993249d7811a30e23460db7c": {
      "model_module": "@jupyter-widgets/controls",
      "model_module_version": "1.5.0",
      "model_name": "ButtonModel",
      "state": {
       "description": "Generate",
       "layout": "IPY_MODEL_64215f0ed3b94bb8b1668cf2b604fa9e",
       "style": "IPY_MODEL_43e17ebed7514481b59b9de5d179d865"
      }
     },
     "74527d7d9b144c179dda24a57b505a13": {
      "model_module": "@jupyter-widgets/base",
      "model_module_version": "1.2.0",
      "model_name": "LayoutModel",
      "state": {
       "height": "30%",
       "width": "75%"
      }
     },
     "7511f6ed507844d7adc6fb8f77e93eb0": {
      "model_module": "@jupyter-widgets/base",
      "model_module_version": "1.2.0",
      "model_name": "LayoutModel",
      "state": {}
     },
     "7539b05869874e95ba75d240b88ed025": {
      "model_module": "@jupyter-widgets/controls",
      "model_module_version": "1.5.0",
      "model_name": "SliderStyleModel",
      "state": {
       "description_width": ""
      }
     },
     "754d1e7bc5ca463b9b3db52130a3ba5a": {
      "model_module": "@jupyter-widgets/controls",
      "model_module_version": "1.5.0",
      "model_name": "ButtonStyleModel",
      "state": {}
     },
     "755e65d7d1d24369945e6ad84174f033": {
      "model_module": "@jupyter-widgets/base",
      "model_module_version": "1.2.0",
      "model_name": "LayoutModel",
      "state": {}
     },
     "75911e95833f480ba2eb88039ab791aa": {
      "model_module": "@jupyter-widgets/base",
      "model_module_version": "1.2.0",
      "model_name": "LayoutModel",
      "state": {}
     },
     "75dc4460b4334030bcd9b8d7e4744d57": {
      "model_module": "@jupyter-widgets/output",
      "model_module_version": "1.0.0",
      "model_name": "OutputModel",
      "state": {
       "layout": "IPY_MODEL_15c01e0ebb20465e94b3894f97ba96b2",
       "outputs": [
        {
         "data": {
          "text/plain": "'C:/PythonWorkspace/stylegan2-ada-pytorch-main/out/seed0929.png'"
         },
         "metadata": {},
         "output_type": "display_data"
        }
       ]
      }
     },
     "75e70e209edd4339a80f51e0f518bec1": {
      "model_module": "@jupyter-widgets/base",
      "model_module_version": "1.2.0",
      "model_name": "LayoutModel",
      "state": {}
     },
     "76487d14b69442ac9b2305bbf092bb4d": {
      "model_module": "@jupyter-widgets/controls",
      "model_module_version": "1.5.0",
      "model_name": "LabelModel",
      "state": {
       "layout": "IPY_MODEL_e59e83fbefbe4238a04c94c9aba498c8",
       "style": "IPY_MODEL_5c7f5fd2234045bb81150424a2215da3",
       "value": "modern_projected_w.npz"
      }
     },
     "76c26aced55944a2a9305c312a2bca21": {
      "model_module": "@jupyter-widgets/base",
      "model_module_version": "1.2.0",
      "model_name": "LayoutModel",
      "state": {
       "height": "10%",
       "width": "75%"
      }
     },
     "76fa0e318ace40bc87d9ab583b37b6a6": {
      "model_module": "@jupyter-widgets/output",
      "model_module_version": "1.0.0",
      "model_name": "OutputModel",
      "state": {
       "layout": "IPY_MODEL_8fe2864b1b054dfb88d8ea7b61b3127f",
       "outputs": [
        {
         "data": {
          "text/plain": "'C:/PythonWorkspace/stylegan2-ada-pytorch-main/out/seed0929.png'"
         },
         "metadata": {},
         "output_type": "display_data"
        }
       ]
      }
     },
     "770781d997aa4594a5775a69a0a928f4": {
      "model_module": "@jupyter-widgets/controls",
      "model_module_version": "1.5.0",
      "model_name": "DescriptionStyleModel",
      "state": {
       "description_width": ""
      }
     },
     "771ab762dd70436791268df21145498d": {
      "model_module": "@jupyter-widgets/controls",
      "model_module_version": "1.5.0",
      "model_name": "ButtonStyleModel",
      "state": {}
     },
     "77224c3d17f34dc9b185651ab417df0c": {
      "model_module": "@jupyter-widgets/base",
      "model_module_version": "1.2.0",
      "model_name": "LayoutModel",
      "state": {}
     },
     "77356cd52af64befb14fa431c4b024a1": {
      "model_module": "@jupyter-widgets/base",
      "model_module_version": "1.2.0",
      "model_name": "LayoutModel",
      "state": {
       "height": "30%",
       "width": "75%"
      }
     },
     "774d6235cb154800965ff07eecbcd9a9": {
      "model_module": "@jupyter-widgets/controls",
      "model_module_version": "1.5.0",
      "model_name": "LabelModel",
      "state": {
       "layout": "IPY_MODEL_8370c0035a744dd0b2bac7045d2444b2",
       "style": "IPY_MODEL_11f8dcd5a198443185b290577f5d9d85",
       "value": "C:\\PythonWorkspace\\stylegan2-ada-pytorch-main\\out\\antique_projected_w.npz"
      }
     },
     "775ff2ff1663490c814a1cd7a5d8ca7f": {
      "model_module": "@jupyter-widgets/output",
      "model_module_version": "1.0.0",
      "model_name": "OutputModel",
      "state": {
       "layout": "IPY_MODEL_e7c7824bb3d04bd89abd0cb27c9f32cc",
       "outputs": [
        {
         "data": {
          "text/plain": "'C:/PythonWorkspace/stylegan2-ada-pytorch-main/out/seed0929.png'"
         },
         "metadata": {},
         "output_type": "display_data"
        }
       ]
      }
     },
     "778d54ec942648ddb7fddb67c453cfb0": {
      "model_module": "@jupyter-widgets/controls",
      "model_module_version": "1.5.0",
      "model_name": "HBoxModel",
      "state": {
       "children": [
        "IPY_MODEL_2823e94f205f4669abc077c2c05685cf",
        "IPY_MODEL_40e7726461f942b9a3e3699d59c2bc8d"
       ],
       "layout": "IPY_MODEL_02479f4b6bc3488daf54782b1a801004"
      }
     },
     "779d038b90fe4b6c925d7bb013660be8": {
      "model_module": "@jupyter-widgets/controls",
      "model_module_version": "1.5.0",
      "model_name": "SliderStyleModel",
      "state": {
       "description_width": ""
      }
     },
     "77b0745108a444ea805af21e72d3bae1": {
      "model_module": "@jupyter-widgets/controls",
      "model_module_version": "1.5.0",
      "model_name": "VBoxModel",
      "state": {
       "children": [
        "IPY_MODEL_aa70b652057e4b699c6ffe339fd2eb1e",
        "IPY_MODEL_2769c32320144f7687a31f716597c7d9"
       ],
       "layout": "IPY_MODEL_bc5753c93b4c41b2807f065eec654fbf"
      }
     },
     "77caee1fe68a4c5c8c9f11aae7daf4cb": {
      "model_module": "@jupyter-widgets/output",
      "model_module_version": "1.0.0",
      "model_name": "OutputModel",
      "state": {
       "layout": "IPY_MODEL_c86ef8e6bbf548108a378f2453ac00da",
       "outputs": [
        {
         "data": {
          "text/plain": "'C:/PythonWorkspace/stylegan2-ada-pytorch-main/out/seed0929.png'"
         },
         "metadata": {},
         "output_type": "display_data"
        }
       ]
      }
     },
     "781795323ae542778664aede8b0bbf5c": {
      "model_module": "@jupyter-widgets/base",
      "model_module_version": "1.2.0",
      "model_name": "LayoutModel",
      "state": {}
     },
     "78a32362c9414e39966fbda94af2a4e6": {
      "model_module": "@jupyter-widgets/controls",
      "model_module_version": "1.5.0",
      "model_name": "DescriptionStyleModel",
      "state": {
       "description_width": ""
      }
     },
     "78ae95cf97d441d287f9f0df5fbbc627": {
      "model_module": "@jupyter-widgets/base",
      "model_module_version": "1.2.0",
      "model_name": "LayoutModel",
      "state": {}
     },
     "78bca7da96e84b2380bb79a29c3e81cd": {
      "model_module": "@jupyter-widgets/controls",
      "model_module_version": "1.5.0",
      "model_name": "ButtonModel",
      "state": {
       "description": "Reset Latent Controls",
       "layout": "IPY_MODEL_14b30af8892a4b48be7477ad7697189f",
       "style": "IPY_MODEL_60eb52bed8244936b691fa8ffb218918"
      }
     },
     "78ce50f9ec464e33ad90b69fe8fcb95c": {
      "model_module": "@jupyter-widgets/base",
      "model_module_version": "1.2.0",
      "model_name": "LayoutModel",
      "state": {}
     },
     "78e6841804c8481ba4a3e86fb8084221": {
      "model_module": "@jupyter-widgets/output",
      "model_module_version": "1.0.0",
      "model_name": "OutputModel",
      "state": {
       "layout": "IPY_MODEL_e74bff5a68be46e28286fa10b37ce935",
       "outputs": [
        {
         "data": {
          "text/plain": "'C:/PythonWorkspace/stylegan2-ada-pytorch-main/out/seed0929.png'"
         },
         "metadata": {},
         "output_type": "display_data"
        }
       ]
      }
     },
     "7904a6cb04c14435823120874e4f0c25": {
      "model_module": "@jupyter-widgets/controls",
      "model_module_version": "1.5.0",
      "model_name": "ButtonStyleModel",
      "state": {}
     },
     "7959acc41dee447481a5f543373bb9fe": {
      "model_module": "@jupyter-widgets/base",
      "model_module_version": "1.2.0",
      "model_name": "LayoutModel",
      "state": {}
     },
     "7974c119e2df4764b29b30fca9a0b2a6": {
      "model_module": "@jupyter-widgets/controls",
      "model_module_version": "1.5.0",
      "model_name": "LabelModel",
      "state": {
       "layout": "IPY_MODEL_173dad032f0943259cc7222a5e5d608d",
       "style": "IPY_MODEL_e8f08af18b3c4bd49bcd13ba71605d99",
       "value": "antique_projected_w"
      }
     },
     "79b6fc5d680142aa8536dc9781ff3d20": {
      "model_module": "@jupyter-widgets/output",
      "model_module_version": "1.0.0",
      "model_name": "OutputModel",
      "state": {
       "layout": "IPY_MODEL_ccbfe3b059834e5f9e99f73dd3b01410",
       "outputs": [
        {
         "data": {
          "text/plain": "'C:/PythonWorkspace/stylegan2-ada-pytorch-main/out/seed0929.png'"
         },
         "metadata": {},
         "output_type": "display_data"
        }
       ]
      }
     },
     "79b960dff73a43e8a9da509fe3aa3237": {
      "model_module": "@jupyter-widgets/controls",
      "model_module_version": "1.5.0",
      "model_name": "FloatSliderModel",
      "state": {
       "layout": "IPY_MODEL_41d2aea1689a44608d94544acf38f8f9",
       "max": 50,
       "min": -50,
       "step": 0.1,
       "style": "IPY_MODEL_ec44c81140a141a7a9ea1ffd9cbb1c72"
      }
     },
     "79caf400dcdf4f8599963611f22e3289": {
      "model_module": "@jupyter-widgets/controls",
      "model_module_version": "1.5.0",
      "model_name": "ButtonStyleModel",
      "state": {}
     },
     "79d689c7f17a487db16b60a28e5e8f51": {
      "model_module": "@jupyter-widgets/base",
      "model_module_version": "1.2.0",
      "model_name": "LayoutModel",
      "state": {}
     },
     "79fa1a4a7edf477ea68a085fc3d6ecbd": {
      "model_module": "@jupyter-widgets/base",
      "model_module_version": "1.2.0",
      "model_name": "LayoutModel",
      "state": {
       "height": "30%",
       "width": "75%"
      }
     },
     "7a11ba7ece254c0ea978e39f14f4192f": {
      "model_module": "@jupyter-widgets/controls",
      "model_module_version": "1.5.0",
      "model_name": "DescriptionStyleModel",
      "state": {
       "description_width": ""
      }
     },
     "7a15f35e744342cbbd2f5c1aeba57374": {
      "model_module": "@jupyter-widgets/output",
      "model_module_version": "1.0.0",
      "model_name": "OutputModel",
      "state": {
       "layout": "IPY_MODEL_dd484d3869f34c728cc71351f3294eba",
       "outputs": [
        {
         "data": {
          "text/plain": "'C:/PythonWorkspace/stylegan2-ada-pytorch-main/out/seed0929.png'"
         },
         "metadata": {},
         "output_type": "display_data"
        }
       ]
      }
     },
     "7a4ee0ac840a48989584f64ad84c0810": {
      "model_module": "@jupyter-widgets/base",
      "model_module_version": "1.2.0",
      "model_name": "LayoutModel",
      "state": {}
     },
     "7a638fed63ca41df9891d740b9257184": {
      "model_module": "@jupyter-widgets/base",
      "model_module_version": "1.2.0",
      "model_name": "LayoutModel",
      "state": {}
     },
     "7a9c849226564e0bab982890969e6b45": {
      "model_module": "@jupyter-widgets/base",
      "model_module_version": "1.2.0",
      "model_name": "LayoutModel",
      "state": {}
     },
     "7acf5de301d441409ffbe9e07c453796": {
      "model_module": "@jupyter-widgets/base",
      "model_module_version": "1.2.0",
      "model_name": "LayoutModel",
      "state": {
       "height": "30%",
       "width": "75%"
      }
     },
     "7ad5cc6c22114469acb96bfb208921e4": {
      "model_module": "@jupyter-widgets/controls",
      "model_module_version": "1.5.0",
      "model_name": "ButtonStyleModel",
      "state": {}
     },
     "7af0c7e520774e538acb6ff3dddbc01d": {
      "model_module": "@jupyter-widgets/controls",
      "model_module_version": "1.5.0",
      "model_name": "VBoxModel",
      "state": {
       "children": [
        "IPY_MODEL_067aa925340e4906966d4854006f0450",
        "IPY_MODEL_775ff2ff1663490c814a1cd7a5d8ca7f"
       ],
       "layout": "IPY_MODEL_7ca7ff81b15c4c92b09ec104c838a749"
      }
     },
     "7b1b22b299e74e8ca016dfa52a657e38": {
      "model_module": "@jupyter-widgets/base",
      "model_module_version": "1.2.0",
      "model_name": "LayoutModel",
      "state": {}
     },
     "7b386364958a4397bcdbaba0766842f6": {
      "model_module": "@jupyter-widgets/base",
      "model_module_version": "1.2.0",
      "model_name": "LayoutModel",
      "state": {}
     },
     "7b403f14a8b74e3fb41bbeb54c556737": {
      "model_module": "@jupyter-widgets/controls",
      "model_module_version": "1.5.0",
      "model_name": "VBoxModel",
      "state": {
       "children": [
        "IPY_MODEL_8c6be60949ee45c0a85577278a50e6ae",
        "IPY_MODEL_592516c686f14556a637cfa042aa1ccb"
       ],
       "layout": "IPY_MODEL_7e10f48cca1b48df8f7d55d35bbecb3f"
      }
     },
     "7b43c5a13fa24286b2cec07844a4e698": {
      "model_module": "@jupyter-widgets/controls",
      "model_module_version": "1.5.0",
      "model_name": "ButtonStyleModel",
      "state": {}
     },
     "7b741795b6ba48de930ebfb94c38d70b": {
      "model_module": "@jupyter-widgets/base",
      "model_module_version": "1.2.0",
      "model_name": "LayoutModel",
      "state": {}
     },
     "7b96a685a38c423ebef2c957edfcfa70": {
      "model_module": "@jupyter-widgets/output",
      "model_module_version": "1.0.0",
      "model_name": "OutputModel",
      "state": {
       "layout": "IPY_MODEL_a4a11d6bccc640ae8a6d1681c2218276",
       "outputs": [
        {
         "data": {
          "text/plain": "'C:/PythonWorkspace/stylegan2-ada-pytorch-main/out/seed0929.png'"
         },
         "metadata": {},
         "output_type": "display_data"
        }
       ]
      }
     },
     "7bafc874c24b48a8ac0344ba1032123b": {
      "model_module": "@jupyter-widgets/base",
      "model_module_version": "1.2.0",
      "model_name": "LayoutModel",
      "state": {}
     },
     "7bf79123717143d3a56dde37c0c0c348": {
      "model_module": "@jupyter-widgets/base",
      "model_module_version": "1.2.0",
      "model_name": "LayoutModel",
      "state": {
       "height": "30%",
       "width": "75%"
      }
     },
     "7c088db4abc54948bfc72e28882ab8ad": {
      "model_module": "@jupyter-widgets/base",
      "model_module_version": "1.2.0",
      "model_name": "LayoutModel",
      "state": {}
     },
     "7c1d02557ba34bb7a125cff2adce8c42": {
      "model_module": "@jupyter-widgets/controls",
      "model_module_version": "1.5.0",
      "model_name": "FloatSliderModel",
      "state": {
       "layout": "IPY_MODEL_42d6016eb8c046468111b1df68eabb4b",
       "max": 50,
       "min": -50,
       "step": 0.1,
       "style": "IPY_MODEL_0ddcb573d13141ce9c9a02025e00988c"
      }
     },
     "7c2e620ee33641d785a9a18a78e1adb1": {
      "model_module": "@jupyter-widgets/base",
      "model_module_version": "1.2.0",
      "model_name": "LayoutModel",
      "state": {
       "height": "10%",
       "width": "75%"
      }
     },
     "7c304631d38447b392771ad2c728ca9c": {
      "model_module": "@jupyter-widgets/base",
      "model_module_version": "1.2.0",
      "model_name": "LayoutModel",
      "state": {}
     },
     "7c427f3cb3954874b9dfacfa3e9b6c7b": {
      "model_module": "@jupyter-widgets/base",
      "model_module_version": "1.2.0",
      "model_name": "LayoutModel",
      "state": {}
     },
     "7c7c377b5a4340f19fcbf0f7998dc602": {
      "model_module": "@jupyter-widgets/controls",
      "model_module_version": "1.5.0",
      "model_name": "FloatSliderModel",
      "state": {
       "layout": "IPY_MODEL_e30b368b4f9e46a3b13695676c08ace2",
       "max": 50,
       "min": -50,
       "step": 0.1,
       "style": "IPY_MODEL_2d990c5767584555b884534abe589f42",
       "value": -20.8
      }
     },
     "7c893fb221b54dfcaf6b44d15fbb5457": {
      "model_module": "@jupyter-widgets/controls",
      "model_module_version": "1.5.0",
      "model_name": "VBoxModel",
      "state": {
       "children": [
        "IPY_MODEL_77caee1fe68a4c5c8c9f11aae7daf4cb",
        "IPY_MODEL_01c165dd5b9240659a1753b584f8a780"
       ],
       "layout": "IPY_MODEL_af94a7adf83a4dbeace73c8f72630642"
      }
     },
     "7ca7ff81b15c4c92b09ec104c838a749": {
      "model_module": "@jupyter-widgets/base",
      "model_module_version": "1.2.0",
      "model_name": "LayoutModel",
      "state": {}
     },
     "7cd952e1f7244c29b0ab01f394cec75a": {
      "model_module": "@jupyter-widgets/controls",
      "model_module_version": "1.5.0",
      "model_name": "HBoxModel",
      "state": {
       "children": [
        "IPY_MODEL_1ad5d90ea5c4457a992806b85d4a0198",
        "IPY_MODEL_b02f440c532b4f2c9cea94d69da5d7a8"
       ],
       "layout": "IPY_MODEL_fe6c6fb69d0c41b2ad48444589adf6b0"
      }
     },
     "7ce574eda9de46d9b499d070f8dfbbf0": {
      "model_module": "@jupyter-widgets/base",
      "model_module_version": "1.2.0",
      "model_name": "LayoutModel",
      "state": {}
     },
     "7cf7e42907094d09a40d3e7436db1e4e": {
      "model_module": "@jupyter-widgets/controls",
      "model_module_version": "1.5.0",
      "model_name": "ButtonStyleModel",
      "state": {}
     },
     "7d6877eb5b314337acbd2127580be98e": {
      "model_module": "@jupyter-widgets/controls",
      "model_module_version": "1.5.0",
      "model_name": "HBoxModel",
      "state": {
       "children": [
        "IPY_MODEL_bf393d7982554bbdac5d4b6d5da40771",
        "IPY_MODEL_31233d6a7d3a4fadac125db4aca62773"
       ],
       "layout": "IPY_MODEL_ddfad3f528d6408590d31437c2e10f16"
      }
     },
     "7db92fa56a184beea00e38df41cef27e": {
      "model_module": "@jupyter-widgets/controls",
      "model_module_version": "1.5.0",
      "model_name": "HBoxModel",
      "state": {
       "children": [
        "IPY_MODEL_969066b02f10497f8e97777a6ba5899f",
        "IPY_MODEL_76487d14b69442ac9b2305bbf092bb4d"
       ],
       "layout": "IPY_MODEL_323f36ca93974b3aaf9e48193d1d531e"
      }
     },
     "7e10f48cca1b48df8f7d55d35bbecb3f": {
      "model_module": "@jupyter-widgets/base",
      "model_module_version": "1.2.0",
      "model_name": "LayoutModel",
      "state": {}
     },
     "7e16a2f4b95844e4aa8848fe4cb3884b": {
      "model_module": "@jupyter-widgets/base",
      "model_module_version": "1.2.0",
      "model_name": "LayoutModel",
      "state": {}
     },
     "7e673d5d9e1341b1a85fc4d78909606b": {
      "model_module": "@jupyter-widgets/base",
      "model_module_version": "1.2.0",
      "model_name": "LayoutModel",
      "state": {}
     },
     "7eb9d27d37194c629e406e3a88a3af1a": {
      "model_module": "@jupyter-widgets/base",
      "model_module_version": "1.2.0",
      "model_name": "LayoutModel",
      "state": {
       "height": "30%",
       "width": "75%"
      }
     },
     "7ed618a263474845afadf4fb86f771b9": {
      "model_module": "@jupyter-widgets/controls",
      "model_module_version": "1.5.0",
      "model_name": "VBoxModel",
      "state": {
       "children": [
        "IPY_MODEL_e4f0bc81a3874fc1bc2aaaeed4595de4",
        "IPY_MODEL_3e8d6f705a554fed88b30f89dbf14935"
       ],
       "layout": "IPY_MODEL_283f40bb673c46078269cf82f0eae3ab"
      }
     },
     "7f31d23d04144b48a1d3afc8d08709c5": {
      "model_module": "@jupyter-widgets/base",
      "model_module_version": "1.2.0",
      "model_name": "LayoutModel",
      "state": {}
     },
     "7f44933328ed4a6e8d32414a3d98de9d": {
      "model_module": "@jupyter-widgets/base",
      "model_module_version": "1.2.0",
      "model_name": "LayoutModel",
      "state": {}
     },
     "7f5fe7d5c2924f4dac4eaa135e74f1f0": {
      "model_module": "@jupyter-widgets/controls",
      "model_module_version": "1.5.0",
      "model_name": "VBoxModel",
      "state": {
       "children": [
        "IPY_MODEL_5e4a61435b5c4baa9ad95f4713e72c71",
        "IPY_MODEL_aaaa8f5c1cbf43ada46b7334176a2a0f"
       ],
       "layout": "IPY_MODEL_9ddcd8f39c414107a8a7acebc84ebdc6"
      }
     },
     "7f690ba908b94c94a7271f33016912c7": {
      "model_module": "@jupyter-widgets/base",
      "model_module_version": "1.2.0",
      "model_name": "LayoutModel",
      "state": {}
     },
     "7f88960a12fe400ebe79bb21081be97e": {
      "model_module": "@jupyter-widgets/base",
      "model_module_version": "1.2.0",
      "model_name": "LayoutModel",
      "state": {}
     },
     "7fae1f2869ae44d5b833f6e96218e996": {
      "model_module": "@jupyter-widgets/controls",
      "model_module_version": "1.5.0",
      "model_name": "VBoxModel",
      "state": {
       "children": [
        "IPY_MODEL_dd0fa60614d047768d08666be2bdc7c6",
        "IPY_MODEL_46edd9f4427d468aa4090c5486008ef8"
       ],
       "layout": "IPY_MODEL_e6b466657d784cb1bba97f07d59ba74b"
      }
     },
     "7fc9961f67a1475fb8baf554a572d259": {
      "model_module": "@jupyter-widgets/controls",
      "model_module_version": "1.5.0",
      "model_name": "VBoxModel",
      "state": {
       "children": [
        "IPY_MODEL_bec9b70ac4bc4585b5cc02fd807afdf8",
        "IPY_MODEL_b5dfe0bc304d445aa0e9aa366af9d34d"
       ],
       "layout": "IPY_MODEL_58fd24302aeb44c0b8ab857b89c92ac8"
      }
     },
     "803b1145d5714c6fb1688413aac2b682": {
      "model_module": "@jupyter-widgets/base",
      "model_module_version": "1.2.0",
      "model_name": "LayoutModel",
      "state": {}
     },
     "8080ba85015f4979a65ce290ddf10856": {
      "model_module": "@jupyter-widgets/base",
      "model_module_version": "1.2.0",
      "model_name": "LayoutModel",
      "state": {}
     },
     "80816a6eeff24fafb9bad6c5de2d54ff": {
      "model_module": "@jupyter-widgets/base",
      "model_module_version": "1.2.0",
      "model_name": "LayoutModel",
      "state": {}
     },
     "8093e116405f4d7ab53141215ad13767": {
      "model_module": "@jupyter-widgets/controls",
      "model_module_version": "1.5.0",
      "model_name": "ButtonModel",
      "state": {
       "description": "Generate",
       "layout": "IPY_MODEL_7bf79123717143d3a56dde37c0c0c348",
       "style": "IPY_MODEL_10032e5a0bd6421198d1589563e0c250"
      }
     },
     "80fee306f95e4066877df3c37038a635": {
      "model_module": "@jupyter-widgets/controls",
      "model_module_version": "1.5.0",
      "model_name": "VBoxModel",
      "state": {
       "children": [
        "IPY_MODEL_732617e44a6a4f0fb4d09ac06ec17c90",
        "IPY_MODEL_ad3cbb6a2d33442ca7d3dbbf87056ec6",
        "IPY_MODEL_d8f9f303dc624c0e87e8cdcd0797468a",
        "IPY_MODEL_3e785e2a31cd46adaebcdc3cfc5df693"
       ],
       "layout": "IPY_MODEL_5a64dba7cf6643a4a65aa35a5912f89e"
      }
     },
     "81246cd457d346e58ba04431973f01ae": {
      "model_module": "@jupyter-widgets/output",
      "model_module_version": "1.0.0",
      "model_name": "OutputModel",
      "state": {
       "layout": "IPY_MODEL_803b1145d5714c6fb1688413aac2b682",
       "outputs": [
        {
         "data": {
          "text/plain": "'C:/PythonWorkspace/stylegan2-ada-pytorch-main/out/seed0929.png'"
         },
         "metadata": {},
         "output_type": "display_data"
        }
       ]
      }
     },
     "819e4f13fcad4e1b9294180a533da8bd": {
      "model_module": "@jupyter-widgets/output",
      "model_module_version": "1.0.0",
      "model_name": "OutputModel",
      "state": {
       "layout": "IPY_MODEL_aee10ca5db234267891d7dbfff7b478a",
       "outputs": [
        {
         "data": {
          "text/plain": "'C:/PythonWorkspace/stylegan2-ada-pytorch-main/out/seed0929.png'"
         },
         "metadata": {},
         "output_type": "display_data"
        }
       ]
      }
     },
     "81b125698a014b13a8acc2b6c600b9ad": {
      "model_module": "@jupyter-widgets/controls",
      "model_module_version": "1.5.0",
      "model_name": "FloatSliderModel",
      "state": {
       "layout": "IPY_MODEL_5d742d9b25424acfb8efccdb4ae7abd5",
       "max": 50,
       "min": -50,
       "step": 0.1,
       "style": "IPY_MODEL_e4141fff79614acfa472cd61400a029f"
      }
     },
     "81e60aaaeb13497ba9fbf81b37c54f19": {
      "model_module": "@jupyter-widgets/base",
      "model_module_version": "1.2.0",
      "model_name": "LayoutModel",
      "state": {}
     },
     "81fc4322288742cf95ad7c6f7c1f1bc1": {
      "model_module": "@jupyter-widgets/base",
      "model_module_version": "1.2.0",
      "model_name": "LayoutModel",
      "state": {}
     },
     "82d8322c8f5e4d2fad0056bae8372477": {
      "model_module": "@jupyter-widgets/base",
      "model_module_version": "1.2.0",
      "model_name": "LayoutModel",
      "state": {}
     },
     "83104f686055454d925f40a888d027e5": {
      "model_module": "@jupyter-widgets/base",
      "model_module_version": "1.2.0",
      "model_name": "LayoutModel",
      "state": {}
     },
     "835f5805b6634e4fb1ac9215fe9b3bd9": {
      "model_module": "@jupyter-widgets/base",
      "model_module_version": "1.2.0",
      "model_name": "LayoutModel",
      "state": {}
     },
     "8370c0035a744dd0b2bac7045d2444b2": {
      "model_module": "@jupyter-widgets/base",
      "model_module_version": "1.2.0",
      "model_name": "LayoutModel",
      "state": {}
     },
     "83b0db33dc874537a4f5bd696506d626": {
      "model_module": "@jupyter-widgets/base",
      "model_module_version": "1.2.0",
      "model_name": "LayoutModel",
      "state": {
       "height": "30%",
       "width": "75%"
      }
     },
     "840aeb767bba4e3cb898ecaf44591605": {
      "model_module": "@jupyter-widgets/base",
      "model_module_version": "1.2.0",
      "model_name": "LayoutModel",
      "state": {}
     },
     "8421d3396b924fdab0ab595d4ade0477": {
      "model_module": "@jupyter-widgets/controls",
      "model_module_version": "1.5.0",
      "model_name": "HBoxModel",
      "state": {
       "children": [
        "IPY_MODEL_ef24b0320d264d7f84bb968f643fd86b",
        "IPY_MODEL_0d5757890ba7451c9b7390a4a33235be"
       ],
       "layout": "IPY_MODEL_c61e92d8654a4a30a47eeac73f8e71c2"
      }
     },
     "842a898f8e3e4bbf91c84f5fc8dbf8ed": {
      "model_module": "@jupyter-widgets/base",
      "model_module_version": "1.2.0",
      "model_name": "LayoutModel",
      "state": {}
     },
     "843027842feb4e08a2539ae00de8d55f": {
      "model_module": "@jupyter-widgets/base",
      "model_module_version": "1.2.0",
      "model_name": "LayoutModel",
      "state": {}
     },
     "8443f98ad95e4d7b870798c5f7d100a0": {
      "model_module": "@jupyter-widgets/base",
      "model_module_version": "1.2.0",
      "model_name": "LayoutModel",
      "state": {}
     },
     "846dd136745947788a766911f3ebb08d": {
      "model_module": "@jupyter-widgets/base",
      "model_module_version": "1.2.0",
      "model_name": "LayoutModel",
      "state": {
       "height": "10%",
       "width": "75%"
      }
     },
     "849923de9037404aa1afd8403aef4740": {
      "model_module": "@jupyter-widgets/controls",
      "model_module_version": "1.5.0",
      "model_name": "ButtonStyleModel",
      "state": {}
     },
     "84ac868970a54c2fb6d836e708ac8255": {
      "model_module": "@jupyter-widgets/controls",
      "model_module_version": "1.5.0",
      "model_name": "ButtonStyleModel",
      "state": {}
     },
     "84b35d66fd404142bce659d09a971cfe": {
      "model_module": "@jupyter-widgets/output",
      "model_module_version": "1.0.0",
      "model_name": "OutputModel",
      "state": {
       "layout": "IPY_MODEL_bf610c1b1b084a2c8b1a092f2d3daca7",
       "outputs": [
        {
         "data": {
          "text/plain": "'C:/PythonWorkspace/stylegan2-ada-pytorch-main/out/seed0929.png'"
         },
         "metadata": {},
         "output_type": "display_data"
        }
       ]
      }
     },
     "84b5deb28fde4041b57dc5964e9698fc": {
      "model_module": "@jupyter-widgets/controls",
      "model_module_version": "1.5.0",
      "model_name": "ButtonModel",
      "state": {
       "description": "Reset Latent Controls",
       "layout": "IPY_MODEL_83b0db33dc874537a4f5bd696506d626",
       "style": "IPY_MODEL_7cf7e42907094d09a40d3e7436db1e4e"
      }
     },
     "84bf81d83b0540f3acfb3529d10516eb": {
      "model_module": "@jupyter-widgets/output",
      "model_module_version": "1.0.0",
      "model_name": "OutputModel",
      "state": {
       "layout": "IPY_MODEL_2f4bec3f4f8347bfaa0efe85fccbbac1",
       "outputs": [
        {
         "data": {
          "text/plain": "'C:/PythonWorkspace/stylegan2-ada-pytorch-main/out/seed0929.png'"
         },
         "metadata": {},
         "output_type": "display_data"
        }
       ]
      }
     },
     "8502fa0fc68e4a799b688dd4ef8afbc0": {
      "model_module": "@jupyter-widgets/base",
      "model_module_version": "1.2.0",
      "model_name": "LayoutModel",
      "state": {}
     },
     "8513a06d477b4e95b86c84cac679e234": {
      "model_module": "@jupyter-widgets/controls",
      "model_module_version": "1.5.0",
      "model_name": "ButtonModel",
      "state": {
       "description": "Generate",
       "layout": "IPY_MODEL_88ca2fa6191d46998200eb745cf2299c",
       "style": "IPY_MODEL_f4b49a67e35544f69850bfa3ef2d70c6"
      }
     },
     "854c22f1d0014c6d9873706126e53728": {
      "model_module": "@jupyter-widgets/output",
      "model_module_version": "1.0.0",
      "model_name": "OutputModel",
      "state": {
       "layout": "IPY_MODEL_9cd155510c734f6691de4601b78d2b35",
       "outputs": [
        {
         "data": {
          "text/plain": "'C:/PythonWorkspace/stylegan2-ada-pytorch-main/out/seed0929.png'"
         },
         "metadata": {},
         "output_type": "display_data"
        }
       ]
      }
     },
     "854de111d58546739f3f365f8b888c73": {
      "model_module": "@jupyter-widgets/controls",
      "model_module_version": "1.5.0",
      "model_name": "ButtonModel",
      "state": {
       "description": "Reset Latent Controls",
       "layout": "IPY_MODEL_846dd136745947788a766911f3ebb08d",
       "style": "IPY_MODEL_1ff94e207f3e4d7b93c20aaf84b2c331"
      }
     },
     "856ed8a7c5014c439d96358846bf42a2": {
      "model_module": "@jupyter-widgets/base",
      "model_module_version": "1.2.0",
      "model_name": "LayoutModel",
      "state": {}
     },
     "857d07ee57fd47dca3a401c7f0aa8d65": {
      "model_module": "@jupyter-widgets/controls",
      "model_module_version": "1.5.0",
      "model_name": "ButtonStyleModel",
      "state": {}
     },
     "8611028486ab4849b67f2aaf249492ea": {
      "model_module": "@jupyter-widgets/base",
      "model_module_version": "1.2.0",
      "model_name": "LayoutModel",
      "state": {}
     },
     "872b7fa0e7064225aece9ca837c1ff88": {
      "model_module": "@jupyter-widgets/controls",
      "model_module_version": "1.5.0",
      "model_name": "ButtonStyleModel",
      "state": {}
     },
     "8745a9b2802d423ca8941d7053226f54": {
      "model_module": "@jupyter-widgets/controls",
      "model_module_version": "1.5.0",
      "model_name": "HBoxModel",
      "state": {
       "children": [
        "IPY_MODEL_07eff225b1544c8abcf5039220936ac6",
        "IPY_MODEL_26cc312e49a44cf2bb68bb4f1663c1b2"
       ],
       "layout": "IPY_MODEL_7bafc874c24b48a8ac0344ba1032123b"
      }
     },
     "87ad618ca78642b995e78191539f3720": {
      "model_module": "@jupyter-widgets/base",
      "model_module_version": "1.2.0",
      "model_name": "LayoutModel",
      "state": {}
     },
     "87c22baa5ea84ff88074144ca481e208": {
      "model_module": "@jupyter-widgets/controls",
      "model_module_version": "1.5.0",
      "model_name": "ButtonModel",
      "state": {
       "description": "Reset Latent Controls",
       "layout": "IPY_MODEL_518d4c3616224c3dad8660373ca702f4",
       "style": "IPY_MODEL_8b4f6b3328fb46b08f205271addd30a2"
      }
     },
     "87dacf1d227d498bbe8c89b6ca98dbb3": {
      "model_module": "@jupyter-widgets/controls",
      "model_module_version": "1.5.0",
      "model_name": "ButtonModel",
      "state": {
       "description": "Generate",
       "layout": "IPY_MODEL_25def6e51f5f4620a9c84e338dc6ac23",
       "style": "IPY_MODEL_857d07ee57fd47dca3a401c7f0aa8d65"
      }
     },
     "88414eb19a8f47b7b29180c1545096bd": {
      "model_module": "@jupyter-widgets/output",
      "model_module_version": "1.0.0",
      "model_name": "OutputModel",
      "state": {
       "layout": "IPY_MODEL_78ae95cf97d441d287f9f0df5fbbc627",
       "outputs": [
        {
         "data": {
          "text/plain": "'C:/PythonWorkspace/stylegan2-ada-pytorch-main/out/seed0929.png'"
         },
         "metadata": {},
         "output_type": "display_data"
        }
       ]
      }
     },
     "8857aad153e548b39ef601b5540139d2": {
      "model_module": "@jupyter-widgets/controls",
      "model_module_version": "1.5.0",
      "model_name": "ButtonStyleModel",
      "state": {}
     },
     "88a83a5e0e654773aec385feed8c4048": {
      "model_module": "@jupyter-widgets/output",
      "model_module_version": "1.0.0",
      "model_name": "OutputModel",
      "state": {
       "layout": "IPY_MODEL_47f534a8eb46410596ccc307ba3e66ef",
       "outputs": [
        {
         "data": {
          "text/plain": "'C:/PythonWorkspace/stylegan2-ada-pytorch-main/out/seed0929.png'"
         },
         "metadata": {},
         "output_type": "display_data"
        }
       ]
      }
     },
     "88b0b5030b554c308648a08bc86c233c": {
      "model_module": "@jupyter-widgets/base",
      "model_module_version": "1.2.0",
      "model_name": "LayoutModel",
      "state": {}
     },
     "88c82ab8c76a439380d2909cf59c5856": {
      "model_module": "@jupyter-widgets/output",
      "model_module_version": "1.0.0",
      "model_name": "OutputModel",
      "state": {
       "layout": "IPY_MODEL_89f71a2e624a4115bdbc429edf887a85",
       "outputs": [
        {
         "data": {
          "text/plain": "'C:/PythonWorkspace/stylegan2-ada-pytorch-main/out/seed0929.png'"
         },
         "metadata": {},
         "output_type": "display_data"
        }
       ]
      }
     },
     "88ca2fa6191d46998200eb745cf2299c": {
      "model_module": "@jupyter-widgets/base",
      "model_module_version": "1.2.0",
      "model_name": "LayoutModel",
      "state": {
       "height": "30%",
       "width": "75%"
      }
     },
     "88cd0911e0bf417b879c6b2f85477e65": {
      "model_module": "@jupyter-widgets/controls",
      "model_module_version": "1.5.0",
      "model_name": "ButtonStyleModel",
      "state": {}
     },
     "88cfff56e4c74f169c82a659359b37ea": {
      "model_module": "@jupyter-widgets/controls",
      "model_module_version": "1.5.0",
      "model_name": "ButtonStyleModel",
      "state": {}
     },
     "88e1c5c971f845ceb2c60ac9494dbd3c": {
      "model_module": "@jupyter-widgets/base",
      "model_module_version": "1.2.0",
      "model_name": "LayoutModel",
      "state": {}
     },
     "895a8f2d60d14fd784305a7a57575789": {
      "model_module": "@jupyter-widgets/base",
      "model_module_version": "1.2.0",
      "model_name": "LayoutModel",
      "state": {}
     },
     "89610161883f47d99790930845c89d50": {
      "model_module": "@jupyter-widgets/base",
      "model_module_version": "1.2.0",
      "model_name": "LayoutModel",
      "state": {}
     },
     "899abc9f5a0743d2899f84ca4990f64b": {
      "model_module": "@jupyter-widgets/base",
      "model_module_version": "1.2.0",
      "model_name": "LayoutModel",
      "state": {}
     },
     "89b0831706b749faa36201fe67435c7e": {
      "model_module": "@jupyter-widgets/controls",
      "model_module_version": "1.5.0",
      "model_name": "FloatSliderModel",
      "state": {
       "layout": "IPY_MODEL_cdada4b220a945d082c96655b383700e",
       "max": 50,
       "min": -50,
       "step": 0.1,
       "style": "IPY_MODEL_b5b5396131c54cf1b6b68f015eba7e93"
      }
     },
     "89f71a2e624a4115bdbc429edf887a85": {
      "model_module": "@jupyter-widgets/base",
      "model_module_version": "1.2.0",
      "model_name": "LayoutModel",
      "state": {}
     },
     "8a043ee71f61479983a627546c4f6a0b": {
      "model_module": "@jupyter-widgets/controls",
      "model_module_version": "1.5.0",
      "model_name": "VBoxModel",
      "state": {
       "children": [
        "IPY_MODEL_0b6a748fbc894a649039b1e55996c461",
        "IPY_MODEL_aacddba69b0f4946b5d0f6c4621472ec"
       ],
       "layout": "IPY_MODEL_ce149f57ef674ae6b5cbc13acc4e5195"
      }
     },
     "8a3076e2903b41708b6c7df5fa537092": {
      "model_module": "@jupyter-widgets/base",
      "model_module_version": "1.2.0",
      "model_name": "LayoutModel",
      "state": {}
     },
     "8a3d5caeff904c109976566f08fb4ecc": {
      "model_module": "@jupyter-widgets/output",
      "model_module_version": "1.0.0",
      "model_name": "OutputModel",
      "state": {
       "layout": "IPY_MODEL_1ce37a7291044f88aeed4f861e1bcd49",
       "outputs": [
        {
         "data": {
          "text/plain": "'C:/PythonWorkspace/stylegan2-ada-pytorch-main/out/seed0929.png'"
         },
         "metadata": {},
         "output_type": "display_data"
        }
       ]
      }
     },
     "8a48d7e2ed9e43aca8e6db867dddd3c5": {
      "model_module": "@jupyter-widgets/controls",
      "model_module_version": "1.5.0",
      "model_name": "SliderStyleModel",
      "state": {
       "description_width": ""
      }
     },
     "8a66390d434b454eb63563df02f31a5e": {
      "model_module": "@jupyter-widgets/controls",
      "model_module_version": "1.5.0",
      "model_name": "ButtonStyleModel",
      "state": {}
     },
     "8a6ac6cb36764895baa20b3558103de9": {
      "model_module": "@jupyter-widgets/base",
      "model_module_version": "1.2.0",
      "model_name": "LayoutModel",
      "state": {}
     },
     "8a777b23bbe34a22ad05b00d77c24bb9": {
      "model_module": "@jupyter-widgets/base",
      "model_module_version": "1.2.0",
      "model_name": "LayoutModel",
      "state": {
       "height": "30%",
       "width": "75%"
      }
     },
     "8a92fae204524b43b75ceda752b42018": {
      "model_module": "@jupyter-widgets/controls",
      "model_module_version": "1.5.0",
      "model_name": "DescriptionStyleModel",
      "state": {
       "description_width": ""
      }
     },
     "8a953845c5ed4fec8f3eb885a0de7e4b": {
      "model_module": "@jupyter-widgets/output",
      "model_module_version": "1.0.0",
      "model_name": "OutputModel",
      "state": {
       "layout": "IPY_MODEL_79d689c7f17a487db16b60a28e5e8f51",
       "outputs": [
        {
         "data": {
          "text/plain": "'C:/PythonWorkspace/stylegan2-ada-pytorch-main/out/seed0929.png'"
         },
         "metadata": {},
         "output_type": "display_data"
        }
       ]
      }
     },
     "8ad47fd52b3e485b90e88b6a6e0a13bd": {
      "model_module": "@jupyter-widgets/output",
      "model_module_version": "1.0.0",
      "model_name": "OutputModel",
      "state": {
       "layout": "IPY_MODEL_ffa38d727fa04da58f7bdde685dbf825",
       "outputs": [
        {
         "data": {
          "text/plain": "'C:/PythonWorkspace/stylegan2-ada-pytorch-main/out/seed0929.png'"
         },
         "metadata": {},
         "output_type": "display_data"
        }
       ]
      }
     },
     "8adca06efbb14f22878ce7a4f65dea13": {
      "model_module": "@jupyter-widgets/base",
      "model_module_version": "1.2.0",
      "model_name": "LayoutModel",
      "state": {}
     },
     "8b17949f12484f09966f4c22d595e705": {
      "model_module": "@jupyter-widgets/controls",
      "model_module_version": "1.5.0",
      "model_name": "ButtonStyleModel",
      "state": {}
     },
     "8b4f6b3328fb46b08f205271addd30a2": {
      "model_module": "@jupyter-widgets/controls",
      "model_module_version": "1.5.0",
      "model_name": "ButtonStyleModel",
      "state": {}
     },
     "8b8035cdb6894c1198f0cc262c251abb": {
      "model_module": "@jupyter-widgets/controls",
      "model_module_version": "1.5.0",
      "model_name": "SliderStyleModel",
      "state": {
       "description_width": ""
      }
     },
     "8c3726f9e8fd4fcf950b6232e0033081": {
      "model_module": "@jupyter-widgets/base",
      "model_module_version": "1.2.0",
      "model_name": "LayoutModel",
      "state": {}
     },
     "8c3fa4cc566c474fa09d135706e1c76a": {
      "model_module": "@jupyter-widgets/output",
      "model_module_version": "1.0.0",
      "model_name": "OutputModel",
      "state": {
       "layout": "IPY_MODEL_7a9c849226564e0bab982890969e6b45",
       "outputs": [
        {
         "data": {
          "text/plain": "'C:/PythonWorkspace/stylegan2-ada-pytorch-main/out/seed0929.png'"
         },
         "metadata": {},
         "output_type": "display_data"
        }
       ]
      }
     },
     "8c5971f4d6f743fabbd4c8663e256501": {
      "model_module": "@jupyter-widgets/controls",
      "model_module_version": "1.5.0",
      "model_name": "ButtonStyleModel",
      "state": {}
     },
     "8c6be60949ee45c0a85577278a50e6ae": {
      "model_module": "@jupyter-widgets/output",
      "model_module_version": "1.0.0",
      "model_name": "OutputModel",
      "state": {
       "layout": "IPY_MODEL_77224c3d17f34dc9b185651ab417df0c",
       "outputs": [
        {
         "data": {
          "text/plain": "'C:/PythonWorkspace/stylegan2-ada-pytorch-main/out/seed0929.png'"
         },
         "metadata": {},
         "output_type": "display_data"
        }
       ]
      }
     },
     "8c882ec6441d4b9092b18cffdf9b6f49": {
      "model_module": "@jupyter-widgets/base",
      "model_module_version": "1.2.0",
      "model_name": "LayoutModel",
      "state": {}
     },
     "8cbaedbc8cc24f04a8b6a023ce3848e0": {
      "model_module": "@jupyter-widgets/base",
      "model_module_version": "1.2.0",
      "model_name": "LayoutModel",
      "state": {}
     },
     "8cc15f3a22964e04b4a2769bb71b0a0d": {
      "model_module": "@jupyter-widgets/base",
      "model_module_version": "1.2.0",
      "model_name": "LayoutModel",
      "state": {}
     },
     "8cd30c7692f6458ab7afe096e7697655": {
      "model_module": "@jupyter-widgets/controls",
      "model_module_version": "1.5.0",
      "model_name": "VBoxModel",
      "state": {
       "children": [
        "IPY_MODEL_f5d27a870f4a4791944ea560d938c0a3",
        "IPY_MODEL_52bd47e1ef374e62b700fd7c83c930fe"
       ],
       "layout": "IPY_MODEL_a7658a4d624f4aa4a0d5423f196e8359"
      }
     },
     "8cdc803ac5434bcc9c658f3ce098bac1": {
      "model_module": "@jupyter-widgets/base",
      "model_module_version": "1.2.0",
      "model_name": "LayoutModel",
      "state": {}
     },
     "8ce64e3318094e2d971e7f1f2b3bc670": {
      "model_module": "@jupyter-widgets/base",
      "model_module_version": "1.2.0",
      "model_name": "LayoutModel",
      "state": {}
     },
     "8d1f06b992604df49340cc4c11260ad7": {
      "model_module": "@jupyter-widgets/base",
      "model_module_version": "1.2.0",
      "model_name": "LayoutModel",
      "state": {}
     },
     "8d2bcaa740d64cb1b9589a79e96069ec": {
      "model_module": "@jupyter-widgets/controls",
      "model_module_version": "1.5.0",
      "model_name": "HBoxModel",
      "state": {
       "children": [
        "IPY_MODEL_208ec003feb743ecab856f3cf250da8b",
        "IPY_MODEL_f337ad2c649d40579c7b386a6499d44f"
       ],
       "layout": "IPY_MODEL_b0290876a07844ca98042037969923b8"
      }
     },
     "8d3789039d7b4e17869fb5897d7f75b4": {
      "model_module": "@jupyter-widgets/base",
      "model_module_version": "1.2.0",
      "model_name": "LayoutModel",
      "state": {
       "height": "30%",
       "width": "75%"
      }
     },
     "8db315459be84e768c4c1e7d044b7a20": {
      "model_module": "@jupyter-widgets/controls",
      "model_module_version": "1.5.0",
      "model_name": "DescriptionStyleModel",
      "state": {
       "description_width": ""
      }
     },
     "8dc4e3cb91bc49308f758e095ba00cce": {
      "model_module": "@jupyter-widgets/controls",
      "model_module_version": "1.5.0",
      "model_name": "ButtonModel",
      "state": {
       "description": "Generate",
       "layout": "IPY_MODEL_003a40cb4f7d416bad3b109a57bfb46c",
       "style": "IPY_MODEL_0ef4dc87d6da4550beb32df1673b00f0"
      }
     },
     "8e40cdcfbdf5405291e5daee77e7e18f": {
      "model_module": "@jupyter-widgets/base",
      "model_module_version": "1.2.0",
      "model_name": "LayoutModel",
      "state": {}
     },
     "8e4915c20ab748f2ae39480829e069e8": {
      "model_module": "@jupyter-widgets/base",
      "model_module_version": "1.2.0",
      "model_name": "LayoutModel",
      "state": {}
     },
     "8e6b3dcbf1c0448b8da6dc9b915a6912": {
      "model_module": "@jupyter-widgets/base",
      "model_module_version": "1.2.0",
      "model_name": "LayoutModel",
      "state": {}
     },
     "8f75004cd6704318825d6b61460435af": {
      "model_module": "@jupyter-widgets/controls",
      "model_module_version": "1.5.0",
      "model_name": "ButtonModel",
      "state": {
       "description": "Generate",
       "layout": "IPY_MODEL_dc1b8843778549cfa820837c6a089f29",
       "style": "IPY_MODEL_e310c7d814f8420aa690981b65a74c6d"
      }
     },
     "8f9fdd8d96624447bef309b9a8036d1f": {
      "model_module": "@jupyter-widgets/base",
      "model_module_version": "1.2.0",
      "model_name": "LayoutModel",
      "state": {}
     },
     "8fa585292d974c05804e8233bd2d4544": {
      "model_module": "@jupyter-widgets/controls",
      "model_module_version": "1.5.0",
      "model_name": "ButtonModel",
      "state": {
       "description": "Generate",
       "layout": "IPY_MODEL_e0301fe9c50f4c5babfdf4e76773090e",
       "style": "IPY_MODEL_19e2c807c5234ed19449096e0d7238e1"
      }
     },
     "8fbf7fd1af2a42c9ab2c75970f4ee66b": {
      "model_module": "@jupyter-widgets/output",
      "model_module_version": "1.0.0",
      "model_name": "OutputModel",
      "state": {
       "layout": "IPY_MODEL_d40d09976abf441785282f7dd749222b",
       "outputs": [
        {
         "data": {
          "text/plain": "'C:/PythonWorkspace/stylegan2-ada-pytorch-main/out/seed0929.png'"
         },
         "metadata": {},
         "output_type": "display_data"
        }
       ]
      }
     },
     "8fdebd1136944e0e80a7a006001fe28c": {
      "model_module": "@jupyter-widgets/controls",
      "model_module_version": "1.5.0",
      "model_name": "HBoxModel",
      "state": {
       "children": [
        "IPY_MODEL_3c2241e34446471e9414b589401495f1",
        "IPY_MODEL_774d6235cb154800965ff07eecbcd9a9"
       ],
       "layout": "IPY_MODEL_2b1429c438f645ea85dac051dc01ff19"
      }
     },
     "8fe2864b1b054dfb88d8ea7b61b3127f": {
      "model_module": "@jupyter-widgets/base",
      "model_module_version": "1.2.0",
      "model_name": "LayoutModel",
      "state": {}
     },
     "8fe8168932be4b669873bdb6cdae2393": {
      "model_module": "@jupyter-widgets/base",
      "model_module_version": "1.2.0",
      "model_name": "LayoutModel",
      "state": {}
     },
     "90363787e4064402ba83733c1fabafba": {
      "model_module": "@jupyter-widgets/controls",
      "model_module_version": "1.5.0",
      "model_name": "HBoxModel",
      "state": {
       "children": [
        "IPY_MODEL_534fcd2d67ad4e86a5cbef5768296559",
        "IPY_MODEL_dd952f06a7224a7cbd4b65255b22248a"
       ],
       "layout": "IPY_MODEL_174e3306572f4710a159c3c41eb02c71"
      }
     },
     "907e5699dd4b4a6bb8a7b53dedb9727a": {
      "model_module": "@jupyter-widgets/output",
      "model_module_version": "1.0.0",
      "model_name": "OutputModel",
      "state": {
       "layout": "IPY_MODEL_b2ed361264a249079412c845be24e4d6",
       "outputs": [
        {
         "data": {
          "text/plain": "'C:/PythonWorkspace/stylegan2-ada-pytorch-main/out/seed0929.png'"
         },
         "metadata": {},
         "output_type": "display_data"
        }
       ]
      }
     },
     "9094aa204c0942abb6c4c58a8d2ecce7": {
      "model_module": "@jupyter-widgets/controls",
      "model_module_version": "1.5.0",
      "model_name": "VBoxModel",
      "state": {
       "children": [
        "IPY_MODEL_14f1df4e834e4140b9918cd7cc6030f9",
        "IPY_MODEL_5a2835a76b054c01a4ac44a7321fe14a"
       ],
       "layout": "IPY_MODEL_90fc7b0702e3424ebd66705c4fba53a4"
      }
     },
     "90f9a11c83f04f8b8b7ec0e05c617567": {
      "model_module": "@jupyter-widgets/controls",
      "model_module_version": "1.5.0",
      "model_name": "HBoxModel",
      "state": {
       "children": [
        "IPY_MODEL_77b0745108a444ea805af21e72d3bae1",
        "IPY_MODEL_1f159129abfe429c84bad21048014e6a"
       ],
       "layout": "IPY_MODEL_7f88960a12fe400ebe79bb21081be97e"
      }
     },
     "90fc7b0702e3424ebd66705c4fba53a4": {
      "model_module": "@jupyter-widgets/base",
      "model_module_version": "1.2.0",
      "model_name": "LayoutModel",
      "state": {}
     },
     "91577f7a10c74220a4524ccfead11759": {
      "model_module": "@jupyter-widgets/base",
      "model_module_version": "1.2.0",
      "model_name": "LayoutModel",
      "state": {}
     },
     "918c4bb8260f462c9ce51ed5668f95c9": {
      "model_module": "@jupyter-widgets/base",
      "model_module_version": "1.2.0",
      "model_name": "LayoutModel",
      "state": {}
     },
     "91c0eaa836f842ecaa2f5c7e9bd2a916": {
      "model_module": "@jupyter-widgets/output",
      "model_module_version": "1.0.0",
      "model_name": "OutputModel",
      "state": {
       "layout": "IPY_MODEL_056d25b49c8d47f6ab17a7a078ccaab9",
       "outputs": [
        {
         "data": {
          "text/plain": "'C:/PythonWorkspace/stylegan2-ada-pytorch-main/out/seed0929.png'"
         },
         "metadata": {},
         "output_type": "display_data"
        }
       ]
      }
     },
     "91caa9c6b9b94027b2bfa94fee297e08": {
      "model_module": "@jupyter-widgets/base",
      "model_module_version": "1.2.0",
      "model_name": "LayoutModel",
      "state": {}
     },
     "91d780b769b245d8acc66b9416e1a844": {
      "model_module": "@jupyter-widgets/output",
      "model_module_version": "1.0.0",
      "model_name": "OutputModel",
      "state": {
       "layout": "IPY_MODEL_48c84211f9df42be8f934962fa982b59",
       "outputs": [
        {
         "data": {
          "image/png": "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\n",
          "text/plain": "<PIL.Image.Image image mode=RGB size=64x64 at 0x1698CC23A90>"
         },
         "metadata": {},
         "output_type": "display_data"
        }
       ]
      }
     },
     "9220f506a18449be89e63596b3ff81a8": {
      "model_module": "@jupyter-widgets/base",
      "model_module_version": "1.2.0",
      "model_name": "LayoutModel",
      "state": {}
     },
     "926b9ad59fa943bbb701d76f62abba09": {
      "model_module": "@jupyter-widgets/base",
      "model_module_version": "1.2.0",
      "model_name": "LayoutModel",
      "state": {}
     },
     "92baf1b09d7d48e084d54e38d23815e7": {
      "model_module": "@jupyter-widgets/base",
      "model_module_version": "1.2.0",
      "model_name": "LayoutModel",
      "state": {}
     },
     "92d8c686bd17404da4b7b4600c5d106b": {
      "model_module": "@jupyter-widgets/output",
      "model_module_version": "1.0.0",
      "model_name": "OutputModel",
      "state": {
       "layout": "IPY_MODEL_63ecd6af0fb6477e9a147f6cfc79d0dc",
       "outputs": [
        {
         "data": {
          "text/plain": "'C:/PythonWorkspace/stylegan2-ada-pytorch-main/out/seed0929.png'"
         },
         "metadata": {},
         "output_type": "display_data"
        }
       ]
      }
     },
     "92e6adbe1bfb4c3b92eab9e2cf70cc89": {
      "model_module": "@jupyter-widgets/controls",
      "model_module_version": "1.5.0",
      "model_name": "SliderStyleModel",
      "state": {
       "description_width": ""
      }
     },
     "930a3a5426b14cd3ace765cc3dede580": {
      "model_module": "@jupyter-widgets/base",
      "model_module_version": "1.2.0",
      "model_name": "LayoutModel",
      "state": {}
     },
     "931b1ffe6ee54653898ed98e310b28ee": {
      "model_module": "@jupyter-widgets/controls",
      "model_module_version": "1.5.0",
      "model_name": "VBoxModel",
      "state": {
       "_dom_classes": [
        "widget-interact"
       ],
       "layout": "IPY_MODEL_b0e94208175040ecb519a9a45f2762cb"
      }
     },
     "934fe126a4ee49e28669f2f582f6ffcb": {
      "model_module": "@jupyter-widgets/base",
      "model_module_version": "1.2.0",
      "model_name": "LayoutModel",
      "state": {}
     },
     "937029c0971f439c9586665b42613cdc": {
      "model_module": "@jupyter-widgets/base",
      "model_module_version": "1.2.0",
      "model_name": "LayoutModel",
      "state": {}
     },
     "9388a27038b24f34a63bb6f39b64a013": {
      "model_module": "@jupyter-widgets/controls",
      "model_module_version": "1.5.0",
      "model_name": "ButtonStyleModel",
      "state": {}
     },
     "938f9cc0e5b04ca990b6e38bdb220279": {
      "model_module": "@jupyter-widgets/controls",
      "model_module_version": "1.5.0",
      "model_name": "ButtonModel",
      "state": {
       "description": "Reset Latent Controls",
       "layout": "IPY_MODEL_e22faeb2edeb4fed954e631d83036037",
       "style": "IPY_MODEL_6510895a7a904265b977e2247b998e6f"
      }
     },
     "93be3c8120dc45868ce8e6981f3d2536": {
      "model_module": "@jupyter-widgets/base",
      "model_module_version": "1.2.0",
      "model_name": "LayoutModel",
      "state": {
       "height": "30%",
       "width": "75%"
      }
     },
     "93c1a69233e54c67be921c008f2aa784": {
      "model_module": "@jupyter-widgets/controls",
      "model_module_version": "1.5.0",
      "model_name": "FloatSliderModel",
      "state": {
       "layout": "IPY_MODEL_9e1a8e3f439d496da9f7c5177a77567a",
       "max": 50,
       "min": -50,
       "step": 0.1,
       "style": "IPY_MODEL_3c11f9c860d3459e81facecfdfa22e72"
      }
     },
     "93c4a19b59e54439841a9ee0a9c8eedc": {
      "model_module": "@jupyter-widgets/output",
      "model_module_version": "1.0.0",
      "model_name": "OutputModel",
      "state": {
       "layout": "IPY_MODEL_7c088db4abc54948bfc72e28882ab8ad",
       "outputs": [
        {
         "data": {
          "text/plain": "'C:/PythonWorkspace/stylegan2-ada-pytorch-main/out/seed0929.png'"
         },
         "metadata": {},
         "output_type": "display_data"
        }
       ]
      }
     },
     "93ea09cc2dfb4bc896a6c3080accfb58": {
      "model_module": "@jupyter-widgets/base",
      "model_module_version": "1.2.0",
      "model_name": "LayoutModel",
      "state": {}
     },
     "93f42a10614240049eaf8a5a34ce2e9b": {
      "model_module": "@jupyter-widgets/controls",
      "model_module_version": "1.5.0",
      "model_name": "DescriptionStyleModel",
      "state": {
       "description_width": ""
      }
     },
     "9416a92fa59949bba72f90065c8dfaa7": {
      "model_module": "@jupyter-widgets/base",
      "model_module_version": "1.2.0",
      "model_name": "LayoutModel",
      "state": {}
     },
     "947d388f2c084cbb8490f58d9244b4f6": {
      "model_module": "@jupyter-widgets/controls",
      "model_module_version": "1.5.0",
      "model_name": "HBoxModel",
      "state": {
       "children": [
        "IPY_MODEL_01d3bf3da7614cd78aaa78deed5fd8e4",
        "IPY_MODEL_5343e287b4e949a8a5ed418fb467632a"
       ],
       "layout": "IPY_MODEL_3d72852b52f243e39e7c5de04d649c07"
      }
     },
     "94a8ecddd19c4897b9b769a278886a6e": {
      "model_module": "@jupyter-widgets/controls",
      "model_module_version": "1.5.0",
      "model_name": "SliderStyleModel",
      "state": {
       "description_width": ""
      }
     },
     "94b2e3f9f2834c899f5ce4b6121f2024": {
      "model_module": "@jupyter-widgets/base",
      "model_module_version": "1.2.0",
      "model_name": "LayoutModel",
      "state": {}
     },
     "94c982e2b4cf4a8fb30f60990d74a1b3": {
      "model_module": "@jupyter-widgets/controls",
      "model_module_version": "1.5.0",
      "model_name": "DescriptionStyleModel",
      "state": {
       "description_width": ""
      }
     },
     "9505a13b8fd84149873aa8f592fa3a43": {
      "model_module": "@jupyter-widgets/base",
      "model_module_version": "1.2.0",
      "model_name": "LayoutModel",
      "state": {}
     },
     "957e3009071a49ec8850a9236390dc57": {
      "model_module": "@jupyter-widgets/output",
      "model_module_version": "1.0.0",
      "model_name": "OutputModel",
      "state": {
       "layout": "IPY_MODEL_9dd81a7ed75149d4a8b92ebaca7f0ce6",
       "outputs": [
        {
         "data": {
          "text/plain": "'C:/PythonWorkspace/stylegan2-ada-pytorch-main/out/seed0929.png'"
         },
         "metadata": {},
         "output_type": "display_data"
        }
       ]
      }
     },
     "959efd5c42234768b053f1daac32e056": {
      "model_module": "@jupyter-widgets/output",
      "model_module_version": "1.0.0",
      "model_name": "OutputModel",
      "state": {
       "layout": "IPY_MODEL_53cd013695d54c12b3a2c33342e4d49e",
       "outputs": [
        {
         "data": {
          "text/plain": "'C:/PythonWorkspace/stylegan2-ada-pytorch-main/out/seed0929.png'"
         },
         "metadata": {},
         "output_type": "display_data"
        }
       ]
      }
     },
     "95cd0938a6614f2cbef6c468a11a1509": {
      "model_module": "@jupyter-widgets/base",
      "model_module_version": "1.2.0",
      "model_name": "LayoutModel",
      "state": {
       "height": "30%",
       "width": "75%"
      }
     },
     "961358bf4b274d6a82f5b64514f3c856": {
      "model_module": "@jupyter-widgets/controls",
      "model_module_version": "1.5.0",
      "model_name": "HBoxModel",
      "state": {
       "children": [
        "IPY_MODEL_4337d15b3666411b991bc4445c783757",
        "IPY_MODEL_49dd9f1e751b4b0091ddea7ab670adca"
       ],
       "layout": "IPY_MODEL_58d4b7234c45499a91f02e2b03d0d22b"
      }
     },
     "964066ed9b8649fd84a1c0862f8fc11a": {
      "model_module": "@jupyter-widgets/controls",
      "model_module_version": "1.5.0",
      "model_name": "DescriptionStyleModel",
      "state": {
       "description_width": ""
      }
     },
     "965750498f8d433fb100391ef7d55c92": {
      "model_module": "@jupyter-widgets/controls",
      "model_module_version": "1.5.0",
      "model_name": "HBoxModel",
      "state": {
       "children": [
        "IPY_MODEL_c283c93f237b443a8ad36ec6e7be7c18",
        "IPY_MODEL_c2c538ef50e04c08abe4eab062b83c56"
       ],
       "layout": "IPY_MODEL_ca1aa96213bb45ba801ed0799717265e"
      }
     },
     "969066b02f10497f8e97777a6ba5899f": {
      "model_module": "@jupyter-widgets/controls",
      "model_module_version": "1.5.0",
      "model_name": "FloatSliderModel",
      "state": {
       "layout": "IPY_MODEL_44939d9e99284a3ebdc61f56d000a846",
       "max": 50,
       "min": -50,
       "step": 0.1,
       "style": "IPY_MODEL_bdd4c974211547bcb6de815a2ddaebde"
      }
     },
     "969554e52cc04f8b921ee1d82a9269f0": {
      "model_module": "@jupyter-widgets/controls",
      "model_module_version": "1.5.0",
      "model_name": "ButtonModel",
      "state": {
       "description": "Reset Latent Controls",
       "layout": "IPY_MODEL_e1b78b3ed1e34ac18b50a7ca6629ea73",
       "style": "IPY_MODEL_8c5971f4d6f743fabbd4c8663e256501"
      }
     },
     "96f1b38077dd42d2a01a25aab7ef6a89": {
      "model_module": "@jupyter-widgets/controls",
      "model_module_version": "1.5.0",
      "model_name": "ButtonStyleModel",
      "state": {}
     },
     "974f579ff5464666a47180bf74cb3cfa": {
      "model_module": "@jupyter-widgets/controls",
      "model_module_version": "1.5.0",
      "model_name": "HBoxModel",
      "state": {
       "children": [
        "IPY_MODEL_40cfb57d49494c20b51e4b940c4c7b6e",
        "IPY_MODEL_d1bc60bd945d47e8914f3043cf16bf2a"
       ],
       "layout": "IPY_MODEL_db9deef5fa914171ada0b27b7b70d130"
      }
     },
     "97585ed36e114f1aa2b899ecdab23c20": {
      "model_module": "@jupyter-widgets/controls",
      "model_module_version": "1.5.0",
      "model_name": "VBoxModel",
      "state": {
       "children": [
        "IPY_MODEL_fc9e78bb3d2a40b0ae72b7805fd0c835",
        "IPY_MODEL_427832c2f17e4718b4aa094ca6b207a0"
       ],
       "layout": "IPY_MODEL_fdabc75f7cd04a2c92b45452da70bac2"
      }
     },
     "97c2e26aaf63416481fd8f72975cefef": {
      "model_module": "@jupyter-widgets/base",
      "model_module_version": "1.2.0",
      "model_name": "LayoutModel",
      "state": {
       "height": "10%",
       "width": "75%"
      }
     },
     "97ea476b76a04f58a11f254b1322929e": {
      "model_module": "@jupyter-widgets/base",
      "model_module_version": "1.2.0",
      "model_name": "LayoutModel",
      "state": {}
     },
     "980a2a6f65c6459b9cde49d1b65337b4": {
      "model_module": "@jupyter-widgets/output",
      "model_module_version": "1.0.0",
      "model_name": "OutputModel",
      "state": {
       "layout": "IPY_MODEL_a5063f51e5ca450f9396d70c9047fd4f",
       "outputs": [
        {
         "data": {
          "text/plain": "'C:/PythonWorkspace/stylegan2-ada-pytorch-main/out/seed0929.png'"
         },
         "metadata": {},
         "output_type": "display_data"
        }
       ]
      }
     },
     "982dea64a01648679663a5aed80ecdbf": {
      "model_module": "@jupyter-widgets/base",
      "model_module_version": "1.2.0",
      "model_name": "LayoutModel",
      "state": {}
     },
     "984b84fc4b92466db8a9c12ca338630a": {
      "model_module": "@jupyter-widgets/controls",
      "model_module_version": "1.5.0",
      "model_name": "VBoxModel",
      "state": {
       "children": [
        "IPY_MODEL_cae93bc1906048b6bf82f9534d33fda9",
        "IPY_MODEL_6d08bed5689f419799bdbf58d1700be0"
       ],
       "layout": "IPY_MODEL_63dfdc94322f49788def807741ad4a40"
      }
     },
     "985e4205d0d9442e84bb488f5a6e297a": {
      "model_module": "@jupyter-widgets/base",
      "model_module_version": "1.2.0",
      "model_name": "LayoutModel",
      "state": {
       "height": "30%",
       "width": "75%"
      }
     },
     "99a8d8d74ffd4f639f47a0daf5da19fc": {
      "model_module": "@jupyter-widgets/controls",
      "model_module_version": "1.5.0",
      "model_name": "ButtonStyleModel",
      "state": {}
     },
     "99db36ef7ed34c59942b7f803bbc198b": {
      "model_module": "@jupyter-widgets/base",
      "model_module_version": "1.2.0",
      "model_name": "LayoutModel",
      "state": {
       "height": "30%",
       "width": "75%"
      }
     },
     "9a0c295de52e49b1ae6d6ecebb0bbfbf": {
      "model_module": "@jupyter-widgets/controls",
      "model_module_version": "1.5.0",
      "model_name": "VBoxModel",
      "state": {
       "children": [
        "IPY_MODEL_ff20fe4092ae4ee08ca566a295577c17",
        "IPY_MODEL_44756fb6a8d34fbfbd4f4208375600ac"
       ],
       "layout": "IPY_MODEL_b45be17ea68c4901930eaaf6b2437130"
      }
     },
     "9a2328939d774b8484e1af48002a589e": {
      "model_module": "@jupyter-widgets/output",
      "model_module_version": "1.0.0",
      "model_name": "OutputModel",
      "state": {
       "layout": "IPY_MODEL_4a23c45e43ac4110ab08d6bb08ed1d58",
       "outputs": [
        {
         "data": {
          "text/plain": "'C:/PythonWorkspace/stylegan2-ada-pytorch-main/out/seed0929.png'"
         },
         "metadata": {},
         "output_type": "display_data"
        }
       ]
      }
     },
     "9a2acb35de2c42b1ac2554851093ae3c": {
      "model_module": "@jupyter-widgets/controls",
      "model_module_version": "1.5.0",
      "model_name": "FloatSliderModel",
      "state": {
       "layout": "IPY_MODEL_843027842feb4e08a2539ae00de8d55f",
       "max": 50,
       "min": -50,
       "step": 0.1,
       "style": "IPY_MODEL_6cf051843c5144a1bf46995e83fd6422"
      }
     },
     "9a318ad09dd645528957aa3b20488913": {
      "model_module": "@jupyter-widgets/base",
      "model_module_version": "1.2.0",
      "model_name": "LayoutModel",
      "state": {
       "height": "30%",
       "width": "75%"
      }
     },
     "9a50b817094b486ab9e581c96381862b": {
      "model_module": "@jupyter-widgets/controls",
      "model_module_version": "1.5.0",
      "model_name": "ButtonModel",
      "state": {
       "description": "Generate",
       "layout": "IPY_MODEL_64afd3c80a4548e496194a22fa2295e1",
       "style": "IPY_MODEL_88cd0911e0bf417b879c6b2f85477e65"
      }
     },
     "9a51b6a1b1aa49d3a007bda14f6ffd69": {
      "model_module": "@jupyter-widgets/base",
      "model_module_version": "1.2.0",
      "model_name": "LayoutModel",
      "state": {
       "height": "30%",
       "width": "75%"
      }
     },
     "9ac4cde4a8cb49eeba63fad03c25e4b7": {
      "model_module": "@jupyter-widgets/controls",
      "model_module_version": "1.5.0",
      "model_name": "SliderStyleModel",
      "state": {
       "description_width": ""
      }
     },
     "9b0b03b575744fa3b4033ff6859b6a80": {
      "model_module": "@jupyter-widgets/controls",
      "model_module_version": "1.5.0",
      "model_name": "ButtonModel",
      "state": {
       "description": "Reset Latent Controls",
       "layout": "IPY_MODEL_a6fd83e6ac484d00a9ecfbfd0c07db3d",
       "style": "IPY_MODEL_79caf400dcdf4f8599963611f22e3289"
      }
     },
     "9b1df142887e427686db9cfe1bf6cb3d": {
      "model_module": "@jupyter-widgets/base",
      "model_module_version": "1.2.0",
      "model_name": "LayoutModel",
      "state": {}
     },
     "9b3497922ddb43a58e597fef77ac31b1": {
      "model_module": "@jupyter-widgets/base",
      "model_module_version": "1.2.0",
      "model_name": "LayoutModel",
      "state": {}
     },
     "9b651fdb1f9548afb872f2155c9cae73": {
      "model_module": "@jupyter-widgets/controls",
      "model_module_version": "1.5.0",
      "model_name": "HBoxModel",
      "state": {
       "children": [
        "IPY_MODEL_9094aa204c0942abb6c4c58a8d2ecce7",
        "IPY_MODEL_f9a488d5088a46c0b6efae4317aee6f3"
       ],
       "layout": "IPY_MODEL_78ce50f9ec464e33ad90b69fe8fcb95c"
      }
     },
     "9b957007d8de4a3893682d047402bf5a": {
      "model_module": "@jupyter-widgets/base",
      "model_module_version": "1.2.0",
      "model_name": "LayoutModel",
      "state": {}
     },
     "9b9b52ad5cfd40e585b80e1c777b48ba": {
      "model_module": "@jupyter-widgets/controls",
      "model_module_version": "1.5.0",
      "model_name": "VBoxModel",
      "state": {
       "children": [
        "IPY_MODEL_0c66376219d14a98a5d906f8c926d027",
        "IPY_MODEL_070c9d6a9f9842d98b63bed1f3cef4c9"
       ],
       "layout": "IPY_MODEL_35689fe52c7345d28c07d2998e4da8f2"
      }
     },
     "9b9d441de2214638a3964303355ae296": {
      "model_module": "@jupyter-widgets/output",
      "model_module_version": "1.0.0",
      "model_name": "OutputModel",
      "state": {
       "layout": "IPY_MODEL_098414f2a7ed4bc9932831539ac1f20d",
       "outputs": [
        {
         "data": {
          "image/png": "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\n",
          "text/plain": "<PIL.Image.Image image mode=RGB size=64x64 at 0x16982B42470>"
         },
         "metadata": {},
         "output_type": "display_data"
        }
       ]
      }
     },
     "9c5ce7fc48e54796bfa5ccd837025b30": {
      "model_module": "@jupyter-widgets/controls",
      "model_module_version": "1.5.0",
      "model_name": "DescriptionStyleModel",
      "state": {
       "description_width": ""
      }
     },
     "9cd155510c734f6691de4601b78d2b35": {
      "model_module": "@jupyter-widgets/base",
      "model_module_version": "1.2.0",
      "model_name": "LayoutModel",
      "state": {}
     },
     "9d44269f79664413b3f922baebe52774": {
      "model_module": "@jupyter-widgets/base",
      "model_module_version": "1.2.0",
      "model_name": "LayoutModel",
      "state": {}
     },
     "9d728e2b6cbc4ffebb97cd63c08b2451": {
      "model_module": "@jupyter-widgets/base",
      "model_module_version": "1.2.0",
      "model_name": "LayoutModel",
      "state": {}
     },
     "9d7a693040a944c3b4bfdbf508ea2bd5": {
      "model_module": "@jupyter-widgets/base",
      "model_module_version": "1.2.0",
      "model_name": "LayoutModel",
      "state": {}
     },
     "9d807305fa41438f8a18bd84032b3a55": {
      "model_module": "@jupyter-widgets/controls",
      "model_module_version": "1.5.0",
      "model_name": "ButtonModel",
      "state": {
       "description": "Reset Latent Controls",
       "layout": "IPY_MODEL_68003e57c52c4c5d88a41a86db684295",
       "style": "IPY_MODEL_8857aad153e548b39ef601b5540139d2"
      }
     },
     "9d9375fa5ab74068833b7ace51534648": {
      "model_module": "@jupyter-widgets/base",
      "model_module_version": "1.2.0",
      "model_name": "LayoutModel",
      "state": {}
     },
     "9da7b4c49d1642d18b36e5d5fb167b6d": {
      "model_module": "@jupyter-widgets/controls",
      "model_module_version": "1.5.0",
      "model_name": "VBoxModel",
      "state": {
       "children": [
        "IPY_MODEL_3b9b66f7aecf4cbeae249d5858090f6f",
        "IPY_MODEL_84bf81d83b0540f3acfb3529d10516eb"
       ],
       "layout": "IPY_MODEL_65e7242441d74f59865c51e858f02521"
      }
     },
     "9da9a5ea72b7441d95ffddb90c39d384": {
      "model_module": "@jupyter-widgets/controls",
      "model_module_version": "1.5.0",
      "model_name": "LabelModel",
      "state": {
       "layout": "IPY_MODEL_8d1f06b992604df49340cc4c11260ad7",
       "style": "IPY_MODEL_00fa2928ac124570aa44bb9ce764a139",
       "value": "C:\\PythonWorkspace\\stylegan2-ada-pytorch-main\\out\\modern_projected_w.npz"
      }
     },
     "9dd81a7ed75149d4a8b92ebaca7f0ce6": {
      "model_module": "@jupyter-widgets/base",
      "model_module_version": "1.2.0",
      "model_name": "LayoutModel",
      "state": {}
     },
     "9ddcd8f39c414107a8a7acebc84ebdc6": {
      "model_module": "@jupyter-widgets/base",
      "model_module_version": "1.2.0",
      "model_name": "LayoutModel",
      "state": {}
     },
     "9decb66b705c4a9282e095dd07a28a0c": {
      "model_module": "@jupyter-widgets/base",
      "model_module_version": "1.2.0",
      "model_name": "LayoutModel",
      "state": {}
     },
     "9df3040f13114a8b8170a60cb56ff586": {
      "model_module": "@jupyter-widgets/output",
      "model_module_version": "1.0.0",
      "model_name": "OutputModel",
      "state": {
       "layout": "IPY_MODEL_6ca85dcb4eee4a489364216a74d29519",
       "outputs": [
        {
         "data": {
          "text/plain": "'C:/PythonWorkspace/stylegan2-ada-pytorch-main/out/seed0929.png'"
         },
         "metadata": {},
         "output_type": "display_data"
        }
       ]
      }
     },
     "9e039745d3294483a161542307d61fe1": {
      "model_module": "@jupyter-widgets/base",
      "model_module_version": "1.2.0",
      "model_name": "LayoutModel",
      "state": {
       "height": "30%",
       "width": "75%"
      }
     },
     "9e1a8e3f439d496da9f7c5177a77567a": {
      "model_module": "@jupyter-widgets/base",
      "model_module_version": "1.2.0",
      "model_name": "LayoutModel",
      "state": {}
     },
     "9e39c889a5d344cebabc5dec6023e262": {
      "model_module": "@jupyter-widgets/controls",
      "model_module_version": "1.5.0",
      "model_name": "HBoxModel",
      "state": {
       "children": [
        "IPY_MODEL_9b9b52ad5cfd40e585b80e1c777b48ba",
        "IPY_MODEL_43d48eced26748a29f48965b599e0edc"
       ],
       "layout": "IPY_MODEL_bfcd2348ebb046d895341491fb1a19ec"
      }
     },
     "9e5b2b84eb7c45a6bb69edd64a8ef2c0": {
      "model_module": "@jupyter-widgets/controls",
      "model_module_version": "1.5.0",
      "model_name": "SliderStyleModel",
      "state": {
       "description_width": ""
      }
     },
     "9e6b9cd43a8248d4abe51a8c97a42c22": {
      "model_module": "@jupyter-widgets/controls",
      "model_module_version": "1.5.0",
      "model_name": "ButtonModel",
      "state": {
       "description": "Reset Latent Controls",
       "layout": "IPY_MODEL_a44b920d9b3d4dada7b70fe742ef6eae",
       "style": "IPY_MODEL_f96f27143e8f46089268e1cbc57e6465"
      }
     },
     "9edcbcf2f64b42dc89b92fbd235fb956": {
      "model_module": "@jupyter-widgets/base",
      "model_module_version": "1.2.0",
      "model_name": "LayoutModel",
      "state": {}
     },
     "9f23d6826c3d478d893fbc08399d7bc1": {
      "model_module": "@jupyter-widgets/controls",
      "model_module_version": "1.5.0",
      "model_name": "SliderStyleModel",
      "state": {
       "description_width": ""
      }
     },
     "9f51c2b4e48e411190432d7519444451": {
      "model_module": "@jupyter-widgets/controls",
      "model_module_version": "1.5.0",
      "model_name": "VBoxModel",
      "state": {
       "children": [
        "IPY_MODEL_e8f0196e36304a25b8012cbdfb5b43e0",
        "IPY_MODEL_265afe9d9aa24e479de9a7b8e0ed3c04"
       ],
       "layout": "IPY_MODEL_89610161883f47d99790930845c89d50"
      }
     },
     "9f66629f6d664e5b9266512f5bc76166": {
      "model_module": "@jupyter-widgets/controls",
      "model_module_version": "1.5.0",
      "model_name": "DescriptionStyleModel",
      "state": {
       "description_width": ""
      }
     },
     "9f78ae1647e449bf82bd4ccd07124781": {
      "model_module": "@jupyter-widgets/controls",
      "model_module_version": "1.5.0",
      "model_name": "VBoxModel",
      "state": {
       "children": [
        "IPY_MODEL_819e4f13fcad4e1b9294180a533da8bd",
        "IPY_MODEL_c2d9014249994349ae25ef798761355f"
       ],
       "layout": "IPY_MODEL_88b0b5030b554c308648a08bc86c233c"
      }
     },
     "9f953fe74997438581f4535f0b97c65b": {
      "model_module": "@jupyter-widgets/controls",
      "model_module_version": "1.5.0",
      "model_name": "HBoxModel",
      "state": {
       "children": [
        "IPY_MODEL_548c4ab5b12f40109c88c5b07831018c",
        "IPY_MODEL_7974c119e2df4764b29b30fca9a0b2a6"
       ],
       "layout": "IPY_MODEL_937029c0971f439c9586665b42613cdc"
      }
     },
     "9fbeee6b469f45bd9a175c0923e32141": {
      "model_module": "@jupyter-widgets/base",
      "model_module_version": "1.2.0",
      "model_name": "LayoutModel",
      "state": {
       "height": "30%",
       "width": "75%"
      }
     },
     "a02a619abf714bcb8b79c2b25539534d": {
      "model_module": "@jupyter-widgets/output",
      "model_module_version": "1.0.0",
      "model_name": "OutputModel",
      "state": {
       "layout": "IPY_MODEL_c230b0afb5964df4be5f3d2e859245ad",
       "outputs": [
        {
         "data": {
          "text/plain": "'C:/PythonWorkspace/stylegan2-ada-pytorch-main/out/seed0929.png'"
         },
         "metadata": {},
         "output_type": "display_data"
        }
       ]
      }
     },
     "a0337e9761514043bbdf6e09df363663": {
      "model_module": "@jupyter-widgets/base",
      "model_module_version": "1.2.0",
      "model_name": "LayoutModel",
      "state": {}
     },
     "a04f2923564842d3a4429ea6df27bf97": {
      "model_module": "@jupyter-widgets/controls",
      "model_module_version": "1.5.0",
      "model_name": "HBoxModel",
      "state": {
       "children": [
        "IPY_MODEL_a2c90ff1c0ab470799a87784fbe48dcf",
        "IPY_MODEL_3bb67482add34d5a9898e23293c28057"
       ],
       "layout": "IPY_MODEL_28b072a57cac4d7c9199aa0ebbe75e26"
      }
     },
     "a0c86a1ec8b74a40a7e4242df2ff923a": {
      "model_module": "@jupyter-widgets/base",
      "model_module_version": "1.2.0",
      "model_name": "LayoutModel",
      "state": {}
     },
     "a0e8b05561b140c2bfd355dd24080e33": {
      "model_module": "@jupyter-widgets/controls",
      "model_module_version": "1.5.0",
      "model_name": "LabelModel",
      "state": {
       "layout": "IPY_MODEL_6a9f1cf9dbb54e64bb6bd55fb906739b",
       "style": "IPY_MODEL_cb5f6e4e6d1a43f38f478be66b9396e2",
       "value": "modern_projected_w"
      }
     },
     "a0fc12a4478744a3afc07e62f1441f9d": {
      "model_module": "@jupyter-widgets/base",
      "model_module_version": "1.2.0",
      "model_name": "LayoutModel",
      "state": {}
     },
     "a1200e8df0b94372a3c418be8701da87": {
      "model_module": "@jupyter-widgets/controls",
      "model_module_version": "1.5.0",
      "model_name": "LabelModel",
      "state": {
       "layout": "IPY_MODEL_6426e28c896844a9abb797104f172e72",
       "style": "IPY_MODEL_e8cb4e956ce1465da85e3f7525355cb6",
       "value": "C:/PythonWorkspace/stylegan2-ada-pytorch-main/"
      }
     },
     "a17c063c9e38427589e2d66a056cfbaa": {
      "model_module": "@jupyter-widgets/base",
      "model_module_version": "1.2.0",
      "model_name": "LayoutModel",
      "state": {}
     },
     "a1aa9e38a00744dd9055427a63742c77": {
      "model_module": "@jupyter-widgets/base",
      "model_module_version": "1.2.0",
      "model_name": "LayoutModel",
      "state": {}
     },
     "a1ad4b26cd5a4ef09b77f86dc3a7efee": {
      "model_module": "@jupyter-widgets/output",
      "model_module_version": "1.0.0",
      "model_name": "OutputModel",
      "state": {
       "layout": "IPY_MODEL_7b1b22b299e74e8ca016dfa52a657e38",
       "outputs": [
        {
         "data": {
          "text/plain": "'C:/PythonWorkspace/stylegan2-ada-pytorch-main/out/seed0929.png'"
         },
         "metadata": {},
         "output_type": "display_data"
        }
       ]
      }
     },
     "a20ab59e8e714e77840efba4e5b66435": {
      "model_module": "@jupyter-widgets/controls",
      "model_module_version": "1.5.0",
      "model_name": "ButtonStyleModel",
      "state": {}
     },
     "a2c90ff1c0ab470799a87784fbe48dcf": {
      "model_module": "@jupyter-widgets/controls",
      "model_module_version": "1.5.0",
      "model_name": "FloatSliderModel",
      "state": {
       "layout": "IPY_MODEL_f4b50c13e8724e429c9e92e06b617b65",
       "max": 50,
       "min": -50,
       "step": 0.1,
       "style": "IPY_MODEL_cbacbd8587ef40beb7121c8535c332ad"
      }
     },
     "a2dfc70b7e5942b391d20ed7903c09cb": {
      "model_module": "@jupyter-widgets/output",
      "model_module_version": "1.0.0",
      "model_name": "OutputModel",
      "state": {
       "layout": "IPY_MODEL_3b3953de3ea546a0b5b5d532491799f7",
       "outputs": [
        {
         "data": {
          "text/plain": "'C:/PythonWorkspace/stylegan2-ada-pytorch-main/out/seed0929.png'"
         },
         "metadata": {},
         "output_type": "display_data"
        }
       ]
      }
     },
     "a307cb270e8241828b03a188f1f567de": {
      "model_module": "@jupyter-widgets/controls",
      "model_module_version": "1.5.0",
      "model_name": "ButtonModel",
      "state": {
       "description": "Generate",
       "layout": "IPY_MODEL_8a777b23bbe34a22ad05b00d77c24bb9",
       "style": "IPY_MODEL_afb59060be094ad98c76747d7cd9d8ae"
      }
     },
     "a311a95e27774cf28d5c4e422d7e29cf": {
      "model_module": "@jupyter-widgets/base",
      "model_module_version": "1.2.0",
      "model_name": "LayoutModel",
      "state": {}
     },
     "a350015e1638497aae17824d198c42ad": {
      "model_module": "@jupyter-widgets/output",
      "model_module_version": "1.0.0",
      "model_name": "OutputModel",
      "state": {
       "layout": "IPY_MODEL_7f44933328ed4a6e8d32414a3d98de9d",
       "outputs": [
        {
         "data": {
          "text/plain": "'C:/PythonWorkspace/stylegan2-ada-pytorch-main/out/seed0929.png'"
         },
         "metadata": {},
         "output_type": "display_data"
        }
       ]
      }
     },
     "a378a8554ffa489f84613db591f2911d": {
      "model_module": "@jupyter-widgets/controls",
      "model_module_version": "1.5.0",
      "model_name": "VBoxModel",
      "state": {
       "children": [
        "IPY_MODEL_6d9fe37ee05b494d9d8c594e47e1c66f",
        "IPY_MODEL_af4c6d7abf0b4c9b98bbb3fa054dab6a"
       ],
       "layout": "IPY_MODEL_dcfb8c349d4e4d0d8ad32a92de7b1fa0"
      }
     },
     "a382ec78398e401f9ecf72dbcb3bbd72": {
      "model_module": "@jupyter-widgets/base",
      "model_module_version": "1.2.0",
      "model_name": "LayoutModel",
      "state": {}
     },
     "a3c5072f8dd745c8b6dce2c2bd5c9270": {
      "model_module": "@jupyter-widgets/controls",
      "model_module_version": "1.5.0",
      "model_name": "SliderStyleModel",
      "state": {
       "description_width": ""
      }
     },
     "a3c825859fbe4836b681366ea7fff457": {
      "model_module": "@jupyter-widgets/controls",
      "model_module_version": "1.5.0",
      "model_name": "ButtonModel",
      "state": {
       "description": "Generate",
       "layout": "IPY_MODEL_d8ce920ea3134564be971088934519c2",
       "style": "IPY_MODEL_168c2c0b3b2946d6a78da1e08ffa705f"
      }
     },
     "a3e10e27f32749ce92fd58827b21d2f3": {
      "model_module": "@jupyter-widgets/base",
      "model_module_version": "1.2.0",
      "model_name": "LayoutModel",
      "state": {}
     },
     "a405ce0b1b7f421986fdb5f88a7e64e7": {
      "model_module": "@jupyter-widgets/base",
      "model_module_version": "1.2.0",
      "model_name": "LayoutModel",
      "state": {}
     },
     "a44a843ae34c400ca862078dc13642d7": {
      "model_module": "@jupyter-widgets/base",
      "model_module_version": "1.2.0",
      "model_name": "LayoutModel",
      "state": {
       "height": "10%",
       "width": "75%"
      }
     },
     "a44b920d9b3d4dada7b70fe742ef6eae": {
      "model_module": "@jupyter-widgets/base",
      "model_module_version": "1.2.0",
      "model_name": "LayoutModel",
      "state": {
       "height": "30%",
       "width": "75%"
      }
     },
     "a468947ac2e2405ca70d5190f08d56f4": {
      "model_module": "@jupyter-widgets/controls",
      "model_module_version": "1.5.0",
      "model_name": "HBoxModel",
      "state": {
       "children": [
        "IPY_MODEL_03401a149ad2459b95c7af51453f376f",
        "IPY_MODEL_4600db9d8abf4b70905d516b30bb5f59"
       ],
       "layout": "IPY_MODEL_75e70e209edd4339a80f51e0f518bec1"
      }
     },
     "a470c357ca184ee49191bba52511e1d5": {
      "model_module": "@jupyter-widgets/controls",
      "model_module_version": "1.5.0",
      "model_name": "LabelModel",
      "state": {
       "layout": "IPY_MODEL_899abc9f5a0743d2899f84ca4990f64b",
       "style": "IPY_MODEL_1b11837bd0e14f76bfa05190c87cec4c",
       "value": "antique_projected"
      }
     },
     "a49d22a5519841f2b3199d740dc6ae6e": {
      "model_module": "@jupyter-widgets/base",
      "model_module_version": "1.2.0",
      "model_name": "LayoutModel",
      "state": {}
     },
     "a4a11d6bccc640ae8a6d1681c2218276": {
      "model_module": "@jupyter-widgets/base",
      "model_module_version": "1.2.0",
      "model_name": "LayoutModel",
      "state": {}
     },
     "a4d34b65bcad4e81b0fe19adb6a833b8": {
      "model_module": "@jupyter-widgets/output",
      "model_module_version": "1.0.0",
      "model_name": "OutputModel",
      "state": {
       "layout": "IPY_MODEL_8ce64e3318094e2d971e7f1f2b3bc670",
       "outputs": [
        {
         "data": {
          "text/plain": "'C:/PythonWorkspace/stylegan2-ada-pytorch-main/out/seed0929.png'"
         },
         "metadata": {},
         "output_type": "display_data"
        }
       ]
      }
     },
     "a5063f51e5ca450f9396d70c9047fd4f": {
      "model_module": "@jupyter-widgets/base",
      "model_module_version": "1.2.0",
      "model_name": "LayoutModel",
      "state": {}
     },
     "a508300f770c4580a5b4d070ecb0247e": {
      "model_module": "@jupyter-widgets/controls",
      "model_module_version": "1.5.0",
      "model_name": "LabelModel",
      "state": {
       "layout": "IPY_MODEL_517cbcc45fa64a9098f7ec9000065941",
       "style": "IPY_MODEL_8db315459be84e768c4c1e7d044b7a20"
      }
     },
     "a516a42a60454642a281ad4505fc6760": {
      "model_module": "@jupyter-widgets/controls",
      "model_module_version": "1.5.0",
      "model_name": "ButtonStyleModel",
      "state": {}
     },
     "a5250c65fca545c19750a54545a82e7a": {
      "model_module": "@jupyter-widgets/base",
      "model_module_version": "1.2.0",
      "model_name": "LayoutModel",
      "state": {}
     },
     "a58adc25c0084310ba49469bc929d000": {
      "model_module": "@jupyter-widgets/controls",
      "model_module_version": "1.5.0",
      "model_name": "DescriptionStyleModel",
      "state": {
       "description_width": ""
      }
     },
     "a5d9dffbd2bb419e9f66392c45156c51": {
      "model_module": "@jupyter-widgets/controls",
      "model_module_version": "1.5.0",
      "model_name": "FloatSliderModel",
      "state": {
       "layout": "IPY_MODEL_6cb29bd5e5d643378b9ab8486548bb0a",
       "max": 50,
       "min": -50,
       "step": 0.1,
       "style": "IPY_MODEL_9e5b2b84eb7c45a6bb69edd64a8ef2c0"
      }
     },
     "a6fd83e6ac484d00a9ecfbfd0c07db3d": {
      "model_module": "@jupyter-widgets/base",
      "model_module_version": "1.2.0",
      "model_name": "LayoutModel",
      "state": {
       "height": "30%",
       "width": "75%"
      }
     },
     "a7023b67ddc04771bc05f9d9024337ad": {
      "model_module": "@jupyter-widgets/controls",
      "model_module_version": "1.5.0",
      "model_name": "VBoxModel",
      "state": {
       "children": [
        "IPY_MODEL_01d426b8ea95424980b2e4f6b7421492",
        "IPY_MODEL_0c6a906285a942a9a189cab8f8bacd10"
       ],
       "layout": "IPY_MODEL_91577f7a10c74220a4524ccfead11759"
      }
     },
     "a7173a189beb4e948050a230a9380cae": {
      "model_module": "@jupyter-widgets/controls",
      "model_module_version": "1.5.0",
      "model_name": "FloatSliderModel",
      "state": {
       "layout": "IPY_MODEL_3e25ed3f937d4d4ba821fcba4ccbea6c",
       "max": 50,
       "min": -50,
       "step": 0.1,
       "style": "IPY_MODEL_f87df73f65fa417d8bca48e6a16fc3ce"
      }
     },
     "a7288b3b421e4a718b9cc821de4e7314": {
      "model_module": "@jupyter-widgets/controls",
      "model_module_version": "1.5.0",
      "model_name": "ButtonStyleModel",
      "state": {}
     },
     "a731120a69524da09d6f7bf7abf1a0f8": {
      "model_module": "@jupyter-widgets/controls",
      "model_module_version": "1.5.0",
      "model_name": "FloatSliderModel",
      "state": {
       "layout": "IPY_MODEL_7959acc41dee447481a5f543373bb9fe",
       "max": 50,
       "min": -50,
       "step": 0.1,
       "style": "IPY_MODEL_779d038b90fe4b6c925d7bb013660be8"
      }
     },
     "a73cb956da9a4910bab1d19edd0fec87": {
      "model_module": "@jupyter-widgets/controls",
      "model_module_version": "1.5.0",
      "model_name": "ButtonModel",
      "state": {
       "description": "Generate",
       "layout": "IPY_MODEL_bb129e58a0bb45f89681f4bd4d739bac",
       "style": "IPY_MODEL_1011224ccfd64825aeb062eba3ceefd7"
      }
     },
     "a7658a4d624f4aa4a0d5423f196e8359": {
      "model_module": "@jupyter-widgets/base",
      "model_module_version": "1.2.0",
      "model_name": "LayoutModel",
      "state": {}
     },
     "a7916778947042c591f7f783a8deb921": {
      "model_module": "@jupyter-widgets/output",
      "model_module_version": "1.0.0",
      "model_name": "OutputModel",
      "state": {
       "layout": "IPY_MODEL_b794192e82bc4a3b95ec4c829aa3a01a",
       "outputs": [
        {
         "data": {
          "text/plain": "'C:/PythonWorkspace/stylegan2-ada-pytorch-main/out/seed0929.png'"
         },
         "metadata": {},
         "output_type": "display_data"
        }
       ]
      }
     },
     "a7acda5ddc8d4d36a117c046beeb034a": {
      "model_module": "@jupyter-widgets/output",
      "model_module_version": "1.0.0",
      "model_name": "OutputModel",
      "state": {
       "layout": "IPY_MODEL_294fd8f43f704c16a1f6b15950837040",
       "outputs": [
        {
         "data": {
          "text/plain": "'C:/PythonWorkspace/stylegan2-ada-pytorch-main/out/seed0929.png'"
         },
         "metadata": {},
         "output_type": "display_data"
        }
       ]
      }
     },
     "a7d252382d684c46b742c4193c17b8e5": {
      "model_module": "@jupyter-widgets/base",
      "model_module_version": "1.2.0",
      "model_name": "LayoutModel",
      "state": {}
     },
     "a7ff5ca0f29a4598ba753fc10b2210f8": {
      "model_module": "@jupyter-widgets/base",
      "model_module_version": "1.2.0",
      "model_name": "LayoutModel",
      "state": {}
     },
     "a841bcbedad7430d8f525b06d3a59517": {
      "model_module": "@jupyter-widgets/controls",
      "model_module_version": "1.5.0",
      "model_name": "FloatSliderModel",
      "state": {
       "layout": "IPY_MODEL_2731b06d599f42f387f733f23c4a0395",
       "max": 50,
       "min": -50,
       "step": 0.1,
       "style": "IPY_MODEL_d2f5944bce054583a962aa8c261af4c7"
      }
     },
     "a8734529bd24491a98a6a22107f9e9a0": {
      "model_module": "@jupyter-widgets/base",
      "model_module_version": "1.2.0",
      "model_name": "LayoutModel",
      "state": {}
     },
     "a887198d4ba74e85a5d2c48b0c009da6": {
      "model_module": "@jupyter-widgets/base",
      "model_module_version": "1.2.0",
      "model_name": "LayoutModel",
      "state": {}
     },
     "a897feba9e86490ebfeb61536d2a8111": {
      "model_module": "@jupyter-widgets/controls",
      "model_module_version": "1.5.0",
      "model_name": "DescriptionStyleModel",
      "state": {
       "description_width": ""
      }
     },
     "a9032719a0e04bb097a28065d562c4d2": {
      "model_module": "@jupyter-widgets/controls",
      "model_module_version": "1.5.0",
      "model_name": "ButtonStyleModel",
      "state": {}
     },
     "a9262b8b8729472185faf17aa0f47472": {
      "model_module": "@jupyter-widgets/base",
      "model_module_version": "1.2.0",
      "model_name": "LayoutModel",
      "state": {}
     },
     "a93ddebd0f5c425ea4015e9a891b516d": {
      "model_module": "@jupyter-widgets/output",
      "model_module_version": "1.0.0",
      "model_name": "OutputModel",
      "state": {
       "layout": "IPY_MODEL_53530fa93689450c9c9349c0d64f5694",
       "outputs": [
        {
         "data": {
          "text/plain": "'C:/PythonWorkspace/stylegan2-ada-pytorch-main/out/seed0929.png'"
         },
         "metadata": {},
         "output_type": "display_data"
        }
       ]
      }
     },
     "a94b926266f243359c61033c5494800e": {
      "model_module": "@jupyter-widgets/base",
      "model_module_version": "1.2.0",
      "model_name": "LayoutModel",
      "state": {
       "height": "30%",
       "width": "75%"
      }
     },
     "a952ca2f48534a6aad756ad188e67c4f": {
      "model_module": "@jupyter-widgets/controls",
      "model_module_version": "1.5.0",
      "model_name": "HBoxModel",
      "state": {
       "children": [
        "IPY_MODEL_591e9c709b1c44b681e1738f44095d68",
        "IPY_MODEL_1530b1c1cccd4961800cf62ac34681f3"
       ],
       "layout": "IPY_MODEL_d670d42047a74ca7b0725a08dc7b6570"
      }
     },
     "a95fc7818cd046c7a4471630ddff7825": {
      "model_module": "@jupyter-widgets/controls",
      "model_module_version": "1.5.0",
      "model_name": "LabelModel",
      "state": {
       "layout": "IPY_MODEL_2154850433584bdc8967b475ac0d8d5d",
       "style": "IPY_MODEL_3592267921e04f6b882606df98dd1f98",
       "value": "C:\\PythonWorkspace\\stylegan2-ada-pytorch-main\\out\\antique_projected_w.npz"
      }
     },
     "a973add159b746fa9750aef573bd90c7": {
      "model_module": "@jupyter-widgets/controls",
      "model_module_version": "1.5.0",
      "model_name": "ButtonStyleModel",
      "state": {}
     },
     "a9cbc6ee9c134b27aaaf75158e74b418": {
      "model_module": "@jupyter-widgets/base",
      "model_module_version": "1.2.0",
      "model_name": "LayoutModel",
      "state": {}
     },
     "aa0bd78eb3aa4d0b82dd9e4ed85f91b4": {
      "model_module": "@jupyter-widgets/controls",
      "model_module_version": "1.5.0",
      "model_name": "HBoxModel",
      "state": {
       "children": [
        "IPY_MODEL_db976f5bc53247119ef0b17951797de9",
        "IPY_MODEL_49cf1b355de04237bb9ab89ac4cc8994"
       ],
       "layout": "IPY_MODEL_d9c0cd7f94c84cf28cefa74ee993a527"
      }
     },
     "aa33857ce8e24cab8f4608dfe7c1ee2f": {
      "model_module": "@jupyter-widgets/base",
      "model_module_version": "1.2.0",
      "model_name": "LayoutModel",
      "state": {}
     },
     "aa70b652057e4b699c6ffe339fd2eb1e": {
      "model_module": "@jupyter-widgets/output",
      "model_module_version": "1.0.0",
      "model_name": "OutputModel",
      "state": {
       "layout": "IPY_MODEL_b865bfd6f2154f6f81bd9deacfeac276",
       "outputs": [
        {
         "data": {
          "text/plain": "'C:/PythonWorkspace/stylegan2-ada-pytorch-main/out/seed0929.png'"
         },
         "metadata": {},
         "output_type": "display_data"
        }
       ]
      }
     },
     "aaaa8f5c1cbf43ada46b7334176a2a0f": {
      "model_module": "@jupyter-widgets/output",
      "model_module_version": "1.0.0",
      "model_name": "OutputModel",
      "state": {
       "layout": "IPY_MODEL_17a5cd096f774a8f962eaa6f61924c87",
       "outputs": [
        {
         "data": {
          "text/plain": "'C:/PythonWorkspace/stylegan2-ada-pytorch-main/out/seed0929.png'"
         },
         "metadata": {},
         "output_type": "display_data"
        }
       ]
      }
     },
     "aacddba69b0f4946b5d0f6c4621472ec": {
      "model_module": "@jupyter-widgets/output",
      "model_module_version": "1.0.0",
      "model_name": "OutputModel",
      "state": {
       "layout": "IPY_MODEL_f2f6186235d44b25859a4ac77c8eafc3",
       "outputs": [
        {
         "data": {
          "text/plain": "'C:/PythonWorkspace/stylegan2-ada-pytorch-main/out/seed0929.png'"
         },
         "metadata": {},
         "output_type": "display_data"
        }
       ]
      }
     },
     "aacf1c24d1af43baad300fb29282d305": {
      "model_module": "@jupyter-widgets/controls",
      "model_module_version": "1.5.0",
      "model_name": "ButtonModel",
      "state": {
       "description": "Generate",
       "layout": "IPY_MODEL_2b0ba40368f94f22af70fc1d02f79719",
       "style": "IPY_MODEL_738bdddda87c45fd8a28d5419ae473fb"
      }
     },
     "ab020bc932354d969607473cc27f087c": {
      "model_module": "@jupyter-widgets/controls",
      "model_module_version": "1.5.0",
      "model_name": "LabelModel",
      "state": {
       "layout": "IPY_MODEL_351591e51eeb4584b31193bb95f70dcb",
       "style": "IPY_MODEL_0f1c825ca21a45cf8f707cf04c61b52b",
       "value": "antique_projected_w"
      }
     },
     "ab663c28a8944a2dbb037ffd8cde7397": {
      "model_module": "@jupyter-widgets/output",
      "model_module_version": "1.0.0",
      "model_name": "OutputModel",
      "state": {
       "layout": "IPY_MODEL_1110d35cd8f84fc3baedc472eb8e3921",
       "outputs": [
        {
         "data": {
          "text/plain": "'C:/PythonWorkspace/stylegan2-ada-pytorch-main/out/seed0929.png'"
         },
         "metadata": {},
         "output_type": "display_data"
        }
       ]
      }
     },
     "ab9a31fb6b874a939b9a02131e02e15e": {
      "model_module": "@jupyter-widgets/base",
      "model_module_version": "1.2.0",
      "model_name": "LayoutModel",
      "state": {}
     },
     "ab9a6fdc70034207a4e854a1ee32e5bd": {
      "model_module": "@jupyter-widgets/base",
      "model_module_version": "1.2.0",
      "model_name": "LayoutModel",
      "state": {}
     },
     "abec5b86397f48cca792b1bc27514f31": {
      "model_module": "@jupyter-widgets/output",
      "model_module_version": "1.0.0",
      "model_name": "OutputModel",
      "state": {
       "layout": "IPY_MODEL_bee1737274024229917d757c54346af7",
       "outputs": [
        {
         "data": {
          "text/plain": "'C:/PythonWorkspace/stylegan2-ada-pytorch-main/out/seed0929.png'"
         },
         "metadata": {},
         "output_type": "display_data"
        }
       ]
      }
     },
     "acdf45864d394609b58a275fbbc3d39e": {
      "model_module": "@jupyter-widgets/controls",
      "model_module_version": "1.5.0",
      "model_name": "ButtonModel",
      "state": {
       "description": "Generate",
       "layout": "IPY_MODEL_b9558ef0e8be45bdbc1519c2db2eab6d",
       "style": "IPY_MODEL_1b4ea396249b4bd38939fe9846a1fdc4"
      }
     },
     "ad02b793f56d4612baa4248aa1b743f9": {
      "model_module": "@jupyter-widgets/base",
      "model_module_version": "1.2.0",
      "model_name": "LayoutModel",
      "state": {
       "height": "30%",
       "width": "75%"
      }
     },
     "ad29f2a8d9124eab993b3e7396d6065d": {
      "model_module": "@jupyter-widgets/controls",
      "model_module_version": "1.5.0",
      "model_name": "ButtonStyleModel",
      "state": {}
     },
     "ad3cbb6a2d33442ca7d3dbbf87056ec6": {
      "model_module": "@jupyter-widgets/controls",
      "model_module_version": "1.5.0",
      "model_name": "HBoxModel",
      "state": {
       "children": [
        "IPY_MODEL_0ed1c3a4ed3c45afae08daa538bb508f",
        "IPY_MODEL_9da9a5ea72b7441d95ffddb90c39d384"
       ],
       "layout": "IPY_MODEL_ab9a6fdc70034207a4e854a1ee32e5bd"
      }
     },
     "adeaab8c448545d1b83da1301e31ec21": {
      "model_module": "@jupyter-widgets/output",
      "model_module_version": "1.0.0",
      "model_name": "OutputModel",
      "state": {
       "layout": "IPY_MODEL_7511f6ed507844d7adc6fb8f77e93eb0",
       "outputs": [
        {
         "data": {
          "text/plain": "'C:/PythonWorkspace/stylegan2-ada-pytorch-main/out/seed0929.png'"
         },
         "metadata": {},
         "output_type": "display_data"
        }
       ]
      }
     },
     "adf6a85a6f334a26b93e7fdb2250bce9": {
      "model_module": "@jupyter-widgets/controls",
      "model_module_version": "1.5.0",
      "model_name": "ButtonStyleModel",
      "state": {}
     },
     "ae18ef227bd14c4a92a5ef249c3147b6": {
      "model_module": "@jupyter-widgets/controls",
      "model_module_version": "1.5.0",
      "model_name": "ButtonModel",
      "state": {
       "description": "Reset Latent Controls",
       "layout": "IPY_MODEL_d754125c90154bcc93c68f5a94470e2c",
       "style": "IPY_MODEL_3584a88b08484d049f47608f9e87a189"
      }
     },
     "ae1f8158087641f79d42d3725151dbdb": {
      "model_module": "@jupyter-widgets/base",
      "model_module_version": "1.2.0",
      "model_name": "LayoutModel",
      "state": {}
     },
     "ae26f31fc29043ca8575d740e8836b3c": {
      "model_module": "@jupyter-widgets/base",
      "model_module_version": "1.2.0",
      "model_name": "LayoutModel",
      "state": {}
     },
     "ae45c8152983437eb40df38db7e651f1": {
      "model_module": "@jupyter-widgets/base",
      "model_module_version": "1.2.0",
      "model_name": "LayoutModel",
      "state": {}
     },
     "ae7fc1877886407aaeed23bff3f02bf0": {
      "model_module": "@jupyter-widgets/controls",
      "model_module_version": "1.5.0",
      "model_name": "ButtonStyleModel",
      "state": {}
     },
     "aeaed5d192c049dc8d06e030f4f8a32e": {
      "model_module": "@jupyter-widgets/base",
      "model_module_version": "1.2.0",
      "model_name": "LayoutModel",
      "state": {}
     },
     "aeb3357f2f114c7a8a41d45579cfe8bd": {
      "model_module": "@jupyter-widgets/output",
      "model_module_version": "1.0.0",
      "model_name": "OutputModel",
      "state": {
       "layout": "IPY_MODEL_510dec08bc1d41eb82ea2210c6b3d131",
       "outputs": [
        {
         "data": {
          "text/plain": "'C:/PythonWorkspace/stylegan2-ada-pytorch-main/out/seed0929.png'"
         },
         "metadata": {},
         "output_type": "display_data"
        }
       ]
      }
     },
     "aee10ca5db234267891d7dbfff7b478a": {
      "model_module": "@jupyter-widgets/base",
      "model_module_version": "1.2.0",
      "model_name": "LayoutModel",
      "state": {}
     },
     "af4c6d7abf0b4c9b98bbb3fa054dab6a": {
      "model_module": "@jupyter-widgets/output",
      "model_module_version": "1.0.0",
      "model_name": "OutputModel",
      "state": {
       "layout": "IPY_MODEL_54a87f02c43d44b883eae083524d04c1",
       "outputs": [
        {
         "data": {
          "text/plain": "'C:/PythonWorkspace/stylegan2-ada-pytorch-main/out/seed0929.png'"
         },
         "metadata": {},
         "output_type": "display_data"
        }
       ]
      }
     },
     "af52f38a6a9347c4a4d20de6b5796fde": {
      "model_module": "@jupyter-widgets/controls",
      "model_module_version": "1.5.0",
      "model_name": "VBoxModel",
      "state": {
       "children": [
        "IPY_MODEL_30dae4cac8bd4eb69c8a4c18c7737704",
        "IPY_MODEL_062a25e71cd649ef84d5f9da1dd4d51b"
       ],
       "layout": "IPY_MODEL_a0337e9761514043bbdf6e09df363663"
      }
     },
     "af5e9e6258c84a15ae7e6e9f0ff6b0dd": {
      "model_module": "@jupyter-widgets/base",
      "model_module_version": "1.2.0",
      "model_name": "LayoutModel",
      "state": {}
     },
     "af94a7adf83a4dbeace73c8f72630642": {
      "model_module": "@jupyter-widgets/base",
      "model_module_version": "1.2.0",
      "model_name": "LayoutModel",
      "state": {}
     },
     "afb59060be094ad98c76747d7cd9d8ae": {
      "model_module": "@jupyter-widgets/controls",
      "model_module_version": "1.5.0",
      "model_name": "ButtonStyleModel",
      "state": {}
     },
     "afbf0f690c744b059448d944f3da82ae": {
      "model_module": "@jupyter-widgets/output",
      "model_module_version": "1.0.0",
      "model_name": "OutputModel",
      "state": {
       "layout": "IPY_MODEL_db2ed5676c61406b9cc701f94789e0c1",
       "outputs": [
        {
         "data": {
          "text/plain": "'C:/PythonWorkspace/stylegan2-ada-pytorch-main/out/seed0929.png'"
         },
         "metadata": {},
         "output_type": "display_data"
        }
       ]
      }
     },
     "afd0393a885d42a6a3d8e78d36418b84": {
      "model_module": "@jupyter-widgets/output",
      "model_module_version": "1.0.0",
      "model_name": "OutputModel",
      "state": {
       "layout": "IPY_MODEL_d9dd98c5d2ca4e1098eec66202bca0b5",
       "outputs": [
        {
         "data": {
          "text/plain": "'C:/PythonWorkspace/stylegan2-ada-pytorch-main/out/seed0929.png'"
         },
         "metadata": {},
         "output_type": "display_data"
        }
       ]
      }
     },
     "b004772dc13b4718822f19e843e52942": {
      "model_module": "@jupyter-widgets/controls",
      "model_module_version": "1.5.0",
      "model_name": "ButtonModel",
      "state": {
       "description": "Generate",
       "layout": "IPY_MODEL_d1f260e5e2f14e388d6958a6680a8ddd",
       "style": "IPY_MODEL_37ace6daede1479db5407eca002018bb"
      }
     },
     "b0290876a07844ca98042037969923b8": {
      "model_module": "@jupyter-widgets/base",
      "model_module_version": "1.2.0",
      "model_name": "LayoutModel",
      "state": {}
     },
     "b02f440c532b4f2c9cea94d69da5d7a8": {
      "model_module": "@jupyter-widgets/controls",
      "model_module_version": "1.5.0",
      "model_name": "VBoxModel",
      "state": {
       "children": [
        "IPY_MODEL_8d2bcaa740d64cb1b9589a79e96069ec",
        "IPY_MODEL_7db92fa56a184beea00e38df41cef27e",
        "IPY_MODEL_cd5987e4605547cea7ea84836ee507c1",
        "IPY_MODEL_84b5deb28fde4041b57dc5964e9698fc"
       ],
       "layout": "IPY_MODEL_561f6eac522d49c785f383205d279040"
      }
     },
     "b074444c1da3415aaa534f2a91a50475": {
      "model_module": "@jupyter-widgets/controls",
      "model_module_version": "1.5.0",
      "model_name": "ButtonModel",
      "state": {
       "description": "Generate",
       "layout": "IPY_MODEL_1a84f42468dd40418e35d632658ceff8",
       "style": "IPY_MODEL_d4e4b9d737764985973bcac8240441c8"
      }
     },
     "b0e94208175040ecb519a9a45f2762cb": {
      "model_module": "@jupyter-widgets/base",
      "model_module_version": "1.2.0",
      "model_name": "LayoutModel",
      "state": {}
     },
     "b0e9ea87fb43444d9ae2763ad7eb03f1": {
      "model_module": "@jupyter-widgets/output",
      "model_module_version": "1.0.0",
      "model_name": "OutputModel",
      "state": {
       "layout": "IPY_MODEL_b96d811d77634ff7af444bab2a4aa19c",
       "outputs": [
        {
         "data": {
          "text/plain": "'C:/PythonWorkspace/stylegan2-ada-pytorch-main/out/seed0929.png'"
         },
         "metadata": {},
         "output_type": "display_data"
        }
       ]
      }
     },
     "b0edaf8b53ff4af69001428c636c17c0": {
      "model_module": "@jupyter-widgets/base",
      "model_module_version": "1.2.0",
      "model_name": "LayoutModel",
      "state": {}
     },
     "b164a855dc45412f90f54e7290f552bf": {
      "model_module": "@jupyter-widgets/controls",
      "model_module_version": "1.5.0",
      "model_name": "ButtonStyleModel",
      "state": {}
     },
     "b19dbda2030e424db28633c6a114ab8f": {
      "model_module": "@jupyter-widgets/controls",
      "model_module_version": "1.5.0",
      "model_name": "HBoxModel",
      "state": {
       "children": [
        "IPY_MODEL_9f51c2b4e48e411190432d7519444451",
        "IPY_MODEL_0b15013e42ae42d78b0e0dda48605f4a"
       ],
       "layout": "IPY_MODEL_08bd5963a9bc4dd9ade813f5d686818c"
      }
     },
     "b1abda32246247768e930c423e2685c1": {
      "model_module": "@jupyter-widgets/base",
      "model_module_version": "1.2.0",
      "model_name": "LayoutModel",
      "state": {}
     },
     "b20795d9038b4118a5f3a1555df247a7": {
      "model_module": "@jupyter-widgets/base",
      "model_module_version": "1.2.0",
      "model_name": "LayoutModel",
      "state": {}
     },
     "b2152e45de364abf9d124dbc736f3ba9": {
      "model_module": "@jupyter-widgets/output",
      "model_module_version": "1.0.0",
      "model_name": "OutputModel",
      "state": {
       "layout": "IPY_MODEL_7034b90f500e4ff3892cdf84616849a8",
       "outputs": [
        {
         "data": {
          "text/plain": "'C:/PythonWorkspace/stylegan2-ada-pytorch-main/out/seed0929.png'"
         },
         "metadata": {},
         "output_type": "display_data"
        }
       ]
      }
     },
     "b273e834c6ca45808ad7f8c3fe855b58": {
      "model_module": "@jupyter-widgets/output",
      "model_module_version": "1.0.0",
      "model_name": "OutputModel",
      "state": {
       "layout": "IPY_MODEL_6a2f2366bb6d4278ac1e5a8a1cd4a303",
       "outputs": [
        {
         "data": {
          "text/plain": "'C:/PythonWorkspace/stylegan2-ada-pytorch-main/out/seed0929.png'"
         },
         "metadata": {},
         "output_type": "display_data"
        }
       ]
      }
     },
     "b29a9de3aa014f28b47d398215ec8024": {
      "model_module": "@jupyter-widgets/controls",
      "model_module_version": "1.5.0",
      "model_name": "VBoxModel",
      "state": {
       "children": [
        "IPY_MODEL_c1f7c38be3294cc587ca4211cf24a998",
        "IPY_MODEL_78e6841804c8481ba4a3e86fb8084221"
       ],
       "layout": "IPY_MODEL_b9e95f05389a457fbb4085a1c37e18b5"
      }
     },
     "b2ed361264a249079412c845be24e4d6": {
      "model_module": "@jupyter-widgets/base",
      "model_module_version": "1.2.0",
      "model_name": "LayoutModel",
      "state": {}
     },
     "b2f3407f79604b1cad233c26f6113510": {
      "model_module": "@jupyter-widgets/controls",
      "model_module_version": "1.5.0",
      "model_name": "ButtonStyleModel",
      "state": {}
     },
     "b3434c702f894a8f849a24d88b8ac39b": {
      "model_module": "@jupyter-widgets/output",
      "model_module_version": "1.0.0",
      "model_name": "OutputModel",
      "state": {
       "layout": "IPY_MODEL_fabb0344f61a4f97b67030557db2ee64",
       "outputs": [
        {
         "data": {
          "text/plain": "'C:/PythonWorkspace/stylegan2-ada-pytorch-main/out/seed0929.png'"
         },
         "metadata": {},
         "output_type": "display_data"
        }
       ]
      }
     },
     "b3661af1e07b4bd28eb66b020082aeac": {
      "model_module": "@jupyter-widgets/controls",
      "model_module_version": "1.5.0",
      "model_name": "ButtonStyleModel",
      "state": {}
     },
     "b3c9a78d4f1c40659f32a4227af050f4": {
      "model_module": "@jupyter-widgets/base",
      "model_module_version": "1.2.0",
      "model_name": "LayoutModel",
      "state": {
       "height": "10%",
       "width": "75%"
      }
     },
     "b3eaa7d0d36e41a69c1547c79af9e618": {
      "model_module": "@jupyter-widgets/controls",
      "model_module_version": "1.5.0",
      "model_name": "ButtonStyleModel",
      "state": {}
     },
     "b413b941f3254264854a22c216ca01b3": {
      "model_module": "@jupyter-widgets/controls",
      "model_module_version": "1.5.0",
      "model_name": "ButtonStyleModel",
      "state": {}
     },
     "b458e27bf19547dd81d2f38a977d01fc": {
      "model_module": "@jupyter-widgets/controls",
      "model_module_version": "1.5.0",
      "model_name": "ButtonStyleModel",
      "state": {}
     },
     "b45be17ea68c4901930eaaf6b2437130": {
      "model_module": "@jupyter-widgets/base",
      "model_module_version": "1.2.0",
      "model_name": "LayoutModel",
      "state": {}
     },
     "b4c6c9e1091147b897d318c32ee08f83": {
      "model_module": "@jupyter-widgets/base",
      "model_module_version": "1.2.0",
      "model_name": "LayoutModel",
      "state": {}
     },
     "b4d842fdb0e7484db4ac521d7cf97a09": {
      "model_module": "@jupyter-widgets/base",
      "model_module_version": "1.2.0",
      "model_name": "LayoutModel",
      "state": {}
     },
     "b4fa5ffb09c246e4ae96d355e27251af": {
      "model_module": "@jupyter-widgets/controls",
      "model_module_version": "1.5.0",
      "model_name": "VBoxModel",
      "state": {
       "children": [
        "IPY_MODEL_4783f2449288462bba2ff681a0e7be91",
        "IPY_MODEL_26edb8e8269b4ac380a55a5305ccb7f9",
        "IPY_MODEL_8fa585292d974c05804e8233bd2d4544",
        "IPY_MODEL_157b444ae6db40a6ac8e5db0547cf72c"
       ],
       "layout": "IPY_MODEL_536331b5900d45259c597867c709ba11"
      }
     },
     "b5542c7d01234ce9af2495cccaae8c7f": {
      "model_module": "@jupyter-widgets/base",
      "model_module_version": "1.2.0",
      "model_name": "LayoutModel",
      "state": {}
     },
     "b5b5396131c54cf1b6b68f015eba7e93": {
      "model_module": "@jupyter-widgets/controls",
      "model_module_version": "1.5.0",
      "model_name": "SliderStyleModel",
      "state": {
       "description_width": ""
      }
     },
     "b5cd12960228438582dfb0d6d11c4915": {
      "model_module": "@jupyter-widgets/controls",
      "model_module_version": "1.5.0",
      "model_name": "SliderStyleModel",
      "state": {
       "description_width": ""
      }
     },
     "b5dfe0bc304d445aa0e9aa366af9d34d": {
      "model_module": "@jupyter-widgets/output",
      "model_module_version": "1.0.0",
      "model_name": "OutputModel",
      "state": {
       "layout": "IPY_MODEL_bd27ff0d18a446ca951ca69370a55373",
       "outputs": [
        {
         "data": {
          "text/plain": "'C:/PythonWorkspace/stylegan2-ada-pytorch-main/out/seed0929.png'"
         },
         "metadata": {},
         "output_type": "display_data"
        }
       ]
      }
     },
     "b63728ba171a4f758d24c9320b5f41bd": {
      "model_module": "@jupyter-widgets/base",
      "model_module_version": "1.2.0",
      "model_name": "LayoutModel",
      "state": {}
     },
     "b64a6bbc5faa4e23bcfa99da1cf6d427": {
      "model_module": "@jupyter-widgets/controls",
      "model_module_version": "1.5.0",
      "model_name": "ButtonStyleModel",
      "state": {}
     },
     "b654f662cf1741ce8b995318968502ec": {
      "model_module": "@jupyter-widgets/controls",
      "model_module_version": "1.5.0",
      "model_name": "HBoxModel",
      "state": {
       "children": [
        "IPY_MODEL_497945aef6fc422b85011ff5425173c6",
        "IPY_MODEL_a1200e8df0b94372a3c418be8701da87"
       ],
       "layout": "IPY_MODEL_835f5805b6634e4fb1ac9215fe9b3bd9"
      }
     },
     "b724727d196848208f57a01ca622b34f": {
      "model_module": "@jupyter-widgets/base",
      "model_module_version": "1.2.0",
      "model_name": "LayoutModel",
      "state": {
       "height": "10%",
       "width": "75%"
      }
     },
     "b767799922d74fabb604fc0d05e7293f": {
      "model_module": "@jupyter-widgets/controls",
      "model_module_version": "1.5.0",
      "model_name": "ButtonStyleModel",
      "state": {}
     },
     "b76ee59c518640158b0b2ffae6a55188": {
      "model_module": "@jupyter-widgets/controls",
      "model_module_version": "1.5.0",
      "model_name": "DescriptionStyleModel",
      "state": {
       "description_width": ""
      }
     },
     "b794192e82bc4a3b95ec4c829aa3a01a": {
      "model_module": "@jupyter-widgets/base",
      "model_module_version": "1.2.0",
      "model_name": "LayoutModel",
      "state": {}
     },
     "b7a739b7277d48ae8bdef12c6d61f545": {
      "model_module": "@jupyter-widgets/controls",
      "model_module_version": "1.5.0",
      "model_name": "ButtonModel",
      "state": {
       "description": "Generate",
       "layout": "IPY_MODEL_545a123690ab48558fd9b17c09af054f",
       "style": "IPY_MODEL_48ee0e9e945c4d79ac737bdd6ecf55b9"
      }
     },
     "b7b5af2f20dc433b945d613348483fd6": {
      "model_module": "@jupyter-widgets/base",
      "model_module_version": "1.2.0",
      "model_name": "LayoutModel",
      "state": {}
     },
     "b7bd33c0664d4e08a62998d7d64bd96c": {
      "model_module": "@jupyter-widgets/controls",
      "model_module_version": "1.5.0",
      "model_name": "VBoxModel",
      "state": {
       "children": [
        "IPY_MODEL_e028b2b8d2ed4e75a3690d92b8bb6340",
        "IPY_MODEL_2c5f115e5b9e4de6864f69d02c1ffa1b"
       ],
       "layout": "IPY_MODEL_fd82eacf45e341d492475cbbd98b31ee"
      }
     },
     "b8468ecb4a724154b2ae3355e3de00cc": {
      "model_module": "@jupyter-widgets/controls",
      "model_module_version": "1.5.0",
      "model_name": "ButtonModel",
      "state": {
       "description": "Generate",
       "layout": "IPY_MODEL_e88e726f0e04443d9b67d7cd8360ddc3",
       "style": "IPY_MODEL_5b8fc468519442499631130a55a1d400"
      }
     },
     "b865bfd6f2154f6f81bd9deacfeac276": {
      "model_module": "@jupyter-widgets/base",
      "model_module_version": "1.2.0",
      "model_name": "LayoutModel",
      "state": {}
     },
     "b872cb083dca46ecbe53a7484f1c282d": {
      "model_module": "@jupyter-widgets/controls",
      "model_module_version": "1.5.0",
      "model_name": "SliderStyleModel",
      "state": {
       "description_width": ""
      }
     },
     "b87bfb4c925045e5a6f5f1a8b7807421": {
      "model_module": "@jupyter-widgets/output",
      "model_module_version": "1.0.0",
      "model_name": "OutputModel",
      "state": {
       "layout": "IPY_MODEL_6db7d5407b0f4f3a8e6a3c867e5e5357",
       "outputs": [
        {
         "data": {
          "text/plain": "'C:/PythonWorkspace/stylegan2-ada-pytorch-main/out/seed0929.png'"
         },
         "metadata": {},
         "output_type": "display_data"
        }
       ]
      }
     },
     "b8c674770f024340843f756abd8fdca6": {
      "model_module": "@jupyter-widgets/base",
      "model_module_version": "1.2.0",
      "model_name": "LayoutModel",
      "state": {}
     },
     "b9169e6ff2084bec961c5dbeaaef4e21": {
      "model_module": "@jupyter-widgets/output",
      "model_module_version": "1.0.0",
      "model_name": "OutputModel",
      "state": {
       "layout": "IPY_MODEL_6ac2e8856b3449d181cdf139ab9f64cb",
       "outputs": [
        {
         "data": {
          "text/plain": "'C:/PythonWorkspace/stylegan2-ada-pytorch-main/out/seed0929.png'"
         },
         "metadata": {},
         "output_type": "display_data"
        }
       ]
      }
     },
     "b9237cc512c947cd98dcd17b9f2bb7dc": {
      "model_module": "@jupyter-widgets/controls",
      "model_module_version": "1.5.0",
      "model_name": "DescriptionStyleModel",
      "state": {
       "description_width": ""
      }
     },
     "b928506ca4b944bea526cba41150d692": {
      "model_module": "@jupyter-widgets/controls",
      "model_module_version": "1.5.0",
      "model_name": "ButtonModel",
      "state": {
       "description": "Generate",
       "layout": "IPY_MODEL_63f851f15b9d441ea03d9e818e7981e7",
       "style": "IPY_MODEL_96f1b38077dd42d2a01a25aab7ef6a89"
      }
     },
     "b92aa4cad5bd419c83a74cb0987ab7a4": {
      "model_module": "@jupyter-widgets/base",
      "model_module_version": "1.2.0",
      "model_name": "LayoutModel",
      "state": {}
     },
     "b94eedf4334c4d1b946bb4ea9e6bf580": {
      "model_module": "@jupyter-widgets/controls",
      "model_module_version": "1.5.0",
      "model_name": "ButtonStyleModel",
      "state": {}
     },
     "b9558ef0e8be45bdbc1519c2db2eab6d": {
      "model_module": "@jupyter-widgets/base",
      "model_module_version": "1.2.0",
      "model_name": "LayoutModel",
      "state": {
       "height": "10%",
       "width": "75%"
      }
     },
     "b96d811d77634ff7af444bab2a4aa19c": {
      "model_module": "@jupyter-widgets/base",
      "model_module_version": "1.2.0",
      "model_name": "LayoutModel",
      "state": {}
     },
     "b99a61e9602042a487ca4e82f0574adc": {
      "model_module": "@jupyter-widgets/controls",
      "model_module_version": "1.5.0",
      "model_name": "ButtonModel",
      "state": {
       "description": "Generate",
       "layout": "IPY_MODEL_50231352eccd438db459b0eebef1e14b",
       "style": "IPY_MODEL_61d274c88b954fadbcaf9d8b914c279c"
      }
     },
     "b9c5d7a38bdc4d07933f3b867452c7c6": {
      "model_module": "@jupyter-widgets/base",
      "model_module_version": "1.2.0",
      "model_name": "LayoutModel",
      "state": {}
     },
     "b9c8a7a6afe2472a80cdac9825f0b253": {
      "model_module": "@jupyter-widgets/base",
      "model_module_version": "1.2.0",
      "model_name": "LayoutModel",
      "state": {}
     },
     "b9df392e247d4e68890c767ebf88639c": {
      "model_module": "@jupyter-widgets/base",
      "model_module_version": "1.2.0",
      "model_name": "LayoutModel",
      "state": {}
     },
     "b9e95f05389a457fbb4085a1c37e18b5": {
      "model_module": "@jupyter-widgets/base",
      "model_module_version": "1.2.0",
      "model_name": "LayoutModel",
      "state": {}
     },
     "ba364ca75271439fbfdb130f84be00d9": {
      "model_module": "@jupyter-widgets/base",
      "model_module_version": "1.2.0",
      "model_name": "LayoutModel",
      "state": {}
     },
     "bac1467a51a44b36972301615264a652": {
      "model_module": "@jupyter-widgets/output",
      "model_module_version": "1.0.0",
      "model_name": "OutputModel",
      "state": {
       "layout": "IPY_MODEL_19a439f42a0f47f3a1c7cc5ef2a54bf4",
       "outputs": [
        {
         "data": {
          "text/plain": "'C:/PythonWorkspace/stylegan2-ada-pytorch-main/out/seed0929.png'"
         },
         "metadata": {},
         "output_type": "display_data"
        }
       ]
      }
     },
     "baf11903c96c46ad948c8d5f1b163942": {
      "model_module": "@jupyter-widgets/controls",
      "model_module_version": "1.5.0",
      "model_name": "VBoxModel",
      "state": {
       "children": [
        "IPY_MODEL_5c25981ab94146a19d06a900cd2d4b77",
        "IPY_MODEL_5bf1d78457e347bbb6becf8accd65eb0"
       ],
       "layout": "IPY_MODEL_7f31d23d04144b48a1d3afc8d08709c5"
      }
     },
     "bb129e58a0bb45f89681f4bd4d739bac": {
      "model_module": "@jupyter-widgets/base",
      "model_module_version": "1.2.0",
      "model_name": "LayoutModel",
      "state": {
       "height": "30%",
       "width": "75%"
      }
     },
     "bb7065d0cb33469589a507431772f94c": {
      "model_module": "@jupyter-widgets/base",
      "model_module_version": "1.2.0",
      "model_name": "LayoutModel",
      "state": {}
     },
     "bb8f38c64030477d93cd943a2260cde1": {
      "model_module": "@jupyter-widgets/base",
      "model_module_version": "1.2.0",
      "model_name": "LayoutModel",
      "state": {}
     },
     "bbb97917c67a4a6cb0807789c35995ad": {
      "model_module": "@jupyter-widgets/controls",
      "model_module_version": "1.5.0",
      "model_name": "HBoxModel",
      "state": {
       "children": [
        "IPY_MODEL_baf11903c96c46ad948c8d5f1b163942",
        "IPY_MODEL_49d5de63e4bb4f10858586eeebc5969b"
       ],
       "layout": "IPY_MODEL_918c4bb8260f462c9ce51ed5668f95c9"
      }
     },
     "bbbb0df85c33471ca1b95b65b9745ac8": {
      "model_module": "@jupyter-widgets/controls",
      "model_module_version": "1.5.0",
      "model_name": "ButtonStyleModel",
      "state": {}
     },
     "bbd984195d024cc1bba8e9bceaf14746": {
      "model_module": "@jupyter-widgets/controls",
      "model_module_version": "1.5.0",
      "model_name": "ButtonStyleModel",
      "state": {}
     },
     "bc0a1197c9b74529902635ce9e9e7ec6": {
      "model_module": "@jupyter-widgets/base",
      "model_module_version": "1.2.0",
      "model_name": "LayoutModel",
      "state": {}
     },
     "bc16fa549f764737bfddcbf3cd87595e": {
      "model_module": "@jupyter-widgets/controls",
      "model_module_version": "1.5.0",
      "model_name": "ButtonModel",
      "state": {
       "description": "Reset Latent Controls",
       "layout": "IPY_MODEL_e8041d57a8204bcfb378c40c4f2e6a79",
       "style": "IPY_MODEL_b3eaa7d0d36e41a69c1547c79af9e618"
      }
     },
     "bc34e40814f149a5aa1275ccd55c98eb": {
      "model_module": "@jupyter-widgets/controls",
      "model_module_version": "1.5.0",
      "model_name": "LabelModel",
      "state": {
       "layout": "IPY_MODEL_66abaa23e94d44cc8f579e6dd429ad98",
       "style": "IPY_MODEL_7a11ba7ece254c0ea978e39f14f4192f"
      }
     },
     "bc5753c93b4c41b2807f065eec654fbf": {
      "model_module": "@jupyter-widgets/base",
      "model_module_version": "1.2.0",
      "model_name": "LayoutModel",
      "state": {}
     },
     "bc70705ad908464bbc5ec7b8354f4a0d": {
      "model_module": "@jupyter-widgets/base",
      "model_module_version": "1.2.0",
      "model_name": "LayoutModel",
      "state": {}
     },
     "bcb333e488d64a4fbd67c29e6b7ab331": {
      "model_module": "@jupyter-widgets/base",
      "model_module_version": "1.2.0",
      "model_name": "LayoutModel",
      "state": {
       "height": "10%",
       "width": "75%"
      }
     },
     "bce660a8b8364d348ca77a1c71adafd8": {
      "model_module": "@jupyter-widgets/base",
      "model_module_version": "1.2.0",
      "model_name": "LayoutModel",
      "state": {
       "height": "10%",
       "width": "75%"
      }
     },
     "bd27ff0d18a446ca951ca69370a55373": {
      "model_module": "@jupyter-widgets/base",
      "model_module_version": "1.2.0",
      "model_name": "LayoutModel",
      "state": {}
     },
     "bd34c3faaffb42e59758cc242e2cea08": {
      "model_module": "@jupyter-widgets/controls",
      "model_module_version": "1.5.0",
      "model_name": "ButtonModel",
      "state": {
       "description": "Generate",
       "layout": "IPY_MODEL_bcb333e488d64a4fbd67c29e6b7ab331",
       "style": "IPY_MODEL_6d0b11d8dd884f7c9c3a410a3416cf63"
      }
     },
     "bd59cd367fd8433b8dfe242abf1f3847": {
      "model_module": "@jupyter-widgets/base",
      "model_module_version": "1.2.0",
      "model_name": "LayoutModel",
      "state": {}
     },
     "bd63c276d39144be9bba4267ba2598a4": {
      "model_module": "@jupyter-widgets/controls",
      "model_module_version": "1.5.0",
      "model_name": "VBoxModel",
      "state": {
       "children": [
        "IPY_MODEL_126facd1adb54a9fa1cc3cc65c5af07c",
        "IPY_MODEL_a468947ac2e2405ca70d5190f08d56f4",
        "IPY_MODEL_70c851fda90e4244857ee35a5962f52d",
        "IPY_MODEL_bc16fa549f764737bfddcbf3cd87595e"
       ],
       "layout": "IPY_MODEL_d683a783504a4478aaf26da15a043b4a"
      }
     },
     "bd7a3cb0ef764a52bcbb12cc2e5041b0": {
      "model_module": "@jupyter-widgets/base",
      "model_module_version": "1.2.0",
      "model_name": "LayoutModel",
      "state": {}
     },
     "bdc46c1a942b44e08270ae4b221b0ce1": {
      "model_module": "@jupyter-widgets/controls",
      "model_module_version": "1.5.0",
      "model_name": "HBoxModel",
      "state": {
       "children": [
        "IPY_MODEL_bee9e5561c5944e3b659af48b28a7310",
        "IPY_MODEL_a470c357ca184ee49191bba52511e1d5"
       ],
       "layout": "IPY_MODEL_c3d4bd9c4efe47e1b1d36275958514ae"
      }
     },
     "bdd4c974211547bcb6de815a2ddaebde": {
      "model_module": "@jupyter-widgets/controls",
      "model_module_version": "1.5.0",
      "model_name": "SliderStyleModel",
      "state": {
       "description_width": ""
      }
     },
     "be1697c9174d43c3aab2f529614aba85": {
      "model_module": "@jupyter-widgets/controls",
      "model_module_version": "1.5.0",
      "model_name": "ButtonModel",
      "state": {
       "description": "Generate",
       "layout": "IPY_MODEL_452b73b030d347afbb862bfabf5d8f9c",
       "style": "IPY_MODEL_f7a222439d5a4748b1ecf32f8b13b785"
      }
     },
     "be42b41d2704429bb9009076026f0d64": {
      "model_module": "@jupyter-widgets/base",
      "model_module_version": "1.2.0",
      "model_name": "LayoutModel",
      "state": {}
     },
     "be57027829544b92aaa3fe425f18fde4": {
      "model_module": "@jupyter-widgets/base",
      "model_module_version": "1.2.0",
      "model_name": "LayoutModel",
      "state": {
       "height": "30%",
       "width": "75%"
      }
     },
     "bea5161c46e24b388ae5d9d2d5a229ad": {
      "model_module": "@jupyter-widgets/controls",
      "model_module_version": "1.5.0",
      "model_name": "VBoxModel",
      "state": {
       "children": [
        "IPY_MODEL_a7916778947042c591f7f783a8deb921",
        "IPY_MODEL_959efd5c42234768b053f1daac32e056"
       ],
       "layout": "IPY_MODEL_1c987b581c8a4430a07ec5390e2cdff7"
      }
     },
     "beb75066dac74323982c261be70e1749": {
      "model_module": "@jupyter-widgets/base",
      "model_module_version": "1.2.0",
      "model_name": "LayoutModel",
      "state": {}
     },
     "bec9b70ac4bc4585b5cc02fd807afdf8": {
      "model_module": "@jupyter-widgets/output",
      "model_module_version": "1.0.0",
      "model_name": "OutputModel",
      "state": {
       "layout": "IPY_MODEL_f1d1df9ff1b44a3b8709f7e40b258256",
       "outputs": [
        {
         "data": {
          "text/plain": "'C:/PythonWorkspace/stylegan2-ada-pytorch-main/out/seed0929.png'"
         },
         "metadata": {},
         "output_type": "display_data"
        }
       ]
      }
     },
     "bee1737274024229917d757c54346af7": {
      "model_module": "@jupyter-widgets/base",
      "model_module_version": "1.2.0",
      "model_name": "LayoutModel",
      "state": {}
     },
     "bee9e5561c5944e3b659af48b28a7310": {
      "model_module": "@jupyter-widgets/controls",
      "model_module_version": "1.5.0",
      "model_name": "FloatSliderModel",
      "state": {
       "layout": "IPY_MODEL_e87cd19ef6ad42dfaf6a9ee171009e05",
       "max": 50,
       "min": -50,
       "step": 0.1,
       "style": "IPY_MODEL_1b4cc288fbf1490386a858d53c307099"
      }
     },
     "bf0caf5226ad48c9a4044b9f9ba92b93": {
      "model_module": "@jupyter-widgets/base",
      "model_module_version": "1.2.0",
      "model_name": "LayoutModel",
      "state": {}
     },
     "bf393d7982554bbdac5d4b6d5da40771": {
      "model_module": "@jupyter-widgets/controls",
      "model_module_version": "1.5.0",
      "model_name": "FloatSliderModel",
      "state": {
       "layout": "IPY_MODEL_58c96d8a057046c58e75e903174e5734",
       "max": 50,
       "min": -50,
       "step": 0.1,
       "style": "IPY_MODEL_f62733b4a11744dbb9ffa9dd760a7de6"
      }
     },
     "bf610c1b1b084a2c8b1a092f2d3daca7": {
      "model_module": "@jupyter-widgets/base",
      "model_module_version": "1.2.0",
      "model_name": "LayoutModel",
      "state": {}
     },
     "bf6b937c8c0343eeb7b143c64510d68c": {
      "model_module": "@jupyter-widgets/controls",
      "model_module_version": "1.5.0",
      "model_name": "VBoxModel",
      "state": {
       "children": [
        "IPY_MODEL_854c22f1d0014c6d9873706126e53728",
        "IPY_MODEL_c765d9fd2c6941e89a9be549b9a1af15"
       ],
       "layout": "IPY_MODEL_43f0705169d54251b088c85ff412b4ba"
      }
     },
     "bfcd2348ebb046d895341491fb1a19ec": {
      "model_module": "@jupyter-widgets/base",
      "model_module_version": "1.2.0",
      "model_name": "LayoutModel",
      "state": {}
     },
     "bfe7536109b54f768180864ca173497f": {
      "model_module": "@jupyter-widgets/base",
      "model_module_version": "1.2.0",
      "model_name": "LayoutModel",
      "state": {
       "height": "30%",
       "width": "75%"
      }
     },
     "c029c4165521473e99338be6af3fc52a": {
      "model_module": "@jupyter-widgets/output",
      "model_module_version": "1.0.0",
      "model_name": "OutputModel",
      "state": {
       "layout": "IPY_MODEL_982dea64a01648679663a5aed80ecdbf",
       "outputs": [
        {
         "data": {
          "text/plain": "'C:/PythonWorkspace/stylegan2-ada-pytorch-main/out/seed0929.png'"
         },
         "metadata": {},
         "output_type": "display_data"
        }
       ]
      }
     },
     "c02b822479fb444dbabff982fa07bff4": {
      "model_module": "@jupyter-widgets/base",
      "model_module_version": "1.2.0",
      "model_name": "LayoutModel",
      "state": {
       "height": "10%",
       "width": "75%"
      }
     },
     "c033ecc125aa4306a975fc68a5f521d4": {
      "model_module": "@jupyter-widgets/base",
      "model_module_version": "1.2.0",
      "model_name": "LayoutModel",
      "state": {}
     },
     "c06b06eb11bb428f8c3edf16f36c6ea3": {
      "model_module": "@jupyter-widgets/controls",
      "model_module_version": "1.5.0",
      "model_name": "HBoxModel",
      "state": {
       "children": [
        "IPY_MODEL_18d13188ee3f41dd94443945dfc9249c",
        "IPY_MODEL_f6ee3cda326e476d811cb0b658d047f8"
       ],
       "layout": "IPY_MODEL_8502fa0fc68e4a799b688dd4ef8afbc0"
      }
     },
     "c071dde235c64ae7aa22bb5facfd0717": {
      "model_module": "@jupyter-widgets/controls",
      "model_module_version": "1.5.0",
      "model_name": "VBoxModel",
      "state": {
       "children": [
        "IPY_MODEL_c7a1224ec77d48eaaa8b2cc8cbf699db",
        "IPY_MODEL_afbf0f690c744b059448d944f3da82ae"
       ],
       "layout": "IPY_MODEL_f4b76308dc2b491eab44069d510bb0c8"
      }
     },
     "c080897003fe4cab86b4dc7d5ac0a0ff": {
      "model_module": "@jupyter-widgets/controls",
      "model_module_version": "1.5.0",
      "model_name": "SliderStyleModel",
      "state": {
       "description_width": ""
      }
     },
     "c0bbdb8ca4ba4392a21b09dd62f9a4e0": {
      "model_module": "@jupyter-widgets/base",
      "model_module_version": "1.2.0",
      "model_name": "LayoutModel",
      "state": {}
     },
     "c0bfc74e0ab4493eaf5d98d2a90b2831": {
      "model_module": "@jupyter-widgets/base",
      "model_module_version": "1.2.0",
      "model_name": "LayoutModel",
      "state": {}
     },
     "c0f707c55b2d45dd8b7dd5dd4ba75557": {
      "model_module": "@jupyter-widgets/base",
      "model_module_version": "1.2.0",
      "model_name": "LayoutModel",
      "state": {}
     },
     "c1f7c38be3294cc587ca4211cf24a998": {
      "model_module": "@jupyter-widgets/output",
      "model_module_version": "1.0.0",
      "model_name": "OutputModel",
      "state": {
       "layout": "IPY_MODEL_1b12ff03144f4058996d4decf4dda6fc",
       "outputs": [
        {
         "data": {
          "text/plain": "'C:/PythonWorkspace/stylegan2-ada-pytorch-main/out/seed0929.png'"
         },
         "metadata": {},
         "output_type": "display_data"
        }
       ]
      }
     },
     "c230b0afb5964df4be5f3d2e859245ad": {
      "model_module": "@jupyter-widgets/base",
      "model_module_version": "1.2.0",
      "model_name": "LayoutModel",
      "state": {}
     },
     "c2403b13800a47fe99db5f34c7760a45": {
      "model_module": "@jupyter-widgets/base",
      "model_module_version": "1.2.0",
      "model_name": "LayoutModel",
      "state": {}
     },
     "c283c93f237b443a8ad36ec6e7be7c18": {
      "model_module": "@jupyter-widgets/controls",
      "model_module_version": "1.5.0",
      "model_name": "VBoxModel",
      "state": {
       "children": [
        "IPY_MODEL_1870d7227428416e89ce33745623a885",
        "IPY_MODEL_f4ffee5617bc4666bc40b338d2d8ad15"
       ],
       "layout": "IPY_MODEL_3557ce7fe188446392cb68aed80833ce"
      }
     },
     "c2c538ef50e04c08abe4eab062b83c56": {
      "model_module": "@jupyter-widgets/controls",
      "model_module_version": "1.5.0",
      "model_name": "VBoxModel",
      "state": {
       "children": [
        "IPY_MODEL_de3e5a2b4cf647358cd864ee5a9b3fad",
        "IPY_MODEL_53a2af5145be4536b9edf8563847ec90",
        "IPY_MODEL_f1087bfc66c44305af04326791c22e49",
        "IPY_MODEL_3cb9ebd07e1747b285d7fd4b29e359b2"
       ],
       "layout": "IPY_MODEL_5acaea5accdc4bbd812578062afb12e6"
      }
     },
     "c2d9014249994349ae25ef798761355f": {
      "model_module": "@jupyter-widgets/output",
      "model_module_version": "1.0.0",
      "model_name": "OutputModel",
      "state": {
       "layout": "IPY_MODEL_692a5a2d98ff4371aba948aa348d8459",
       "outputs": [
        {
         "data": {
          "text/plain": "'C:/PythonWorkspace/stylegan2-ada-pytorch-main/out/seed0929.png'"
         },
         "metadata": {},
         "output_type": "display_data"
        }
       ]
      }
     },
     "c2e68a658294467cb672eef6ab81b16a": {
      "model_module": "@jupyter-widgets/output",
      "model_module_version": "1.0.0",
      "model_name": "OutputModel",
      "state": {
       "layout": "IPY_MODEL_4968cf9f3d5d4cfbbfff7f832c943ac1",
       "outputs": [
        {
         "data": {
          "text/plain": "'C:/PythonWorkspace/stylegan2-ada-pytorch-main/out/seed0929.png'"
         },
         "metadata": {},
         "output_type": "display_data"
        }
       ]
      }
     },
     "c30ff5cd17fd4e4fa3fa5394f489c39a": {
      "model_module": "@jupyter-widgets/controls",
      "model_module_version": "1.5.0",
      "model_name": "ButtonStyleModel",
      "state": {}
     },
     "c367275b22754e9784581054dd9f4baf": {
      "model_module": "@jupyter-widgets/base",
      "model_module_version": "1.2.0",
      "model_name": "LayoutModel",
      "state": {
       "height": "30%",
       "width": "75%"
      }
     },
     "c3801cf10c914873a5bcb2d502e8d613": {
      "model_module": "@jupyter-widgets/base",
      "model_module_version": "1.2.0",
      "model_name": "LayoutModel",
      "state": {}
     },
     "c3bc84fc58074f95a7f66573a3e4733f": {
      "model_module": "@jupyter-widgets/controls",
      "model_module_version": "1.5.0",
      "model_name": "ButtonStyleModel",
      "state": {}
     },
     "c3c971aa5c424a1b9b3d29942734996f": {
      "model_module": "@jupyter-widgets/output",
      "model_module_version": "1.0.0",
      "model_name": "OutputModel",
      "state": {
       "layout": "IPY_MODEL_e9fe265354e544d598e1f9168b2c0315",
       "outputs": [
        {
         "data": {
          "text/plain": "'C:/PythonWorkspace/stylegan2-ada-pytorch-main/out/seed0929.png'"
         },
         "metadata": {},
         "output_type": "display_data"
        }
       ]
      }
     },
     "c3d4bd9c4efe47e1b1d36275958514ae": {
      "model_module": "@jupyter-widgets/base",
      "model_module_version": "1.2.0",
      "model_name": "LayoutModel",
      "state": {}
     },
     "c3ebf24a205246acaca85df186504911": {
      "model_module": "@jupyter-widgets/base",
      "model_module_version": "1.2.0",
      "model_name": "LayoutModel",
      "state": {}
     },
     "c4938ece17a745a894f2e13016630985": {
      "model_module": "@jupyter-widgets/base",
      "model_module_version": "1.2.0",
      "model_name": "LayoutModel",
      "state": {}
     },
     "c4fea468457040ce93829c7fbf16f967": {
      "model_module": "@jupyter-widgets/base",
      "model_module_version": "1.2.0",
      "model_name": "LayoutModel",
      "state": {}
     },
     "c50d62467bcc455c908e9ae037d94838": {
      "model_module": "@jupyter-widgets/controls",
      "model_module_version": "1.5.0",
      "model_name": "FloatSliderModel",
      "state": {
       "layout": "IPY_MODEL_2daf88f919a24597a9e531b3d31f234c",
       "max": 50,
       "min": -50,
       "step": 0.1,
       "style": "IPY_MODEL_94a8ecddd19c4897b9b769a278886a6e"
      }
     },
     "c535770cedc645e79094af568d138858": {
      "model_module": "@jupyter-widgets/base",
      "model_module_version": "1.2.0",
      "model_name": "LayoutModel",
      "state": {
       "height": "30%",
       "width": "75%"
      }
     },
     "c54cbaf5bc6c40f0857d455380909a15": {
      "model_module": "@jupyter-widgets/base",
      "model_module_version": "1.2.0",
      "model_name": "LayoutModel",
      "state": {}
     },
     "c5aa4fdae4cf4861901126de7f6095c9": {
      "model_module": "@jupyter-widgets/base",
      "model_module_version": "1.2.0",
      "model_name": "LayoutModel",
      "state": {}
     },
     "c5b8f100fdf94069b00e4a854d977e85": {
      "model_module": "@jupyter-widgets/base",
      "model_module_version": "1.2.0",
      "model_name": "LayoutModel",
      "state": {}
     },
     "c5c3fdc2f7104c60bead79424706dc78": {
      "model_module": "@jupyter-widgets/output",
      "model_module_version": "1.0.0",
      "model_name": "OutputModel",
      "state": {
       "layout": "IPY_MODEL_6aee4b47adba44baaa25c9978679c92d",
       "outputs": [
        {
         "data": {
          "text/plain": "'C:/PythonWorkspace/stylegan2-ada-pytorch-main/out/seed0929.png'"
         },
         "metadata": {},
         "output_type": "display_data"
        }
       ]
      }
     },
     "c5cf6f50ee324756b63d5ee17a4f1a4b": {
      "model_module": "@jupyter-widgets/output",
      "model_module_version": "1.0.0",
      "model_name": "OutputModel",
      "state": {
       "layout": "IPY_MODEL_ab9a31fb6b874a939b9a02131e02e15e",
       "outputs": [
        {
         "data": {
          "text/plain": "'C:/PythonWorkspace/stylegan2-ada-pytorch-main/out/seed0929.png'"
         },
         "metadata": {},
         "output_type": "display_data"
        }
       ]
      }
     },
     "c5dbc933ee544a3fbffeb66986b637de": {
      "model_module": "@jupyter-widgets/controls",
      "model_module_version": "1.5.0",
      "model_name": "HBoxModel",
      "state": {
       "children": [
        "IPY_MODEL_4526094f83b049b1b449c0f15d058da4",
        "IPY_MODEL_d2bb8fb6f31d4937a0853262ad899273"
       ],
       "layout": "IPY_MODEL_0330813d0946419da93d0684b79b3948"
      }
     },
     "c6167f1b1fd7400aabc3a3c83a966632": {
      "model_module": "@jupyter-widgets/output",
      "model_module_version": "1.0.0",
      "model_name": "OutputModel",
      "state": {
       "layout": "IPY_MODEL_b0edaf8b53ff4af69001428c636c17c0",
       "outputs": [
        {
         "data": {
          "text/plain": "'C:/PythonWorkspace/stylegan2-ada-pytorch-main/out/seed0929.png'"
         },
         "metadata": {},
         "output_type": "display_data"
        }
       ]
      }
     },
     "c61e92d8654a4a30a47eeac73f8e71c2": {
      "model_module": "@jupyter-widgets/base",
      "model_module_version": "1.2.0",
      "model_name": "LayoutModel",
      "state": {}
     },
     "c679cb5ecbb848b5aa77f6ab6d275719": {
      "model_module": "@jupyter-widgets/output",
      "model_module_version": "1.0.0",
      "model_name": "OutputModel",
      "state": {
       "layout": "IPY_MODEL_9b957007d8de4a3893682d047402bf5a",
       "outputs": [
        {
         "data": {
          "text/plain": "'C:/PythonWorkspace/stylegan2-ada-pytorch-main/out/seed0929.png'"
         },
         "metadata": {},
         "output_type": "display_data"
        }
       ]
      }
     },
     "c6abeda573a148a78ee5fd68686be050": {
      "model_module": "@jupyter-widgets/base",
      "model_module_version": "1.2.0",
      "model_name": "LayoutModel",
      "state": {
       "height": "30%",
       "width": "75%"
      }
     },
     "c6c6786e01ff4a4493f2b3ac498fbeab": {
      "model_module": "@jupyter-widgets/base",
      "model_module_version": "1.2.0",
      "model_name": "LayoutModel",
      "state": {}
     },
     "c716ba40ecfa4f21a5b43c5118d38401": {
      "model_module": "@jupyter-widgets/controls",
      "model_module_version": "1.5.0",
      "model_name": "ButtonModel",
      "state": {
       "description": "Generate",
       "layout": "IPY_MODEL_698eee7acbcd44978cf23664b6547dc0",
       "style": "IPY_MODEL_72384dfffe3e451aa53e543740424ee3"
      }
     },
     "c720180abb1045a5a980a504295af299": {
      "model_module": "@jupyter-widgets/base",
      "model_module_version": "1.2.0",
      "model_name": "LayoutModel",
      "state": {}
     },
     "c765d9fd2c6941e89a9be549b9a1af15": {
      "model_module": "@jupyter-widgets/output",
      "model_module_version": "1.0.0",
      "model_name": "OutputModel",
      "state": {
       "layout": "IPY_MODEL_72cff6bd109f4b098f359e72b07880fe",
       "outputs": [
        {
         "data": {
          "text/plain": "'C:/PythonWorkspace/stylegan2-ada-pytorch-main/out/seed0929.png'"
         },
         "metadata": {},
         "output_type": "display_data"
        }
       ]
      }
     },
     "c798714bb322498db110caf157cb85a5": {
      "model_module": "@jupyter-widgets/controls",
      "model_module_version": "1.5.0",
      "model_name": "VBoxModel",
      "state": {
       "children": [
        "IPY_MODEL_adeaab8c448545d1b83da1301e31ec21",
        "IPY_MODEL_8a3d5caeff904c109976566f08fb4ecc"
       ],
       "layout": "IPY_MODEL_3d37d0da5d0b4f5baf4d9e4455d3ae2c"
      }
     },
     "c7a1224ec77d48eaaa8b2cc8cbf699db": {
      "model_module": "@jupyter-widgets/output",
      "model_module_version": "1.0.0",
      "model_name": "OutputModel",
      "state": {
       "layout": "IPY_MODEL_30adfc04bdff4137b16b2aa88135b45e",
       "outputs": [
        {
         "data": {
          "text/plain": "'C:/PythonWorkspace/stylegan2-ada-pytorch-main/out/seed0929.png'"
         },
         "metadata": {},
         "output_type": "display_data"
        }
       ]
      }
     },
     "c7c1147acca74377896b70dafabd9ef7": {
      "model_module": "@jupyter-widgets/controls",
      "model_module_version": "1.5.0",
      "model_name": "ButtonModel",
      "state": {
       "description": "Generate",
       "layout": "IPY_MODEL_627e03d0d0cd40a4bc1d453c2e8fa466",
       "style": "IPY_MODEL_a516a42a60454642a281ad4505fc6760"
      }
     },
     "c7cc73e55ec94205a6067d887f4a1305": {
      "model_module": "@jupyter-widgets/base",
      "model_module_version": "1.2.0",
      "model_name": "LayoutModel",
      "state": {}
     },
     "c81b030ac0114240959a4f69869adc47": {
      "model_module": "@jupyter-widgets/controls",
      "model_module_version": "1.5.0",
      "model_name": "ButtonStyleModel",
      "state": {}
     },
     "c864065f2c62418b8f9c107e4c8a0d36": {
      "model_module": "@jupyter-widgets/controls",
      "model_module_version": "1.5.0",
      "model_name": "HBoxModel",
      "state": {
       "children": [
        "IPY_MODEL_9a2acb35de2c42b1ac2554851093ae3c",
        "IPY_MODEL_f3f286b4bf3644619ac95e7e0871ec1a"
       ],
       "layout": "IPY_MODEL_9decb66b705c4a9282e095dd07a28a0c"
      }
     },
     "c86ef8e6bbf548108a378f2453ac00da": {
      "model_module": "@jupyter-widgets/base",
      "model_module_version": "1.2.0",
      "model_name": "LayoutModel",
      "state": {}
     },
     "c8718b757a97494d952edbe4efb1856d": {
      "model_module": "@jupyter-widgets/base",
      "model_module_version": "1.2.0",
      "model_name": "LayoutModel",
      "state": {
       "height": "10%",
       "width": "75%"
      }
     },
     "c87c8f9c395847d688a6582e091a5593": {
      "model_module": "@jupyter-widgets/base",
      "model_module_version": "1.2.0",
      "model_name": "LayoutModel",
      "state": {
       "height": "30%",
       "width": "75%"
      }
     },
     "c8965368202f44bea4fae397cd9faa48": {
      "model_module": "@jupyter-widgets/controls",
      "model_module_version": "1.5.0",
      "model_name": "VBoxModel",
      "state": {
       "children": [
        "IPY_MODEL_88c82ab8c76a439380d2909cf59c5856",
        "IPY_MODEL_3d8d55f990af4cc3b1a09d4c49418480"
       ],
       "layout": "IPY_MODEL_1fbc8dd5ded140ab92a37c2d70434852"
      }
     },
     "c92ea70d203d4c67b41720e5cd11d995": {
      "model_module": "@jupyter-widgets/controls",
      "model_module_version": "1.5.0",
      "model_name": "VBoxModel",
      "state": {
       "children": [
        "IPY_MODEL_442cc000ea294763a8aa92bcceeca5c0",
        "IPY_MODEL_980a2a6f65c6459b9cde49d1b65337b4"
       ],
       "layout": "IPY_MODEL_d68f2921440d49dbae3ff850ae407ab8"
      }
     },
     "ca1018ab8f33477d862786bc21ab01a0": {
      "model_module": "@jupyter-widgets/controls",
      "model_module_version": "1.5.0",
      "model_name": "ButtonStyleModel",
      "state": {}
     },
     "ca1aa96213bb45ba801ed0799717265e": {
      "model_module": "@jupyter-widgets/base",
      "model_module_version": "1.2.0",
      "model_name": "LayoutModel",
      "state": {}
     },
     "ca34256b785d48ee848fadc5b773c4a6": {
      "model_module": "@jupyter-widgets/base",
      "model_module_version": "1.2.0",
      "model_name": "LayoutModel",
      "state": {
       "height": "30%",
       "width": "75%"
      }
     },
     "caada2d92f4e42439dc6c90c3cb089ce": {
      "model_module": "@jupyter-widgets/controls",
      "model_module_version": "1.5.0",
      "model_name": "FloatSliderModel",
      "state": {
       "layout": "IPY_MODEL_eec3dfa8d440459fb83967830c164a29",
       "max": 50,
       "min": -50,
       "step": 0.1,
       "style": "IPY_MODEL_70d9cf274bdc4ddca490e26482d3e286",
       "value": 20.5
      }
     },
     "cae93bc1906048b6bf82f9534d33fda9": {
      "model_module": "@jupyter-widgets/output",
      "model_module_version": "1.0.0",
      "model_name": "OutputModel",
      "state": {
       "layout": "IPY_MODEL_926b9ad59fa943bbb701d76f62abba09",
       "outputs": [
        {
         "data": {
          "text/plain": "'C:/PythonWorkspace/stylegan2-ada-pytorch-main/out/seed0929.png'"
         },
         "metadata": {},
         "output_type": "display_data"
        }
       ]
      }
     },
     "caee5fa28080421a96f9f9b583959366": {
      "model_module": "@jupyter-widgets/controls",
      "model_module_version": "1.5.0",
      "model_name": "ButtonStyleModel",
      "state": {}
     },
     "cafcedf056c448ccb5638e1947e6646e": {
      "model_module": "@jupyter-widgets/base",
      "model_module_version": "1.2.0",
      "model_name": "LayoutModel",
      "state": {
       "height": "30%",
       "width": "75%"
      }
     },
     "cb0f76b0f31a424baee66201a0ac07c3": {
      "model_module": "@jupyter-widgets/controls",
      "model_module_version": "1.5.0",
      "model_name": "HBoxModel",
      "state": {
       "children": [
        "IPY_MODEL_1fde7f8bb7364229a3f77fa80efcf610",
        "IPY_MODEL_3ba00a1a8b944a6883857c43b49e1703"
       ],
       "layout": "IPY_MODEL_679df7283e2d4e44b065d65181749fe1"
      }
     },
     "cb2476c9141d46f2b858e6b457e1da85": {
      "model_module": "@jupyter-widgets/base",
      "model_module_version": "1.2.0",
      "model_name": "LayoutModel",
      "state": {}
     },
     "cb343bb040c44e15a509ac2672197cae": {
      "model_module": "@jupyter-widgets/base",
      "model_module_version": "1.2.0",
      "model_name": "LayoutModel",
      "state": {
       "height": "10%",
       "width": "75%"
      }
     },
     "cb5f6e4e6d1a43f38f478be66b9396e2": {
      "model_module": "@jupyter-widgets/controls",
      "model_module_version": "1.5.0",
      "model_name": "DescriptionStyleModel",
      "state": {
       "description_width": ""
      }
     },
     "cbacbd8587ef40beb7121c8535c332ad": {
      "model_module": "@jupyter-widgets/controls",
      "model_module_version": "1.5.0",
      "model_name": "SliderStyleModel",
      "state": {
       "description_width": ""
      }
     },
     "cbc358e7f391465eade353d81313d3e4": {
      "model_module": "@jupyter-widgets/output",
      "model_module_version": "1.0.0",
      "model_name": "OutputModel",
      "state": {
       "layout": "IPY_MODEL_5f92f3d65bfd4b259064ca3cf1f53b53",
       "outputs": [
        {
         "data": {
          "text/plain": "'C:/PythonWorkspace/stylegan2-ada-pytorch-main/out/seed0929.png'"
         },
         "metadata": {},
         "output_type": "display_data"
        }
       ]
      }
     },
     "cbe0b0da30e44324a739a722bbf00b5a": {
      "model_module": "@jupyter-widgets/base",
      "model_module_version": "1.2.0",
      "model_name": "LayoutModel",
      "state": {}
     },
     "cbe3a5978c23477ebf4a777194310c50": {
      "model_module": "@jupyter-widgets/base",
      "model_module_version": "1.2.0",
      "model_name": "LayoutModel",
      "state": {}
     },
     "cc02255ab6134183818bb46208167ce3": {
      "model_module": "@jupyter-widgets/base",
      "model_module_version": "1.2.0",
      "model_name": "LayoutModel",
      "state": {}
     },
     "cc5eb08aa69d41959aa58c445621756b": {
      "model_module": "@jupyter-widgets/base",
      "model_module_version": "1.2.0",
      "model_name": "LayoutModel",
      "state": {}
     },
     "cc8df9d6509341ecaf58385a0ec25b83": {
      "model_module": "@jupyter-widgets/controls",
      "model_module_version": "1.5.0",
      "model_name": "ButtonModel",
      "state": {
       "description": "Generate",
       "layout": "IPY_MODEL_7acf5de301d441409ffbe9e07c453796",
       "style": "IPY_MODEL_e5f4bb8f525f43e4919fc3032cab4dfd"
      }
     },
     "cc95c85ce4054c1aa245fbf47c5d2bc5": {
      "model_module": "@jupyter-widgets/controls",
      "model_module_version": "1.5.0",
      "model_name": "LabelModel",
      "state": {
       "layout": "IPY_MODEL_3fdb418678f64dee9dac018ad1b4cd8e",
       "style": "IPY_MODEL_edf3868fa914438390060769d2b16181",
       "value": "C:/PythonWorkspace/stylegan2-ada-pytorch-main/"
      }
     },
     "ccbfe3b059834e5f9e99f73dd3b01410": {
      "model_module": "@jupyter-widgets/base",
      "model_module_version": "1.2.0",
      "model_name": "LayoutModel",
      "state": {}
     },
     "ccc7cbd6e37c4a2c9fbd042e03a11db6": {
      "model_module": "@jupyter-widgets/base",
      "model_module_version": "1.2.0",
      "model_name": "LayoutModel",
      "state": {}
     },
     "cce9d7a3e2204f04892736bd07147365": {
      "model_module": "@jupyter-widgets/base",
      "model_module_version": "1.2.0",
      "model_name": "LayoutModel",
      "state": {}
     },
     "ccf74f3d4edd4b8486b96b747228f86d": {
      "model_module": "@jupyter-widgets/base",
      "model_module_version": "1.2.0",
      "model_name": "LayoutModel",
      "state": {}
     },
     "cd23d66f6bd14b7e8edd2de36bfc0888": {
      "model_module": "@jupyter-widgets/controls",
      "model_module_version": "1.5.0",
      "model_name": "DescriptionStyleModel",
      "state": {
       "description_width": ""
      }
     },
     "cd2e7ad9b29a4905be9531493c0122f9": {
      "model_module": "@jupyter-widgets/controls",
      "model_module_version": "1.5.0",
      "model_name": "HBoxModel",
      "state": {
       "children": [
        "IPY_MODEL_4ee13f0cb2304e23a4e7bb73e9ad5177",
        "IPY_MODEL_6f7b99e2226647049a9f6c3d9a007e97"
       ],
       "layout": "IPY_MODEL_ebdaa1c3626a4602a1cd4576362fd69d"
      }
     },
     "cd3e7c1533d24ad2bf894110212fe509": {
      "model_module": "@jupyter-widgets/controls",
      "model_module_version": "1.5.0",
      "model_name": "VBoxModel",
      "state": {
       "children": [
        "IPY_MODEL_0106055bf0404ce3855bd23a4f28cf91",
        "IPY_MODEL_81246cd457d346e58ba04431973f01ae"
       ],
       "layout": "IPY_MODEL_e1673ba8efcd4b278a877b2218d174af"
      }
     },
     "cd5987e4605547cea7ea84836ee507c1": {
      "model_module": "@jupyter-widgets/controls",
      "model_module_version": "1.5.0",
      "model_name": "ButtonModel",
      "state": {
       "description": "Generate",
       "layout": "IPY_MODEL_95cd0938a6614f2cbef6c468a11a1509",
       "style": "IPY_MODEL_ad29f2a8d9124eab993b3e7396d6065d"
      }
     },
     "cd602a7b7562486aa2147ca015dcc1c8": {
      "model_module": "@jupyter-widgets/base",
      "model_module_version": "1.2.0",
      "model_name": "LayoutModel",
      "state": {}
     },
     "cd7865aaaae24f4d8b4bb7eeac2aacde": {
      "model_module": "@jupyter-widgets/controls",
      "model_module_version": "1.5.0",
      "model_name": "ButtonStyleModel",
      "state": {}
     },
     "cdada4b220a945d082c96655b383700e": {
      "model_module": "@jupyter-widgets/base",
      "model_module_version": "1.2.0",
      "model_name": "LayoutModel",
      "state": {}
     },
     "cdb1005884d44d14ac783fe87dd2375b": {
      "model_module": "@jupyter-widgets/controls",
      "model_module_version": "1.5.0",
      "model_name": "ButtonModel",
      "state": {
       "description": "Generate",
       "layout": "IPY_MODEL_e0fc7005f66b43fd9557fd8b703962d4",
       "style": "IPY_MODEL_ca1018ab8f33477d862786bc21ab01a0"
      }
     },
     "cdc2e2118002421bbfc86711c23d07cb": {
      "model_module": "@jupyter-widgets/output",
      "model_module_version": "1.0.0",
      "model_name": "OutputModel",
      "state": {
       "layout": "IPY_MODEL_237664d1f6c54f9cbc800722d7077fe1",
       "outputs": [
        {
         "data": {
          "text/plain": "'C:/PythonWorkspace/stylegan2-ada-pytorch-main/out/seed0929.png'"
         },
         "metadata": {},
         "output_type": "display_data"
        }
       ]
      }
     },
     "cdd4b6534fff42a4a4cb53e390e46a2e": {
      "model_module": "@jupyter-widgets/base",
      "model_module_version": "1.2.0",
      "model_name": "LayoutModel",
      "state": {}
     },
     "ce149f57ef674ae6b5cbc13acc4e5195": {
      "model_module": "@jupyter-widgets/base",
      "model_module_version": "1.2.0",
      "model_name": "LayoutModel",
      "state": {}
     },
     "ce552fb5aa11486d85575a62bec98c3a": {
      "model_module": "@jupyter-widgets/controls",
      "model_module_version": "1.5.0",
      "model_name": "ButtonModel",
      "state": {
       "description": "Reset Latent Controls",
       "layout": "IPY_MODEL_e8264ac4813e4a1d937833aef3ad7ffe",
       "style": "IPY_MODEL_84ac868970a54c2fb6d836e708ac8255"
      }
     },
     "ce7a474fd5dd42929e8db3bbbed358b0": {
      "model_module": "@jupyter-widgets/controls",
      "model_module_version": "1.5.0",
      "model_name": "ButtonModel",
      "state": {
       "description": "Generate",
       "layout": "IPY_MODEL_49b9de148ca94cd38b872fc389f150d2",
       "style": "IPY_MODEL_53873462d9d44fd28d78c6bc0ca07c3a"
      }
     },
     "cea8dc5f85744c92b76201867107a8ee": {
      "model_module": "@jupyter-widgets/controls",
      "model_module_version": "1.5.0",
      "model_name": "DescriptionStyleModel",
      "state": {
       "description_width": ""
      }
     },
     "ced73aaed74d4bcd827bf69ed1b33880": {
      "model_module": "@jupyter-widgets/controls",
      "model_module_version": "1.5.0",
      "model_name": "ButtonStyleModel",
      "state": {}
     },
     "ceeaaf3016d445b1972d0da48505542c": {
      "model_module": "@jupyter-widgets/controls",
      "model_module_version": "1.5.0",
      "model_name": "ButtonStyleModel",
      "state": {}
     },
     "cef811ffbc854e04b2bc6decfafcf562": {
      "model_module": "@jupyter-widgets/base",
      "model_module_version": "1.2.0",
      "model_name": "LayoutModel",
      "state": {}
     },
     "cf7638de03e54f2aa8fe9d31f71a4c45": {
      "model_module": "@jupyter-widgets/base",
      "model_module_version": "1.2.0",
      "model_name": "LayoutModel",
      "state": {
       "height": "10%",
       "width": "75%"
      }
     },
     "cf9cbefb841b4ce4b40e58741e1ada98": {
      "model_module": "@jupyter-widgets/base",
      "model_module_version": "1.2.0",
      "model_name": "LayoutModel",
      "state": {}
     },
     "cfe1cf39aedc4a1f8c33207de0543f15": {
      "model_module": "@jupyter-widgets/controls",
      "model_module_version": "1.5.0",
      "model_name": "VBoxModel",
      "state": {
       "children": [
        "IPY_MODEL_a350015e1638497aae17824d198c42ad",
        "IPY_MODEL_658364f7205240fabbe470ab5e3b3ba4"
       ],
       "layout": "IPY_MODEL_5a37203330584020915f19a09b21fa5a"
      }
     },
     "d031f749b002484298d4dbc0ebee57d0": {
      "model_module": "@jupyter-widgets/base",
      "model_module_version": "1.2.0",
      "model_name": "LayoutModel",
      "state": {}
     },
     "d0d2b2a96aa9401eaaf2b7eab6b2a27d": {
      "model_module": "@jupyter-widgets/controls",
      "model_module_version": "1.5.0",
      "model_name": "HBoxModel",
      "state": {
       "children": [
        "IPY_MODEL_81b125698a014b13a8acc2b6c600b9ad",
        "IPY_MODEL_dc59331d9b6847a39eaa2edbbe99ca31"
       ],
       "layout": "IPY_MODEL_c033ecc125aa4306a975fc68a5f521d4"
      }
     },
     "d11d1b4813914e3d965eb9a88ab7d47c": {
      "model_module": "@jupyter-widgets/controls",
      "model_module_version": "1.5.0",
      "model_name": "SliderStyleModel",
      "state": {
       "description_width": ""
      }
     },
     "d1bc60bd945d47e8914f3043cf16bf2a": {
      "model_module": "@jupyter-widgets/controls",
      "model_module_version": "1.5.0",
      "model_name": "LabelModel",
      "state": {
       "layout": "IPY_MODEL_b1abda32246247768e930c423e2685c1",
       "style": "IPY_MODEL_b76ee59c518640158b0b2ffae6a55188"
      }
     },
     "d1c916ffd125479aaa5da8df9fbc64bb": {
      "model_module": "@jupyter-widgets/controls",
      "model_module_version": "1.5.0",
      "model_name": "LabelModel",
      "state": {
       "layout": "IPY_MODEL_2fe54eff03a640bd8ddf6f93a211a076",
       "style": "IPY_MODEL_08f02d39123f468890afb825f3b3d278",
       "value": "modern_projected"
      }
     },
     "d1f260e5e2f14e388d6958a6680a8ddd": {
      "model_module": "@jupyter-widgets/base",
      "model_module_version": "1.2.0",
      "model_name": "LayoutModel",
      "state": {
       "height": "30%",
       "width": "75%"
      }
     },
     "d1fd320ef9b5409e94bb11fa1afe73f9": {
      "model_module": "@jupyter-widgets/controls",
      "model_module_version": "1.5.0",
      "model_name": "ButtonModel",
      "state": {
       "description": "Generate",
       "layout": "IPY_MODEL_4b0a99000d53446490e769fc13e3f2b1",
       "style": "IPY_MODEL_e6461be8c23a4e0faf7e17563cc4156b"
      }
     },
     "d2068bb7a1cc4281af9aade8819fdbc0": {
      "model_module": "@jupyter-widgets/base",
      "model_module_version": "1.2.0",
      "model_name": "LayoutModel",
      "state": {}
     },
     "d22d74fc14af45a5b06c9f1e50814e6d": {
      "model_module": "@jupyter-widgets/controls",
      "model_module_version": "1.5.0",
      "model_name": "HBoxModel",
      "state": {
       "children": [
        "IPY_MODEL_265cd244264e48079d900b9f6f560075",
        "IPY_MODEL_ea44bfda4f3b460e9734d4f4a11e5f14"
       ],
       "layout": "IPY_MODEL_a8734529bd24491a98a6a22107f9e9a0"
      }
     },
     "d2368fedf5974d56b93042d058315aad": {
      "model_module": "@jupyter-widgets/base",
      "model_module_version": "1.2.0",
      "model_name": "LayoutModel",
      "state": {}
     },
     "d2595c0f36c342e0b920f018630ce25a": {
      "model_module": "@jupyter-widgets/output",
      "model_module_version": "1.0.0",
      "model_name": "OutputModel",
      "state": {
       "layout": "IPY_MODEL_0baa2c8f9ef34d26ba791bcfb7cf0bb3",
       "outputs": [
        {
         "data": {
          "text/plain": "'C:/PythonWorkspace/stylegan2-ada-pytorch-main/out/seed0929.png'"
         },
         "metadata": {},
         "output_type": "display_data"
        }
       ]
      }
     },
     "d25c60719b4a49a7a3304b9a8dfcdfd3": {
      "model_module": "@jupyter-widgets/output",
      "model_module_version": "1.0.0",
      "model_name": "OutputModel",
      "state": {
       "layout": "IPY_MODEL_52f964236dc64330a30182f8293d64ea",
       "outputs": [
        {
         "data": {
          "text/plain": "'C:/PythonWorkspace/stylegan2-ada-pytorch-main/out/seed0929.png'"
         },
         "metadata": {},
         "output_type": "display_data"
        }
       ]
      }
     },
     "d26549ab102847588269a703e1671cbc": {
      "model_module": "@jupyter-widgets/controls",
      "model_module_version": "1.5.0",
      "model_name": "DescriptionStyleModel",
      "state": {
       "description_width": ""
      }
     },
     "d2bb8fb6f31d4937a0853262ad899273": {
      "model_module": "@jupyter-widgets/controls",
      "model_module_version": "1.5.0",
      "model_name": "LabelModel",
      "state": {
       "layout": "IPY_MODEL_e2056987cc994208bf39f4247a2be7bf",
       "style": "IPY_MODEL_a58adc25c0084310ba49469bc929d000",
       "value": "C:\\PythonWorkspace\\stylegan2-ada-pytorch-main\\out\\modern_projected_w.npz"
      }
     },
     "d2f5944bce054583a962aa8c261af4c7": {
      "model_module": "@jupyter-widgets/controls",
      "model_module_version": "1.5.0",
      "model_name": "SliderStyleModel",
      "state": {
       "description_width": ""
      }
     },
     "d31f0744f9d74552a8d6dcf4514b9d8a": {
      "model_module": "@jupyter-widgets/controls",
      "model_module_version": "1.5.0",
      "model_name": "VBoxModel",
      "state": {
       "children": [
        "IPY_MODEL_1e805eaebc21400fb88a3905a274cae1",
        "IPY_MODEL_3733b7467b454a00a867237074cd50f4"
       ],
       "layout": "IPY_MODEL_4704eeb9b34d4b9c9fd2ba1951c7cd04"
      }
     },
     "d40d09976abf441785282f7dd749222b": {
      "model_module": "@jupyter-widgets/base",
      "model_module_version": "1.2.0",
      "model_name": "LayoutModel",
      "state": {}
     },
     "d46dd861eee84544958ebe6409d60b94": {
      "model_module": "@jupyter-widgets/base",
      "model_module_version": "1.2.0",
      "model_name": "LayoutModel",
      "state": {}
     },
     "d49822a1c42240d5965792ace514f4d5": {
      "model_module": "@jupyter-widgets/base",
      "model_module_version": "1.2.0",
      "model_name": "LayoutModel",
      "state": {
       "height": "30%",
       "width": "75%"
      }
     },
     "d4b2b77006c74df888f4f1ec8f5b3185": {
      "model_module": "@jupyter-widgets/base",
      "model_module_version": "1.2.0",
      "model_name": "LayoutModel",
      "state": {}
     },
     "d4e4b9d737764985973bcac8240441c8": {
      "model_module": "@jupyter-widgets/controls",
      "model_module_version": "1.5.0",
      "model_name": "ButtonStyleModel",
      "state": {}
     },
     "d4fab2077c614c3b93f0c07f2a82fe70": {
      "model_module": "@jupyter-widgets/output",
      "model_module_version": "1.0.0",
      "model_name": "OutputModel",
      "state": {
       "layout": "IPY_MODEL_cf9cbefb841b4ce4b40e58741e1ada98",
       "outputs": [
        {
         "data": {
          "image/png": "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\n",
          "text/plain": "<PIL.Image.Image image mode=RGB size=64x64 at 0x1698CC23A90>"
         },
         "metadata": {},
         "output_type": "display_data"
        }
       ]
      }
     },
     "d4fe34e5554d446da45e80483464f2fa": {
      "model_module": "@jupyter-widgets/base",
      "model_module_version": "1.2.0",
      "model_name": "LayoutModel",
      "state": {
       "height": "30%",
       "width": "75%"
      }
     },
     "d51e35b5867f4f1a9d69408e8689ce98": {
      "model_module": "@jupyter-widgets/base",
      "model_module_version": "1.2.0",
      "model_name": "LayoutModel",
      "state": {
       "height": "30%",
       "width": "75%"
      }
     },
     "d53d3a5a904d4e3992f31fc5da4796aa": {
      "model_module": "@jupyter-widgets/controls",
      "model_module_version": "1.5.0",
      "model_name": "VBoxModel",
      "state": {
       "children": [
        "IPY_MODEL_f3c53be508a94f8283fd574b5ed46e09",
        "IPY_MODEL_b87bfb4c925045e5a6f5f1a8b7807421"
       ],
       "layout": "IPY_MODEL_f2031bb04af94b788850f74bc25c67ab"
      }
     },
     "d53e780c114a403d8ce8d1551f7abe90": {
      "model_module": "@jupyter-widgets/controls",
      "model_module_version": "1.5.0",
      "model_name": "ButtonStyleModel",
      "state": {}
     },
     "d58c36beabe84d67afe7924a4f2b4933": {
      "model_module": "@jupyter-widgets/output",
      "model_module_version": "1.0.0",
      "model_name": "OutputModel",
      "state": {
       "layout": "IPY_MODEL_37d71261c2c1419d8d2e85a2d5cdb13a",
       "outputs": [
        {
         "data": {
          "text/plain": "'C:/PythonWorkspace/stylegan2-ada-pytorch-main/out/seed0929.png'"
         },
         "metadata": {},
         "output_type": "display_data"
        }
       ]
      }
     },
     "d6226579a2084ce68521fe9220aae546": {
      "model_module": "@jupyter-widgets/controls",
      "model_module_version": "1.5.0",
      "model_name": "ButtonModel",
      "state": {
       "description": "Generate",
       "layout": "IPY_MODEL_7eb9d27d37194c629e406e3a88a3af1a",
       "style": "IPY_MODEL_7b43c5a13fa24286b2cec07844a4e698"
      }
     },
     "d642ab0275d54f4391ee382ed8cafd5b": {
      "model_module": "@jupyter-widgets/controls",
      "model_module_version": "1.5.0",
      "model_name": "SliderStyleModel",
      "state": {
       "description_width": ""
      }
     },
     "d670d42047a74ca7b0725a08dc7b6570": {
      "model_module": "@jupyter-widgets/base",
      "model_module_version": "1.2.0",
      "model_name": "LayoutModel",
      "state": {}
     },
     "d683a783504a4478aaf26da15a043b4a": {
      "model_module": "@jupyter-widgets/base",
      "model_module_version": "1.2.0",
      "model_name": "LayoutModel",
      "state": {}
     },
     "d68f2921440d49dbae3ff850ae407ab8": {
      "model_module": "@jupyter-widgets/base",
      "model_module_version": "1.2.0",
      "model_name": "LayoutModel",
      "state": {}
     },
     "d6ec7e79daad4a5c97db016f2231b7e4": {
      "model_module": "@jupyter-widgets/output",
      "model_module_version": "1.0.0",
      "model_name": "OutputModel",
      "state": {
       "layout": "IPY_MODEL_410ddfeba67445d5936fa9f209936ca0",
       "outputs": [
        {
         "data": {
          "text/plain": "'C:/PythonWorkspace/stylegan2-ada-pytorch-main/out/seed0929.png'"
         },
         "metadata": {},
         "output_type": "display_data"
        }
       ]
      }
     },
     "d70c04fefac749fa947ca175aa534bd5": {
      "model_module": "@jupyter-widgets/controls",
      "model_module_version": "1.5.0",
      "model_name": "LabelModel",
      "state": {
       "layout": "IPY_MODEL_098c73e070cf4b48ad9c8e252867fcb9",
       "style": "IPY_MODEL_2f29409ff98e4f22a3557e95e5237214",
       "value": "modern_projected_w"
      }
     },
     "d754125c90154bcc93c68f5a94470e2c": {
      "model_module": "@jupyter-widgets/base",
      "model_module_version": "1.2.0",
      "model_name": "LayoutModel",
      "state": {
       "height": "30%",
       "width": "75%"
      }
     },
     "d7dd94d4d06441be98dfd8423f3c8d11": {
      "model_module": "@jupyter-widgets/base",
      "model_module_version": "1.2.0",
      "model_name": "LayoutModel",
      "state": {}
     },
     "d7f1bc8c748849299757f79bba6d057e": {
      "model_module": "@jupyter-widgets/controls",
      "model_module_version": "1.5.0",
      "model_name": "ButtonStyleModel",
      "state": {}
     },
     "d817e703d5cf4e43b29931530d73a6ac": {
      "model_module": "@jupyter-widgets/controls",
      "model_module_version": "1.5.0",
      "model_name": "FloatSliderModel",
      "state": {
       "layout": "IPY_MODEL_4fdfa70cc7644fa382394fe7c3e0d86a",
       "max": 50,
       "min": -50,
       "step": 0.1,
       "style": "IPY_MODEL_e527b16d593442f093e8a403ced695d9"
      }
     },
     "d85d1e8b2b2643f087cfbc08cc2589dc": {
      "model_module": "@jupyter-widgets/base",
      "model_module_version": "1.2.0",
      "model_name": "LayoutModel",
      "state": {}
     },
     "d86f834ee71d4e9595f896449dc8628b": {
      "model_module": "@jupyter-widgets/base",
      "model_module_version": "1.2.0",
      "model_name": "LayoutModel",
      "state": {}
     },
     "d8a635127987431f85db3a0e904bfff1": {
      "model_module": "@jupyter-widgets/base",
      "model_module_version": "1.2.0",
      "model_name": "LayoutModel",
      "state": {
       "height": "30%",
       "width": "75%"
      }
     },
     "d8b5aac60ca94f96b4a25386705627c0": {
      "model_module": "@jupyter-widgets/base",
      "model_module_version": "1.2.0",
      "model_name": "LayoutModel",
      "state": {
       "height": "30%",
       "width": "75%"
      }
     },
     "d8cc15db36c840fea81b67f1e97051dd": {
      "model_module": "@jupyter-widgets/base",
      "model_module_version": "1.2.0",
      "model_name": "LayoutModel",
      "state": {}
     },
     "d8ce920ea3134564be971088934519c2": {
      "model_module": "@jupyter-widgets/base",
      "model_module_version": "1.2.0",
      "model_name": "LayoutModel",
      "state": {
       "height": "30%",
       "width": "75%"
      }
     },
     "d8e34449fe8040b7a10a923bdfd8f9f3": {
      "model_module": "@jupyter-widgets/controls",
      "model_module_version": "1.5.0",
      "model_name": "VBoxModel",
      "state": {
       "children": [
        "IPY_MODEL_c2e68a658294467cb672eef6ab81b16a",
        "IPY_MODEL_ab663c28a8944a2dbb037ffd8cde7397"
       ],
       "layout": "IPY_MODEL_4b7fa97283c549588acd745782fb89b6"
      }
     },
     "d8e6f64812734925b7722f9f06231aeb": {
      "model_module": "@jupyter-widgets/base",
      "model_module_version": "1.2.0",
      "model_name": "LayoutModel",
      "state": {}
     },
     "d8f9f303dc624c0e87e8cdcd0797468a": {
      "model_module": "@jupyter-widgets/controls",
      "model_module_version": "1.5.0",
      "model_name": "ButtonModel",
      "state": {
       "description": "Generate",
       "layout": "IPY_MODEL_a94b926266f243359c61033c5494800e",
       "style": "IPY_MODEL_ced73aaed74d4bcd827bf69ed1b33880"
      }
     },
     "d91d9a51727241d9aad54da84be0f02c": {
      "model_module": "@jupyter-widgets/base",
      "model_module_version": "1.2.0",
      "model_name": "LayoutModel",
      "state": {}
     },
     "d930cc8144b441838df6fbaf3d71608e": {
      "model_module": "@jupyter-widgets/controls",
      "model_module_version": "1.5.0",
      "model_name": "FloatSliderModel",
      "state": {
       "layout": "IPY_MODEL_0439aadef2644454b9a9c955a04f3f3a",
       "max": 50,
       "min": -50,
       "step": 0.1,
       "style": "IPY_MODEL_9f23d6826c3d478d893fbc08399d7bc1",
       "value": -35.4
      }
     },
     "d936dfd9623143e88903eb0006b96a09": {
      "model_module": "@jupyter-widgets/base",
      "model_module_version": "1.2.0",
      "model_name": "LayoutModel",
      "state": {}
     },
     "d9850051ce4e419bb9566e66bede39b4": {
      "model_module": "@jupyter-widgets/base",
      "model_module_version": "1.2.0",
      "model_name": "LayoutModel",
      "state": {}
     },
     "d98b5b1636ef43e380909bce8234cdca": {
      "model_module": "@jupyter-widgets/base",
      "model_module_version": "1.2.0",
      "model_name": "LayoutModel",
      "state": {
       "height": "10%",
       "width": "75%"
      }
     },
     "d9c0cd7f94c84cf28cefa74ee993a527": {
      "model_module": "@jupyter-widgets/base",
      "model_module_version": "1.2.0",
      "model_name": "LayoutModel",
      "state": {}
     },
     "d9dd98c5d2ca4e1098eec66202bca0b5": {
      "model_module": "@jupyter-widgets/base",
      "model_module_version": "1.2.0",
      "model_name": "LayoutModel",
      "state": {}
     },
     "da0acd2a6ade41188e5df4d52c3fb1d8": {
      "model_module": "@jupyter-widgets/controls",
      "model_module_version": "1.5.0",
      "model_name": "DescriptionStyleModel",
      "state": {
       "description_width": ""
      }
     },
     "dac63a7f44704130a39548795a3da4f8": {
      "model_module": "@jupyter-widgets/controls",
      "model_module_version": "1.5.0",
      "model_name": "VBoxModel",
      "state": {
       "children": [
        "IPY_MODEL_320c4923cc154d8c8ec4700b257fddd4",
        "IPY_MODEL_3c7bdcd18526497daf886d96308e67f6",
        "IPY_MODEL_197f2181857a489c82f81f92087d7aff",
        "IPY_MODEL_646679b79e2c4a47b11dd9c80b5e785f"
       ],
       "layout": "IPY_MODEL_eef935da2bf64e3188e647dd0e176257"
      }
     },
     "dae07427643b4ef7b8c07470f2cd2c61": {
      "model_module": "@jupyter-widgets/controls",
      "model_module_version": "1.5.0",
      "model_name": "ButtonModel",
      "state": {
       "description": "Reset Latent Controls",
       "layout": "IPY_MODEL_38ff1224d0954eaba44bfc0f967c4672",
       "style": "IPY_MODEL_580cc0c088014f23b3055042014ca3de"
      }
     },
     "db0d8960f02a49009e4c25d197cc3793": {
      "model_module": "@jupyter-widgets/controls",
      "model_module_version": "1.5.0",
      "model_name": "HBoxModel",
      "state": {
       "children": [
        "IPY_MODEL_79b960dff73a43e8a9da509fe3aa3237",
        "IPY_MODEL_e606402d3110443aa64b2e11a60d1300"
       ],
       "layout": "IPY_MODEL_9b1df142887e427686db9cfe1bf6cb3d"
      }
     },
     "db2ed5676c61406b9cc701f94789e0c1": {
      "model_module": "@jupyter-widgets/base",
      "model_module_version": "1.2.0",
      "model_name": "LayoutModel",
      "state": {}
     },
     "db33894bb7ca4c53a18be6ffd228dfc2": {
      "model_module": "@jupyter-widgets/controls",
      "model_module_version": "1.5.0",
      "model_name": "HBoxModel",
      "state": {
       "children": [
        "IPY_MODEL_1ca573fc84814ca99c016bbde1c2a3e4",
        "IPY_MODEL_a95fc7818cd046c7a4471630ddff7825"
       ],
       "layout": "IPY_MODEL_e05ca5822110432da76265554931f2d4"
      }
     },
     "db7711653a0e41698406e8e0f1719a89": {
      "model_module": "@jupyter-widgets/base",
      "model_module_version": "1.2.0",
      "model_name": "LayoutModel",
      "state": {}
     },
     "db976f5bc53247119ef0b17951797de9": {
      "model_module": "@jupyter-widgets/controls",
      "model_module_version": "1.5.0",
      "model_name": "VBoxModel",
      "state": {
       "children": [
        "IPY_MODEL_91d780b769b245d8acc66b9416e1a844",
        "IPY_MODEL_f92eadb866d14d1cb1d88c553435a0ba"
       ],
       "layout": "IPY_MODEL_cdd4b6534fff42a4a4cb53e390e46a2e"
      }
     },
     "db9deef5fa914171ada0b27b7b70d130": {
      "model_module": "@jupyter-widgets/base",
      "model_module_version": "1.2.0",
      "model_name": "LayoutModel",
      "state": {}
     },
     "dbd19a3c3fd349898644d7f2fcf9969a": {
      "model_module": "@jupyter-widgets/controls",
      "model_module_version": "1.5.0",
      "model_name": "SliderStyleModel",
      "state": {
       "description_width": ""
      }
     },
     "dbe49a0a1f7d40aeb7e276cfa38525e3": {
      "model_module": "@jupyter-widgets/controls",
      "model_module_version": "1.5.0",
      "model_name": "LabelModel",
      "state": {
       "layout": "IPY_MODEL_a311a95e27774cf28d5c4e422d7e29cf",
       "style": "IPY_MODEL_9c5ce7fc48e54796bfa5ccd837025b30",
       "value": "C:\\PythonWorkspace\\stylegan2-ada-pytorch-main\\out\\antique_projected_w.npz"
      }
     },
     "dc1b8843778549cfa820837c6a089f29": {
      "model_module": "@jupyter-widgets/base",
      "model_module_version": "1.2.0",
      "model_name": "LayoutModel",
      "state": {
       "height": "30%",
       "width": "75%"
      }
     },
     "dc400169c4f547f1b318d2543e7f85a1": {
      "model_module": "@jupyter-widgets/base",
      "model_module_version": "1.2.0",
      "model_name": "LayoutModel",
      "state": {}
     },
     "dc59331d9b6847a39eaa2edbbe99ca31": {
      "model_module": "@jupyter-widgets/controls",
      "model_module_version": "1.5.0",
      "model_name": "LabelModel",
      "state": {
       "layout": "IPY_MODEL_523ec3e7be08426fb758294e949baafa",
       "style": "IPY_MODEL_94c982e2b4cf4a8fb30f60990d74a1b3"
      }
     },
     "dc71bb05cbe642b186b49c9e989aa96c": {
      "model_module": "@jupyter-widgets/base",
      "model_module_version": "1.2.0",
      "model_name": "LayoutModel",
      "state": {}
     },
     "dcdf48dfda744b67b58aba6eaee8642e": {
      "model_module": "@jupyter-widgets/controls",
      "model_module_version": "1.5.0",
      "model_name": "ButtonStyleModel",
      "state": {}
     },
     "dce94cb2644147efa20a83a97c1eff85": {
      "model_module": "@jupyter-widgets/controls",
      "model_module_version": "1.5.0",
      "model_name": "DescriptionStyleModel",
      "state": {
       "description_width": ""
      }
     },
     "dcfb8c349d4e4d0d8ad32a92de7b1fa0": {
      "model_module": "@jupyter-widgets/base",
      "model_module_version": "1.2.0",
      "model_name": "LayoutModel",
      "state": {}
     },
     "dd0fa60614d047768d08666be2bdc7c6": {
      "model_module": "@jupyter-widgets/output",
      "model_module_version": "1.0.0",
      "model_name": "OutputModel",
      "state": {
       "layout": "IPY_MODEL_af5e9e6258c84a15ae7e6e9f0ff6b0dd",
       "outputs": [
        {
         "data": {
          "text/plain": "'C:/PythonWorkspace/stylegan2-ada-pytorch-main/out/seed0929.png'"
         },
         "metadata": {},
         "output_type": "display_data"
        }
       ]
      }
     },
     "dd484d3869f34c728cc71351f3294eba": {
      "model_module": "@jupyter-widgets/base",
      "model_module_version": "1.2.0",
      "model_name": "LayoutModel",
      "state": {}
     },
     "dd4dd815f1744259a3ea3bb82643bc0e": {
      "model_module": "@jupyter-widgets/controls",
      "model_module_version": "1.5.0",
      "model_name": "LabelModel",
      "state": {
       "layout": "IPY_MODEL_02166a6ae888452590adaeda0a44b3db",
       "style": "IPY_MODEL_dce94cb2644147efa20a83a97c1eff85",
       "value": "C:\\PythonWorkspace\\stylegan2-ada-pytorch-main\\out\\antique_projected_w.npz"
      }
     },
     "dd952f06a7224a7cbd4b65255b22248a": {
      "model_module": "@jupyter-widgets/controls",
      "model_module_version": "1.5.0",
      "model_name": "LabelModel",
      "state": {
       "layout": "IPY_MODEL_c0f707c55b2d45dd8b7dd5dd4ba75557",
       "style": "IPY_MODEL_53eba77bcffe4f8bb414befc60dabe64",
       "value": "C:/PythonWorkspace/stylegan2-ada-pytorch-main/"
      }
     },
     "ddb01e77c62746ec82ba8c465d9f3581": {
      "model_module": "@jupyter-widgets/base",
      "model_module_version": "1.2.0",
      "model_name": "LayoutModel",
      "state": {}
     },
     "ddc2788869294ca183a56be4dc4cc851": {
      "model_module": "@jupyter-widgets/controls",
      "model_module_version": "1.5.0",
      "model_name": "ButtonStyleModel",
      "state": {}
     },
     "ddd0d376355143d09dd065c5fe1a39cd": {
      "model_module": "@jupyter-widgets/output",
      "model_module_version": "1.0.0",
      "model_name": "OutputModel",
      "state": {
       "layout": "IPY_MODEL_a382ec78398e401f9ecf72dbcb3bbd72",
       "outputs": [
        {
         "data": {
          "text/plain": "'C:/PythonWorkspace/stylegan2-ada-pytorch-main/out/seed0929.png'"
         },
         "metadata": {},
         "output_type": "display_data"
        }
       ]
      }
     },
     "ddf6f925b5564a4095528e1bef7030ab": {
      "model_module": "@jupyter-widgets/controls",
      "model_module_version": "1.5.0",
      "model_name": "VBoxModel",
      "state": {
       "children": [
        "IPY_MODEL_ec9170328370418eb75ff7d84138b426",
        "IPY_MODEL_c029c4165521473e99338be6af3fc52a"
       ],
       "layout": "IPY_MODEL_4523a4274a644f4f9f35acbf7379d525"
      }
     },
     "ddfad3f528d6408590d31437c2e10f16": {
      "model_module": "@jupyter-widgets/base",
      "model_module_version": "1.2.0",
      "model_name": "LayoutModel",
      "state": {}
     },
     "de06cedee2ff4700ad6e26a9bc0e0e77": {
      "model_module": "@jupyter-widgets/base",
      "model_module_version": "1.2.0",
      "model_name": "LayoutModel",
      "state": {}
     },
     "de3e5a2b4cf647358cd864ee5a9b3fad": {
      "model_module": "@jupyter-widgets/controls",
      "model_module_version": "1.5.0",
      "model_name": "HBoxModel",
      "state": {
       "children": [
        "IPY_MODEL_caada2d92f4e42439dc6c90c3cb089ce",
        "IPY_MODEL_2d9c176ee0fb402ba9faa7ce24ab56cd"
       ],
       "layout": "IPY_MODEL_f5b78194c3da467cba87e8308d1a9be0"
      }
     },
     "dfc2ed1cf87d46b496e7fe4833d00a3c": {
      "model_module": "@jupyter-widgets/base",
      "model_module_version": "1.2.0",
      "model_name": "LayoutModel",
      "state": {}
     },
     "dfe12ed60b2847f4b2ab1b086c255a02": {
      "model_module": "@jupyter-widgets/controls",
      "model_module_version": "1.5.0",
      "model_name": "ButtonStyleModel",
      "state": {}
     },
     "dfe82c351e904728b7cb8a57e645bae3": {
      "model_module": "@jupyter-widgets/base",
      "model_module_version": "1.2.0",
      "model_name": "LayoutModel",
      "state": {}
     },
     "e028b2b8d2ed4e75a3690d92b8bb6340": {
      "model_module": "@jupyter-widgets/output",
      "model_module_version": "1.0.0",
      "model_name": "OutputModel",
      "state": {
       "layout": "IPY_MODEL_e0f53e93f5774d72856d506d3d9fda9b",
       "outputs": [
        {
         "data": {
          "text/plain": "'C:/PythonWorkspace/stylegan2-ada-pytorch-main/out/seed0929.png'"
         },
         "metadata": {},
         "output_type": "display_data"
        }
       ]
      }
     },
     "e0301fe9c50f4c5babfdf4e76773090e": {
      "model_module": "@jupyter-widgets/base",
      "model_module_version": "1.2.0",
      "model_name": "LayoutModel",
      "state": {
       "height": "10%",
       "width": "75%"
      }
     },
     "e05ca5822110432da76265554931f2d4": {
      "model_module": "@jupyter-widgets/base",
      "model_module_version": "1.2.0",
      "model_name": "LayoutModel",
      "state": {}
     },
     "e0624cbf006746ad9433da85dd7d44d8": {
      "model_module": "@jupyter-widgets/base",
      "model_module_version": "1.2.0",
      "model_name": "LayoutModel",
      "state": {}
     },
     "e094d7967b5c4a55bb30cf0ca316ef47": {
      "model_module": "@jupyter-widgets/controls",
      "model_module_version": "1.5.0",
      "model_name": "FloatSliderModel",
      "state": {
       "layout": "IPY_MODEL_8080ba85015f4979a65ce290ddf10856",
       "max": 50,
       "min": -50,
       "step": 0.1,
       "style": "IPY_MODEL_1fdcc3204c4d43808d82f00b951c7ca9"
      }
     },
     "e0db84ee7791428cb8f62d67ffe1d79c": {
      "model_module": "@jupyter-widgets/base",
      "model_module_version": "1.2.0",
      "model_name": "LayoutModel",
      "state": {}
     },
     "e0f53e93f5774d72856d506d3d9fda9b": {
      "model_module": "@jupyter-widgets/base",
      "model_module_version": "1.2.0",
      "model_name": "LayoutModel",
      "state": {}
     },
     "e0fc7005f66b43fd9557fd8b703962d4": {
      "model_module": "@jupyter-widgets/base",
      "model_module_version": "1.2.0",
      "model_name": "LayoutModel",
      "state": {
       "height": "30%",
       "width": "75%"
      }
     },
     "e145530f61f04ed695b76d1f46cc06e6": {
      "model_module": "@jupyter-widgets/controls",
      "model_module_version": "1.5.0",
      "model_name": "HBoxModel",
      "state": {
       "children": [
        "IPY_MODEL_cd3e7c1533d24ad2bf894110212fe509",
        "IPY_MODEL_125a4292ede549ce9b5448b95aa297b7"
       ],
       "layout": "IPY_MODEL_fa5a9b38a62f4715bfbcc9d0ebb1a24e"
      }
     },
     "e15f473f5f7947bc992a1235cef7f391": {
      "model_module": "@jupyter-widgets/output",
      "model_module_version": "1.0.0",
      "model_name": "OutputModel",
      "state": {
       "layout": "IPY_MODEL_301c21742bea434fb81a3c868ff77c6f",
       "outputs": [
        {
         "data": {
          "text/plain": "'C:/PythonWorkspace/stylegan2-ada-pytorch-main/out/seed0929.png'"
         },
         "metadata": {},
         "output_type": "display_data"
        }
       ]
      }
     },
     "e1673ba8efcd4b278a877b2218d174af": {
      "model_module": "@jupyter-widgets/base",
      "model_module_version": "1.2.0",
      "model_name": "LayoutModel",
      "state": {}
     },
     "e16926f3c4e244f8ab29ff07608f2ce2": {
      "model_module": "@jupyter-widgets/controls",
      "model_module_version": "1.5.0",
      "model_name": "ButtonModel",
      "state": {
       "description": "Generate",
       "layout": "IPY_MODEL_bfe7536109b54f768180864ca173497f",
       "style": "IPY_MODEL_8a66390d434b454eb63563df02f31a5e"
      }
     },
     "e173bd48af2d4ba7a3c1b43dd513f172": {
      "model_module": "@jupyter-widgets/base",
      "model_module_version": "1.2.0",
      "model_name": "LayoutModel",
      "state": {}
     },
     "e1b18111dd4042a688e406913d15d213": {
      "model_module": "@jupyter-widgets/controls",
      "model_module_version": "1.5.0",
      "model_name": "ButtonModel",
      "state": {
       "description": "Reset Latent Controls",
       "layout": "IPY_MODEL_3aa3fb0cbd8c4a719f02790136f9e541",
       "style": "IPY_MODEL_a7288b3b421e4a718b9cc821de4e7314"
      }
     },
     "e1b78b3ed1e34ac18b50a7ca6629ea73": {
      "model_module": "@jupyter-widgets/base",
      "model_module_version": "1.2.0",
      "model_name": "LayoutModel",
      "state": {
       "height": "30%",
       "width": "75%"
      }
     },
     "e1cffabc91fa4f0b8a09b133ef902329": {
      "model_module": "@jupyter-widgets/base",
      "model_module_version": "1.2.0",
      "model_name": "LayoutModel",
      "state": {
       "height": "10%",
       "width": "75%"
      }
     },
     "e1d15705c70f4a4eaa91160f792d1bf0": {
      "model_module": "@jupyter-widgets/controls",
      "model_module_version": "1.5.0",
      "model_name": "ButtonStyleModel",
      "state": {}
     },
     "e2056987cc994208bf39f4247a2be7bf": {
      "model_module": "@jupyter-widgets/base",
      "model_module_version": "1.2.0",
      "model_name": "LayoutModel",
      "state": {}
     },
     "e22faeb2edeb4fed954e631d83036037": {
      "model_module": "@jupyter-widgets/base",
      "model_module_version": "1.2.0",
      "model_name": "LayoutModel",
      "state": {
       "height": "10%",
       "width": "75%"
      }
     },
     "e257311227414ca989d6fccfc4ba4aa9": {
      "model_module": "@jupyter-widgets/output",
      "model_module_version": "1.0.0",
      "model_name": "OutputModel",
      "state": {
       "layout": "IPY_MODEL_856ed8a7c5014c439d96358846bf42a2",
       "outputs": [
        {
         "data": {
          "text/plain": "'C:/PythonWorkspace/stylegan2-ada-pytorch-main/out/seed0929.png'"
         },
         "metadata": {},
         "output_type": "display_data"
        }
       ]
      }
     },
     "e2a5b7995b3047128fea999f9f71594a": {
      "model_module": "@jupyter-widgets/base",
      "model_module_version": "1.2.0",
      "model_name": "LayoutModel",
      "state": {
       "height": "30%",
       "width": "75%"
      }
     },
     "e307c2499c2a4ecdaf084878fa767ba4": {
      "model_module": "@jupyter-widgets/controls",
      "model_module_version": "1.5.0",
      "model_name": "ButtonModel",
      "state": {
       "description": "Generate",
       "layout": "IPY_MODEL_54acee6f1da1426ab332ef6ebe8e85e4",
       "style": "IPY_MODEL_55f39b2d266743ccb713763d9dbeb335"
      }
     },
     "e30b368b4f9e46a3b13695676c08ace2": {
      "model_module": "@jupyter-widgets/base",
      "model_module_version": "1.2.0",
      "model_name": "LayoutModel",
      "state": {}
     },
     "e310c7d814f8420aa690981b65a74c6d": {
      "model_module": "@jupyter-widgets/controls",
      "model_module_version": "1.5.0",
      "model_name": "ButtonStyleModel",
      "state": {}
     },
     "e36378927f784ed9a4fb50a0a030c71b": {
      "model_module": "@jupyter-widgets/controls",
      "model_module_version": "1.5.0",
      "model_name": "ButtonStyleModel",
      "state": {}
     },
     "e3dfe0fc67cc4efeaa3d1bd4b56ee117": {
      "model_module": "@jupyter-widgets/controls",
      "model_module_version": "1.5.0",
      "model_name": "VBoxModel",
      "state": {
       "children": [
        "IPY_MODEL_93c4a19b59e54439841a9ee0a9c8eedc",
        "IPY_MODEL_53f2743537f644b496136de12d9eb7f6"
       ],
       "layout": "IPY_MODEL_40cfd71056a5420b957790bcb57673f6"
      }
     },
     "e4141fff79614acfa472cd61400a029f": {
      "model_module": "@jupyter-widgets/controls",
      "model_module_version": "1.5.0",
      "model_name": "SliderStyleModel",
      "state": {
       "description_width": ""
      }
     },
     "e488a5a45c214731967d265a301fc7a0": {
      "model_module": "@jupyter-widgets/base",
      "model_module_version": "1.2.0",
      "model_name": "LayoutModel",
      "state": {}
     },
     "e4b1f77e02d44de1b667f8efbd969e0a": {
      "model_module": "@jupyter-widgets/controls",
      "model_module_version": "1.5.0",
      "model_name": "HBoxModel",
      "state": {
       "children": [
        "IPY_MODEL_3e96d17a9fc34f21b13c75f787a9ae56",
        "IPY_MODEL_1acc6eb339e3469080ea85e47ce68cb6"
       ],
       "layout": "IPY_MODEL_bb7065d0cb33469589a507431772f94c"
      }
     },
     "e4bcc0eb8e5d4316b2f34114f1a62e7a": {
      "model_module": "@jupyter-widgets/controls",
      "model_module_version": "1.5.0",
      "model_name": "ButtonModel",
      "state": {
       "description": "Reset Latent Controls",
       "layout": "IPY_MODEL_bce660a8b8364d348ca77a1c71adafd8",
       "style": "IPY_MODEL_8b17949f12484f09966f4c22d595e705"
      }
     },
     "e4f0bc81a3874fc1bc2aaaeed4595de4": {
      "model_module": "@jupyter-widgets/output",
      "model_module_version": "1.0.0",
      "model_name": "OutputModel",
      "state": {
       "layout": "IPY_MODEL_3bf06f495e244c31b88fed1f17807ab2",
       "outputs": [
        {
         "data": {
          "text/plain": "'C:/PythonWorkspace/stylegan2-ada-pytorch-main/out/seed0929.png'"
         },
         "metadata": {},
         "output_type": "display_data"
        }
       ]
      }
     },
     "e527b16d593442f093e8a403ced695d9": {
      "model_module": "@jupyter-widgets/controls",
      "model_module_version": "1.5.0",
      "model_name": "SliderStyleModel",
      "state": {
       "description_width": ""
      }
     },
     "e53f5fe2af2344d8a8ca50efee3caf6a": {
      "model_module": "@jupyter-widgets/base",
      "model_module_version": "1.2.0",
      "model_name": "LayoutModel",
      "state": {
       "height": "10%",
       "width": "75%"
      }
     },
     "e59e83fbefbe4238a04c94c9aba498c8": {
      "model_module": "@jupyter-widgets/base",
      "model_module_version": "1.2.0",
      "model_name": "LayoutModel",
      "state": {}
     },
     "e5f4bb8f525f43e4919fc3032cab4dfd": {
      "model_module": "@jupyter-widgets/controls",
      "model_module_version": "1.5.0",
      "model_name": "ButtonStyleModel",
      "state": {}
     },
     "e606402d3110443aa64b2e11a60d1300": {
      "model_module": "@jupyter-widgets/controls",
      "model_module_version": "1.5.0",
      "model_name": "LabelModel",
      "state": {
       "layout": "IPY_MODEL_1e9d2e3c883f41d298e24050d82d2231",
       "style": "IPY_MODEL_93f42a10614240049eaf8a5a34ce2e9b",
       "value": "C:\\PythonWorkspace\\stylegan2-ada-pytorch-main\\out\\modern_projected_w.npz"
      }
     },
     "e6461be8c23a4e0faf7e17563cc4156b": {
      "model_module": "@jupyter-widgets/controls",
      "model_module_version": "1.5.0",
      "model_name": "ButtonStyleModel",
      "state": {}
     },
     "e674c5eaf09046df801e65484e67e712": {
      "model_module": "@jupyter-widgets/controls",
      "model_module_version": "1.5.0",
      "model_name": "ButtonModel",
      "state": {
       "description": "Generate",
       "layout": "IPY_MODEL_4d3c9a4f3af34768b29c605b138364c0",
       "style": "IPY_MODEL_2c34cd7481354ab39382725429a1611c"
      }
     },
     "e677dcfd8ec54f2dacda784864ba44a1": {
      "model_module": "@jupyter-widgets/controls",
      "model_module_version": "1.5.0",
      "model_name": "VBoxModel",
      "state": {
       "children": [
        "IPY_MODEL_fd078555937a4151a1d0f1dde5b8550a",
        "IPY_MODEL_a4d34b65bcad4e81b0fe19adb6a833b8"
       ],
       "layout": "IPY_MODEL_aa33857ce8e24cab8f4608dfe7c1ee2f"
      }
     },
     "e6884225b5294fc0982c0ebcfebc87fb": {
      "model_module": "@jupyter-widgets/base",
      "model_module_version": "1.2.0",
      "model_name": "LayoutModel",
      "state": {}
     },
     "e6b466657d784cb1bba97f07d59ba74b": {
      "model_module": "@jupyter-widgets/base",
      "model_module_version": "1.2.0",
      "model_name": "LayoutModel",
      "state": {}
     },
     "e6b72b6e6908418fbd7a252b3174b97a": {
      "model_module": "@jupyter-widgets/controls",
      "model_module_version": "1.5.0",
      "model_name": "DescriptionStyleModel",
      "state": {
       "description_width": ""
      }
     },
     "e6d565a3f0d9472db34ceb8c7cd38ca1": {
      "model_module": "@jupyter-widgets/base",
      "model_module_version": "1.2.0",
      "model_name": "LayoutModel",
      "state": {}
     },
     "e6d5be807fc0451b81af6d210344da23": {
      "model_module": "@jupyter-widgets/controls",
      "model_module_version": "1.5.0",
      "model_name": "SliderStyleModel",
      "state": {
       "description_width": ""
      }
     },
     "e73770c3d7784c25b7d85f7b923eddfe": {
      "model_module": "@jupyter-widgets/base",
      "model_module_version": "1.2.0",
      "model_name": "LayoutModel",
      "state": {}
     },
     "e74bff5a68be46e28286fa10b37ce935": {
      "model_module": "@jupyter-widgets/base",
      "model_module_version": "1.2.0",
      "model_name": "LayoutModel",
      "state": {}
     },
     "e75cd47d965c40c0be1c80fecaedb87c": {
      "model_module": "@jupyter-widgets/base",
      "model_module_version": "1.2.0",
      "model_name": "LayoutModel",
      "state": {}
     },
     "e79fc0af2fc14e928d0a239363d91bca": {
      "model_module": "@jupyter-widgets/controls",
      "model_module_version": "1.5.0",
      "model_name": "LabelModel",
      "state": {
       "layout": "IPY_MODEL_b20795d9038b4118a5f3a1555df247a7",
       "style": "IPY_MODEL_e88db2b7f6484a15850f375e0ba03e65",
       "value": "C:\\PythonWorkspace\\stylegan2-ada-pytorch-main\\out\\antique_projected_w.npz"
      }
     },
     "e7c7824bb3d04bd89abd0cb27c9f32cc": {
      "model_module": "@jupyter-widgets/base",
      "model_module_version": "1.2.0",
      "model_name": "LayoutModel",
      "state": {}
     },
     "e7e56cfed1314e7782c8eac9f83824ed": {
      "model_module": "@jupyter-widgets/controls",
      "model_module_version": "1.5.0",
      "model_name": "VBoxModel",
      "state": {
       "children": [
        "IPY_MODEL_a02a619abf714bcb8b79c2b25539534d",
        "IPY_MODEL_92d8c686bd17404da4b7b4600c5d106b"
       ],
       "layout": "IPY_MODEL_37aa4cf9062f42af9792176cd9e6d9ba"
      }
     },
     "e8041d57a8204bcfb378c40c4f2e6a79": {
      "model_module": "@jupyter-widgets/base",
      "model_module_version": "1.2.0",
      "model_name": "LayoutModel",
      "state": {
       "height": "30%",
       "width": "75%"
      }
     },
     "e82290ab61dc4813bbffbedf061ff5b3": {
      "model_module": "@jupyter-widgets/controls",
      "model_module_version": "1.5.0",
      "model_name": "SliderStyleModel",
      "state": {
       "description_width": ""
      }
     },
     "e8264ac4813e4a1d937833aef3ad7ffe": {
      "model_module": "@jupyter-widgets/base",
      "model_module_version": "1.2.0",
      "model_name": "LayoutModel",
      "state": {
       "height": "30%",
       "width": "75%"
      }
     },
     "e84186e263c64a9483864c01fe8876a1": {
      "model_module": "@jupyter-widgets/controls",
      "model_module_version": "1.5.0",
      "model_name": "FloatSliderModel",
      "state": {
       "layout": "IPY_MODEL_6b89e7f03f2e4b8693a3af91dbf16be8",
       "max": 50,
       "min": -50,
       "step": 0.1,
       "style": "IPY_MODEL_0e4ebeddd0fd4b239da583a8612ce17a"
      }
     },
     "e847217ab0184571a1b3d9c3b3cc388b": {
      "model_module": "@jupyter-widgets/controls",
      "model_module_version": "1.5.0",
      "model_name": "ButtonModel",
      "state": {
       "description": "Generate",
       "layout": "IPY_MODEL_eeac03e0fd3c4c3ebc70fa4a1cf9956b",
       "style": "IPY_MODEL_f1b90ea9ac704ecb888cbd8298284d0b"
      }
     },
     "e84c542377e84fbc8f790d273508e248": {
      "model_module": "@jupyter-widgets/base",
      "model_module_version": "1.2.0",
      "model_name": "LayoutModel",
      "state": {
       "height": "30%",
       "width": "75%"
      }
     },
     "e87cd19ef6ad42dfaf6a9ee171009e05": {
      "model_module": "@jupyter-widgets/base",
      "model_module_version": "1.2.0",
      "model_name": "LayoutModel",
      "state": {}
     },
     "e88db2b7f6484a15850f375e0ba03e65": {
      "model_module": "@jupyter-widgets/controls",
      "model_module_version": "1.5.0",
      "model_name": "DescriptionStyleModel",
      "state": {
       "description_width": ""
      }
     },
     "e88e726f0e04443d9b67d7cd8360ddc3": {
      "model_module": "@jupyter-widgets/base",
      "model_module_version": "1.2.0",
      "model_name": "LayoutModel",
      "state": {
       "height": "30%",
       "width": "75%"
      }
     },
     "e8b195d99c174151bf6ace62d5479433": {
      "model_module": "@jupyter-widgets/base",
      "model_module_version": "1.2.0",
      "model_name": "LayoutModel",
      "state": {}
     },
     "e8cb4e956ce1465da85e3f7525355cb6": {
      "model_module": "@jupyter-widgets/controls",
      "model_module_version": "1.5.0",
      "model_name": "DescriptionStyleModel",
      "state": {
       "description_width": ""
      }
     },
     "e8e0798e475c46619a8c1993d0d6bff9": {
      "model_module": "@jupyter-widgets/base",
      "model_module_version": "1.2.0",
      "model_name": "LayoutModel",
      "state": {}
     },
     "e8f0196e36304a25b8012cbdfb5b43e0": {
      "model_module": "@jupyter-widgets/output",
      "model_module_version": "1.0.0",
      "model_name": "OutputModel",
      "state": {
       "layout": "IPY_MODEL_592bdd1ad92a4706b540ba21b352e0d6",
       "outputs": [
        {
         "data": {
          "text/plain": "'C:/PythonWorkspace/stylegan2-ada-pytorch-main/out/seed0929.png'"
         },
         "metadata": {},
         "output_type": "display_data"
        }
       ]
      }
     },
     "e8f08af18b3c4bd49bcd13ba71605d99": {
      "model_module": "@jupyter-widgets/controls",
      "model_module_version": "1.5.0",
      "model_name": "DescriptionStyleModel",
      "state": {
       "description_width": ""
      }
     },
     "e90176811ae7453187ed870fe5b8cf8f": {
      "model_module": "@jupyter-widgets/controls",
      "model_module_version": "1.5.0",
      "model_name": "HBoxModel",
      "state": {
       "children": [
        "IPY_MODEL_5f741ca17cc6494e9e085d82040b070c",
        "IPY_MODEL_6c6fcb899c3d46a18f565d5d8c5f2e2c"
       ],
       "layout": "IPY_MODEL_3b24f028df8f439f9138ea74827d3c27"
      }
     },
     "e9067497945748f0b99614aceb2a47e0": {
      "model_module": "@jupyter-widgets/controls",
      "model_module_version": "1.5.0",
      "model_name": "ButtonStyleModel",
      "state": {}
     },
     "e9842de22d8943559f146d184365de31": {
      "model_module": "@jupyter-widgets/base",
      "model_module_version": "1.2.0",
      "model_name": "LayoutModel",
      "state": {}
     },
     "e9fe265354e544d598e1f9168b2c0315": {
      "model_module": "@jupyter-widgets/base",
      "model_module_version": "1.2.0",
      "model_name": "LayoutModel",
      "state": {}
     },
     "ea44bfda4f3b460e9734d4f4a11e5f14": {
      "model_module": "@jupyter-widgets/controls",
      "model_module_version": "1.5.0",
      "model_name": "LabelModel",
      "state": {
       "layout": "IPY_MODEL_c3ebf24a205246acaca85df186504911",
       "style": "IPY_MODEL_e6b72b6e6908418fbd7a252b3174b97a"
      }
     },
     "eadc0184566e49d4bcc85c44b9bed720": {
      "model_module": "@jupyter-widgets/controls",
      "model_module_version": "1.5.0",
      "model_name": "ButtonModel",
      "state": {
       "description": "Generate",
       "layout": "IPY_MODEL_4525614e366e4b58b118dbc94157a4ba",
       "style": "IPY_MODEL_1e242596c7034980b3cd01ec7620f59f"
      }
     },
     "eb089b90cd3644d4bb0dd7384ad70bca": {
      "model_module": "@jupyter-widgets/output",
      "model_module_version": "1.0.0",
      "model_name": "OutputModel",
      "state": {
       "layout": "IPY_MODEL_268b56d8df1a4bcd86fa2c1b29bf460a",
       "outputs": [
        {
         "data": {
          "text/plain": "'C:/PythonWorkspace/stylegan2-ada-pytorch-main/out/seed0929.png'"
         },
         "metadata": {},
         "output_type": "display_data"
        }
       ]
      }
     },
     "eb0d235db3c041a7b2494a3f51300262": {
      "model_module": "@jupyter-widgets/controls",
      "model_module_version": "1.5.0",
      "model_name": "ButtonModel",
      "state": {
       "description": "Generate",
       "layout": "IPY_MODEL_c367275b22754e9784581054dd9f4baf",
       "style": "IPY_MODEL_f40bc2857d074f3f830790c97a514a03"
      }
     },
     "eb4eff0964ad4e22b6857f49fdef6e45": {
      "model_module": "@jupyter-widgets/base",
      "model_module_version": "1.2.0",
      "model_name": "LayoutModel",
      "state": {}
     },
     "eb81ec3e29b14827acde270c45d0e864": {
      "model_module": "@jupyter-widgets/output",
      "model_module_version": "1.0.0",
      "model_name": "OutputModel",
      "state": {
       "layout": "IPY_MODEL_5debe865c0a840b3a1afc4cd6ee80c78",
       "outputs": [
        {
         "data": {
          "text/plain": "'C:/PythonWorkspace/stylegan2-ada-pytorch-main/out/seed0929.png'"
         },
         "metadata": {},
         "output_type": "display_data"
        }
       ]
      }
     },
     "ebdaa1c3626a4602a1cd4576362fd69d": {
      "model_module": "@jupyter-widgets/base",
      "model_module_version": "1.2.0",
      "model_name": "LayoutModel",
      "state": {}
     },
     "ebf3c2da9ac04314bccd5761e500152b": {
      "model_module": "@jupyter-widgets/base",
      "model_module_version": "1.2.0",
      "model_name": "LayoutModel",
      "state": {}
     },
     "ec44c81140a141a7a9ea1ffd9cbb1c72": {
      "model_module": "@jupyter-widgets/controls",
      "model_module_version": "1.5.0",
      "model_name": "SliderStyleModel",
      "state": {
       "description_width": ""
      }
     },
     "ec51dd36bf8d437986c4f4e0be554b06": {
      "model_module": "@jupyter-widgets/controls",
      "model_module_version": "1.5.0",
      "model_name": "ButtonModel",
      "state": {
       "description": "Generate",
       "layout": "IPY_MODEL_b724727d196848208f57a01ca622b34f",
       "style": "IPY_MODEL_a973add159b746fa9750aef573bd90c7"
      }
     },
     "ec61ac6596c64d85878e1a2c345e178f": {
      "model_module": "@jupyter-widgets/controls",
      "model_module_version": "1.5.0",
      "model_name": "VBoxModel",
      "state": {
       "children": [
        "IPY_MODEL_91c0eaa836f842ecaa2f5c7e9bd2a916",
        "IPY_MODEL_afd0393a885d42a6a3d8e78d36418b84"
       ],
       "layout": "IPY_MODEL_7147a4b1cb2f4bd5917a58d0c71ef632"
      }
     },
     "ec9170328370418eb75ff7d84138b426": {
      "model_module": "@jupyter-widgets/output",
      "model_module_version": "1.0.0",
      "model_name": "OutputModel",
      "state": {
       "layout": "IPY_MODEL_bd7a3cb0ef764a52bcbb12cc2e5041b0",
       "outputs": [
        {
         "data": {
          "text/plain": "'C:/PythonWorkspace/stylegan2-ada-pytorch-main/out/seed0929.png'"
         },
         "metadata": {},
         "output_type": "display_data"
        }
       ]
      }
     },
     "eca6676d730a4970908e507b93fcbd3c": {
      "model_module": "@jupyter-widgets/controls",
      "model_module_version": "1.5.0",
      "model_name": "VBoxModel",
      "state": {
       "children": [
        "IPY_MODEL_8c3fa4cc566c474fa09d135706e1c76a",
        "IPY_MODEL_a2dfc70b7e5942b391d20ed7903c09cb"
       ],
       "layout": "IPY_MODEL_75911e95833f480ba2eb88039ab791aa"
      }
     },
     "ecc0c41a203040f48b27eaae952ee5a3": {
      "model_module": "@jupyter-widgets/base",
      "model_module_version": "1.2.0",
      "model_name": "LayoutModel",
      "state": {
       "height": "30%",
       "width": "75%"
      }
     },
     "ecedd9a31b454a1eb9b569b51fad1bca": {
      "model_module": "@jupyter-widgets/controls",
      "model_module_version": "1.5.0",
      "model_name": "VBoxModel",
      "state": {
       "children": [
        "IPY_MODEL_f116e36183834786b356aa5651aefcd4",
        "IPY_MODEL_222b948e9ef049abb7e5f4aac9d28ced"
       ],
       "layout": "IPY_MODEL_93ea09cc2dfb4bc896a6c3080accfb58"
      }
     },
     "ed2346c08c2c444299d3360165c693e3": {
      "model_module": "@jupyter-widgets/base",
      "model_module_version": "1.2.0",
      "model_name": "LayoutModel",
      "state": {}
     },
     "ed391e85ba5f4a0395b4d67fe0c57486": {
      "model_module": "@jupyter-widgets/controls",
      "model_module_version": "1.5.0",
      "model_name": "HBoxModel",
      "state": {
       "children": [
        "IPY_MODEL_68c7f153976642d7b418519fa4d511f8",
        "IPY_MODEL_3bd9cd1751254ee5a0e12369797d9615"
       ],
       "layout": "IPY_MODEL_e8e0798e475c46619a8c1993d0d6bff9"
      }
     },
     "ed5ab8c551244d578bd8a754ec73da41": {
      "model_module": "@jupyter-widgets/base",
      "model_module_version": "1.2.0",
      "model_name": "LayoutModel",
      "state": {}
     },
     "ed83eab8c28540dba97ac081f8eec936": {
      "model_module": "@jupyter-widgets/controls",
      "model_module_version": "1.5.0",
      "model_name": "FloatSliderModel",
      "state": {
       "layout": "IPY_MODEL_0725ce3e2a7242d68c721a89ae16ebf3",
       "max": 50,
       "min": -50,
       "step": 0.1,
       "style": "IPY_MODEL_b872cb083dca46ecbe53a7484f1c282d"
      }
     },
     "edf3868fa914438390060769d2b16181": {
      "model_module": "@jupyter-widgets/controls",
      "model_module_version": "1.5.0",
      "model_name": "DescriptionStyleModel",
      "state": {
       "description_width": ""
      }
     },
     "ee0dfc7ab845425e9319a7c9bd0c8839": {
      "model_module": "@jupyter-widgets/base",
      "model_module_version": "1.2.0",
      "model_name": "LayoutModel",
      "state": {}
     },
     "eeaa82ef10e948db8a91ab3ee0928543": {
      "model_module": "@jupyter-widgets/base",
      "model_module_version": "1.2.0",
      "model_name": "LayoutModel",
      "state": {}
     },
     "eeac03e0fd3c4c3ebc70fa4a1cf9956b": {
      "model_module": "@jupyter-widgets/base",
      "model_module_version": "1.2.0",
      "model_name": "LayoutModel",
      "state": {
       "height": "10%",
       "width": "75%"
      }
     },
     "eec3dfa8d440459fb83967830c164a29": {
      "model_module": "@jupyter-widgets/base",
      "model_module_version": "1.2.0",
      "model_name": "LayoutModel",
      "state": {}
     },
     "eec581e442ac4a18b6d6645d56fb8690": {
      "model_module": "@jupyter-widgets/controls",
      "model_module_version": "1.5.0",
      "model_name": "LabelModel",
      "state": {
       "layout": "IPY_MODEL_3a5bdd291bf84c86a6bc1c7f145c609e",
       "style": "IPY_MODEL_cd23d66f6bd14b7e8edd2de36bfc0888",
       "value": "C:\\PythonWorkspace\\stylegan2-ada-pytorch-main\\out\\modern_projected_w"
      }
     },
     "eef935da2bf64e3188e647dd0e176257": {
      "model_module": "@jupyter-widgets/base",
      "model_module_version": "1.2.0",
      "model_name": "LayoutModel",
      "state": {}
     },
     "ef05880565f644b9a4712073eee23efa": {
      "model_module": "@jupyter-widgets/controls",
      "model_module_version": "1.5.0",
      "model_name": "DescriptionStyleModel",
      "state": {
       "description_width": ""
      }
     },
     "ef249e2c130d4c68a47bf436b1f9f4f6": {
      "model_module": "@jupyter-widgets/base",
      "model_module_version": "1.2.0",
      "model_name": "LayoutModel",
      "state": {}
     },
     "ef24b0320d264d7f84bb968f643fd86b": {
      "model_module": "@jupyter-widgets/controls",
      "model_module_version": "1.5.0",
      "model_name": "VBoxModel",
      "state": {
       "children": [
        "IPY_MODEL_c6167f1b1fd7400aabc3a3c83a966632",
        "IPY_MODEL_e257311227414ca989d6fccfc4ba4aa9"
       ],
       "layout": "IPY_MODEL_c5b8f100fdf94069b00e4a854d977e85"
      }
     },
     "ef2cf4628ee8480c9aec1330d59123e0": {
      "model_module": "@jupyter-widgets/base",
      "model_module_version": "1.2.0",
      "model_name": "LayoutModel",
      "state": {}
     },
     "ef33115b25ab45368d63a4724ef45c5f": {
      "model_module": "@jupyter-widgets/controls",
      "model_module_version": "1.5.0",
      "model_name": "VBoxModel",
      "state": {
       "children": [
        "IPY_MODEL_f14053be005947a6825248e13c94f9c4",
        "IPY_MODEL_e4b1f77e02d44de1b667f8efbd969e0a",
        "IPY_MODEL_5a97adf132174993bc6a944cd84b6e7b",
        "IPY_MODEL_1603cdc693c148e1a131b18247875bb2"
       ],
       "layout": "IPY_MODEL_bc0a1197c9b74529902635ce9e9e7ec6"
      }
     },
     "ef86d689d0754a0b970e8c7c421f2d12": {
      "model_module": "@jupyter-widgets/base",
      "model_module_version": "1.2.0",
      "model_name": "LayoutModel",
      "state": {
       "height": "30%",
       "width": "75%"
      }
     },
     "efe28603b99f4362bf4a60dda67938bf": {
      "model_module": "@jupyter-widgets/controls",
      "model_module_version": "1.5.0",
      "model_name": "SliderStyleModel",
      "state": {
       "description_width": ""
      }
     },
     "f0699cbd048743b69134ecf9ec48383e": {
      "model_module": "@jupyter-widgets/base",
      "model_module_version": "1.2.0",
      "model_name": "LayoutModel",
      "state": {
       "height": "30%",
       "width": "75%"
      }
     },
     "f073fe3a880245d491c0576584defa28": {
      "model_module": "@jupyter-widgets/controls",
      "model_module_version": "1.5.0",
      "model_name": "ButtonModel",
      "state": {
       "description": "Generate",
       "layout": "IPY_MODEL_9a51b6a1b1aa49d3a007bda14f6ffd69",
       "style": "IPY_MODEL_6bd4f8dd8c8f472fa6185be795dfe7e8"
      }
     },
     "f07a6afa18f24290a1339a5524d1c487": {
      "model_module": "@jupyter-widgets/controls",
      "model_module_version": "1.5.0",
      "model_name": "ButtonModel",
      "state": {
       "description": "Generate",
       "layout": "IPY_MODEL_cb343bb040c44e15a509ac2672197cae",
       "style": "IPY_MODEL_62027a025a6640fe974df9c35f8f96be"
      }
     },
     "f0ac3a4eed5a497082f050dcb4046134": {
      "model_module": "@jupyter-widgets/base",
      "model_module_version": "1.2.0",
      "model_name": "LayoutModel",
      "state": {}
     },
     "f1087bfc66c44305af04326791c22e49": {
      "model_module": "@jupyter-widgets/controls",
      "model_module_version": "1.5.0",
      "model_name": "ButtonModel",
      "state": {
       "description": "Generate",
       "layout": "IPY_MODEL_24b15660491b42ffa26e21b2ef37038e",
       "style": "IPY_MODEL_caee5fa28080421a96f9f9b583959366"
      }
     },
     "f116e36183834786b356aa5651aefcd4": {
      "model_module": "@jupyter-widgets/output",
      "model_module_version": "1.0.0",
      "model_name": "OutputModel",
      "state": {
       "layout": "IPY_MODEL_f98525c2dd4e4a72973eb04828ff737a",
       "outputs": [
        {
         "data": {
          "text/plain": "'C:/PythonWorkspace/stylegan2-ada-pytorch-main/out/seed0929.png'"
         },
         "metadata": {},
         "output_type": "display_data"
        }
       ]
      }
     },
     "f14053be005947a6825248e13c94f9c4": {
      "model_module": "@jupyter-widgets/controls",
      "model_module_version": "1.5.0",
      "model_name": "HBoxModel",
      "state": {
       "children": [
        "IPY_MODEL_5b1754cd681e4d0d9a6b7d7121aa1da2",
        "IPY_MODEL_2a35ed9b4b6e461493304a8d59b1dc7f"
       ],
       "layout": "IPY_MODEL_842a898f8e3e4bbf91c84f5fc8dbf8ed"
      }
     },
     "f1586506fbcd4fb0b255a28fb59d74d4": {
      "model_module": "@jupyter-widgets/controls",
      "model_module_version": "1.5.0",
      "model_name": "VBoxModel",
      "state": {
       "children": [
        "IPY_MODEL_555f494461284fd0b996c2805b9394ed",
        "IPY_MODEL_eb81ec3e29b14827acde270c45d0e864"
       ],
       "layout": "IPY_MODEL_cc02255ab6134183818bb46208167ce3"
      }
     },
     "f1b90ea9ac704ecb888cbd8298284d0b": {
      "model_module": "@jupyter-widgets/controls",
      "model_module_version": "1.5.0",
      "model_name": "ButtonStyleModel",
      "state": {}
     },
     "f1d1df9ff1b44a3b8709f7e40b258256": {
      "model_module": "@jupyter-widgets/base",
      "model_module_version": "1.2.0",
      "model_name": "LayoutModel",
      "state": {}
     },
     "f2031bb04af94b788850f74bc25c67ab": {
      "model_module": "@jupyter-widgets/base",
      "model_module_version": "1.2.0",
      "model_name": "LayoutModel",
      "state": {}
     },
     "f262bd423ccd4bfab3997b2125e7e1fd": {
      "model_module": "@jupyter-widgets/controls",
      "model_module_version": "1.5.0",
      "model_name": "ButtonModel",
      "state": {
       "description": "Reset Latent Controls",
       "layout": "IPY_MODEL_74527d7d9b144c179dda24a57b505a13",
       "style": "IPY_MODEL_cd7865aaaae24f4d8b4bb7eeac2aacde"
      }
     },
     "f275930d24f74b44bf9a076b38551f3c": {
      "model_module": "@jupyter-widgets/controls",
      "model_module_version": "1.5.0",
      "model_name": "VBoxModel",
      "state": {
       "children": [
        "IPY_MODEL_c3c971aa5c424a1b9b3d29942734996f",
        "IPY_MODEL_ddd0d376355143d09dd065c5fe1a39cd"
       ],
       "layout": "IPY_MODEL_470a416fcfc54064852c4c813c00ce00"
      }
     },
     "f2b44244a65e47bbad86ea9c5c48ddbb": {
      "model_module": "@jupyter-widgets/base",
      "model_module_version": "1.2.0",
      "model_name": "LayoutModel",
      "state": {}
     },
     "f2f6186235d44b25859a4ac77c8eafc3": {
      "model_module": "@jupyter-widgets/base",
      "model_module_version": "1.2.0",
      "model_name": "LayoutModel",
      "state": {}
     },
     "f2f753526382420d900dda4b297cdddd": {
      "model_module": "@jupyter-widgets/controls",
      "model_module_version": "1.5.0",
      "model_name": "ButtonStyleModel",
      "state": {}
     },
     "f337ad2c649d40579c7b386a6499d44f": {
      "model_module": "@jupyter-widgets/controls",
      "model_module_version": "1.5.0",
      "model_name": "LabelModel",
      "state": {
       "layout": "IPY_MODEL_5257f339ca2847f793dcdbf8d15dd84c",
       "style": "IPY_MODEL_770781d997aa4594a5775a69a0a928f4",
       "value": "antique_projected_w.npz"
      }
     },
     "f33d7b6274ba4c2897b1171e1cfc2417": {
      "model_module": "@jupyter-widgets/base",
      "model_module_version": "1.2.0",
      "model_name": "LayoutModel",
      "state": {}
     },
     "f34bbcc43a5e46e0b1fdca236a544550": {
      "model_module": "@jupyter-widgets/base",
      "model_module_version": "1.2.0",
      "model_name": "LayoutModel",
      "state": {
       "height": "30%",
       "width": "75%"
      }
     },
     "f37538d87254404582e4648edb349557": {
      "model_module": "@jupyter-widgets/base",
      "model_module_version": "1.2.0",
      "model_name": "LayoutModel",
      "state": {}
     },
     "f3a2d896f76844f7a7eb92bb0b7343c0": {
      "model_module": "@jupyter-widgets/controls",
      "model_module_version": "1.5.0",
      "model_name": "ButtonModel",
      "state": {
       "description": "Generate",
       "layout": "IPY_MODEL_f0699cbd048743b69134ecf9ec48383e",
       "style": "IPY_MODEL_ddc2788869294ca183a56be4dc4cc851"
      }
     },
     "f3b7d1b240134cf1ad45969c71fcfa39": {
      "model_module": "@jupyter-widgets/controls",
      "model_module_version": "1.5.0",
      "model_name": "VBoxModel",
      "state": {
       "children": [
        "IPY_MODEL_2984ee2091ee4862a095dc6296dc7a11",
        "IPY_MODEL_fedbb6d47d4248eeb5f622a24cf78fc4"
       ],
       "layout": "IPY_MODEL_1e0238c40c604378b23126a37a31e9de"
      }
     },
     "f3c53be508a94f8283fd574b5ed46e09": {
      "model_module": "@jupyter-widgets/output",
      "model_module_version": "1.0.0",
      "model_name": "OutputModel",
      "state": {
       "layout": "IPY_MODEL_50fdd7156cc64f59b00712006807d99b",
       "outputs": [
        {
         "data": {
          "text/plain": "'C:/PythonWorkspace/stylegan2-ada-pytorch-main/out/seed0929.png'"
         },
         "metadata": {},
         "output_type": "display_data"
        }
       ]
      }
     },
     "f3f286b4bf3644619ac95e7e0871ec1a": {
      "model_module": "@jupyter-widgets/controls",
      "model_module_version": "1.5.0",
      "model_name": "LabelModel",
      "state": {
       "layout": "IPY_MODEL_fc62ccc69f314041913cff8e4ce300bd",
       "style": "IPY_MODEL_497f394f484640d99633824ca653396c"
      }
     },
     "f40bc2857d074f3f830790c97a514a03": {
      "model_module": "@jupyter-widgets/controls",
      "model_module_version": "1.5.0",
      "model_name": "ButtonStyleModel",
      "state": {}
     },
     "f427ec2683af4af39fc2b7b6a637e2e0": {
      "model_module": "@jupyter-widgets/controls",
      "model_module_version": "1.5.0",
      "model_name": "DescriptionStyleModel",
      "state": {
       "description_width": ""
      }
     },
     "f4b2c000e0ff4828b9b8c5f8cc100683": {
      "model_module": "@jupyter-widgets/controls",
      "model_module_version": "1.5.0",
      "model_name": "HBoxModel",
      "state": {
       "children": [
        "IPY_MODEL_fd286400c6a04000b6f95292f5b93b9a",
        "IPY_MODEL_bd63c276d39144be9bba4267ba2598a4"
       ],
       "layout": "IPY_MODEL_dc71bb05cbe642b186b49c9e989aa96c"
      }
     },
     "f4b49a67e35544f69850bfa3ef2d70c6": {
      "model_module": "@jupyter-widgets/controls",
      "model_module_version": "1.5.0",
      "model_name": "ButtonStyleModel",
      "state": {}
     },
     "f4b50c13e8724e429c9e92e06b617b65": {
      "model_module": "@jupyter-widgets/base",
      "model_module_version": "1.2.0",
      "model_name": "LayoutModel",
      "state": {}
     },
     "f4b76308dc2b491eab44069d510bb0c8": {
      "model_module": "@jupyter-widgets/base",
      "model_module_version": "1.2.0",
      "model_name": "LayoutModel",
      "state": {}
     },
     "f4ffee5617bc4666bc40b338d2d8ad15": {
      "model_module": "@jupyter-widgets/output",
      "model_module_version": "1.0.0",
      "model_name": "OutputModel",
      "state": {
       "layout": "IPY_MODEL_8443f98ad95e4d7b870798c5f7d100a0",
       "outputs": [
        {
         "data": {
          "image/png": "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\n",
          "text/plain": "<PIL.Image.Image image mode=RGB size=64x64 at 0x16982A4E1D0>"
         },
         "metadata": {},
         "output_type": "display_data"
        }
       ]
      }
     },
     "f51d6e59b163451fae8379f4ec54428e": {
      "model_module": "@jupyter-widgets/output",
      "model_module_version": "1.0.0",
      "model_name": "OutputModel",
      "state": {
       "layout": "IPY_MODEL_4881dd9bf5ac418db8bedeb013bd5332",
       "outputs": [
        {
         "data": {
          "text/plain": "'C:/PythonWorkspace/stylegan2-ada-pytorch-main/out/seed0929.png'"
         },
         "metadata": {},
         "output_type": "display_data"
        }
       ]
      }
     },
     "f57a37c789ab4e54ba58e02ce35ae57b": {
      "model_module": "@jupyter-widgets/output",
      "model_module_version": "1.0.0",
      "model_name": "OutputModel",
      "state": {
       "layout": "IPY_MODEL_b7b5af2f20dc433b945d613348483fd6",
       "outputs": [
        {
         "data": {
          "text/plain": "'C:/PythonWorkspace/stylegan2-ada-pytorch-main/out/seed0929.png'"
         },
         "metadata": {},
         "output_type": "display_data"
        }
       ]
      }
     },
     "f586d6c319454f569f45694e609b9a58": {
      "model_module": "@jupyter-widgets/controls",
      "model_module_version": "1.5.0",
      "model_name": "HBoxModel",
      "state": {
       "children": [
        "IPY_MODEL_0ebdb2e38545466abd17804e82a224bc",
        "IPY_MODEL_fce08bb259aa4d05b1409705f0882da9"
       ],
       "layout": "IPY_MODEL_97ea476b76a04f58a11f254b1322929e"
      }
     },
     "f5b78194c3da467cba87e8308d1a9be0": {
      "model_module": "@jupyter-widgets/base",
      "model_module_version": "1.2.0",
      "model_name": "LayoutModel",
      "state": {}
     },
     "f5d27a870f4a4791944ea560d938c0a3": {
      "model_module": "@jupyter-widgets/output",
      "model_module_version": "1.0.0",
      "model_name": "OutputModel",
      "state": {
       "layout": "IPY_MODEL_781795323ae542778664aede8b0bbf5c",
       "outputs": [
        {
         "data": {
          "text/plain": "'C:/PythonWorkspace/stylegan2-ada-pytorch-main/out/seed0929.png'"
         },
         "metadata": {},
         "output_type": "display_data"
        }
       ]
      }
     },
     "f62733b4a11744dbb9ffa9dd760a7de6": {
      "model_module": "@jupyter-widgets/controls",
      "model_module_version": "1.5.0",
      "model_name": "SliderStyleModel",
      "state": {
       "description_width": ""
      }
     },
     "f678002af13a4d6c8b3c02a99ce46fc9": {
      "model_module": "@jupyter-widgets/base",
      "model_module_version": "1.2.0",
      "model_name": "LayoutModel",
      "state": {}
     },
     "f6838714ba284206af38cdc7cf14ea8f": {
      "model_module": "@jupyter-widgets/controls",
      "model_module_version": "1.5.0",
      "model_name": "ButtonStyleModel",
      "state": {}
     },
     "f6e63f5dde7a415f89e740ddd931b6bb": {
      "model_module": "@jupyter-widgets/base",
      "model_module_version": "1.2.0",
      "model_name": "LayoutModel",
      "state": {
       "height": "30%",
       "width": "75%"
      }
     },
     "f6ee3cda326e476d811cb0b658d047f8": {
      "model_module": "@jupyter-widgets/controls",
      "model_module_version": "1.5.0",
      "model_name": "VBoxModel",
      "state": {
       "children": [
        "IPY_MODEL_72d05236a0ed468cb4129c7ebd46c47a",
        "IPY_MODEL_c5dbc933ee544a3fbffeb66986b637de",
        "IPY_MODEL_b8468ecb4a724154b2ae3355e3de00cc",
        "IPY_MODEL_969554e52cc04f8b921ee1d82a9269f0"
       ],
       "layout": "IPY_MODEL_9d728e2b6cbc4ffebb97cd63c08b2451"
      }
     },
     "f73b4353d4d044ae8ae6aa7e01e50d40": {
      "model_module": "@jupyter-widgets/base",
      "model_module_version": "1.2.0",
      "model_name": "LayoutModel",
      "state": {}
     },
     "f7a222439d5a4748b1ecf32f8b13b785": {
      "model_module": "@jupyter-widgets/controls",
      "model_module_version": "1.5.0",
      "model_name": "ButtonStyleModel",
      "state": {}
     },
     "f8466d6ee4364443ac5ad09b628931e9": {
      "model_module": "@jupyter-widgets/base",
      "model_module_version": "1.2.0",
      "model_name": "LayoutModel",
      "state": {}
     },
     "f87df73f65fa417d8bca48e6a16fc3ce": {
      "model_module": "@jupyter-widgets/controls",
      "model_module_version": "1.5.0",
      "model_name": "SliderStyleModel",
      "state": {
       "description_width": ""
      }
     },
     "f886ef038664454a86b6897ac11f285e": {
      "model_module": "@jupyter-widgets/controls",
      "model_module_version": "1.5.0",
      "model_name": "ButtonModel",
      "state": {
       "description": "Generate",
       "layout": "IPY_MODEL_9e039745d3294483a161542307d61fe1",
       "style": "IPY_MODEL_15a82b0516ee4a0fb4fd6fe074895d16"
      }
     },
     "f88a26d4fe41498487f335e7127e38a9": {
      "model_module": "@jupyter-widgets/controls",
      "model_module_version": "1.5.0",
      "model_name": "HBoxModel",
      "state": {
       "children": [
        "IPY_MODEL_f1586506fbcd4fb0b255a28fb59d74d4",
        "IPY_MODEL_fc35b5ec069044d294f9fb82f530e6ea"
       ],
       "layout": "IPY_MODEL_9edcbcf2f64b42dc89b92fbd235fb956"
      }
     },
     "f8c84891c5564655834afdce22f3367f": {
      "model_module": "@jupyter-widgets/output",
      "model_module_version": "1.0.0",
      "model_name": "OutputModel",
      "state": {
       "layout": "IPY_MODEL_bb8f38c64030477d93cd943a2260cde1",
       "outputs": [
        {
         "data": {
          "text/plain": "'C:/PythonWorkspace/stylegan2-ada-pytorch-main/out/seed0929.png'"
         },
         "metadata": {},
         "output_type": "display_data"
        }
       ]
      }
     },
     "f91fae9564af4f888646f30af52ed384": {
      "model_module": "@jupyter-widgets/controls",
      "model_module_version": "1.5.0",
      "model_name": "HBoxModel",
      "state": {
       "children": [
        "IPY_MODEL_7c7c377b5a4340f19fcbf0f7998dc602",
        "IPY_MODEL_ab020bc932354d969607473cc27f087c"
       ],
       "layout": "IPY_MODEL_7a4ee0ac840a48989584f64ad84c0810"
      }
     },
     "f92eadb866d14d1cb1d88c553435a0ba": {
      "model_module": "@jupyter-widgets/output",
      "model_module_version": "1.0.0",
      "model_name": "OutputModel",
      "state": {
       "layout": "IPY_MODEL_38e03e14d07948388bb3b2d5560dcde6",
       "outputs": [
        {
         "data": {
          "image/png": "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\n",
          "text/plain": "<PIL.Image.Image image mode=RGB size=64x64 at 0x1698CC23A90>"
         },
         "metadata": {},
         "output_type": "display_data"
        }
       ]
      }
     },
     "f96f27143e8f46089268e1cbc57e6465": {
      "model_module": "@jupyter-widgets/controls",
      "model_module_version": "1.5.0",
      "model_name": "ButtonStyleModel",
      "state": {}
     },
     "f98525c2dd4e4a72973eb04828ff737a": {
      "model_module": "@jupyter-widgets/base",
      "model_module_version": "1.2.0",
      "model_name": "LayoutModel",
      "state": {}
     },
     "f9a488d5088a46c0b6efae4317aee6f3": {
      "model_module": "@jupyter-widgets/controls",
      "model_module_version": "1.5.0",
      "model_name": "VBoxModel",
      "state": {
       "children": [
        "IPY_MODEL_db33894bb7ca4c53a18be6ffd228dfc2",
        "IPY_MODEL_db0d8960f02a49009e4c25d197cc3793",
        "IPY_MODEL_8dc4e3cb91bc49308f758e095ba00cce",
        "IPY_MODEL_78bca7da96e84b2380bb79a29c3e81cd"
       ],
       "layout": "IPY_MODEL_a9cbc6ee9c134b27aaaf75158e74b418"
      }
     },
     "f9e7cf7fd57d44408a1d59017929b399": {
      "model_module": "@jupyter-widgets/controls",
      "model_module_version": "1.5.0",
      "model_name": "ButtonModel",
      "state": {
       "description": "Generate",
       "layout": "IPY_MODEL_05392f266eab4f719b4ccbe9fd0d829b",
       "style": "IPY_MODEL_dfe12ed60b2847f4b2ab1b086c255a02"
      }
     },
     "fa1d8dc1779a4f0698f54e2f7ab33450": {
      "model_module": "@jupyter-widgets/controls",
      "model_module_version": "1.5.0",
      "model_name": "ButtonModel",
      "state": {
       "description": "Reset Latent Controls",
       "layout": "IPY_MODEL_e53f5fe2af2344d8a8ca50efee3caf6a",
       "style": "IPY_MODEL_b164a855dc45412f90f54e7290f552bf"
      }
     },
     "fa5a9b38a62f4715bfbcc9d0ebb1a24e": {
      "model_module": "@jupyter-widgets/base",
      "model_module_version": "1.2.0",
      "model_name": "LayoutModel",
      "state": {}
     },
     "faac4d603ee34538944ff37bc5d767ef": {
      "model_module": "@jupyter-widgets/base",
      "model_module_version": "1.2.0",
      "model_name": "LayoutModel",
      "state": {
       "height": "30%",
       "width": "75%"
      }
     },
     "fabb0344f61a4f97b67030557db2ee64": {
      "model_module": "@jupyter-widgets/base",
      "model_module_version": "1.2.0",
      "model_name": "LayoutModel",
      "state": {}
     },
     "fb0d82b115cc4880bb822b2703d6f11f": {
      "model_module": "@jupyter-widgets/controls",
      "model_module_version": "1.5.0",
      "model_name": "ButtonModel",
      "state": {
       "description": "Generate",
       "layout": "IPY_MODEL_26c467ba6f4c48a181f943e42d787122",
       "style": "IPY_MODEL_e36378927f784ed9a4fb50a0a030c71b"
      }
     },
     "fb4c0db05b7a42579ab58e703470d5c2": {
      "model_module": "@jupyter-widgets/controls",
      "model_module_version": "1.5.0",
      "model_name": "VBoxModel",
      "state": {
       "children": [
        "IPY_MODEL_a93ddebd0f5c425ea4015e9a891b516d",
        "IPY_MODEL_957e3009071a49ec8850a9236390dc57"
       ],
       "layout": "IPY_MODEL_755e65d7d1d24369945e6ad84174f033"
      }
     },
     "fb833e4525dc412d91dc29045a7b30e5": {
      "model_module": "@jupyter-widgets/output",
      "model_module_version": "1.0.0",
      "model_name": "OutputModel",
      "state": {
       "layout": "IPY_MODEL_1737c3f09259424b9cb9a9bb88a89e02",
       "outputs": [
        {
         "data": {
          "text/plain": "'C:/PythonWorkspace/stylegan2-ada-pytorch-main/out/seed0929.png'"
         },
         "metadata": {},
         "output_type": "display_data"
        }
       ]
      }
     },
     "fb8bcf7acb56457ea01afb1818a68b72": {
      "model_module": "@jupyter-widgets/controls",
      "model_module_version": "1.5.0",
      "model_name": "VBoxModel",
      "state": {
       "children": [
        "IPY_MODEL_abec5b86397f48cca792b1bc27514f31",
        "IPY_MODEL_7b96a685a38c423ebef2c957edfcfa70"
       ],
       "layout": "IPY_MODEL_e488a5a45c214731967d265a301fc7a0"
      }
     },
     "fbf290e63f5643be863277cdc65b9071": {
      "model_module": "@jupyter-widgets/base",
      "model_module_version": "1.2.0",
      "model_name": "LayoutModel",
      "state": {
       "height": "10%",
       "width": "75%"
      }
     },
     "fc007b3bb88d44de8b2760cb19431fdb": {
      "model_module": "@jupyter-widgets/base",
      "model_module_version": "1.2.0",
      "model_name": "LayoutModel",
      "state": {}
     },
     "fc2ca4683fea434980234bd556449db7": {
      "model_module": "@jupyter-widgets/controls",
      "model_module_version": "1.5.0",
      "model_name": "ButtonModel",
      "state": {
       "description": "Reset Latent Controls",
       "layout": "IPY_MODEL_5a2f762684c747eaa8c99e63cbc0a12d",
       "style": "IPY_MODEL_b767799922d74fabb604fc0d05e7293f"
      }
     },
     "fc35b5ec069044d294f9fb82f530e6ea": {
      "model_module": "@jupyter-widgets/controls",
      "model_module_version": "1.5.0",
      "model_name": "VBoxModel",
      "state": {
       "children": [
        "IPY_MODEL_90363787e4064402ba83733c1fabafba",
        "IPY_MODEL_b654f662cf1741ce8b995318968502ec",
        "IPY_MODEL_b99a61e9602042a487ca4e82f0574adc",
        "IPY_MODEL_1916a19ac9a94d70baa628d01b0c4092"
       ],
       "layout": "IPY_MODEL_64d9496c60004afbb787b84f19ad2b80"
      }
     },
     "fc4de4b1a0ae4d8095a3b643dfdca17c": {
      "model_module": "@jupyter-widgets/controls",
      "model_module_version": "1.5.0",
      "model_name": "HBoxModel",
      "state": {
       "children": [
        "IPY_MODEL_d930cc8144b441838df6fbaf3d71608e",
        "IPY_MODEL_a0e8b05561b140c2bfd355dd24080e33"
       ],
       "layout": "IPY_MODEL_d46dd861eee84544958ebe6409d60b94"
      }
     },
     "fc62ccc69f314041913cff8e4ce300bd": {
      "model_module": "@jupyter-widgets/base",
      "model_module_version": "1.2.0",
      "model_name": "LayoutModel",
      "state": {}
     },
     "fc7599efdfb147b4adfe4f0aa40b155e": {
      "model_module": "@jupyter-widgets/controls",
      "model_module_version": "1.5.0",
      "model_name": "HBoxModel",
      "state": {
       "children": [
        "IPY_MODEL_ec61ac6596c64d85878e1a2c345e178f",
        "IPY_MODEL_ef33115b25ab45368d63a4724ef45c5f"
       ],
       "layout": "IPY_MODEL_54fcd6a92d9f4dee81a43d20a1695908"
      }
     },
     "fc9e78bb3d2a40b0ae72b7805fd0c835": {
      "model_module": "@jupyter-widgets/output",
      "model_module_version": "1.0.0",
      "model_name": "OutputModel",
      "state": {
       "layout": "IPY_MODEL_7b386364958a4397bcdbaba0766842f6",
       "outputs": [
        {
         "data": {
          "text/plain": "'C:/PythonWorkspace/stylegan2-ada-pytorch-main/out/seed0929.png'"
         },
         "metadata": {},
         "output_type": "display_data"
        }
       ]
      }
     },
     "fce08bb259aa4d05b1409705f0882da9": {
      "model_module": "@jupyter-widgets/controls",
      "model_module_version": "1.5.0",
      "model_name": "LabelModel",
      "state": {
       "layout": "IPY_MODEL_b63728ba171a4f758d24c9320b5f41bd",
       "style": "IPY_MODEL_ffb8400044004bc8b832d56757428df3",
       "value": "antique_projected"
      }
     },
     "fd078555937a4151a1d0f1dde5b8550a": {
      "model_module": "@jupyter-widgets/output",
      "model_module_version": "1.0.0",
      "model_name": "OutputModel",
      "state": {
       "layout": "IPY_MODEL_8e6b3dcbf1c0448b8da6dc9b915a6912",
       "outputs": [
        {
         "data": {
          "text/plain": "'C:/PythonWorkspace/stylegan2-ada-pytorch-main/out/seed0929.png'"
         },
         "metadata": {},
         "output_type": "display_data"
        }
       ]
      }
     },
     "fd1fbda708564fb1a3c6ec431d96c5d7": {
      "model_module": "@jupyter-widgets/base",
      "model_module_version": "1.2.0",
      "model_name": "LayoutModel",
      "state": {
       "height": "30%",
       "width": "75%"
      }
     },
     "fd286400c6a04000b6f95292f5b93b9a": {
      "model_module": "@jupyter-widgets/controls",
      "model_module_version": "1.5.0",
      "model_name": "VBoxModel",
      "state": {
       "children": [
        "IPY_MODEL_c679cb5ecbb848b5aa77f6ab6d275719",
        "IPY_MODEL_9a2328939d774b8484e1af48002a589e"
       ],
       "layout": "IPY_MODEL_a7ff5ca0f29a4598ba753fc10b2210f8"
      }
     },
     "fd35c311bcfc466eafb71b51a34f0a61": {
      "model_module": "@jupyter-widgets/controls",
      "model_module_version": "1.5.0",
      "model_name": "ButtonStyleModel",
      "state": {}
     },
     "fd783f09a3304f49b4f01c18e5ab1da3": {
      "model_module": "@jupyter-widgets/controls",
      "model_module_version": "1.5.0",
      "model_name": "ButtonModel",
      "state": {
       "description": "Generate",
       "layout": "IPY_MODEL_7c2e620ee33641d785a9a18a78e1adb1",
       "style": "IPY_MODEL_2ba699743f824134aaa210d1ede5867b"
      }
     },
     "fd81885f2a384390876a1a18d277486a": {
      "model_module": "@jupyter-widgets/base",
      "model_module_version": "1.2.0",
      "model_name": "LayoutModel",
      "state": {}
     },
     "fd82eacf45e341d492475cbbd98b31ee": {
      "model_module": "@jupyter-widgets/base",
      "model_module_version": "1.2.0",
      "model_name": "LayoutModel",
      "state": {}
     },
     "fd867960c85e46c3ad6ba48620ace737": {
      "model_module": "@jupyter-widgets/controls",
      "model_module_version": "1.5.0",
      "model_name": "ButtonModel",
      "state": {
       "description": "Generate",
       "layout": "IPY_MODEL_97c2e26aaf63416481fd8f72975cefef",
       "style": "IPY_MODEL_6827e36d36a745f98197d0c06d7130d9"
      }
     },
     "fdabc75f7cd04a2c92b45452da70bac2": {
      "model_module": "@jupyter-widgets/base",
      "model_module_version": "1.2.0",
      "model_name": "LayoutModel",
      "state": {}
     },
     "fdd9c051278a4a47b3fa92719e0d0144": {
      "model_module": "@jupyter-widgets/controls",
      "model_module_version": "1.5.0",
      "model_name": "ButtonModel",
      "state": {
       "description": "Generate",
       "layout": "IPY_MODEL_51b018c9f8f14e0aad1c8ffea65cb2a1",
       "style": "IPY_MODEL_dcdf48dfda744b67b58aba6eaee8642e"
      }
     },
     "fe3c791802cd4f5c98574344e1c6f540": {
      "model_module": "@jupyter-widgets/controls",
      "model_module_version": "1.5.0",
      "model_name": "ButtonModel",
      "state": {
       "description": "Generate",
       "layout": "IPY_MODEL_55f9c4130f0147948314fda20de89760",
       "style": "IPY_MODEL_754d1e7bc5ca463b9b3db52130a3ba5a"
      }
     },
     "fe6c6fb69d0c41b2ad48444589adf6b0": {
      "model_module": "@jupyter-widgets/base",
      "model_module_version": "1.2.0",
      "model_name": "LayoutModel",
      "state": {}
     },
     "fe8a03a402ab4e4d84c75001a27e5abf": {
      "model_module": "@jupyter-widgets/controls",
      "model_module_version": "1.5.0",
      "model_name": "LabelModel",
      "state": {
       "layout": "IPY_MODEL_d9850051ce4e419bb9566e66bede39b4",
       "style": "IPY_MODEL_f427ec2683af4af39fc2b7b6a637e2e0",
       "value": "C:\\PythonWorkspace\\stylegan2-ada-pytorch-main\\out\\antique_projected_w.npz"
      }
     },
     "fedbb6d47d4248eeb5f622a24cf78fc4": {
      "model_module": "@jupyter-widgets/output",
      "model_module_version": "1.0.0",
      "model_name": "OutputModel",
      "state": {
       "layout": "IPY_MODEL_cbe3a5978c23477ebf4a777194310c50"
      }
     },
     "ff20fe4092ae4ee08ca566a295577c17": {
      "model_module": "@jupyter-widgets/output",
      "model_module_version": "1.0.0",
      "model_name": "OutputModel",
      "state": {
       "layout": "IPY_MODEL_09de1d519314424dbc01dd0f06db4117",
       "outputs": [
        {
         "data": {
          "text/plain": "'C:/PythonWorkspace/stylegan2-ada-pytorch-main/out/seed0929.png'"
         },
         "metadata": {},
         "output_type": "display_data"
        }
       ]
      }
     },
     "ff3c4dfaee1e4094864ad77c88ce5e4c": {
      "model_module": "@jupyter-widgets/controls",
      "model_module_version": "1.5.0",
      "model_name": "ButtonStyleModel",
      "state": {}
     },
     "ffa38d727fa04da58f7bdde685dbf825": {
      "model_module": "@jupyter-widgets/base",
      "model_module_version": "1.2.0",
      "model_name": "LayoutModel",
      "state": {}
     },
     "ffb8400044004bc8b832d56757428df3": {
      "model_module": "@jupyter-widgets/controls",
      "model_module_version": "1.5.0",
      "model_name": "DescriptionStyleModel",
      "state": {
       "description_width": ""
      }
     }
    },
    "version_major": 2,
    "version_minor": 0
   }
  }
 },
 "nbformat": 4,
 "nbformat_minor": 4
}
